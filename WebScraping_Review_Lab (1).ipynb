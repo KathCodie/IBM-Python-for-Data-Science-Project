{
 "cells": [
  {
   "cell_type": "markdown",
   "metadata": {},
   "source": [
    "<p style=\"text-align:center\">\n",
    "    <a href=\"https://skills.network\" target=\"_blank\">\n",
    "    <img src=\"https://cf-courses-data.s3.us.cloud-object-storage.appdomain.cloud/assets/logos/SN_web_lightmode.png\" width=\"200\" alt=\"Skills Network Logo\">\n",
    "    </a>\n",
    "</p>\n"
   ]
  },
  {
   "cell_type": "markdown",
   "metadata": {},
   "source": [
    "# **Web Scraping Lab**\n"
   ]
  },
  {
   "cell_type": "markdown",
   "metadata": {},
   "source": [
    "Estimated time needed: **30** minutes\n"
   ]
  },
  {
   "cell_type": "markdown",
   "metadata": {},
   "source": [
    "## Objectives\n"
   ]
  },
  {
   "cell_type": "markdown",
   "metadata": {},
   "source": [
    "After completing this lab you will be able to:\n"
   ]
  },
  {
   "cell_type": "markdown",
   "metadata": {},
   "source": [
    "<h2>Table of Contents</h2>\n",
    "<div class=\"alert alert-block alert-info\" style=\"margin-top: 20px\">\n",
    "    <ul>\n",
    "        <li>\n",
    "            <a href=\"https://bso/?utm_medium=Exinfluencer&utm_source=Exinfluencer&utm_content=000026UJ&utm_term=10006555&utm_id=NA-SkillsNetwork-Channel-SkillsNetworkCoursesIBMDeveloperSkillsNetworkPY0220ENSkillsNetwork23455606-2021-01-01\">Beautiful Soup Object</a>\n",
    "            <ul>\n",
    "                <li>Tag</li>\n",
    "                <li>Children, Parents, and Siblings</li>\n",
    "                <li>HTML Attributes</li>\n",
    "                <li>Navigable String</li>\n",
    "            </ul>\n",
    "        </li>\n",
    "     </ul>\n",
    "    <ul>\n",
    "        <li>\n",
    "            <a href=\"https://filter/?utm_medium=Exinfluencer&utm_source=Exinfluencer&utm_content=000026UJ&utm_term=10006555&utm_id=NA-SkillsNetwork-Channel-SkillsNetworkCoursesIBMDeveloperSkillsNetworkPY0220ENSkillsNetwork23455606-2021-01-01\">Filter</a>\n",
    "            <ul>\n",
    "                <li>find All</li>\n",
    "                <li>find </li>\n",
    "                <li>HTML Attributes</li>\n",
    "                <li>Navigable String</li>\n",
    "            </ul>\n",
    "        </li>\n",
    "     </ul>\n",
    "     <ul>\n",
    "        <li>\n",
    "            <a href=\"https://dscw/?utm_medium=Exinfluencer&utm_source=Exinfluencer&utm_content=000026UJ&utm_term=10006555&utm_id=NA-SkillsNetwork-Channel-SkillsNetworkCoursesIBMDeveloperSkillsNetworkPY0220ENSkillsNetwork23455606-2021-01-01\">Downloading And Scraping The Contents Of A Web</a>\n",
    "    </li>\n",
    "         </ul>\n",
    "    <p>\n",
    "        Estimated time needed: <strong>25 min</strong>\n",
    "    </p>\n",
    "\n",
    "</div>\n",
    "\n",
    "<hr>\n"
   ]
  },
  {
   "cell_type": "markdown",
   "metadata": {},
   "source": [
    "For this lab, we are going to be using Python and several Python libraries. Some of these libraries might be installed in your lab environment or in SN Labs. Others may need to be installed by you. The cells below will install these libraries when executed.\n"
   ]
  },
  {
   "cell_type": "code",
   "execution_count": 1,
   "metadata": {
    "scrolled": true
   },
   "outputs": [
    {
     "name": "stdout",
     "output_type": "stream",
     "text": [
      "\n",
      "Looking for: ['bs4==4.10.0']\n",
      "\n",
      "\u001b[?25l\u001b[2K\u001b[0G[+] 0.0s\n",
      "\u001b[2K\u001b[1A\u001b[2K\u001b[0G[+] 0.1s\n",
      "conda-forge/linux-64 \u001b[90m━━━━━━━━━━━━━━━━━━━━━━━\u001b[0m  12.9kB /  39.8MB @ 203.8kB/s  0.1s\n",
      "conda-forge/noarch   \u001b[90m━━━━━━━━━━━━━━━━━━━━━━━\u001b[0m  12.9kB /  17.3MB @ 204.0kB/s  0.1s\u001b[2K\u001b[1A\u001b[2K\u001b[1A\u001b[2K\u001b[0G[+] 0.2s\n",
      "conda-forge/linux-64 ━╸\u001b[90m━━━━━━━━━━━━━━━━━━━━━\u001b[0m   4.3MB /  39.8MB @  24.9MB/s  0.2s\n",
      "conda-forge/noarch   ━━━━╸\u001b[90m━━━━━━━━━━━━━━━━━━\u001b[0m   4.1MB /  17.3MB @  23.8MB/s  0.2s\u001b[2K\u001b[1A\u001b[2K\u001b[1A\u001b[2K\u001b[0G[+] 0.3s\n",
      "conda-forge/linux-64 ━━━╸\u001b[90m━━━━━━━━━━━━━━━━━━━\u001b[0m   8.7MB /  39.8MB @  31.9MB/s  0.3s\n",
      "conda-forge/noarch   ━━━━━━━━━━╸\u001b[90m━━━━━━━━━━━━\u001b[0m   8.6MB /  17.3MB @  31.2MB/s  0.3s\u001b[2K\u001b[1A\u001b[2K\u001b[1A\u001b[2K\u001b[0G[+] 0.4s\n",
      "conda-forge/linux-64 ━━━━━━╸\u001b[90m━━━━━━━━━━━━━━━━\u001b[0m  12.8MB /  39.8MB @  34.0MB/s  0.4s\n",
      "conda-forge/noarch   ━━━━━━━━━━━━━━━━╸\u001b[90m━━━━━━\u001b[0m  12.8MB /  17.3MB @  33.5MB/s  0.4s\u001b[2K\u001b[1A\u001b[2K\u001b[1A\u001b[2K\u001b[0G[+] 0.5s\n",
      "conda-forge/linux-64 ━━━━━━━━╸\u001b[90m━━━━━━━━━━━━━━\u001b[0m  17.1MB /  39.8MB @  35.5MB/s  0.5s\n",
      "conda-forge/noarch   ━━━━━━━━━━━━━━━━━━━━━╸\u001b[90m━\u001b[0m  17.2MB /  17.3MB @  35.0MB/s  0.5s\u001b[2K\u001b[1A\u001b[2K\u001b[1A\u001b[2K\u001b[0Gconda-forge/noarch                                  17.3MB @  35.0MB/s  0.6s\n",
      "[+] 0.6s\n",
      "conda-forge/linux-64 ━━━━━━━━━╸\u001b[90m━━━━━━━━━━━━━\u001b[0m  17.6MB /  39.8MB @  31.5MB/s  0.6s\u001b[2K\u001b[1A\u001b[2K\u001b[0G[+] 0.7s\n",
      "conda-forge/linux-64 ━━━━━━━━━━━━╸\u001b[90m━━━━━━━━━━\u001b[0m  23.4MB /  39.8MB @  35.5MB/s  0.7s\u001b[2K\u001b[1A\u001b[2K\u001b[0G[+] 0.8s\n",
      "conda-forge/linux-64 ━━━━━━━━━━━━━━━━╸\u001b[90m━━━━━━\u001b[0m  30.5MB /  39.8MB @  40.0MB/s  0.8s\u001b[2K\u001b[1A\u001b[2K\u001b[0G[+] 0.9s\n",
      "conda-forge/linux-64 ━━━━━━━━━━━━━━━━━━━━╸\u001b[90m━━\u001b[0m  37.0MB /  39.8MB @  42.8MB/s  0.9s\u001b[2K\u001b[1A\u001b[2K\u001b[0G[+] 1.0s\n",
      "conda-forge/linux-64 ━━━━━━━━━━━━━━━━━━━━╸\u001b[90m━━\u001b[0m  37.0MB /  39.8MB @  42.8MB/s  1.0s\u001b[2K\u001b[1A\u001b[2K\u001b[0G[+] 1.1s\n",
      "conda-forge/linux-64 ━━━━━━━━━━━━━━━━━━━━╸\u001b[90m━━\u001b[0m  37.0MB /  39.8MB @  42.8MB/s  1.1s\u001b[2K\u001b[1A\u001b[2K\u001b[0G[+] 1.2s\n",
      "conda-forge/linux-64 ━━━━━━━━━━━━━━━━━━━━╸\u001b[90m━━\u001b[0m  37.0MB /  39.8MB @  42.8MB/s  1.2s\u001b[2K\u001b[1A\u001b[2K\u001b[0G[+] 1.3s\n",
      "conda-forge/linux-64 ━━━━━━━━━━━━━━━━━━━━╸\u001b[90m━━\u001b[0m  37.0MB /  39.8MB @  42.8MB/s  1.3s\u001b[2K\u001b[1A\u001b[2K\u001b[0G[+] 1.4s\n",
      "conda-forge/linux-64 ━━━━━━━━━━━━━━━━━━━━╸\u001b[90m━━\u001b[0m  37.0MB /  39.8MB @  42.8MB/s  1.4s\u001b[2K\u001b[1A\u001b[2K\u001b[0G[+] 1.5s\n",
      "conda-forge/linux-64 ━━━━━━━━━━━━━━━━━━━━╸\u001b[90m━━\u001b[0m  37.0MB /  39.8MB @  42.8MB/s  1.5s\u001b[2K\u001b[1A\u001b[2K\u001b[0G[+] 1.6s\n",
      "conda-forge/linux-64 ━━━━━━━━━━━━━━━━━━━━╸\u001b[90m━━\u001b[0m  37.0MB /  39.8MB @  42.8MB/s  1.6s\u001b[2K\u001b[1A\u001b[2K\u001b[0G[+] 1.7s\n",
      "conda-forge/linux-64 ━━━━━━━━━━━━━━━━━━━━╸\u001b[90m━━\u001b[0m  37.0MB /  39.8MB @  42.8MB/s  1.7s\u001b[2K\u001b[1A\u001b[2K\u001b[0G[+] 1.8s\n",
      "conda-forge/linux-64 ━━━━━━━━━━━━━━━━━━━━╸\u001b[90m━━\u001b[0m  37.0MB /  39.8MB @  42.8MB/s  1.8s\u001b[2K\u001b[1A\u001b[2K\u001b[0G[+] 1.9s\n",
      "conda-forge/linux-64 ━━━━━━━━━━━━━━━━━━━━╸\u001b[90m━━\u001b[0m  37.0MB /  39.8MB @  42.8MB/s  1.9s\u001b[2K\u001b[1A\u001b[2K\u001b[0G[+] 2.0s\n",
      "conda-forge/linux-64 ━━━━━━━━━━━━━━━━━━━━╸\u001b[90m━━\u001b[0m  37.0MB /  39.8MB @  42.8MB/s  2.0s\u001b[2K\u001b[1A\u001b[2K\u001b[0G[+] 2.1s\n",
      "conda-forge/linux-64 ━━━━━━━━━━━━━━━━━━━━╸\u001b[90m━━\u001b[0m  37.0MB /  39.8MB @  42.8MB/s  2.1s\u001b[2K\u001b[1A\u001b[2K\u001b[0G[+] 2.2s\n",
      "conda-forge/linux-64 ━━━━━━━━━━━━━━━━━━━━╸\u001b[90m━━\u001b[0m  37.0MB /  39.8MB @  42.8MB/s  2.2s\u001b[2K\u001b[1A\u001b[2K\u001b[0G[+] 2.3s\n",
      "conda-forge/linux-64 ━━━━━━━━━━━━━━━━━━━━╸\u001b[90m━━\u001b[0m  37.0MB /  39.8MB @  42.8MB/s  2.3s\u001b[2K\u001b[1A\u001b[2K\u001b[0G[+] 2.4s\n",
      "conda-forge/linux-64 ━━━━━━━━━━━━━━━━━━━━╸\u001b[90m━━\u001b[0m  37.0MB /  39.8MB @  42.8MB/s  2.4s\u001b[2K\u001b[1A\u001b[2K\u001b[0G[+] 2.5s\n",
      "conda-forge/linux-64 ━━━━━━━━━━━━━━━━━━━━╸\u001b[90m━━\u001b[0m  37.0MB /  39.8MB @  42.8MB/s  2.5s\u001b[2K\u001b[1A\u001b[2K\u001b[0G[+] 2.6s\n",
      "conda-forge/linux-64 ━━━━━━━━━━━━━━━━━━━━╸\u001b[90m━━\u001b[0m  37.0MB /  39.8MB @  42.8MB/s  2.6s\u001b[2K\u001b[1A\u001b[2K\u001b[0G[+] 2.7s\n",
      "conda-forge/linux-64 ━━━━━━━━━━━━━━━━━━━━╸\u001b[90m━━\u001b[0m  37.0MB /  39.8MB @  42.8MB/s  2.7s\u001b[2K\u001b[1A\u001b[2K\u001b[0G[+] 2.8s\n",
      "conda-forge/linux-64 ━━━━━━━━━━━━━━━━━━━━╸\u001b[90m━━\u001b[0m  37.0MB /  39.8MB @  42.8MB/s  2.8s\u001b[2K\u001b[1A\u001b[2K\u001b[0G[+] 2.9s\n",
      "conda-forge/linux-64 ━━━━━━━━━━━━━━━━━━━━╸\u001b[90m━━\u001b[0m  37.0MB /  39.8MB @  42.8MB/s  2.9s\u001b[2K\u001b[1A\u001b[2K\u001b[0G[+] 3.0s\n",
      "conda-forge/linux-64 ━━━━━━━━━━━━━━━━━━━━╸\u001b[90m━━\u001b[0m  37.0MB /  39.8MB @  42.8MB/s  3.0s\u001b[2K\u001b[1A\u001b[2K\u001b[0G[+] 3.1s\n",
      "conda-forge/linux-64 ━━━━━━━━━━━━━━━━━━━━╸\u001b[90m━━\u001b[0m  37.0MB /  39.8MB @  42.8MB/s  3.1s\u001b[2K\u001b[1A\u001b[2K\u001b[0G[+] 3.2s\n",
      "conda-forge/linux-64 ━━━━━━━━━━━━━━━━━━━━╸\u001b[90m━━\u001b[0m  37.0MB /  39.8MB @  42.8MB/s  3.2s\u001b[2K\u001b[1A\u001b[2K\u001b[0G[+] 3.3s\n",
      "conda-forge/linux-64 ━━━━━━━━━━━━━━━━━━━━╸\u001b[90m━━\u001b[0m  37.0MB /  39.8MB @  42.8MB/s  3.3s\u001b[2K\u001b[1A\u001b[2K\u001b[0G[+] 3.4s\n",
      "conda-forge/linux-64 ━━━━━━━━━━━━━━━━━━━━╸\u001b[90m━━\u001b[0m  37.0MB /  39.8MB @  42.8MB/s  3.4s\u001b[2K\u001b[1A\u001b[2K\u001b[0G[+] 3.5s\n",
      "conda-forge/linux-64 ━━━━━━━━━━━━━━━━━━━━╸\u001b[90m━━\u001b[0m  37.0MB /  39.8MB @  42.8MB/s  3.5s\u001b[2K\u001b[1A\u001b[2K\u001b[0G[+] 3.6s\n",
      "conda-forge/linux-64 ━━━━━━━━━━━━━━━━━━━━╸\u001b[90m━━\u001b[0m  37.0MB /  39.8MB @  42.8MB/s  3.6s\u001b[2K\u001b[1A\u001b[2K\u001b[0G[+] 3.7s\n",
      "conda-forge/linux-64 ━━━━━━━━━━━━━━━━━━━━╸\u001b[90m━━\u001b[0m  37.0MB /  39.8MB @  42.8MB/s  3.7s\u001b[2K\u001b[1A\u001b[2K\u001b[0G[+] 3.8s\n",
      "conda-forge/linux-64 ━━━━━━━━━━━━━━━━━━━━╸\u001b[90m━━\u001b[0m  37.0MB /  39.8MB @  42.8MB/s  3.8s\u001b[2K\u001b[1A\u001b[2K\u001b[0G[+] 3.9s\n",
      "conda-forge/linux-64 ━━━━━━━━━━━━━━━━━━━━╸\u001b[90m━━\u001b[0m  37.0MB /  39.8MB @  42.8MB/s  3.9s\u001b[2K\u001b[1A\u001b[2K\u001b[0G[+] 4.0s\n",
      "conda-forge/linux-64 ━━━━━━━━━━━━━━━━━━━━╸\u001b[90m━━\u001b[0m  37.0MB /  39.8MB @  42.8MB/s  4.0s\u001b[2K\u001b[1A\u001b[2K\u001b[0G[+] 4.1s\n",
      "conda-forge/linux-64 ━━━━━━━━━━━━━━━━━━━━╸\u001b[90m━━\u001b[0m  37.0MB /  39.8MB @  42.8MB/s  4.1s\u001b[2K\u001b[1A\u001b[2K\u001b[0G[+] 4.2s\n",
      "conda-forge/linux-64 ━━━━━━━━━━━━━━━━━━━━╸\u001b[90m━━\u001b[0m  37.0MB /  39.8MB @  42.8MB/s  4.2s\u001b[2K\u001b[1A\u001b[2K\u001b[0G[+] 4.3s\n",
      "conda-forge/linux-64 ━━━━━━━━━━━━━━━━━━━━╸\u001b[90m━━\u001b[0m  37.0MB /  39.8MB @  42.8MB/s  4.3s\u001b[2K\u001b[1A\u001b[2K\u001b[0G[+] 4.4s\n",
      "conda-forge/linux-64 ━━━━━━━━━━━━━━━━━━━━╸\u001b[90m━━\u001b[0m  37.0MB /  39.8MB @  42.8MB/s  4.4s\u001b[2K\u001b[1A\u001b[2K\u001b[0G[+] 4.5s\n",
      "conda-forge/linux-64 ━━━━━━━━━━━━━━━━━━━━╸\u001b[90m━━\u001b[0m  37.0MB /  39.8MB @  42.8MB/s  4.5s\u001b[2K\u001b[1A\u001b[2K\u001b[0G[+] 4.6s\n",
      "conda-forge/linux-64 ━━━━━━━━━━━━━━━━━━━━╸\u001b[90m━━\u001b[0m  37.0MB /  39.8MB @  42.8MB/s  4.6s\u001b[2K\u001b[1A\u001b[2K\u001b[0G[+] 4.7s\n",
      "conda-forge/linux-64 ━━━━━━━━━━━━━━━━━━━━╸\u001b[90m━━\u001b[0m  37.0MB /  39.8MB @  42.8MB/s  4.7s\u001b[2K\u001b[1A\u001b[2K\u001b[0G[+] 4.8s\n",
      "conda-forge/linux-64 ━━━━━━━━━━━━━━━━━━━━╸\u001b[90m━━\u001b[0m  37.0MB /  39.8MB @  42.8MB/s  4.8s\u001b[2K\u001b[1A\u001b[2K\u001b[0G[+] 4.9s\n",
      "conda-forge/linux-64 ━━━━━━━━━━━━━━━━━━━━╸\u001b[90m━━\u001b[0m  37.0MB /  39.8MB @  42.8MB/s  4.9s\u001b[2K\u001b[1A\u001b[2K\u001b[0G[+] 5.0s\n",
      "conda-forge/linux-64 ━━━━━━━━━━━━━━━━━━━━╸\u001b[90m━━\u001b[0m  37.0MB /  39.8MB @  42.8MB/s  5.0s\u001b[2K\u001b[1A\u001b[2K\u001b[0G[+] 5.1s\n",
      "conda-forge/linux-64 ━━━━━━━━━━━━━━━━━━━━╸\u001b[90m━━\u001b[0m  37.0MB /  39.8MB @  42.8MB/s  5.1s\u001b[2K\u001b[1A\u001b[2K\u001b[0G[+] 5.2s\n",
      "conda-forge/linux-64 ━━━━━━━━━━━━━━━━━━━━╸\u001b[90m━━\u001b[0m  37.0MB /  39.8MB @  42.8MB/s  5.2s\u001b[2K\u001b[1A\u001b[2K\u001b[0G[+] 5.3s\n",
      "conda-forge/linux-64 ━━━━━━━━━━━━━━━━━━━━╸\u001b[90m━━\u001b[0m  37.0MB /  39.8MB @  42.8MB/s  5.3s\u001b[2K\u001b[1A\u001b[2K\u001b[0G[+] 5.4s\n",
      "conda-forge/linux-64 ━━━━━━━━━━━━━━━━━━━━╸\u001b[90m━━\u001b[0m  37.0MB /  39.8MB @  42.8MB/s  5.4s\u001b[2K\u001b[1A\u001b[2K\u001b[0G[+] 5.5s\n",
      "conda-forge/linux-64 ━━━━━━━━━━━━━━━━━━━━╸\u001b[90m━━\u001b[0m  37.0MB /  39.8MB @  42.8MB/s  5.5s\u001b[2K\u001b[1A\u001b[2K\u001b[0G[+] 5.6s\n",
      "conda-forge/linux-64 ━━━━━━━━━━━━━━━━━━━━╸\u001b[90m━━\u001b[0m  37.0MB /  39.8MB @  42.8MB/s  5.6s\u001b[2K\u001b[1A\u001b[2K\u001b[0G[+] 5.7s\n",
      "conda-forge/linux-64 ━━━━━━━━━━━━━━━━━━━━╸\u001b[90m━━\u001b[0m  37.0MB /  39.8MB @  42.8MB/s  5.7s\u001b[2K\u001b[1A\u001b[2K\u001b[0G[+] 5.8s\n",
      "conda-forge/linux-64 ━━━━━━━━━━━━━━━━━━━━╸\u001b[90m━━\u001b[0m  37.0MB /  39.8MB @  42.8MB/s  5.8s\u001b[2K\u001b[1A\u001b[2K\u001b[0G[+] 5.9s\n",
      "conda-forge/linux-64 ━━━━━━━━━━━━━━━━━━━━╸\u001b[90m━━\u001b[0m  37.0MB /  39.8MB @  42.8MB/s  5.9s\u001b[2K\u001b[1A\u001b[2K\u001b[0G[+] 6.0s\n",
      "conda-forge/linux-64 ━━━━━━━━━━━━━━━━━━━━╸\u001b[90m━━\u001b[0m  37.0MB /  39.8MB @  42.8MB/s  6.0s\u001b[2K\u001b[1A\u001b[2K\u001b[0G[+] 6.1s\n",
      "conda-forge/linux-64 ━━━━━━━━━━━━━━━━━━━━╸\u001b[90m━━\u001b[0m  37.0MB /  39.8MB @  42.8MB/s  6.1s\u001b[2K\u001b[1A\u001b[2K\u001b[0G[+] 6.2s\n",
      "conda-forge/linux-64 ━━━━━━━━━━━━━━━━━━━━╸\u001b[90m━━\u001b[0m  37.0MB /  39.8MB @  42.8MB/s  6.2s\u001b[2K\u001b[1A\u001b[2K\u001b[0G[+] 6.3s\n",
      "conda-forge/linux-64 ━━━━━━━━━━━━━━━━━━━━╸\u001b[90m━━\u001b[0m  37.0MB /  39.8MB @  42.8MB/s  6.3s\u001b[2K\u001b[1A\u001b[2K\u001b[0G[+] 6.4s\n",
      "conda-forge/linux-64 ━━━━━━━━━━━━━━━━━━━━╸\u001b[90m━━\u001b[0m  37.0MB /  39.8MB @  42.8MB/s  6.4s\u001b[2K\u001b[1A\u001b[2K\u001b[0G[+] 6.5s\n",
      "conda-forge/linux-64 ━━━━━━━━━━━━━━━━━━━━╸\u001b[90m━━\u001b[0m  37.0MB /  39.8MB @  42.8MB/s  6.5s\u001b[2K\u001b[1A\u001b[2K\u001b[0G[+] 6.6s\n",
      "conda-forge/linux-64 ━━━━━━━━━━━━━━━━━━━━╸\u001b[90m━━\u001b[0m  37.0MB /  39.8MB @  42.8MB/s  6.6s\u001b[2K\u001b[1A\u001b[2K\u001b[0G[+] 6.7s\n",
      "conda-forge/linux-64 ━━━━━━━━━━━━━━━━━━━━╸\u001b[90m━━\u001b[0m  37.0MB /  39.8MB @  42.8MB/s  6.7s\u001b[2K\u001b[1A\u001b[2K\u001b[0G[+] 6.8s\n",
      "conda-forge/linux-64 ━━━━━━━━━━━━━━━━━━━━╸\u001b[90m━━\u001b[0m  37.0MB /  39.8MB @  42.8MB/s  6.8s\u001b[2K\u001b[1A\u001b[2K\u001b[0G[+] 6.9s\n",
      "conda-forge/linux-64 ━━━━━━━━━━━━━━━━━━━━╸\u001b[90m━━\u001b[0m  37.0MB /  39.8MB @  42.8MB/s  6.9s\u001b[2K\u001b[1A\u001b[2K\u001b[0G[+] 7.0s\n",
      "conda-forge/linux-64 ━━━━━━━━━━━━━━━━━━━━╸\u001b[90m━━\u001b[0m  37.0MB /  39.8MB @  42.8MB/s  7.0s\u001b[2K\u001b[1A\u001b[2K\u001b[0G[+] 7.1s\n",
      "conda-forge/linux-64 ━━━━━━━━━━━━━━━━━━━━╸\u001b[90m━━\u001b[0m  37.0MB /  39.8MB @  42.8MB/s  7.1s\u001b[2K\u001b[1A\u001b[2K\u001b[0G[+] 7.2s\n",
      "conda-forge/linux-64 ━━━━━━━━━━━━━━━━━━━━╸\u001b[90m━━\u001b[0m  37.0MB /  39.8MB @  42.8MB/s  7.2s\u001b[2K\u001b[1A\u001b[2K\u001b[0G[+] 7.3s\n",
      "conda-forge/linux-64 ━━━━━━━━━━━━━━━━━━━━╸\u001b[90m━━\u001b[0m  37.0MB /  39.8MB @  42.8MB/s  7.3s\u001b[2K\u001b[1A\u001b[2K\u001b[0G[+] 7.4s\n",
      "conda-forge/linux-64 ━━━━━━━━━━━━━━━━━━━━╸\u001b[90m━━\u001b[0m  37.0MB /  39.8MB @  42.8MB/s  7.4s\u001b[2K\u001b[1A\u001b[2K\u001b[0G[+] 7.5s\n",
      "conda-forge/linux-64 ━━━━━━━━━━━━━━━━━━━━╸\u001b[90m━━\u001b[0m  37.0MB /  39.8MB @  42.8MB/s  7.5s\u001b[2K\u001b[1A\u001b[2K\u001b[0G[+] 7.6s\n",
      "conda-forge/linux-64 ━━━━━━━━━━━━━━━━━━━━╸\u001b[90m━━\u001b[0m  37.0MB /  39.8MB @  42.8MB/s  7.6s\u001b[2K\u001b[1A\u001b[2K\u001b[0G[+] 7.7s\n",
      "conda-forge/linux-64 ━━━━━━━━━━━━━━━━━━━━╸\u001b[90m━━\u001b[0m  37.0MB /  39.8MB @  42.8MB/s  7.7s\u001b[2K\u001b[1A\u001b[2K\u001b[0Gconda-forge/linux-64                                39.8MB @  43.9MB/s  7.7s\n",
      "\u001b[?25h\n",
      "Pinned packages:\n",
      "  - python 3.11.*\n",
      "  - python 3.11.*\n",
      "\n",
      "\n",
      "Transaction\n",
      "\n",
      "  Prefix: /opt/conda\n",
      "\n",
      "  Updating specs:\n",
      "\n",
      "   - bs4==4.10.0\n",
      "   - ca-certificates\n",
      "   - certifi\n",
      "   - openssl\n",
      "\n",
      "\n",
      "  Package              Version  Build         Channel          Size\n",
      "─────────────────────────────────────────────────────────────────────\n",
      "  Install:\n",
      "─────────────────────────────────────────────────────────────────────\n",
      "\n",
      "  \u001b[32m+ bs4            \u001b[0m     4.10.0  hd8ed1ab_0    conda-forge       4kB\n",
      "  \u001b[32m+ libgcc         \u001b[0m     14.2.0  h77fa898_1    conda-forge     849kB\n",
      "\n",
      "  Upgrade:\n",
      "─────────────────────────────────────────────────────────────────────\n",
      "\n",
      "  \u001b[31m- certifi        \u001b[0m   2024.6.2  pyhd8ed1ab_0  conda-forge     161kB\n",
      "  \u001b[32m+ certifi        \u001b[0m  2024.8.30  pyhd8ed1ab_0  conda-forge     164kB\n",
      "  \u001b[31m- ca-certificates\u001b[0m   2024.6.2  hbcca054_0    conda-forge     156kB\n",
      "  \u001b[32m+ ca-certificates\u001b[0m  2024.8.30  hbcca054_0    conda-forge     159kB\n",
      "  \u001b[31m- libgomp        \u001b[0m     13.2.0  h77fa898_6    conda-forge     420kB\n",
      "  \u001b[32m+ libgomp        \u001b[0m     14.2.0  h77fa898_1    conda-forge     461kB\n",
      "  \u001b[31m- libgcc-ng      \u001b[0m     13.2.0  h77fa898_6    conda-forge     778kB\n",
      "  \u001b[32m+ libgcc-ng      \u001b[0m     14.2.0  h69a702a_1    conda-forge      54kB\n",
      "  \u001b[31m- openssl        \u001b[0m      3.3.1  h4ab18f5_0    conda-forge       3MB\n",
      "  \u001b[32m+ openssl        \u001b[0m      3.4.0  hb9d3cd8_0    conda-forge       3MB\n",
      "\n",
      "  Downgrade:\n",
      "─────────────────────────────────────────────────────────────────────\n",
      "\n",
      "  \u001b[31m- beautifulsoup4 \u001b[0m     4.12.3  pyha770c72_0  conda-forge     118kB\n",
      "  \u001b[32m+ beautifulsoup4 \u001b[0m     4.10.0  pyha770c72_0  conda-forge      79kB\n",
      "\n",
      "  Summary:\n",
      "\n",
      "  Install: 2 packages\n",
      "  Upgrade: 5 packages\n",
      "  Downgrade: 1 packages\n",
      "\n",
      "  Total download: 5MB\n",
      "\n",
      "─────────────────────────────────────────────────────────────────────\n",
      "\n",
      "\n",
      "\u001b[?25l\u001b[2K\u001b[0G[+] 0.0s\n",
      "Downloading  (1) \u001b[90m━━━━━━━━━━━━━━━━━━━━━━━\u001b[0m   0.0 B beautifulsoup4             0.0s\n",
      "Extracting       \u001b[90m━━━━━━━━━━━━━━━━━━━━━━━\u001b[0m       0                            0.0s\u001b[2K\u001b[1A\u001b[2K\u001b[1A\u001b[2K\u001b[0Gcertifi                                            163.8kB @   2.8MB/s  0.1s\n",
      "bs4                                                  4.3kB @  45.2kB/s  0.1s\n",
      "[+] 0.1s\n",
      "Downloading  (5) \u001b[33m━━━━━━━━━━━━━━━━━━━╸\u001b[0m\u001b[90m━━━\u001b[0m 197.3kB beautifulsoup4             0.2s\n",
      "Extracting   (2) \u001b[90m━╸\u001b[0m\u001b[33m━━━━━━━━━━━━━━━╸\u001b[0m\u001b[90m━━━━━\u001b[0m       0 bs4                        0.0s\u001b[2K\u001b[1A\u001b[2K\u001b[1A\u001b[2K\u001b[0Glibgcc-ng                                           54.1kB @ 363.4kB/s  0.1s\n",
      "[+] 0.2s\n",
      "Downloading  (5) ╸\u001b[33m━━━━━━━━━━━━━━━━━━━━━━\u001b[0m 353.3kB beautifulsoup4             0.2s\n",
      "Extracting   (3) \u001b[90m━━╸\u001b[0m\u001b[33m━━━━━━━━━━━━━━━╸\u001b[0m\u001b[90m━━━━\u001b[0m       0 bs4                        0.1s\u001b[2K\u001b[1A\u001b[2K\u001b[1A\u001b[2K\u001b[0Gbeautifulsoup4                                      79.2kB @ 346.0kB/s  0.2s\n",
      "libgomp                                            461.0kB @   2.0MB/s  0.1s\n",
      "[+] 0.3s\n",
      "Downloading  (3) ━━━╸\u001b[33m━━━━━━━━━━━━━━━━━━━\u001b[0m   1.0MB ca-certificates            0.3s\n",
      "Extracting   (3) ━━━━╸\u001b[33m━━━━━━━━━╸\u001b[0m\u001b[90m━━━━━━━━\u001b[0m       2 beautifulsoup4             0.2s\u001b[2K\u001b[1A\u001b[2K\u001b[1A\u001b[2K\u001b[0Gca-certificates                                    159.0kB @ 477.5kB/s  0.3s\n",
      "[+] 0.4s\n",
      "Downloading  (2) ━━━━╸\u001b[33m━━━━━━━━━━━━━━━━━━\u001b[0m   1.2MB libgcc                     0.5s\n",
      "Extracting   (3) ━━━━━━━╸\u001b[33m━━━━━━━━━╸\u001b[0m\u001b[90m━━━━━\u001b[0m       3 beautifulsoup4             0.3s\u001b[2K\u001b[1A\u001b[2K\u001b[1A\u001b[2K\u001b[0Glibgcc                                             848.7kB @   1.8MB/s  0.5s\n",
      "[+] 0.5s\n",
      "Downloading  (1) ━━━━━━━━━╸\u001b[33m━━━━━━━━━━━━━\u001b[0m   2.2MB openssl                    0.6s\n",
      "Extracting   (2) ━━━━━━━━━━━━━╸\u001b[33m━━━━━━╸\u001b[0m\u001b[90m━━\u001b[0m       5 libgcc                     0.4s\u001b[2K\u001b[1A\u001b[2K\u001b[1A\u001b[2K\u001b[0Gopenssl                                              2.9MB @   5.0MB/s  0.5s\n",
      "[+] 0.6s\n",
      "Downloading      ━━━━━━━━━━━━━━━━━━━━━━━   4.7MB                            0.6s\n",
      "Extracting   (2) ━━━━━━━━━━━━━━━━╸\u001b[33m━━━━━━\u001b[0m       6 libgcc                     0.5s\u001b[2K\u001b[1A\u001b[2K\u001b[1A\u001b[2K\u001b[0G[+] 0.7s\n",
      "Downloading      ━━━━━━━━━━━━━━━━━━━━━━━   4.7MB                            0.6s\n",
      "Extracting   (1) ━━━━━━━━━━━━━━━━━━━╸\u001b[33m━━━\u001b[0m       7 openssl                    0.6s\u001b[2K\u001b[1A\u001b[2K\u001b[1A\u001b[2K\u001b[0G\u001b[?25h\n",
      "Downloading and Extracting Packages:\n",
      "\n",
      "Preparing transaction: done\n",
      "Verifying transaction: done\n",
      "Executing transaction: done\n",
      "ERROR conda.core.link:_execute(949): An error occurred while uninstalling package 'conda-forge/noarch::certifi-2024.6.2-pyhd8ed1ab_0'.\n",
      "Rolling back transaction: done\n",
      "[Errno 13] Permission denied: '/opt/conda/lib/python3.11/site-packages/certifi-2024.6.2.dist-info/INSTALLER' -> '/opt/conda/lib/python3.11/site-packages/certifi-2024.6.2.dist-info/INSTALLER.c~'\n",
      "()\n",
      "\n",
      "\n",
      "[Errno 13] Permission denied: '/opt/conda/lib/python3.11/site-packages/certifi-2024.6.2.dist-info/INSTALLER' -> '/opt/conda/lib/python3.11/site-packages/certifi-2024.6.2.dist-info/INSTALLER.c~'\n",
      "()\n",
      "\n",
      "Collecting lxml==4.6.4\n",
      "  Downloading lxml-4.6.4.tar.gz (3.2 MB)\n",
      "\u001b[2K     \u001b[90m━━━━━━━━━━━━━━━━━━━━━━━━━━━━━━━━━━━━━━━━\u001b[0m \u001b[32m3.2/3.2 MB\u001b[0m \u001b[31m40.5 MB/s\u001b[0m eta \u001b[36m0:00:00\u001b[0m00:01\u001b[0m00:01\u001b[0m\n",
      "\u001b[?25h  Preparing metadata (setup.py) ... \u001b[?25lerror\n",
      "  \u001b[1;31merror\u001b[0m: \u001b[1msubprocess-exited-with-error\u001b[0m\n",
      "  \n",
      "  \u001b[31m×\u001b[0m \u001b[32mpython setup.py egg_info\u001b[0m did not run successfully.\n",
      "  \u001b[31m│\u001b[0m exit code: \u001b[1;36m1\u001b[0m\n",
      "  \u001b[31m╰─>\u001b[0m \u001b[31m[5 lines of output]\u001b[0m\n",
      "  \u001b[31m   \u001b[0m /tmp/pip-install-61i3i743/lxml_00553f5da40a44caad82eb8f510106c1/setup.py:67: DeprecationWarning: pkg_resources is deprecated as an API. See https://setuptools.pypa.io/en/latest/pkg_resources.html\n",
      "  \u001b[31m   \u001b[0m   import pkg_resources\n",
      "  \u001b[31m   \u001b[0m Building lxml version 4.6.4.\n",
      "  \u001b[31m   \u001b[0m Building without Cython.\n",
      "  \u001b[31m   \u001b[0m Error: Please make sure the libxml2 and libxslt development packages are installed.\n",
      "  \u001b[31m   \u001b[0m \u001b[31m[end of output]\u001b[0m\n",
      "  \n",
      "  \u001b[1;35mnote\u001b[0m: This error originates from a subprocess, and is likely not a problem with pip.\n",
      "\u001b[1;31merror\u001b[0m: \u001b[1mmetadata-generation-failed\u001b[0m\n",
      "\n",
      "\u001b[31m×\u001b[0m Encountered error while generating package metadata.\n",
      "\u001b[31m╰─>\u001b[0m See above for output.\n",
      "\n",
      "\u001b[1;35mnote\u001b[0m: This is an issue with the package mentioned above, not pip.\n",
      "\u001b[1;36mhint\u001b[0m: See above for details.\n",
      "\u001b[?25h\n",
      "Looking for: ['html5lib==1.1']\n",
      "\n",
      "conda-forge/linux-64                                        Using cache\n",
      "conda-forge/noarch                                          Using cache\n",
      "\n",
      "Pinned packages:\n",
      "  - python 3.11.*\n",
      "  - python 3.11.*\n",
      "\n",
      "\n",
      "Transaction\n",
      "\n",
      "  Prefix: /opt/conda\n",
      "\n",
      "  Updating specs:\n",
      "\n",
      "   - html5lib==1.1\n",
      "   - ca-certificates\n",
      "   - certifi\n",
      "   - openssl\n",
      "\n",
      "\n",
      "  Package              Version  Build         Channel           Size\n",
      "──────────────────────────────────────────────────────────────────────\n",
      "  Install:\n",
      "──────────────────────────────────────────────────────────────────────\n",
      "\n",
      "  \u001b[32m+ html5lib       \u001b[0m        1.1  pyhd8ed1ab_1  conda-forge       95kB\n",
      "  \u001b[32m+ libgcc         \u001b[0m     14.2.0  h77fa898_1    conda-forge\u001b[32m     Cached\u001b[0m\n",
      "\n",
      "  Upgrade:\n",
      "──────────────────────────────────────────────────────────────────────\n",
      "\n",
      "  \u001b[31m- certifi        \u001b[0m   2024.6.2  pyhd8ed1ab_0  conda-forge      161kB\n",
      "  \u001b[32m+ certifi        \u001b[0m  2024.8.30  pyhd8ed1ab_0  conda-forge\u001b[32m     Cached\u001b[0m\n",
      "  \u001b[31m- ca-certificates\u001b[0m   2024.6.2  hbcca054_0    conda-forge      156kB\n",
      "  \u001b[32m+ ca-certificates\u001b[0m  2024.8.30  hbcca054_0    conda-forge\u001b[32m     Cached\u001b[0m\n",
      "  \u001b[31m- libgomp        \u001b[0m     13.2.0  h77fa898_6    conda-forge      420kB\n",
      "  \u001b[32m+ libgomp        \u001b[0m     14.2.0  h77fa898_1    conda-forge\u001b[32m     Cached\u001b[0m\n",
      "  \u001b[31m- libgcc-ng      \u001b[0m     13.2.0  h77fa898_6    conda-forge      778kB\n",
      "  \u001b[32m+ libgcc-ng      \u001b[0m     14.2.0  h69a702a_1    conda-forge\u001b[32m     Cached\u001b[0m\n",
      "  \u001b[31m- openssl        \u001b[0m      3.3.1  h4ab18f5_0    conda-forge        3MB\n",
      "  \u001b[32m+ openssl        \u001b[0m      3.4.0  hb9d3cd8_0    conda-forge\u001b[32m     Cached\u001b[0m\n",
      "\n",
      "  Summary:\n",
      "\n",
      "  Install: 2 packages\n",
      "  Upgrade: 5 packages\n",
      "\n",
      "  Total download: 95kB\n",
      "\n",
      "──────────────────────────────────────────────────────────────────────\n",
      "\n",
      "\n",
      "\u001b[?25l\u001b[2K\u001b[0G[+] 0.0s\n",
      "Downloading  (1) \u001b[33m━━━━━━━━━━━━━━━━━━━━━━━\u001b[0m   0.0 B html5lib                   0.0s\n",
      "Extracting       \u001b[90m━━━━━━━━━━━━━━━━━━━━━━━\u001b[0m       0                            0.0s\u001b[2K\u001b[1A\u001b[2K\u001b[1A\u001b[2K\u001b[0Ghtml5lib                                            95.3kB @   1.8MB/s  0.1s\n",
      "[+] 0.1s\n",
      "Downloading      ━━━━━━━━━━━━━━━━━━━━━━━  95.3kB                            0.1s\n",
      "Extracting   (1) \u001b[90m━╸\u001b[0m\u001b[33m━━━━━━━━━━━━━━━╸\u001b[0m\u001b[90m━━━━━\u001b[0m       0 html5lib                   0.0s\u001b[2K\u001b[1A\u001b[2K\u001b[1A\u001b[2K\u001b[0G\u001b[?25h\n",
      "Downloading and Extracting Packages:\n",
      "\n",
      "Preparing transaction: done\n",
      "Verifying transaction: done\n",
      "Executing transaction: done\n",
      "ERROR conda.core.link:_execute(949): An error occurred while uninstalling package 'conda-forge/noarch::certifi-2024.6.2-pyhd8ed1ab_0'.\n",
      "Rolling back transaction: done\n",
      "[Errno 13] Permission denied: '/opt/conda/lib/python3.11/site-packages/certifi-2024.6.2.dist-info/INSTALLER' -> '/opt/conda/lib/python3.11/site-packages/certifi-2024.6.2.dist-info/INSTALLER.c~'\n",
      "()\n",
      "\n",
      "\n",
      "[Errno 13] Permission denied: '/opt/conda/lib/python3.11/site-packages/certifi-2024.6.2.dist-info/INSTALLER' -> '/opt/conda/lib/python3.11/site-packages/certifi-2024.6.2.dist-info/INSTALLER.c~'\n",
      "()\n",
      "\n",
      "Collecting requests==2.26.0\n",
      "  Downloading requests-2.26.0-py2.py3-none-any.whl.metadata (4.8 kB)\n",
      "Collecting urllib3<1.27,>=1.21.1 (from requests==2.26.0)\n",
      "  Downloading urllib3-1.26.20-py2.py3-none-any.whl.metadata (50 kB)\n",
      "\u001b[2K     \u001b[90m━━━━━━━━━━━━━━━━━━━━━━━━━━━━━━━━━━━━━━━━\u001b[0m \u001b[32m50.1/50.1 kB\u001b[0m \u001b[31m6.7 MB/s\u001b[0m eta \u001b[36m0:00:00\u001b[0m\n",
      "\u001b[?25hRequirement already satisfied: certifi>=2017.4.17 in /opt/conda/lib/python3.11/site-packages (from requests==2.26.0) (2024.6.2)\n",
      "Collecting charset-normalizer~=2.0.0 (from requests==2.26.0)\n",
      "  Downloading charset_normalizer-2.0.12-py3-none-any.whl.metadata (11 kB)\n",
      "Requirement already satisfied: idna<4,>=2.5 in /opt/conda/lib/python3.11/site-packages (from requests==2.26.0) (3.7)\n",
      "Downloading requests-2.26.0-py2.py3-none-any.whl (62 kB)\n",
      "\u001b[2K   \u001b[90m━━━━━━━━━━━━━━━━━━━━━━━━━━━━━━━━━━━━━━━━\u001b[0m \u001b[32m62.3/62.3 kB\u001b[0m \u001b[31m9.8 MB/s\u001b[0m eta \u001b[36m0:00:00\u001b[0m\n",
      "\u001b[?25hDownloading charset_normalizer-2.0.12-py3-none-any.whl (39 kB)\n",
      "Downloading urllib3-1.26.20-py2.py3-none-any.whl (144 kB)\n",
      "\u001b[2K   \u001b[90m━━━━━━━━━━━━━━━━━━━━━━━━━━━━━━━━━━━━━━━━\u001b[0m \u001b[32m144.2/144.2 kB\u001b[0m \u001b[31m24.7 MB/s\u001b[0m eta \u001b[36m0:00:00\u001b[0m\n",
      "\u001b[?25hInstalling collected packages: urllib3, charset-normalizer, requests\n",
      "  Attempting uninstall: urllib3\n",
      "    Found existing installation: urllib3 2.2.1\n",
      "    Uninstalling urllib3-2.2.1:\n",
      "      Successfully uninstalled urllib3-2.2.1\n",
      "  Attempting uninstall: charset-normalizer\n",
      "    Found existing installation: charset-normalizer 3.3.2\n",
      "    Uninstalling charset-normalizer-3.3.2:\n",
      "      Successfully uninstalled charset-normalizer-3.3.2\n",
      "  Attempting uninstall: requests\n",
      "    Found existing installation: requests 2.31.0\n",
      "    Uninstalling requests-2.31.0:\n",
      "      Successfully uninstalled requests-2.31.0\n",
      "\u001b[31mERROR: pip's dependency resolver does not currently take into account all the packages that are installed. This behaviour is the source of the following dependency conflicts.\n",
      "conda 24.4.0 requires requests<3,>=2.28.0, but you have requests 2.26.0 which is incompatible.\n",
      "jupyterlab-server 2.27.1 requires requests>=2.31, but you have requests 2.26.0 which is incompatible.\u001b[0m\u001b[31m\n",
      "\u001b[0mSuccessfully installed charset-normalizer-2.0.12 requests-2.26.0 urllib3-1.26.20\n"
     ]
    }
   ],
   "source": [
    "!mamba install bs4==4.10.0 -y\n",
    "!pip install lxml==4.6.4\n",
    "!mamba install html5lib==1.1 -y\n",
    "!pip install requests==2.26.0"
   ]
  },
  {
   "cell_type": "markdown",
   "metadata": {},
   "source": [
    "Import the required modules and functions\n"
   ]
  },
  {
   "cell_type": "code",
   "execution_count": 2,
   "metadata": {},
   "outputs": [],
   "source": [
    "from bs4 import BeautifulSoup # this module helps in web scrapping.\n",
    "import requests  # this module helps us to download a web page"
   ]
  },
  {
   "cell_type": "markdown",
   "metadata": {},
   "source": [
    "<h2 id=\"BSO\">Beautiful Soup Objects</h2>\n"
   ]
  },
  {
   "cell_type": "markdown",
   "metadata": {},
   "source": [
    "Beautiful Soup is a Python library for pulling data out of HTML and XML files, we will focus on HTML files. This is accomplished by representing the HTML as a set of objects with methods used to parse the HTML.  We can navigate the HTML as a tree and/or filter out what we are looking for.\n",
    "\n",
    "Consider the following HTML:\n"
   ]
  },
  {
   "cell_type": "code",
   "execution_count": 3,
   "metadata": {},
   "outputs": [
    {
     "data": {
      "text/html": [
       "<!DOCTYPE html>\n",
       "<html>\n",
       "<head>\n",
       "<title>Page Title</title>\n",
       "</head>\n",
       "<body>\n",
       "<h3><b id='boldest'>Lebron James</b></h3>\n",
       "<p> Salary: $ 92,000,000 </p>\n",
       "<h3> Stephen Curry</h3>\n",
       "<p> Salary: $85,000, 000 </p>\n",
       "<h3> Kevin Durant </h3>\n",
       "<p> Salary: $73,200, 000</p>\n",
       "</body>\n",
       "</html>\n"
      ],
      "text/plain": [
       "<IPython.core.display.HTML object>"
      ]
     },
     "metadata": {},
     "output_type": "display_data"
    }
   ],
   "source": [
    "%%html\n",
    "<!DOCTYPE html>\n",
    "<html>\n",
    "<head>\n",
    "<title>Page Title</title>\n",
    "</head>\n",
    "<body>\n",
    "<h3><b id='boldest'>Lebron James</b></h3>\n",
    "<p> Salary: $ 92,000,000 </p>\n",
    "<h3> Stephen Curry</h3>\n",
    "<p> Salary: $85,000, 000 </p>\n",
    "<h3> Kevin Durant </h3>\n",
    "<p> Salary: $73,200, 000</p>\n",
    "</body>\n",
    "</html>"
   ]
  },
  {
   "cell_type": "markdown",
   "metadata": {},
   "source": [
    "We can store it as a string in the variable HTML:\n"
   ]
  },
  {
   "cell_type": "code",
   "execution_count": 4,
   "metadata": {},
   "outputs": [],
   "source": [
    "html=\"<!DOCTYPE html><html><head><title>Page Title</title></head><body><h3><b id='boldest'>Lebron James</b></h3><p> Salary: $ 92,000,000 </p><h3> Stephen Curry</h3><p> Salary: $85,000, 000 </p><h3> Kevin Durant </h3><p> Salary: $73,200, 000</p></body></html>\""
   ]
  },
  {
   "cell_type": "markdown",
   "metadata": {},
   "source": [
    "To parse a document, pass it into the <code>BeautifulSoup</code> constructor, the <code>BeautifulSoup</code> object, which represents the document as a nested data structure:\n"
   ]
  },
  {
   "cell_type": "code",
   "execution_count": 5,
   "metadata": {},
   "outputs": [],
   "source": [
    "soup = BeautifulSoup(html, 'html.parser')"
   ]
  },
  {
   "cell_type": "markdown",
   "metadata": {},
   "source": [
    "First, the document is converted to Unicode, (similar to ASCII),  and HTML entities are converted to Unicode characters. Beautiful Soup transforms a complex HTML document into a complex tree of Python objects. The <code>BeautifulSoup</code> object can create other types of objects. In this lab, we will cover <code>BeautifulSoup</code> and <code>Tag</code> objects that for the purposes of this lab are identical, and <code>NavigableString</code> objects.\n"
   ]
  },
  {
   "cell_type": "markdown",
   "metadata": {},
   "source": [
    "We can use the method <code>prettify()</code> to display the HTML in the nested structure:\n"
   ]
  },
  {
   "cell_type": "code",
   "execution_count": 6,
   "metadata": {
    "scrolled": true
   },
   "outputs": [
    {
     "name": "stdout",
     "output_type": "stream",
     "text": [
      "<!DOCTYPE html>\n",
      "<html>\n",
      " <head>\n",
      "  <title>\n",
      "   Page Title\n",
      "  </title>\n",
      " </head>\n",
      " <body>\n",
      "  <h3>\n",
      "   <b id=\"boldest\">\n",
      "    Lebron James\n",
      "   </b>\n",
      "  </h3>\n",
      "  <p>\n",
      "   Salary: $ 92,000,000\n",
      "  </p>\n",
      "  <h3>\n",
      "   Stephen Curry\n",
      "  </h3>\n",
      "  <p>\n",
      "   Salary: $85,000, 000\n",
      "  </p>\n",
      "  <h3>\n",
      "   Kevin Durant\n",
      "  </h3>\n",
      "  <p>\n",
      "   Salary: $73,200, 000\n",
      "  </p>\n",
      " </body>\n",
      "</html>\n",
      "\n"
     ]
    }
   ],
   "source": [
    "print(soup.prettify())"
   ]
  },
  {
   "cell_type": "markdown",
   "metadata": {},
   "source": [
    "## Tags\n"
   ]
  },
  {
   "cell_type": "markdown",
   "metadata": {},
   "source": [
    "Let's say we want the  title of the page and the name of the top paid player we can use the <code>Tag</code>. The <code>Tag</code> object corresponds to an HTML tag in the original document, for example, the tag title.\n"
   ]
  },
  {
   "cell_type": "code",
   "execution_count": 7,
   "metadata": {},
   "outputs": [
    {
     "name": "stdout",
     "output_type": "stream",
     "text": [
      "<title>Page Title</title>\n"
     ]
    }
   ],
   "source": [
    "title_object = soup.title\n",
    "print(title_object)"
   ]
  },
  {
   "cell_type": "markdown",
   "metadata": {},
   "source": [
    "we can see the tag type <code>bs4.element.Tag</code>\n"
   ]
  },
  {
   "cell_type": "code",
   "execution_count": 8,
   "metadata": {},
   "outputs": [
    {
     "data": {
      "text/plain": [
       "bs4.element.Tag"
      ]
     },
     "execution_count": 8,
     "metadata": {},
     "output_type": "execute_result"
    }
   ],
   "source": [
    "type(title_object)"
   ]
  },
  {
   "cell_type": "markdown",
   "metadata": {},
   "source": [
    "If there is more than one <code>Tag</code>  with the same name, the first element with that <code>Tag</code> name is called, this corresponds to the most paid player:\n"
   ]
  },
  {
   "cell_type": "code",
   "execution_count": 12,
   "metadata": {},
   "outputs": [
    {
     "data": {
      "text/plain": [
       "<b id=\"boldest\">Lebron James</b>"
      ]
     },
     "execution_count": 12,
     "metadata": {},
     "output_type": "execute_result"
    }
   ],
   "source": [
    "h3_object = soup.h3\n",
    "h3_object.b"
   ]
  },
  {
   "cell_type": "markdown",
   "metadata": {},
   "source": [
    "Enclosed in the bold attribute <code>b</code>, it helps to use the tree representation. We can navigate down the tree using the child attribute to get the name.\n"
   ]
  },
  {
   "cell_type": "code",
   "execution_count": 13,
   "metadata": {},
   "outputs": [
    {
     "data": {
      "text/plain": [
       "[<b id=\"boldest\">Lebron James</b>]"
      ]
     },
     "execution_count": 13,
     "metadata": {},
     "output_type": "execute_result"
    }
   ],
   "source": [
    "h3_object.contents"
   ]
  },
  {
   "cell_type": "code",
   "execution_count": 14,
   "metadata": {},
   "outputs": [
    {
     "name": "stdout",
     "output_type": "stream",
     "text": [
      "<class 'list'>\n"
     ]
    }
   ],
   "source": [
    "print(type(h3_object.contents))"
   ]
  },
  {
   "cell_type": "code",
   "execution_count": 16,
   "metadata": {},
   "outputs": [
    {
     "name": "stdout",
     "output_type": "stream",
     "text": [
      "<b id=\"boldest\">Lebron James</b> <class 'bs4.element.Tag'>\n"
     ]
    }
   ],
   "source": [
    "h3_object.contents[0]\n",
    "print(h3_object.contents[0], type(h3_object.contents[0]))"
   ]
  },
  {
   "cell_type": "code",
   "execution_count": 21,
   "metadata": {
    "scrolled": true
   },
   "outputs": [
    {
     "name": "stdout",
     "output_type": "stream",
     "text": [
      "[<h3><b id=\"boldest\">Lebron James</b></h3>, <p> Salary: $ 92,000,000 </p>, <h3> Stephen Curry</h3>, <p> Salary: $85,000, 000 </p>, <h3> Kevin Durant </h3>, <p> Salary: $73,200, 000</p>]\n",
      "[' Salary: $73,200, 000'] <class 'list'>\n"
     ]
    }
   ],
   "source": [
    "data = soup.body\n",
    "print(data.contents)\n",
    "print(data.contents[-1].contents, type(data.contents[-1].contents))"
   ]
  },
  {
   "cell_type": "markdown",
   "metadata": {},
   "source": [
    "### Children, Parents, and Siblings\n"
   ]
  },
  {
   "cell_type": "markdown",
   "metadata": {},
   "source": [
    "As stated above the <code>Tag</code> object is a tree of objects we can access the child of the tag or navigate down the branch as follows:\n"
   ]
  },
  {
   "cell_type": "code",
   "execution_count": 26,
   "metadata": {},
   "outputs": [
    {
     "name": "stdout",
     "output_type": "stream",
     "text": [
      "<b id=\"boldest\">Lebron James</b>\n"
     ]
    }
   ],
   "source": [
    "child_object = h3_object.b\n",
    "print(child_object)"
   ]
  },
  {
   "cell_type": "code",
   "execution_count": 30,
   "metadata": {},
   "outputs": [
    {
     "name": "stdout",
     "output_type": "stream",
     "text": [
      "<list_iterator object at 0x7f53ad1b2920>\n"
     ]
    }
   ],
   "source": [
    "print(soup.head.children)"
   ]
  },
  {
   "cell_type": "code",
   "execution_count": 29,
   "metadata": {},
   "outputs": [
    {
     "data": {
      "text/plain": [
       "<title>Page Title</title>"
      ]
     },
     "execution_count": 29,
     "metadata": {},
     "output_type": "execute_result"
    }
   ],
   "source": [
    "soup.head.title"
   ]
  },
  {
   "cell_type": "markdown",
   "metadata": {},
   "source": [
    "You can access the parent with the <code> parent</code>\n"
   ]
  },
  {
   "cell_type": "code",
   "execution_count": 32,
   "metadata": {
    "scrolled": true
   },
   "outputs": [
    {
     "data": {
      "text/plain": [
       "<h3><b id=\"boldest\">Lebron James</b></h3>"
      ]
     },
     "execution_count": 32,
     "metadata": {},
     "output_type": "execute_result"
    }
   ],
   "source": [
    "child_object.parent"
   ]
  },
  {
   "cell_type": "markdown",
   "metadata": {},
   "source": [
    "this is identical to\n"
   ]
  },
  {
   "cell_type": "code",
   "execution_count": 33,
   "metadata": {},
   "outputs": [
    {
     "data": {
      "text/plain": [
       "<h3><b id=\"boldest\">Lebron James</b></h3>"
      ]
     },
     "execution_count": 33,
     "metadata": {},
     "output_type": "execute_result"
    }
   ],
   "source": [
    "h3_object"
   ]
  },
  {
   "cell_type": "markdown",
   "metadata": {},
   "source": [
    "<code>tag_object</code> parent is the <code>body</code> element.\n"
   ]
  },
  {
   "cell_type": "code",
   "execution_count": 34,
   "metadata": {},
   "outputs": [
    {
     "data": {
      "text/plain": [
       "<body><h3><b id=\"boldest\">Lebron James</b></h3><p> Salary: $ 92,000,000 </p><h3> Stephen Curry</h3><p> Salary: $85,000, 000 </p><h3> Kevin Durant </h3><p> Salary: $73,200, 000</p></body>"
      ]
     },
     "execution_count": 34,
     "metadata": {},
     "output_type": "execute_result"
    }
   ],
   "source": [
    "h3_object.parent"
   ]
  },
  {
   "cell_type": "markdown",
   "metadata": {},
   "source": [
    "<code>tag_object</code> sibling is the <code>paragraph</code> element\n"
   ]
  },
  {
   "cell_type": "code",
   "execution_count": 24,
   "metadata": {},
   "outputs": [
    {
     "data": {
      "text/plain": [
       "<p> Salary: $ 92,000,000 </p>"
      ]
     },
     "execution_count": 24,
     "metadata": {},
     "output_type": "execute_result"
    }
   ],
   "source": [
    "sibling_1=tag_object.next_sibling\n",
    "sibling_1"
   ]
  },
  {
   "cell_type": "markdown",
   "metadata": {},
   "source": [
    "`sibling_2` is the `header` element which is also a sibling of both `sibling_1` and `tag_object`\n"
   ]
  },
  {
   "cell_type": "code",
   "execution_count": 25,
   "metadata": {},
   "outputs": [
    {
     "data": {
      "text/plain": [
       "<h3> Stephen Curry</h3>"
      ]
     },
     "execution_count": 25,
     "metadata": {},
     "output_type": "execute_result"
    }
   ],
   "source": [
    "sibling_2=sibling_1.next_sibling\n",
    "sibling_2"
   ]
  },
  {
   "cell_type": "markdown",
   "metadata": {},
   "source": [
    "<h3 id=\"first_question\">Exercise: <code>next_sibling</code></h3>\n"
   ]
  },
  {
   "cell_type": "markdown",
   "metadata": {},
   "source": [
    "Using the object <code>sibling\\_2</code> and the property <code>next_sibling</code> to find the salary of Stephen Curry:\n"
   ]
  },
  {
   "cell_type": "code",
   "execution_count": 27,
   "metadata": {},
   "outputs": [
    {
     "data": {
      "text/plain": [
       "<p> Salary: $85,000, 000 </p>"
      ]
     },
     "execution_count": 27,
     "metadata": {},
     "output_type": "execute_result"
    }
   ],
   "source": [
    "stephen_salary = sibling_2.next_sibling\n",
    "stephen_salary"
   ]
  },
  {
   "cell_type": "markdown",
   "metadata": {},
   "source": [
    "<details><summary>Click here for the solution</summary>\n",
    "\n",
    "```\n",
    "sibling_2.next_sibling\n",
    "\n",
    "```\n",
    "\n",
    "</details>\n"
   ]
  },
  {
   "cell_type": "markdown",
   "metadata": {},
   "source": [
    "### HTML Attributes\n"
   ]
  },
  {
   "cell_type": "markdown",
   "metadata": {},
   "source": [
    "If the tag has attributes, the tag <code>id=\"boldest\"</code> has an attribute <code>id</code> whose value is <code>boldest</code>. You can access a tag’s attributes by treating the tag like a dictionary:\n"
   ]
  },
  {
   "cell_type": "code",
   "execution_count": 31,
   "metadata": {},
   "outputs": [
    {
     "data": {
      "text/plain": [
       "<h3><b id=\"boldest\">Lebron James</b></h3>"
      ]
     },
     "execution_count": 31,
     "metadata": {},
     "output_type": "execute_result"
    }
   ],
   "source": [
    "tag_object"
   ]
  },
  {
   "cell_type": "code",
   "execution_count": 33,
   "metadata": {},
   "outputs": [],
   "source": [
    "tag_object = soup.b"
   ]
  },
  {
   "cell_type": "code",
   "execution_count": 34,
   "metadata": {},
   "outputs": [
    {
     "data": {
      "text/plain": [
       "'boldest'"
      ]
     },
     "execution_count": 34,
     "metadata": {},
     "output_type": "execute_result"
    }
   ],
   "source": [
    "tag_object['id']"
   ]
  },
  {
   "cell_type": "markdown",
   "metadata": {},
   "source": [
    "You can access that dictionary directly as <code>attrs</code>:\n"
   ]
  },
  {
   "cell_type": "code",
   "execution_count": 35,
   "metadata": {},
   "outputs": [
    {
     "data": {
      "text/plain": [
       "{'id': 'boldest'}"
      ]
     },
     "execution_count": 35,
     "metadata": {},
     "output_type": "execute_result"
    }
   ],
   "source": [
    "tag_object.attrs"
   ]
  },
  {
   "cell_type": "markdown",
   "metadata": {},
   "source": [
    "You can also work with Multi-valued attribute check out <a href=\"https://www.crummy.com/software/BeautifulSoup/bs4/doc/?utm_medium=Exinfluencer&utm_source=Exinfluencer&utm_content=000026UJ&utm_term=10006555&utm_id=NA-SkillsNetwork-Channel-SkillsNetworkCoursesIBMDeveloperSkillsNetworkPY0220ENSkillsNetwork23455606-2021-01-01\">\\[1]</a> for more.\n"
   ]
  },
  {
   "cell_type": "markdown",
   "metadata": {},
   "source": [
    "We can also obtain the content if the attribute of the <code>tag</code> using the Python <code>get()</code> method.\n"
   ]
  },
  {
   "cell_type": "code",
   "execution_count": 36,
   "metadata": {
    "scrolled": true
   },
   "outputs": [
    {
     "data": {
      "text/plain": [
       "'boldest'"
      ]
     },
     "execution_count": 36,
     "metadata": {},
     "output_type": "execute_result"
    }
   ],
   "source": [
    "tag_object.get('id')"
   ]
  },
  {
   "cell_type": "markdown",
   "metadata": {},
   "source": [
    "### Navigable String\n"
   ]
  },
  {
   "cell_type": "markdown",
   "metadata": {},
   "source": [
    "A string corresponds to a bit of text or content within a tag. Beautiful Soup uses the <code>NavigableString</code> class to contain this text. In our HTML we can obtain the name of the first player by extracting the sting of the <code>Tag</code> object <code>tag_child</code> as follows:\n"
   ]
  },
  {
   "cell_type": "code",
   "execution_count": 37,
   "metadata": {},
   "outputs": [
    {
     "data": {
      "text/plain": [
       "'Lebron James'"
      ]
     },
     "execution_count": 37,
     "metadata": {},
     "output_type": "execute_result"
    }
   ],
   "source": [
    "tag_string=tag_object.string\n",
    "tag_string"
   ]
  },
  {
   "cell_type": "markdown",
   "metadata": {},
   "source": [
    "we can verify the type is Navigable String\n"
   ]
  },
  {
   "cell_type": "code",
   "execution_count": 38,
   "metadata": {},
   "outputs": [
    {
     "data": {
      "text/plain": [
       "bs4.element.NavigableString"
      ]
     },
     "execution_count": 38,
     "metadata": {},
     "output_type": "execute_result"
    }
   ],
   "source": [
    "type(tag_string)"
   ]
  },
  {
   "cell_type": "code",
   "execution_count": 39,
   "metadata": {},
   "outputs": [
    {
     "name": "stdout",
     "output_type": "stream",
     "text": [
      "L\n",
      "e\n",
      "b\n",
      "r\n",
      "o\n",
      "n\n",
      " \n",
      "J\n",
      "a\n",
      "m\n",
      "e\n",
      "s\n"
     ]
    }
   ],
   "source": [
    "for i in tag_string:\n",
    "    print(i)"
   ]
  },
  {
   "cell_type": "markdown",
   "metadata": {},
   "source": [
    "A NavigableString is just like a Python string or Unicode string, to be more precise. The main difference is that it also supports some  <code>BeautifulSoup</code> features. We can covert it to string object in Python:\n"
   ]
  },
  {
   "cell_type": "code",
   "execution_count": 40,
   "metadata": {},
   "outputs": [
    {
     "data": {
      "text/plain": [
       "'Lebron James'"
      ]
     },
     "execution_count": 40,
     "metadata": {},
     "output_type": "execute_result"
    }
   ],
   "source": [
    "unicode_string = str(tag_string)\n",
    "unicode_string"
   ]
  },
  {
   "cell_type": "code",
   "execution_count": 41,
   "metadata": {},
   "outputs": [
    {
     "data": {
      "text/plain": [
       "str"
      ]
     },
     "execution_count": 41,
     "metadata": {},
     "output_type": "execute_result"
    }
   ],
   "source": [
    "type(unicode_string)"
   ]
  },
  {
   "cell_type": "markdown",
   "metadata": {},
   "source": [
    "<h2 id=\"filter\">Filter</h2>\n"
   ]
  },
  {
   "cell_type": "markdown",
   "metadata": {},
   "source": [
    "Filters allow you to find complex patterns, the simplest filter is a string. In this section we will pass a string to a different filter method and Beautiful Soup will perform a match against that exact string.  Consider the following HTML of rocket launchs:\n"
   ]
  },
  {
   "cell_type": "code",
   "execution_count": 35,
   "metadata": {},
   "outputs": [
    {
     "data": {
      "text/html": [
       "<table>\n",
       "  <tr>\n",
       "    <td id='flight' >Flight No</td>\n",
       "    <td>Launch site</td> \n",
       "    <td>Payload mass</td>\n",
       "   </tr>\n",
       "  <tr> \n",
       "    <td>1</td>\n",
       "    <td><a href='https://en.wikipedia.org/wiki/Florida'>Florida</a></td>\n",
       "    <td>300 kg</td>\n",
       "  </tr>\n",
       "  <tr>\n",
       "    <td>2</td>\n",
       "    <td><a href='https://en.wikipedia.org/wiki/Texas'>Texas</a></td>\n",
       "    <td>94 kg</td>\n",
       "  </tr>\n",
       "  <tr>\n",
       "    <td>3</td>\n",
       "    <td><a href='https://en.wikipedia.org/wiki/Florida'>Florida</a> </td>\n",
       "    <td>80 kg</td>\n",
       "  </tr>\n",
       "</table>\n"
      ],
      "text/plain": [
       "<IPython.core.display.HTML object>"
      ]
     },
     "metadata": {},
     "output_type": "display_data"
    }
   ],
   "source": [
    "%%html\n",
    "<table>\n",
    "  <tr>\n",
    "    <td id='flight' >Flight No</td>\n",
    "    <td>Launch site</td> \n",
    "    <td>Payload mass</td>\n",
    "   </tr>\n",
    "  <tr> \n",
    "    <td>1</td>\n",
    "    <td><a href='https://en.wikipedia.org/wiki/Florida'>Florida</a></td>\n",
    "    <td>300 kg</td>\n",
    "  </tr>\n",
    "  <tr>\n",
    "    <td>2</td>\n",
    "    <td><a href='https://en.wikipedia.org/wiki/Texas'>Texas</a></td>\n",
    "    <td>94 kg</td>\n",
    "  </tr>\n",
    "  <tr>\n",
    "    <td>3</td>\n",
    "    <td><a href='https://en.wikipedia.org/wiki/Florida'>Florida</a> </td>\n",
    "    <td>80 kg</td>\n",
    "  </tr>\n",
    "</table>"
   ]
  },
  {
   "cell_type": "markdown",
   "metadata": {},
   "source": [
    "We can store it as a string in the variable <code>table</code>:\n"
   ]
  },
  {
   "cell_type": "code",
   "execution_count": 37,
   "metadata": {},
   "outputs": [],
   "source": [
    "table=\"<table><tr><td id='flight' >Flight No</td><td>Launch site</td><td>Payload mass</td></tr><tr><td>1</td><td><a href='https://en.wikipedia.org/wiki/Florida'>Florida</a></td><td>300 kg</td></tr><tr><td>2</td><td><a href='https://en.wikipedia.org/wiki/Texas'>Texas</a></td><td>94 kg</td></tr><tr><td>3</td><td><a href='https://en.wikipedia.org/wiki/Florida'>Florida</a> </td><td>80 kg</td></tr></table>\""
   ]
  },
  {
   "cell_type": "code",
   "execution_count": 38,
   "metadata": {},
   "outputs": [],
   "source": [
    "soup2 = BeautifulSoup(table,'html.parser')"
   ]
  },
  {
   "cell_type": "markdown",
   "metadata": {},
   "source": [
    "## find All\n"
   ]
  },
  {
   "cell_type": "markdown",
   "metadata": {},
   "source": [
    "The <code>find_all()</code> method looks through a tag’s descendants and retrieves all descendants that match your filters.\n",
    "\n",
    "<p>\n",
    "The Method signature for <code>find_all(name, attrs, recursive, string, limit, **kwargs)<c/ode>\n",
    "</p>\n"
   ]
  },
  {
   "cell_type": "markdown",
   "metadata": {},
   "source": [
    "### Name\n"
   ]
  },
  {
   "cell_type": "markdown",
   "metadata": {},
   "source": [
    "When we set the <code>name</code> parameter to a tag name, the method will extract all the tags with that name and its children.\n"
   ]
  },
  {
   "cell_type": "code",
   "execution_count": 40,
   "metadata": {},
   "outputs": [
    {
     "name": "stdout",
     "output_type": "stream",
     "text": [
      "[<tr><td id=\"flight\">Flight No</td><td>Launch site</td><td>Payload mass</td></tr>, <tr><td>1</td><td><a href=\"https://en.wikipedia.org/wiki/Florida\">Florida</a></td><td>300 kg</td></tr>, <tr><td>2</td><td><a href=\"https://en.wikipedia.org/wiki/Texas\">Texas</a></td><td>94 kg</td></tr>, <tr><td>3</td><td><a href=\"https://en.wikipedia.org/wiki/Florida\">Florida</a> </td><td>80 kg</td></tr>]\n"
     ]
    }
   ],
   "source": [
    "# Find all rows\n",
    "rows = soup2.find_all(name=\"tr\")\n",
    "print(rows)"
   ]
  },
  {
   "cell_type": "markdown",
   "metadata": {},
   "source": [
    "The result is a Python Iterable just like a list, each element is a <code>tag</code> object:\n"
   ]
  },
  {
   "cell_type": "code",
   "execution_count": 43,
   "metadata": {},
   "outputs": [
    {
     "data": {
      "text/plain": [
       "<tr><td>1</td><td><a href=\"https://en.wikipedia.org/wiki/Florida\">Florida</a></td><td>300 kg</td></tr>"
      ]
     },
     "execution_count": 43,
     "metadata": {},
     "output_type": "execute_result"
    }
   ],
   "source": [
    "first_row = rows[1]\n",
    "first_row"
   ]
  },
  {
   "cell_type": "markdown",
   "metadata": {},
   "source": [
    "The type is <code>tag</code>\n"
   ]
  },
  {
   "cell_type": "code",
   "execution_count": 50,
   "metadata": {},
   "outputs": [
    {
     "name": "stdout",
     "output_type": "stream",
     "text": [
      "<class 'bs4.element.Tag'>\n"
     ]
    }
   ],
   "source": [
    "print(type(first_row))"
   ]
  },
  {
   "cell_type": "markdown",
   "metadata": {},
   "source": [
    "we can obtain the child\n"
   ]
  },
  {
   "cell_type": "code",
   "execution_count": 44,
   "metadata": {},
   "outputs": [
    {
     "data": {
      "text/plain": [
       "[<td>1</td>,\n",
       " <td><a href=\"https://en.wikipedia.org/wiki/Florida\">Florida</a></td>,\n",
       " <td>300 kg</td>]"
      ]
     },
     "execution_count": 44,
     "metadata": {},
     "output_type": "execute_result"
    }
   ],
   "source": [
    "cells = first_row.find_all(\"td\")\n",
    "cells"
   ]
  },
  {
   "cell_type": "code",
   "execution_count": 53,
   "metadata": {},
   "outputs": [
    {
     "data": {
      "text/plain": [
       "bs4.element.ResultSet"
      ]
     },
     "execution_count": 53,
     "metadata": {},
     "output_type": "execute_result"
    }
   ],
   "source": [
    "type(cells)"
   ]
  },
  {
   "cell_type": "code",
   "execution_count": 45,
   "metadata": {},
   "outputs": [],
   "source": [
    "td1 = first_row.td"
   ]
  },
  {
   "cell_type": "code",
   "execution_count": 54,
   "metadata": {
    "scrolled": true
   },
   "outputs": [
    {
     "data": {
      "text/plain": [
       "bs4.element.Tag"
      ]
     },
     "execution_count": 54,
     "metadata": {},
     "output_type": "execute_result"
    }
   ],
   "source": [
    "type(td1)"
   ]
  },
  {
   "cell_type": "code",
   "execution_count": 58,
   "metadata": {},
   "outputs": [
    {
     "name": "stdout",
     "output_type": "stream",
     "text": [
      "https://en.wikipedia.org/wiki/Florida\n",
      "https://en.wikipedia.org/wiki/Texas\n",
      "https://en.wikipedia.org/wiki/Florida\n"
     ]
    }
   ],
   "source": [
    "# Find all URLs in the html file\n",
    "a_tags = soup2.find_all(name = \"a\", href = True)\n",
    "for tag in a_tags:\n",
    "    print(tag.get(\"href\"))"
   ]
  },
  {
   "cell_type": "markdown",
   "metadata": {},
   "source": [
    "If we iterate through the list, each element corresponds to a row in the table:\n"
   ]
  },
  {
   "cell_type": "code",
   "execution_count": 59,
   "metadata": {},
   "outputs": [
    {
     "name": "stdout",
     "output_type": "stream",
     "text": [
      "row 1 is: <tr><td id=\"flight\">Flight No</td><td>Launch site</td><td>Payload mass</td></tr>\n",
      "row 2 is: <tr><td>1</td><td><a href=\"https://en.wikipedia.org/wiki/Florida\">Florida</a></td><td>300 kg</td></tr>\n",
      "row 3 is: <tr><td>2</td><td><a href=\"https://en.wikipedia.org/wiki/Texas\">Texas</a></td><td>94 kg</td></tr>\n",
      "row 4 is: <tr><td>3</td><td><a href=\"https://en.wikipedia.org/wiki/Florida\">Florida</a> </td><td>80 kg</td></tr>\n"
     ]
    }
   ],
   "source": [
    "for i,row in enumerate(rows):\n",
    "    print(\"row\",i+1,\"is:\",row)"
   ]
  },
  {
   "cell_type": "markdown",
   "metadata": {},
   "source": [
    "As <code>row</code> is a <code>cell</code> object, we can apply the method <code>find_all</code> to it and extract table cells in the object <code>cells</code> using the tag <code>td</code>, this is all the children with the name <code>td</code>. The result is a list, each element corresponds to a cell and is a <code>Tag</code> object, we can iterate through this list as well. We can extract the content using the <code>string</code>  attribute.\n"
   ]
  },
  {
   "cell_type": "code",
   "execution_count": 62,
   "metadata": {},
   "outputs": [
    {
     "name": "stdout",
     "output_type": "stream",
     "text": [
      "ROW 0\n",
      "Cell 0 : Flight No\n",
      "Cell 1 : Launch site\n",
      "Cell 2 : Payload mass\n",
      "ROW 1\n",
      "Cell 0 : 1\n",
      "Cell 1 : Florida\n",
      "Cell 2 : 300 kg\n",
      "ROW 2\n",
      "Cell 0 : 2\n",
      "Cell 1 : Texas\n",
      "Cell 2 : 94 kg\n",
      "ROW 3\n",
      "Cell 0 : 3\n",
      "Cell 1 : Florida \n",
      "Cell 2 : 80 kg\n"
     ]
    }
   ],
   "source": [
    "# Accessing to each <td> within each row.\n",
    "# Print each <td> on 1 line\n",
    "for i, row in enumerate(rows):\n",
    "    print(\"ROW\", i)\n",
    "    for j, td in enumerate(row.find_all(name='td')):\n",
    "        print(\"Cell\",j,\":\",td.get_text())"
   ]
  },
  {
   "cell_type": "markdown",
   "metadata": {},
   "source": [
    "If we use a list we can match against any item in that list.\n"
   ]
  },
  {
   "cell_type": "code",
   "execution_count": 63,
   "metadata": {},
   "outputs": [
    {
     "data": {
      "text/plain": [
       "[<tr><td id=\"flight\">Flight No</td><td>Launch site</td><td>Payload mass</td></tr>,\n",
       " <tr><td>1</td><td><a href=\"https://en.wikipedia.org/wiki/Florida\">Florida</a></td><td>300 kg</td></tr>,\n",
       " <tr><td>2</td><td><a href=\"https://en.wikipedia.org/wiki/Texas\">Texas</a></td><td>94 kg</td></tr>,\n",
       " <tr><td>3</td><td><a href=\"https://en.wikipedia.org/wiki/Florida\">Florida</a> </td><td>80 kg</td></tr>]"
      ]
     },
     "execution_count": 63,
     "metadata": {},
     "output_type": "execute_result"
    }
   ],
   "source": [
    "rows"
   ]
  },
  {
   "cell_type": "markdown",
   "metadata": {},
   "source": [
    "## Attributes\n"
   ]
  },
  {
   "cell_type": "markdown",
   "metadata": {},
   "source": [
    "If the argument is not recognized it will be turned into a filter on the tag’s attributes. For example the <code>id</code>  argument, Beautiful Soup will filter against each tag’s <code>id</code> attribute. For example, the first <code>td</code> elements have a value of <code>id</code> of <code>flight</code>, therefore we can filter based on that <code>id</code> value.\n"
   ]
  },
  {
   "cell_type": "code",
   "execution_count": 69,
   "metadata": {},
   "outputs": [
    {
     "data": {
      "text/plain": [
       "[<td id=\"flight\">Flight No</td>]"
      ]
     },
     "execution_count": 69,
     "metadata": {},
     "output_type": "execute_result"
    }
   ],
   "source": [
    "flight_object = soup2.find_all(id=\"flight\")\n",
    "flight_object"
   ]
  },
  {
   "cell_type": "markdown",
   "metadata": {},
   "source": [
    "We can find all the elements that have links to the Florida Wikipedia page:\n"
   ]
  },
  {
   "cell_type": "code",
   "execution_count": 70,
   "metadata": {},
   "outputs": [
    {
     "data": {
      "text/plain": [
       "[<a href=\"https://en.wikipedia.org/wiki/Florida\">Florida</a>,\n",
       " <a href=\"https://en.wikipedia.org/wiki/Florida\">Florida</a>]"
      ]
     },
     "execution_count": 70,
     "metadata": {},
     "output_type": "execute_result"
    }
   ],
   "source": [
    "florida_link = soup2.find_all(href = \"https://en.wikipedia.org/wiki/Florida\")\n",
    "florida_link\n"
   ]
  },
  {
   "cell_type": "markdown",
   "metadata": {},
   "source": [
    "If we set the  <code>href</code> attribute to True, regardless of what the value is, the code finds all tags with <code>href</code> value:\n"
   ]
  },
  {
   "cell_type": "markdown",
   "metadata": {},
   "source": [
    "There are other methods for dealing with attributes and other related methods; Check out the following <a href='https://www.crummy.com/software/BeautifulSoup/bs4/doc/?utm_medium=Exinfluencer&utm_source=Exinfluencer&utm_content=000026UJ&utm_term=10006555&utm_id=NA-SkillsNetwork-Channel-SkillsNetworkCoursesIBMDeveloperSkillsNetworkPY0220ENSkillsNetwork23455606-2021-01-01#css-selectors'>link</a>\n"
   ]
  },
  {
   "cell_type": "markdown",
   "metadata": {},
   "source": [
    "<h3 id=\"exer_type\">Exercise: <code>find_all</code></h3>\n"
   ]
  },
  {
   "cell_type": "markdown",
   "metadata": {},
   "source": [
    "Using the logic above, find all the elements without <code>href</code> value\n"
   ]
  },
  {
   "cell_type": "code",
   "execution_count": 74,
   "metadata": {},
   "outputs": [
    {
     "data": {
      "text/plain": [
       "[]"
      ]
     },
     "execution_count": 74,
     "metadata": {},
     "output_type": "execute_result"
    }
   ],
   "source": [
    "soup2.find_all(name = 'a', href = False)"
   ]
  },
  {
   "cell_type": "markdown",
   "metadata": {},
   "source": [
    "<details><summary>Click here for the solution</summary>\n",
    "\n",
    "```\n",
    "table_bs.find_all('a', href=False)\n",
    "\n",
    "```\n",
    "\n",
    "</details>\n"
   ]
  },
  {
   "cell_type": "markdown",
   "metadata": {},
   "source": [
    "Using the soup object <code>soup</code>, find the element with the <code>id</code> attribute content set to <code>\"boldest\"</code>.\n"
   ]
  },
  {
   "cell_type": "code",
   "execution_count": 75,
   "metadata": {},
   "outputs": [
    {
     "data": {
      "text/plain": [
       "[<b id=\"boldest\">Lebron James</b>]"
      ]
     },
     "execution_count": 75,
     "metadata": {},
     "output_type": "execute_result"
    }
   ],
   "source": [
    "soup.find_all(id = \"boldest\")"
   ]
  },
  {
   "cell_type": "markdown",
   "metadata": {},
   "source": [
    "<details><summary>Click here for the solution</summary>\n",
    "\n",
    "```\n",
    "soup.find_all(id=\"boldest\")\n",
    "\n",
    "```\n",
    "\n",
    "</details>\n"
   ]
  },
  {
   "cell_type": "markdown",
   "metadata": {},
   "source": [
    "### string\n"
   ]
  },
  {
   "cell_type": "markdown",
   "metadata": {},
   "source": [
    "With string you can search for strings instead of tags, where we find all the elments with Florida:\n"
   ]
  },
  {
   "cell_type": "code",
   "execution_count": 86,
   "metadata": {
    "scrolled": true
   },
   "outputs": [
    {
     "name": "stdout",
     "output_type": "stream",
     "text": [
      "<td><a href=\"https://en.wikipedia.org/wiki/Florida\">Florida</a></td>\n",
      "<td><a href=\"https://en.wikipedia.org/wiki/Florida\">Florida</a> </td>\n"
     ]
    }
   ],
   "source": [
    "# Use 'xx' in str():\n",
    "td_objects = soup2.find_all(name=\"td\")\n",
    "for t in td_objects:\n",
    "    if \"Florida\" in str(t):\n",
    "        print(t)"
   ]
  },
  {
   "cell_type": "code",
   "execution_count": 80,
   "metadata": {},
   "outputs": [
    {
     "data": {
      "text/plain": [
       "[<td><a href=\"https://en.wikipedia.org/wiki/Florida\">Florida</a></td>,\n",
       " <a href=\"https://en.wikipedia.org/wiki/Florida\">Florida</a>,\n",
       " <a href=\"https://en.wikipedia.org/wiki/Florida\">Florida</a>]"
      ]
     },
     "execution_count": 80,
     "metadata": {},
     "output_type": "execute_result"
    }
   ],
   "source": [
    "tags_with_florida = soup2.find_all(lambda tag: tag.string and 'Florida' in tag.string)\n",
    "tags_with_florida"
   ]
  },
  {
   "cell_type": "code",
   "execution_count": null,
   "metadata": {},
   "outputs": [],
   "source": []
  },
  {
   "cell_type": "markdown",
   "metadata": {},
   "source": [
    "## find\n"
   ]
  },
  {
   "cell_type": "markdown",
   "metadata": {},
   "source": [
    "The <code>find_all()</code> method scans the entire document looking for results, it’s if you are looking for one element you can use the <code>find()</code> method to find the first element in the document. Consider the following two table:\n"
   ]
  },
  {
   "cell_type": "code",
   "execution_count": 66,
   "metadata": {},
   "outputs": [
    {
     "data": {
      "text/html": [
       "<h3>Rocket Launch </h3>\n",
       "\n",
       "<p>\n",
       "<table class='rocket'>\n",
       "  <tr>\n",
       "    <td>Flight No</td>\n",
       "    <td>Launch site</td> \n",
       "    <td>Payload mass</td>\n",
       "  </tr>\n",
       "  <tr>\n",
       "    <td>1</td>\n",
       "    <td>Florida</td>\n",
       "    <td>300 kg</td>\n",
       "  </tr>\n",
       "  <tr>\n",
       "    <td>2</td>\n",
       "    <td>Texas</td>\n",
       "    <td>94 kg</td>\n",
       "  </tr>\n",
       "  <tr>\n",
       "    <td>3</td>\n",
       "    <td>Florida </td>\n",
       "    <td>80 kg</td>\n",
       "  </tr>\n",
       "</table>\n",
       "</p>\n",
       "<p>\n",
       "\n",
       "<h3>Pizza Party  </h3>\n",
       "  \n",
       "    \n",
       "<table class='pizza'>\n",
       "  <tr>\n",
       "    <td>Pizza Place</td>\n",
       "    <td>Orders</td> \n",
       "    <td>Slices </td>\n",
       "   </tr>\n",
       "  <tr>\n",
       "    <td>Domino's Pizza</td>\n",
       "    <td>10</td>\n",
       "    <td>100</td>\n",
       "  </tr>\n",
       "  <tr>\n",
       "    <td>Little Caesars</td>\n",
       "    <td>12</td>\n",
       "    <td >144 </td>\n",
       "  </tr>\n",
       "  <tr>\n",
       "    <td>Papa John's </td>\n",
       "    <td>15 </td>\n",
       "    <td>165</td>\n",
       "  </tr>\n"
      ],
      "text/plain": [
       "<IPython.core.display.HTML object>"
      ]
     },
     "metadata": {},
     "output_type": "display_data"
    }
   ],
   "source": [
    "%%html\n",
    "<h3>Rocket Launch </h3>\n",
    "\n",
    "<p>\n",
    "<table class='rocket'>\n",
    "  <tr>\n",
    "    <td>Flight No</td>\n",
    "    <td>Launch site</td> \n",
    "    <td>Payload mass</td>\n",
    "  </tr>\n",
    "  <tr>\n",
    "    <td>1</td>\n",
    "    <td>Florida</td>\n",
    "    <td>300 kg</td>\n",
    "  </tr>\n",
    "  <tr>\n",
    "    <td>2</td>\n",
    "    <td>Texas</td>\n",
    "    <td>94 kg</td>\n",
    "  </tr>\n",
    "  <tr>\n",
    "    <td>3</td>\n",
    "    <td>Florida </td>\n",
    "    <td>80 kg</td>\n",
    "  </tr>\n",
    "</table>\n",
    "</p>\n",
    "<p>\n",
    "\n",
    "<h3>Pizza Party  </h3>\n",
    "  \n",
    "    \n",
    "<table class='pizza'>\n",
    "  <tr>\n",
    "    <td>Pizza Place</td>\n",
    "    <td>Orders</td> \n",
    "    <td>Slices </td>\n",
    "   </tr>\n",
    "  <tr>\n",
    "    <td>Domino's Pizza</td>\n",
    "    <td>10</td>\n",
    "    <td>100</td>\n",
    "  </tr>\n",
    "  <tr>\n",
    "    <td>Little Caesars</td>\n",
    "    <td>12</td>\n",
    "    <td >144 </td>\n",
    "  </tr>\n",
    "  <tr>\n",
    "    <td>Papa John's </td>\n",
    "    <td>15 </td>\n",
    "    <td>165</td>\n",
    "  </tr>\n"
   ]
  },
  {
   "cell_type": "markdown",
   "metadata": {},
   "source": [
    "We store the HTML as a Python string and assign <code>two_tables</code>:\n"
   ]
  },
  {
   "cell_type": "code",
   "execution_count": 67,
   "metadata": {},
   "outputs": [],
   "source": [
    "two_tables=\"<h3>Rocket Launch </h3><p><table class='rocket'><tr><td>Flight No</td><td>Launch site</td> <td>Payload mass</td></tr><tr><td>1</td><td>Florida</td><td>300 kg</td></tr><tr><td>2</td><td>Texas</td><td>94 kg</td></tr><tr><td>3</td><td>Florida </td><td>80 kg</td></tr></table></p><p><h3>Pizza Party  </h3><table class='pizza'><tr><td>Pizza Place</td><td>Orders</td> <td>Slices </td></tr><tr><td>Domino's Pizza</td><td>10</td><td>100</td></tr><tr><td>Little Caesars</td><td>12</td><td >144 </td></tr><tr><td>Papa John's </td><td>15 </td><td>165</td></tr>\""
   ]
  },
  {
   "cell_type": "markdown",
   "metadata": {},
   "source": [
    "We create a <code>BeautifulSoup</code> object  <code>two_tables_bs</code>\n"
   ]
  },
  {
   "cell_type": "code",
   "execution_count": 68,
   "metadata": {},
   "outputs": [],
   "source": [
    "two_tables_soup = BeautifulSoup(two_tables, 'html.parser')"
   ]
  },
  {
   "cell_type": "markdown",
   "metadata": {},
   "source": [
    "We can find the first table using the tag name table\n"
   ]
  },
  {
   "cell_type": "code",
   "execution_count": 69,
   "metadata": {},
   "outputs": [],
   "source": [
    "first_table_object = two_tables_soup.find(\"table\")"
   ]
  },
  {
   "cell_type": "code",
   "execution_count": 70,
   "metadata": {},
   "outputs": [
    {
     "data": {
      "text/plain": [
       "<table class=\"rocket\"><tr><td>Flight No</td><td>Launch site</td> <td>Payload mass</td></tr><tr><td>1</td><td>Florida</td><td>300 kg</td></tr><tr><td>2</td><td>Texas</td><td>94 kg</td></tr><tr><td>3</td><td>Florida </td><td>80 kg</td></tr></table>"
      ]
     },
     "execution_count": 70,
     "metadata": {},
     "output_type": "execute_result"
    }
   ],
   "source": [
    "first_table_object"
   ]
  },
  {
   "cell_type": "markdown",
   "metadata": {},
   "source": [
    "We can filter on the class attribute to find the second table, but because class is a keyword in Python, we add an underscore.\n"
   ]
  },
  {
   "cell_type": "code",
   "execution_count": 71,
   "metadata": {
    "scrolled": true
   },
   "outputs": [
    {
     "data": {
      "text/plain": [
       "<table class=\"rocket\"><tr><td>Flight No</td><td>Launch site</td> <td>Payload mass</td></tr><tr><td>1</td><td>Florida</td><td>300 kg</td></tr><tr><td>2</td><td>Texas</td><td>94 kg</td></tr><tr><td>3</td><td>Florida </td><td>80 kg</td></tr></table>"
      ]
     },
     "execution_count": 71,
     "metadata": {},
     "output_type": "execute_result"
    }
   ],
   "source": [
    "class_object = two_tables_soup.find(\"table\", class_=\"rocket\")\n",
    "class_object"
   ]
  },
  {
   "cell_type": "code",
   "execution_count": 72,
   "metadata": {},
   "outputs": [
    {
     "data": {
      "text/plain": [
       "<table class=\"pizza\"><tr><td>Pizza Place</td><td>Orders</td> <td>Slices </td></tr><tr><td>Domino's Pizza</td><td>10</td><td>100</td></tr><tr><td>Little Caesars</td><td>12</td><td>144 </td></tr><tr><td>Papa John's </td><td>15 </td><td>165</td></tr></table>"
      ]
     },
     "execution_count": 72,
     "metadata": {},
     "output_type": "execute_result"
    }
   ],
   "source": [
    "class_object = two_tables_soup.find(\"table\",class_=\"pizza\")\n",
    "class_object"
   ]
  },
  {
   "cell_type": "code",
   "execution_count": 73,
   "metadata": {},
   "outputs": [
    {
     "data": {
      "text/plain": [
       "bs4.element.Tag"
      ]
     },
     "execution_count": 73,
     "metadata": {},
     "output_type": "execute_result"
    }
   ],
   "source": [
    "type(class_object)"
   ]
  },
  {
   "cell_type": "code",
   "execution_count": 80,
   "metadata": {
    "scrolled": true
   },
   "outputs": [
    {
     "data": {
      "text/plain": [
       "<list_iterator at 0x7fb1b85a2890>"
      ]
     },
     "execution_count": 80,
     "metadata": {},
     "output_type": "execute_result"
    }
   ],
   "source": [
    "class_object.children"
   ]
  },
  {
   "cell_type": "code",
   "execution_count": 79,
   "metadata": {
    "scrolled": true
   },
   "outputs": [
    {
     "name": "stdout",
     "output_type": "stream",
     "text": [
      "<tr><td>Pizza Place</td><td>Orders</td> <td>Slices </td></tr>\n",
      "<tr><td>Domino's Pizza</td><td>10</td><td>100</td></tr>\n",
      "<tr><td>Little Caesars</td><td>12</td><td>144 </td></tr>\n",
      "<tr><td>Papa John's </td><td>15 </td><td>165</td></tr>\n"
     ]
    }
   ],
   "source": [
    "for d in class_object.children:\n",
    "    print(d)"
   ]
  },
  {
   "cell_type": "code",
   "execution_count": 82,
   "metadata": {},
   "outputs": [
    {
     "name": "stdout",
     "output_type": "stream",
     "text": [
      "<td>Pizza Place</td>\n",
      "<td>Orders</td>\n",
      "<td>Slices </td>\n",
      "<td>Domino's Pizza</td>\n",
      "<td>10</td>\n",
      "<td>100</td>\n",
      "<td>Little Caesars</td>\n",
      "<td>12</td>\n",
      "<td>144 </td>\n",
      "<td>Papa John's </td>\n",
      "<td>15 </td>\n",
      "<td>165</td>\n"
     ]
    }
   ],
   "source": [
    "for d in class_object.descendants:\n",
    "    if d.name == \"td\":\n",
    "        print (d)"
   ]
  },
  {
   "cell_type": "markdown",
   "metadata": {},
   "source": [
    "<h2 id=\"DSCW\">Downloading And Scraping The Contents Of A Web Page</h2> \n"
   ]
  },
  {
   "cell_type": "markdown",
   "metadata": {},
   "source": [
    "We Download the contents of the web page:\n"
   ]
  },
  {
   "cell_type": "code",
   "execution_count": 2,
   "metadata": {},
   "outputs": [],
   "source": [
    "url = \"http://www.ibm.com\""
   ]
  },
  {
   "cell_type": "markdown",
   "metadata": {},
   "source": [
    "We use <code>get</code> to download the contents of the webpage in text format and store in a variable called <code>data</code>:\n"
   ]
  },
  {
   "cell_type": "code",
   "execution_count": 3,
   "metadata": {
    "scrolled": true
   },
   "outputs": [],
   "source": [
    "data = requests.get(url).text"
   ]
  },
  {
   "cell_type": "markdown",
   "metadata": {},
   "source": [
    "We create a <code>BeautifulSoup</code> object using the <code>BeautifulSoup</code> constructor\n"
   ]
  },
  {
   "cell_type": "code",
   "execution_count": 4,
   "metadata": {},
   "outputs": [],
   "source": [
    "soup = BeautifulSoup(data,\"html.parser\")  # create a soup object using the variable 'data'"
   ]
  },
  {
   "cell_type": "code",
   "execution_count": 5,
   "metadata": {
    "scrolled": true
   },
   "outputs": [
    {
     "name": "stdout",
     "output_type": "stream",
     "text": [
      "<!DOCTYPE HTML>\n",
      "<html lang=\"en\">\n",
      " <head>\n",
      "  <meta charset=\"utf-8\"/>\n",
      "  <meta content=\"en\" name=\"languageCode\"/>\n",
      "  <meta content=\"us\" name=\"countryCode\"/>\n",
      "  <meta content=\"IBM - United States\" name=\"searchTitle\"/>\n",
      "  <meta content=\"Cross IBM - All\" name=\"focusArea\"/>\n",
      "  <title>\n",
      "   IBM - United States\n",
      "  </title>\n",
      "  <script type=\"module\">\n",
      "   window.RUM_BASE = 'https://rum.hlx.page/';\n",
      "  import { sampleRUM } from 'https://rum.hlx.page/.rum/@adobe/helix-rum-js@%5E2/src/index.js';\n",
      "  window.hlx = window.hlx || {};\n",
      "  window.hlx.sampleRUM = sampleRUM;\n",
      "  sampleRUM();\n",
      "  </script>\n",
      "  <link href=\"/content/dam/adobe-cms/default-images/favicon.svg\" rel=\"icon\"/>\n",
      "  <meta content=\"For more than a century, IBM has been a global technology innovator, leading advances in AI, automation and hybrid cloud solutions that help businesses grow.\" name=\"description\"/>\n",
      "  <meta content=\"full-width-layout\" name=\"template\"/>\n",
      "  <meta content=\"width=device-width, initial-scale=1\" name=\"viewport\"/>\n",
      "  <meta content=\"index, follow, max-image-preview:large\" name=\"robots\"/>\n",
      "  <link href=\"https://www.ibm.com/\" rel=\"canonical\"/>\n",
      "  <style id=\"anti-flicker-style\">\n",
      "   :not(:defined) {\n",
      "          visibility: hidden;\n",
      "        }\n",
      "  </style>\n",
      "  <!--    <sly data-sly-test=\"false\">\n",
      "        <link href=\"//1.www.s81c.com/common/v18/css/www.css\" rel=\"preload\" as=\"style\"/>\n",
      "        <link rel=\"stylesheet\" href=\"//1.www.s81c.com/common/v18/css/www.css\" media=\"all\"/>\n",
      "        <link href=\"//1.www.s81c.com/common/v18/css/grid-fluid.css\" rel=\"preload\" as=\"style\"/>\n",
      "        <link rel=\"stylesheet\" href=\"//1.www.s81c.com/common/v18/css/grid-fluid.css\" media=\"all\"/>\n",
      "        <link href=\"//1.www.s81c.com/common/v19a/css/www.css\" rel=\"stylesheet\"/>\n",
      "    </sly>-->\n",
      "  <script async=\"async\" src=\"https://assets.adobedtm.com/0f2de1d5b89a/565c2aeb0d39/launch-560e54b3e83c.min.js\" type=\"text/javascript\">\n",
      "  </script>\n",
      "  <script async=\"async\" type=\"text/javascript\">\n",
      "   var adobeDataLayer = window.adobeDataLayer || [];\n",
      "  </script>\n",
      "  <script type=\"text/javascript\">\n",
      "   window.searchKey = {\n",
      "            templateName: 'full\\u002Dwidth\\u002Dlayout',\n",
      "            taxonomylist: 'taxonomy : Brands \\/ IBM',\n",
      "            L0Tag: 'Topics,Brands,Industries,Geography,Compliance Entities,Products,Events,Computer Languages,Content Format,Series,Content Type,CMaaS Focus Areas,brands,Deployment Types,Product Types,Search Index',\n",
      "        }\n",
      "  </script>\n",
      "  <link href=\"https://www.ibm.com/sa-ar\" hreflang=\"ar-sa\" rel=\"alternate\"/>\n",
      "  <link href=\"https://www.ibm.com/de-de\" hreflang=\"de-de\" rel=\"alternate\"/>\n",
      "  <link href=\"https://www.ibm.com/\" hreflang=\"en-us\" rel=\"alternate\"/>\n",
      "  <link href=\"https://www.ibm.com/ca-en\" hreflang=\"en-ca\" rel=\"alternate\"/>\n",
      "  <link href=\"https://www.ibm.com/kr-ko\" hreflang=\"ko-kr\" rel=\"alternate\"/>\n",
      "  <link href=\"https://www.ibm.com/br-pt\" hreflang=\"pt-br\" rel=\"alternate\"/>\n",
      "  <link href=\"https://www.ibm.com/in-en\" hreflang=\"en-in\" rel=\"alternate\"/>\n",
      "  <link href=\"https://www.ibm.com/es-es\" hreflang=\"es-es\" rel=\"alternate\"/>\n",
      "  <link href=\"https://www.ibm.com/cn-zh\" hreflang=\"zh-cn\" rel=\"alternate\"/>\n",
      "  <link href=\"https://www.ibm.com/mx-es\" hreflang=\"es-mx\" rel=\"alternate\"/>\n",
      "  <link href=\"https://www.ibm.com/ca-fr\" hreflang=\"fr-ca\" rel=\"alternate\"/>\n",
      "  <link href=\"https://www.ibm.com/it-it\" hreflang=\"it-it\" rel=\"alternate\"/>\n",
      "  <link href=\"https://www.ibm.com/id-id\" hreflang=\"id-id\" rel=\"alternate\"/>\n",
      "  <link href=\"https://www.ibm.com/au-en\" hreflang=\"en-au\" rel=\"alternate\"/>\n",
      "  <link href=\"https://www.ibm.com/uk-en\" hreflang=\"en-uk\" rel=\"alternate\"/>\n",
      "  <link href=\"https://www.ibm.com/fr-fr\" hreflang=\"fr-fr\" rel=\"alternate\"/>\n",
      "  <link href=\"https://www.ibm.com/jp-ja\" hreflang=\"ja-jp\" rel=\"alternate\"/>\n",
      "  <script type=\"text/javascript\">\n",
      "   window.antiFlicker = {\n",
      "            active: true,\n",
      "            timeout: 3000\n",
      "        }\n",
      "  </script>\n",
      "  <script type=\"text/javascript\">\n",
      "   var languageCode = document.getElementsByName('languageCode')[0].content;\n",
      "        var countryCode = document.getElementsByName('countryCode')[0].content;\n",
      "        var focusArea = document.getElementsByName('focusArea')[0].content;\n",
      "        /* Define digital data object based on _appInfo object */\n",
      "          window._ibmAnalytics = {\n",
      "              settings: {\n",
      "                 name: \"AEM Sites\",\n",
      "                 tealiumProfileName: \"aem-sites\"\n",
      "              },\n",
      "           };\n",
      "        window.digitalData = {\n",
      "            page: {\n",
      "                category: {\n",
      "                    primaryCategory: '',\n",
      "                },\n",
      "                pageInfo: {\n",
      "                    language: languageCode + '-' + countryCode,\n",
      "                    ibm: {\n",
      "                        siteID: 'MarketingAEM',\n",
      "                        country: countryCode,\n",
      "                        messaging: {\n",
      "                            routing: {\n",
      "                                focusArea: focusArea,\n",
      "                                languageCode: languageCode,\n",
      "                                regionCode: countryCode\n",
      "                            },\n",
      "                            translation: {\n",
      "                                languageCode: languageCode,\n",
      "                                regionCode: countryCode\n",
      "                            }\n",
      "                        },\n",
      "                        sections: 0,\n",
      "                        patterns: 0,\n",
      "                    },\n",
      "                    carbon: {\n",
      "                        '@carbon/web-components': 'v1.47.1',\n",
      "                        '@carbon/ibmdotcom-web-components': 'v1.51.1',\n",
      "                        'carbon-for-aem': 'v0.19.0',\n",
      "                    },\n",
      "                },\n",
      "            },\n",
      "        };\n",
      "  </script>\n",
      "  <!-- Instana script specific to Dev environment start -->\n",
      "  <!--      <script>\n",
      "          (function(s,t,a,n){s[t]||(s[t]=a,n=s[a]=function(){n.q.push(arguments)},\n",
      "          n.q=[],n.v=2,n.l=1*new Date)})(window,\"InstanaEumObject\",\"ineum\");\n",
      "\n",
      "          ineum('reportingUrl', 'https://eum-orange-saas.instana.io');\n",
      "          ineum('key', 'mFJnYtpBSiCKl9zenWHXtg');\n",
      "          ineum('trackSessions');\n",
      "      </script>\n",
      "      <script defer crossorigin=\"anonymous\" src=https://eum.instana.io/1.7.2/eum.min.js\n",
      "              integrity=\"sha384-cgeSlevgebehPauohUhsnAeBrpjXzaj94mSv3L2EXjCQH0RRb9xSQ2ErGOWkthIJ\"></script>-->\n",
      "  <!-- Instana script specific to Dev environment end -->\n",
      "  <meta content=\"https://www.ibm.com/\" property=\"og:url\"/>\n",
      "  <meta content=\"website\" property=\"og:type\"/>\n",
      "  <meta content=\"IBM - United States\" property=\"og:title\"/>\n",
      "  <meta content=\"For more than a century, IBM has been a global technology innovator, leading advances in AI, automation and hybrid cloud solutions that help businesses grow.\" property=\"og:description\"/>\n",
      "  <meta content=\"https://www.ibm.com/content/dam/connectedassets-adobe-cms/worldwide-content/creative-assets/s-migr/ul/g/18/f9/ibm_logo_pos_blue60_rgb.png/_jcr_content/renditions/cq5dam.web.1280.1280.png\" property=\"og:image\"/>\n",
      "  <script async=\"async\" src=\"https://1.www.s81c.com/common/stats/ibm-common.js\" type=\"text/javascript\">\n",
      "  </script>\n",
      "  <script src=\"https://hybrid-cloud-widgets-production.s3.us.cloud-object-storage.appdomain.cloud/loader.js\" type=\"application/javascript\">\n",
      "  </script>\n",
      "  <link href=\"/etc.clientlibs/adobe-cms/clientlibs/clientlib-idlStylesCarbon.lc-92a431776e26f162dd2424f414af0c9a-lc.min.css\" rel=\"stylesheet\" type=\"text/css\"/>\n",
      "  <link href=\"/etc.clientlibs/adobe-cms/clientlibs/clientlib-idlStyles.lc-781111ab1b5d0bf5e1a3598eac05aba5-lc.min.css\" rel=\"stylesheet\" type=\"text/css\"/>\n",
      "  <link href=\"https://1.www.s81c.com/common/carbon-for-ibm-dotcom/tag/v1/latest/plex.css\" rel=\"stylesheet\">\n",
      "   <link href=\"https://1.www.s81c.com/common/carbon/plex/sans.css\" rel=\"stylesheet\">\n",
      "    <link href=\"/etc.clientlibs/adobe-cms/clientlibs/clientlib-pdfviewer.lc-c79c6cf22a5b660f493131a4be3ded5f-lc.min.css\" rel=\"stylesheet\" type=\"text/css\"/>\n",
      "   </link>\n",
      "  </link>\n",
      " </head>\n",
      " <body class=\"content-page page basicpage publish\" data-fullwidthtemplate=\"true\" id=\"content-page-c8104b3589\">\n",
      "  <dds-video-cta-container>\n",
      "   <div class=\"root container responsivegrid\">\n",
      "    <div class=\"cmp-container\" id=\"container-9225520bd9\">\n",
      "     <div class=\"masthead\">\n",
      "      <c4d-masthead-container auth-method=\"profile-api\" data-endpoint=\"#\" has-contact=\"true\" has-profile=\"\" has-search=\"\">\n",
      "      </c4d-masthead-container>\n",
      "      <script src=\"https://1.www.s81c.com/common/carbon-for-ibm-dotcom/version/v2.15.0/masthead.min.js\" type=\"module\">\n",
      "      </script>\n",
      "      <script>\n",
      "       let l0Json = \"{\\x22profileMenu\\x22:{\\x22signedout\\x22:[{\\x22title\\x22:\\x22My IBM\\x22,\\x22url\\x22:\\x22https:\\/\\/myibm.ibm.com\\/?lnk=mmi\\x22},{\\x22title\\x22:\\x22Log in\\x22,\\x22url\\x22:\\x22https:\\/\\/login.ibm.com\\/oidc\\/endpoint\\/default\\/authorize?redirect_uri=https%3A%2F%2Fmyibm.ibm.com%2FOIDCHandler.html\\x26response_type=token\\x26client_id=v18LoginProdCI\\x26scope=openid\\x26state=https%3A%2F%2Fwww.ibm.com\\x26nonce=8675309\\x22}],\\x22signedin\\x22:[{\\x22title\\x22:\\x22My IBM\\x22,\\x22url\\x22:\\x22https:\\/\\/myibm.ibm.com\\/?lnk=mmi\\x22},{\\x22title\\x22:\\x22Log in\\x22,\\x22url\\x22:\\x22https:\\/\\/login.ibm.com\\/oidc\\/endpoint\\/default\\/authorize?redirect_uri=https%3A%2F%2Fmyibm.ibm.com%2FOIDCHandler.html\\x26response_type=token\\x26client_id=v18LoginProdCI\\x26scope=openid\\x26state=https%3A%2F%2Fwww.ibm.com\\x26nonce=8675309\\x22}]},\\x22mastheadNav\\x22:{\\x22links\\x22:[{\\x22title\\x22:\\x22Products\\x22,\\x22url\\x22:\\x22\\x22,\\x22submenu\\x22:{\\x22sections\\x22:[{\\x22heading\\x22:{\\x22title\\x22:\\x22Featured\\x22,\\x22description\\x22:\\x22\\x22},\\x22groups\\x22:[{\\x22heading\\x22:{\\x22title\\x22:\\x22\\x22,\\x22description\\x22:\\x22\\x22},\\x22links\\x22:[{\\x22title\\x22:\\x22API Connect\\x22,\\x22url\\x22:\\x22https:\\/\\/www.ibm.com\\/products\\/api\\u002Dconnect?lnk=flatitem\\x26useXF\\u002D11\\u002D7\\u002D24=true\\x22,\\x22description\\x22:\\x22Software to rapidly create, protect, socialize and manage APIs\\x22},{\\x22title\\x22:\\x22Concert\\x22,\\x22url\\x22:\\x22https:\\/\\/www.ibm.com\\/products\\/concert?lnk=flatitem\\x22,\\x22description\\x22:\\x22AI to analyze and manage IT infrastructure using natural language\\x22},{\\x22title\\x22:\\x22Environmental Intelligence\\x22,\\x22url\\x22:\\x22https:\\/\\/www.ibm.com\\/products\\/environmental\\u002Dintelligence?lnk=flatitem\\x22,\\x22description\\x22:\\x22SaaS for predicting and responding to weather and climate events\\x22},{\\x22title\\x22:\\x22Envizi\\x22,\\x22url\\x22:\\x22https:\\/\\/www.ibm.com\\/products\\/envizi?lnk=flatitem\\x22,\\x22description\\x22:\\x22ESG data management, reporting and analysis SaaS\\x22},{\\x22title\\x22:\\x22FlashSystem\\x22,\\x22url\\x22:\\x22https:\\/\\/www.ibm.com\\/flashsystem?lnk=flatitem\\x22,\\x22description\\x22:\\x22Primary storage for performance and latency sensitive workloads\\x22},{\\x22title\\x22:\\x22Hybrid Cloud Mesh\\x22,\\x22url\\x22:\\x22https:\\/\\/www.ibm.com\\/products\\/hybrid\\u002Dcloud\\u002Dmesh?lnk=flatitem\\x22,\\x22description\\x22:\\x22SaaS for deploying and managing hybrid and multicloud networks\\x22},{\\x22title\\x22:\\x22IBM Cloud\\x22,\\x22url\\x22:\\x22https:\\/\\/www.ibm.com\\/cloud?lnk=flatitem\\x22,\\x22description\\x22:\\x22On\\u002Ddemand cloud computing platform and APIs\\x22},{\\x22title\\x22:\\x22IBM Z\\x22,\\x22url\\x22:\\x22https:\\/\\/www.ibm.com\\/z?lnk=flatitem\\x22,\\x22description\\x22:\\x22Flagship mainframe with on\\u002Dchip AI and quantum\\u002Dsafe cryptography\\x22},{\\x22title\\x22:\\x22Instana\\x22,\\x22url\\x22:\\x22https:\\/\\/www.ibm.com\\/products\\/instana?lnk=flatitem\\x22,\\x22description\\x22:\\x22Software for application performance monitoring and automation\\x22},{\\x22title\\x22:\\x22MaaS360\\x22,\\x22url\\x22:\\x22https:\\/\\/www.ibm.com\\/products\\/maas360?lnk=flatitem\\x22,\\x22description\\x22:\\x22Unified endpoint management software for many device types\\x22},{\\x22title\\x22:\\x22Maximo\\x22,\\x22url\\x22:\\x22https:\\/\\/www.ibm.com\\/products\\/maximo?lnk=flatitem\\x22,\\x22description\\x22:\\x22Software for asset management and related workflows\\x22},{\\x22title\\x22:\\x22Planning Analytics\\x22,\\x22url\\x22:\\x22https:\\/\\/www.ibm.com\\/products\\/planning\\u002Danalytics?lnk=flatitem\\x22,\\x22description\\x22:\\x22Software to automate financial and operational planning\\x22},{\\x22title\\x22:\\x22Robotic Process Automation (RPA)\\x22,\\x22url\\x22:\\x22https:\\/\\/www.ibm.com\\/products\\/robotic\\u002Dprocess\\u002Dautomation?lnk=flatitem\\x22,\\x22description\\x22:\\x22Software to automate workflows and business processes\\x22},{\\x22title\\x22:\\x22Storage Defender\\x22,\\x22url\\x22:\\x22https:\\/\\/www.ibm.com\\/products\\/storage\\u002Ddefender?lnk=flatitem\\x22,\\x22description\\x22:\\x22Data resiliency software for threat detection and data recovery\\x22},{\\x22title\\x22:\\x22Turbonomic\\x22,\\x22url\\x22:\\x22https:\\/\\/www.ibm.com\\/products\\/turbonomic?lnk=flatitem\\x22,\\x22description\\x22:\\x22Software to manage and optimize IT resource usage\\x22},{\\x22title\\x22:\\x22watsonx\\x22,\\x22url\\x22:\\x22https:\\/\\/www.ibm.com\\/watsonx?lnk=flatitem\\x22,\\x22description\\x22:\\x22AI and data platform\\x22},{\\x22title\\x22:\\x22watsonx Assistant\\x22,\\x22url\\x22:\\x22https:\\/\\/www.ibm.com\\/products\\/watsonx\\u002Dassistant?lnk=flatitem\\x22,\\x22description\\x22:\\x22Virtual agents customizable to any domain\\x22},{\\x22title\\x22:\\x22watsonx Orchestrate\\x22,\\x22url\\x22:\\x22https:\\/\\/www.ibm.com\\/products\\/watsonx\\u002Dorchestrate?lnk=flatitem\\x22,\\x22description\\x22:\\x22Personal\\u002Dassistant software that automates repetitive tasks\\x22}]}]},{\\x22heading\\x22:{\\x22title\\x22:\\x22AI \\x26 machine learning\\x22,\\x22url\\x22:\\x22https:\\/\\/www.ibm.com\\/artificial\\u002Dintelligence?lnk=flathl\\x22,\\x22description\\x22:\\x22Use IBM Watson’s AI or build your own machine learning models\\x22},\\x22groups\\x22:[{\\x22heading\\x22:{\\x22title\\x22:\\x22\\x22,\\x22description\\x22:\\x22\\x22},\\x22links\\x22:[{\\x22title\\x22:\\x22Cloud Pak for AIOps\\x22,\\x22url\\x22:\\x22https:\\/\\/www.ibm.com\\/products\\/cloud\\u002Dpak\\u002Dfor\\u002Daiops?lnk=flatitem\\x22,\\x22description\\x22:\\x22DevOps management tool with AI analysis and recommendations\\x22},{\\x22title\\x22:\\x22Cloud Pak for Data\\x22,\\x22url\\x22:\\x22https:\\/\\/www.ibm.com\\/products\\/cloud\\u002Dpak\\u002Dfor\\u002Ddata?lnk=flatitem\\x22,\\x22description\\x22:\\x22Tools for data analysis, organization and management\\x22},{\\x22title\\x22:\\x22Knowledge Catalog\\x22,\\x22url\\x22:\\x22https:\\/\\/www.ibm.com\\/products\\/knowledge\\u002Dcatalog?lnk=flatitem\\x22,\\x22description\\x22:\\x22SaaS to catalog data, AI models, metadata, policies and more\\x22},{\\x22title\\x22:\\x22Watson Discovery\\x22,\\x22url\\x22:\\x22https:\\/\\/www.ibm.com\\/products\\/watson\\u002Ddiscovery?lnk=flatitem\\x22,\\x22description\\x22:\\x22AI to search in and answer questions about business documents\\x22},{\\x22title\\x22:\\x22Watson Natural Language Understanding\\x22,\\x22url\\x22:\\x22https:\\/\\/www.ibm.com\\/products\\/natural\\u002Dlanguage\\u002Dunderstanding?lnk=flatitem\\x22,\\x22description\\x22:\\x22API for text analysis and metadata extraction\\x22},{\\x22title\\x22:\\x22Watson Speech to Text\\x22,\\x22url\\x22:\\x22https:\\/\\/www.ibm.com\\/products\\/speech\\u002Dto\\u002Dtext?lnk=flatitem\\x22,\\x22description\\x22:\\x22API for real\\u002Dtime speech recognition and transcription\\x22},{\\x22title\\x22:\\x22Watson Studio\\x22,\\x22url\\x22:\\x22https:\\/\\/www.ibm.com\\/products\\/watson\\u002Dstudio?lnk=flatitem\\x22,\\x22description\\x22:\\x22IDE to build, run and manage AI models\\x22},{\\x22title\\x22:\\x22Watson Text to Speech\\x22,\\x22url\\x22:\\x22https:\\/\\/www.ibm.com\\/products\\/text\\u002Dto\\u002Dspeech?lnk=flatitem\\x22,\\x22description\\x22:\\x22API for real\\u002Dtime text to speech conversion\\x22},{\\x22title\\x22:\\x22Z Anomaly Analytics\\x22,\\x22url\\x22:\\x22https:\\/\\/www.ibm.com\\/products\\/z\\u002Danomaly\\u002Danalytics?lnk=flatitem\\x22,\\x22description\\x22:\\x22Operational anomaly detection software for mainframes\\x22},{\\x22title\\x22:\\x22watsonx\\x22,\\x22url\\x22:\\x22https:\\/\\/www.ibm.com\\/watsonx?lnk=flatitem\\x22,\\x22description\\x22:\\x22AI and data platform\\x22},{\\x22title\\x22:\\x22watsonx Assistant\\x22,\\x22url\\x22:\\x22https:\\/\\/www.ibm.com\\/products\\/watsonx\\u002Dassistant?lnk=flatitem\\x22,\\x22description\\x22:\\x22Virtual agents customizable to any domain\\x22},{\\x22title\\x22:\\x22watsonx Code Assistant\\x22,\\x22url\\x22:\\x22https:\\/\\/www.ibm.com\\/products\\/watsonx\\u002Dcode\\u002Dassistant?lnk=flatitem\\x22,\\x22description\\x22:\\x22AI tool to generate code\\x22},{\\x22title\\x22:\\x22watsonx Orders\\x22,\\x22url\\x22:\\x22https:\\/\\/www.ibm.com\\/products\\/watsonx\\u002Dorders?lnk=flatitem\\x22,\\x22description\\x22:\\x22AI voice agent for taking restaurant orders\\x22}]}]},{\\x22heading\\x22:{\\x22title\\x22:\\x22Analytics\\x22,\\x22url\\x22:\\x22https:\\/\\/www.ibm.com\\/analytics?lnk=flathl\\x22,\\x22description\\x22:\\x22Aggregate and analyze large datasets\\x22},\\x22groups\\x22:[{\\x22heading\\x22:{\\x22title\\x22:\\x22\\x22,\\x22description\\x22:\\x22\\x22},\\x22links\\x22:[{\\x22title\\x22:\\x22Business Analytics Enterprise\\x22,\\x22url\\x22:\\x22https:\\/\\/www.ibm.com\\/products\\/business\\u002Danalytics\\u002Denterprise?lnk=flatitem\\x22,\\x22description\\x22:\\x22Software for business planning and analysis\\x22},{\\x22title\\x22:\\x22CPLEX\\x22,\\x22url\\x22:\\x22https:\\/\\/www.ibm.com\\/products\\/ilog\\u002Dcplex\\u002Doptimization\\u002Dstudio?lnk=flatitem\\x22,\\x22description\\x22:\\x22Software to build and solve complex optimization models\\x22},{\\x22title\\x22:\\x22Cloud Pak for Data\\x22,\\x22url\\x22:\\x22https:\\/\\/www.ibm.com\\/products\\/cloud\\u002Dpak\\u002Dfor\\u002Ddata?lnk=flatitem\\x22,\\x22description\\x22:\\x22Tools for data analysis, organization and management\\x22},{\\x22title\\x22:\\x22Cognos Analytics\\x22,\\x22url\\x22:\\x22https:\\/\\/www.ibm.com\\/products\\/cognos\\u002Danalytics?lnk=flatitem\\x22,\\x22description\\x22:\\x22Software for business intelligence and performance management\\x22},{\\x22title\\x22:\\x22Databand\\x22,\\x22url\\x22:\\x22https:\\/\\/www.ibm.com\\/products\\/databand?lnk=flatitem\\x22,\\x22description\\x22:\\x22Data observability software for data engineers and DataOps teams\\x22},{\\x22title\\x22:\\x22InfoSphere Information Server\\x22,\\x22url\\x22:\\x22https:\\/\\/www.ibm.com\\/information\\u002Dserver?lnk=flatitem\\x22,\\x22description\\x22:\\x22Data integration suite for ETL, governance and analysis\\x22},{\\x22title\\x22:\\x22Manta Data Lineage\\x22,\\x22url\\x22:\\x22https:\\/\\/www.ibm.com\\/products\\/manta\\u002Ddata\\u002Dlineage?lnk=flatitem\\x22,\\x22description\\x22:\\x22Software to visualize the flow of data from origin to consumption\\x22},{\\x22title\\x22:\\x22Netezza\\x22,\\x22url\\x22:\\x22https:\\/\\/www.ibm.com\\/products\\/netezza?lnk=flatitem\\x22,\\x22description\\x22:\\x22Data warehousing and analytics system on custom hardware\\x22},{\\x22title\\x22:\\x22Optim\\x22,\\x22url\\x22:\\x22https:\\/\\/www.ibm.com\\/infosphere\\u002Doptim?lnk=flatitem\\x22,\\x22description\\x22:\\x22Software to manage test, production, and archived data\\x22},{\\x22title\\x22:\\x22Planning Analytics\\x22,\\x22url\\x22:\\x22https:\\/\\/www.ibm.com\\/products\\/planning\\u002Danalytics?lnk=flatitem\\x22,\\x22description\\x22:\\x22Software to automate financial and operational planning\\x22},{\\x22title\\x22:\\x22SPSS\\x22,\\x22url\\x22:\\x22https:\\/\\/www.ibm.com\\/spss?lnk=flatitem\\x22,\\x22description\\x22:\\x22Software for statistical analysis and business intelligence\\x22},{\\x22title\\x22:\\x22Spectrum Computing\\x22,\\x22url\\x22:\\x22https:\\/\\/www.ibm.com\\/high\\u002Dperformance\\u002Dcomputing?lnk=flatitem\\x22,\\x22description\\x22:\\x22Software to optimize resources in complex computing clusters\\x22},{\\x22title\\x22:\\x22StreamSets\\x22,\\x22url\\x22:\\x22https:\\/\\/www.ibm.com\\/products\\/streamsets?lnk=flatitem\\x22,\\x22description\\x22:\\x22Graphical interface to build and manage streaming data pipelines\\x22},{\\x22title\\x22:\\x22Watson Discovery\\x22,\\x22url\\x22:\\x22https:\\/\\/www.ibm.com\\/products\\/watson\\u002Ddiscovery?lnk=flatitem\\x22,\\x22description\\x22:\\x22AI to search in and answer questions about business documents\\x22},{\\x22title\\x22:\\x22Watson Studio\\x22,\\x22url\\x22:\\x22https:\\/\\/www.ibm.com\\/products\\/watson\\u002Dstudio?lnk=flatitem\\x22,\\x22description\\x22:\\x22IDE to build, run and manage AI models\\x22}]}]},{\\x22heading\\x22:{\\x22title\\x22:\\x22Asset lifecycle management\\x22,\\x22description\\x22:\\x22Manage and maintain physical assets\\x22},\\x22groups\\x22:[{\\x22heading\\x22:{\\x22title\\x22:\\x22\\x22,\\x22description\\x22:\\x22\\x22},\\x22links\\x22:[{\\x22title\\x22:\\x22Environmental Intelligence\\x22,\\x22url\\x22:\\x22https:\\/\\/www.ibm.com\\/products\\/environmental\\u002Dintelligence?lnk=flatitem\\x22,\\x22description\\x22:\\x22SaaS for predicting and responding to weather and climate events\\x22},{\\x22title\\x22:\\x22Envizi\\x22,\\x22url\\x22:\\x22https:\\/\\/www.ibm.com\\/products\\/envizi?lnk=flatitem\\x22,\\x22description\\x22:\\x22ESG data management, reporting and analysis SaaS\\x22},{\\x22title\\x22:\\x22Maximo\\x22,\\x22url\\x22:\\x22https:\\/\\/www.ibm.com\\/products\\/maximo?lnk=flatitem\\x22,\\x22description\\x22:\\x22Software for asset management and related workflows\\x22},{\\x22title\\x22:\\x22TRIRIGA\\x22,\\x22url\\x22:\\x22https:\\/\\/www.ibm.com\\/products\\/tririga?lnk=flatitem\\x22,\\x22description\\x22:\\x22Software for real estate and workplace management\\x22}]}]},{\\x22heading\\x22:{\\x22title\\x22:\\x22Business automation\\x22,\\x22description\\x22:\\x22Automate workflows and business processes\\x22},\\x22groups\\x22:[{\\x22heading\\x22:{\\x22title\\x22:\\x22\\x22,\\x22description\\x22:\\x22\\x22},\\x22links\\x22:[{\\x22title\\x22:\\x22Blueworks Live\\x22,\\x22url\\x22:\\x22https:\\/\\/www.ibm.com\\/products\\/blueworkslive?lnk=flatitem\\x22,\\x22description\\x22:\\x22SaaS for collaboratively modeling business processes\\x22},{\\x22title\\x22:\\x22Business Automation Manager Open Editions\\x22,\\x22url\\x22:\\x22https:\\/\\/www.ibm.com\\/products\\/business\\u002Dautomation\\u002Dmanager\\u002Dopen\\u002Deditions?lnk=flatitem\\x22,\\x22description\\x22:\\x22Workflow automation and decision management software\\x22},{\\x22title\\x22:\\x22Business Automation Workflow\\x22,\\x22url\\x22:\\x22https:\\/\\/www.ibm.com\\/products\\/business\\u002Dautomation\\u002Dworkflow?lnk=flatitem\\x22,\\x22description\\x22:\\x22Cloud Pak for Business Automation add\\u002Don to automate workflows\\x22},{\\x22title\\x22:\\x22Cloud Pak for Business Automation\\x22,\\x22url\\x22:\\x22https:\\/\\/www.ibm.com\\/products\\/cloud\\u002Dpak\\u002Dfor\\u002Dbusiness\\u002Dautomation?lnk=flatitem\\x22,\\x22description\\x22:\\x22Operations management software with AI insights\\x22},{\\x22title\\x22:\\x22Datacap\\x22,\\x22url\\x22:\\x22https:\\/\\/www.ibm.com\\/products\\/data\\u002Dcapture\\u002Dand\\u002Dimaging?lnk=flatitem\\x22,\\x22description\\x22:\\x22Document management for IBM Cloud Pak for Business Automation\\x22},{\\x22title\\x22:\\x22Event Automation\\x22,\\x22url\\x22:\\x22https:\\/\\/www.ibm.com\\/products\\/event\\u002Dautomation?lnk=flatitem\\x22,\\x22description\\x22:\\x22No\\u002Dcode tool for building automated event driven workflows\\x22},{\\x22title\\x22:\\x22FileNet Content Manager\\x22,\\x22url\\x22:\\x22https:\\/\\/www.ibm.com\\/products\\/filenet\\u002Dcontent\\u002Dmanager?lnk=flatitem\\x22,\\x22description\\x22:\\x22Content management solution for Cloud Pak for Business Automation\\x22},{\\x22title\\x22:\\x22Operational Decision Manager\\x22,\\x22url\\x22:\\x22https:\\/\\/www.ibm.com\\/products\\/operational\\u002Ddecision\\u002Dmanager?lnk=flatitem\\x22,\\x22description\\x22:\\x22Cloud Pak for Business Automation addon for rule\\u002Dbased decisions\\x22},{\\x22title\\x22:\\x22Process Mining\\x22,\\x22url\\x22:\\x22https:\\/\\/www.ibm.com\\/products\\/process\\u002Dmining?lnk=flatitem\\x22,\\x22description\\x22:\\x22Software to extract process data from business applications\\x22},{\\x22title\\x22:\\x22Robotic Process Automation (RPA)\\x22,\\x22url\\x22:\\x22https:\\/\\/www.ibm.com\\/products\\/robotic\\u002Dprocess\\u002Dautomation?lnk=flatitem\\x22,\\x22description\\x22:\\x22Software to automate workflows and business processes\\x22},{\\x22title\\x22:\\x22watsonx Orchestrate\\x22,\\x22url\\x22:\\x22https:\\/\\/www.ibm.com\\/products\\/watsonx\\u002Dorchestrate?lnk=flatitem\\x22,\\x22description\\x22:\\x22Personal\\u002Dassistant software that automates repetitive tasks\\x22}]}]},{\\x22heading\\x22:{\\x22title\\x22:\\x22Containers\\x22,\\x22url\\x22:\\x22https:\\/\\/www.ibm.com\\/containers?lnk=flathl\\x22,\\x22description\\x22:\\x22Allocate compute infrastructure on demand\\x22},\\x22groups\\x22:[{\\x22heading\\x22:{\\x22title\\x22:\\x22\\x22,\\x22description\\x22:\\x22\\x22},\\x22links\\x22:[{\\x22title\\x22:\\x22Cloud Satellite\\x22,\\x22url\\x22:\\x22https:\\/\\/www.ibm.com\\/products\\/satellite?lnk=flatitem\\x22,\\x22description\\x22:\\x22Platform for running managed cloud services on any infrastructure\\x22},{\\x22title\\x22:\\x22Code Engine\\x22,\\x22url\\x22:\\x22https:\\/\\/www.ibm.com\\/products\\/code\\u002Dengine?lnk=flatitem\\x22,\\x22description\\x22:\\x22Managed serverless runtime for containers, batch jobs, or code\\x22},{\\x22title\\x22:\\x22Container Registry\\x22,\\x22url\\x22:\\x22https:\\/\\/www.ibm.com\\/products\\/container\\u002Dregistry?lnk=flatitem\\x22,\\x22description\\x22:\\x22Private SaaS registry for container storage and management\\x22},{\\x22title\\x22:\\x22Kubernetes Service\\x22,\\x22url\\x22:\\x22https:\\/\\/www.ibm.com\\/products\\/kubernetes\\u002Dservice?lnk=flatitem\\x22,\\x22description\\x22:\\x22Managed Kubernetes for high availability container deployments\\x22},{\\x22title\\x22:\\x22Red Hat OpenShift on IBM Cloud\\x22,\\x22url\\x22:\\x22https:\\/\\/www.ibm.com\\/products\\/openshift?lnk=flatitem\\x22,\\x22description\\x22:\\x22Managed service with tools for security, management and monitoring\\x22}]}]},{\\x22heading\\x22:{\\x22title\\x22:\\x22Databases\\x22,\\x22url\\x22:\\x22https:\\/\\/www.ibm.com\\/database?lnk=flathl\\x22,\\x22description\\x22:\\x22Store, query and analyze structured data\\x22},\\x22groups\\x22:[{\\x22heading\\x22:{\\x22title\\x22:\\x22\\x22,\\x22description\\x22:\\x22\\x22},\\x22links\\x22:[{\\x22title\\x22:\\x22Cloudant\\x22,\\x22url\\x22:\\x22https:\\/\\/www.ibm.com\\/products\\/cloudant?lnk=flatitem\\x22,\\x22description\\x22:\\x22Managed PCI\\u002Dcompliant JSON document store on Apache CouchDB\\x22},{\\x22title\\x22:\\x22Db2\\x22,\\x22url\\x22:\\x22https:\\/\\/www.ibm.com\\/products\\/db2\\u002Ddatabase?lnk=flatitem\\x22,\\x22description\\x22:\\x22Data management software including IBM Db2 Database\\x22},{\\x22title\\x22:\\x22Db2 for z\\/OS\\x22,\\x22url\\x22:\\x22https:\\/\\/www.ibm.com\\/products\\/db2\\u002Dfor\\u002Dzos?lnk=flatitem\\x22,\\x22description\\x22:\\x22IBM Db2 Database for IBM Z mainframes\\x22},{\\x22title\\x22:\\x22IBM Cloud Databases for Elastic Search\\x22,\\x22url\\x22:\\x22https:\\/\\/www.ibm.com\\/products\\/databases\\u002Dfor\\u002Delasticsearch?lnk=flatitem\\x22,\\x22description\\x22:\\x22JSON document store for full\\u002Dtext search\\x22},{\\x22title\\x22:\\x22IBM Cloud Databases for EnterpriseDB\\x22,\\x22url\\x22:\\x22https:\\/\\/www.ibm.com\\/products\\/databases\\u002Dfor\\u002Denterprisedb?lnk=flatitem\\x22,\\x22description\\x22:\\x22PostgreSQL with added performance, security and management features\\x22},{\\x22title\\x22:\\x22IBM Cloud Databases for MongoDB\\x22,\\x22url\\x22:\\x22https:\\/\\/www.ibm.com\\/products\\/databases\\u002Dfor\\u002Dmongodb?lnk=flatitem\\x22,\\x22description\\x22:\\x22Managed NoSQL JSON document store\\x22},{\\x22title\\x22:\\x22IBM Cloud Databases for MySQL\\x22,\\x22url\\x22:\\x22https:\\/\\/www.ibm.com\\/products\\/databases\\u002Dfor\\u002Dmysql?lnk=flatitem\\x22,\\x22description\\x22:\\x22Managed SQL database\\x22},{\\x22title\\x22:\\x22IBM Cloud Databases for PostgreSQL\\x22,\\x22url\\x22:\\x22https:\\/\\/www.ibm.com\\/products\\/databases\\u002Dfor\\u002Dpostgresql?lnk=flatitem\\x22,\\x22description\\x22:\\x22Managed SQL database with advanced features\\x22},{\\x22title\\x22:\\x22IBM Cloud Databases for etcd\\x22,\\x22url\\x22:\\x22https:\\/\\/www.ibm.com\\/products\\/databases\\u002Dfor\\u002Detcd?lnk=flatitem\\x22,\\x22description\\x22:\\x22Distributed key\\u002Dvalue store\\x22},{\\x22title\\x22:\\x22Information Management System (IMS)\\x22,\\x22url\\x22:\\x22https:\\/\\/www.ibm.com\\/products\\/ims?lnk=flatitem\\x22,\\x22description\\x22:\\x22Database and management system for high\\u002Dvolume transactions\\x22},{\\x22title\\x22:\\x22Informix\\x22,\\x22url\\x22:\\x22https:\\/\\/www.ibm.com\\/products\\/informix?lnk=flatitem\\x22,\\x22description\\x22:\\x22Embeddable database for SQL, NoSQL, time\\u002Dseries and spatial data\\x22}]}]},{\\x22heading\\x22:{\\x22title\\x22:\\x22DevOps\\x22,\\x22url\\x22:\\x22https:\\/\\/www.ibm.com\\/devops?lnk=flathl\\x22,\\x22description\\x22:\\x22Manage infrastructure, environments and deployments\\x22},\\x22groups\\x22:[{\\x22heading\\x22:{\\x22title\\x22:\\x22\\x22,\\x22description\\x22:\\x22\\x22},\\x22links\\x22:[{\\x22title\\x22:\\x22Application Delivery Foundation for z\\/OS\\x22,\\x22url\\x22:\\x22https:\\/\\/www.ibm.com\\/products\\/app\\u002Ddelivery\\u002Dfoundation\\u002Dfor\\u002Dzos?lnk=flatitem\\x22,\\x22description\\x22:\\x22Application development and DevOps tools for z\\/OS\\x22},{\\x22title\\x22:\\x22Application Discovery and Delivery Intelligence\\x22,\\x22url\\x22:\\x22https:\\/\\/www.ibm.com\\/products\\/app\\u002Ddiscovery\\u002Dand\\u002Ddelivery\\u002Dintelligence?lnk=flatitem\\x22,\\x22description\\x22:\\x22Analysis tool for visualizing applications, data and jobs on z\\/OS\\x22},{\\x22title\\x22:\\x22Cloud Continuous Delivery\\x22,\\x22url\\x22:\\x22https:\\/\\/www.ibm.com\\/products\\/continuous\\u002Ddelivery?lnk=flatitem\\x22,\\x22description\\x22:\\x22Toolchains to automate building and deploying applications\\x22},{\\x22title\\x22:\\x22Cloud Pak for AIOps\\x22,\\x22url\\x22:\\x22https:\\/\\/www.ibm.com\\/products\\/cloud\\u002Dpak\\u002Dfor\\u002Daiops?lnk=flatitem\\x22,\\x22description\\x22:\\x22DevOps management tool with AI analysis and recommendations\\x22},{\\x22title\\x22:\\x22DevOps Build\\x22,\\x22url\\x22:\\x22https:\\/\\/www.ibm.com\\/products\\/devops\\u002Dbuild?lnk=flatitem\\x22,\\x22description\\x22:\\x22Management tool for configuring and running software builds\\x22},{\\x22title\\x22:\\x22DevOps Code ClearCase\\x22,\\x22url\\x22:\\x22https:\\/\\/www.ibm.com\\/products\\/devops\\u002Dcode\\u002Dclearcase?lnk=flatitem\\x22,\\x22description\\x22:\\x22Configuration management system for software asset access control\\x22},{\\x22title\\x22:\\x22DevOps Deploy\\x22,\\x22url\\x22:\\x22https:\\/\\/www.ibm.com\\/products\\/devops\\u002Ddeploy?lnk=flatitem\\x22,\\x22description\\x22:\\x22Automation software for continuous delivery and deployment\\x22},{\\x22title\\x22:\\x22DevOps Test\\x22,\\x22url\\x22:\\x22https:\\/\\/www.ibm.com\\/products\\/devops\\u002Dtest?lnk=flatitem\\x22,\\x22description\\x22:\\x22Continuous testing and virtualization platform\\x22},{\\x22title\\x22:\\x22DevOps Velocity\\x22,\\x22url\\x22:\\x22https:\\/\\/www.ibm.com\\/products\\/devops\\u002Dvelocity?lnk=flatitem\\x22,\\x22description\\x22:\\x22Release management software for pipeline orchestration and analytics\\x22},{\\x22title\\x22:\\x22Engineering Lifecycle Management\\x22,\\x22url\\x22:\\x22https:\\/\\/www.ibm.com\\/products\\/engineering\\u002Dlifecycle\\u002Dmanagement?lnk=flatitem\\x22,\\x22description\\x22:\\x22Software for product and application lifecycle management\\x22},{\\x22title\\x22:\\x22IBM i Modernization Engine\\x22,\\x22url\\x22:\\x22https:\\/\\/www.ibm.com\\/products\\/ibm\\u002Di\\u002Dmerlin?lnk=flatitem\\x22,\\x22description\\x22:\\x22Development and modernization tools for IBM i applications\\x22},{\\x22title\\x22:\\x22Rational ClearQuest\\x22,\\x22url\\x22:\\x22https:\\/\\/www.ibm.com\\/products\\/rational\\u002Dclearquest?lnk=flatitem\\x22,\\x22description\\x22:\\x22Change management software\\x22},{\\x22title\\x22:\\x22Rational Software Architect Designer\\x22,\\x22url\\x22:\\x22https:\\/\\/www.ibm.com\\/products\\/rational\\u002Dsoftware\\u002Darchitect\\u002Ddesigner?lnk=flatitem\\x22,\\x22description\\x22:\\x22Tools to create, evaluate, and communicate software architecture\\x22},{\\x22title\\x22:\\x22Test Accelerator for Z\\x22,\\x22url\\x22:\\x22https:\\/\\/www.ibm.com\\/products\\/test\\u002Daccelerator\\u002Dz?lnk=flatitem\\x22,\\x22description\\x22:\\x22Test automation and test generation framework for z\\/OS\\x22}]}]},{\\x22heading\\x22:{\\x22title\\x22:\\x22IT automation\\x22,\\x22description\\x22:\\x22Automate IT infrastructure management\\x22},\\x22groups\\x22:[{\\x22heading\\x22:{\\x22title\\x22:\\x22\\x22,\\x22description\\x22:\\x22\\x22},\\x22links\\x22:[{\\x22title\\x22:\\x22Apptio\\x22,\\x22url\\x22:\\x22https:\\/\\/www.ibm.com\\/products\\/apptio?lnk=flatitem\\x22,\\x22description\\x22:\\x22Hybrid cloud financial management and planning software\\x22},{\\x22title\\x22:\\x22Cloud App Configuration\\x22,\\x22url\\x22:\\x22https:\\/\\/www.ibm.com\\/products\\/app\\u002Dconfiguration?lnk=flatitem\\x22,\\x22description\\x22:\\x22Feature management and configuration service for web and mobile apps\\x22},{\\x22title\\x22:\\x22Cloud App ID\\x22,\\x22url\\x22:\\x22https:\\/\\/www.ibm.com\\/products\\/app\\u002Did?lnk=flatitem\\x22,\\x22description\\x22:\\x22Authentication and user management service for web and mobile apps\\x22},{\\x22title\\x22:\\x22Cloud Monitoring\\x22,\\x22url\\x22:\\x22https:\\/\\/www.ibm.com\\/products\\/cloud\\u002Dmonitoring?lnk=flatitem\\x22,\\x22description\\x22:\\x22Hosted monitoring tool for organization\\u002Dwide system performance\\x22},{\\x22title\\x22:\\x22Cloud Pak for AIOps\\x22,\\x22url\\x22:\\x22https:\\/\\/www.ibm.com\\/products\\/cloud\\u002Dpak\\u002Dfor\\u002Daiops?lnk=flatitem\\x22,\\x22description\\x22:\\x22DevOps management tool with AI analysis and recommendations\\x22},{\\x22title\\x22:\\x22Cloud Schematics\\x22,\\x22url\\x22:\\x22https:\\/\\/www.ibm.com\\/products\\/schematics?lnk=flatitem\\x22,\\x22description\\x22:\\x22Management and provisionining of cloud infrastructure with code\\x22},{\\x22title\\x22:\\x22Concert\\x22,\\x22url\\x22:\\x22https:\\/\\/www.ibm.com\\/products\\/concert?lnk=flatitem\\x22,\\x22description\\x22:\\x22AI to analyze and manage IT infrastructure using natural language\\x22},{\\x22title\\x22:\\x22Event Notifications\\x22,\\x22url\\x22:\\x22https:\\/\\/www.ibm.com\\/products\\/event\\u002Dnotifications?lnk=flatitem\\x22,\\x22description\\x22:\\x22Notification and workflow automation service for IBM Cloud events\\x22},{\\x22title\\x22:\\x22Flexera One\\x22,\\x22url\\x22:\\x22https:\\/\\/www.ibm.com\\/products\\/flexera\\u002Done?lnk=flatitem\\x22,\\x22description\\x22:\\x22IT asset management software\\x22},{\\x22title\\x22:\\x22IBM Cloud Logs\\x22,\\x22url\\x22:\\x22https:\\/\\/www.ibm.com\\/products\\/cloud\\u002Dlogs?lnk=flatitem\\x22,\\x22description\\x22:\\x22Logging and observability service for applications and infrastructure\\x22},{\\x22title\\x22:\\x22Instana\\x22,\\x22url\\x22:\\x22https:\\/\\/www.ibm.com\\/products\\/instana?lnk=flatitem\\x22,\\x22description\\x22:\\x22Software for application performance monitoring and automation\\x22},{\\x22title\\x22:\\x22Turbonomic\\x22,\\x22url\\x22:\\x22https:\\/\\/www.ibm.com\\/products\\/turbonomic?lnk=flatitem\\x22,\\x22description\\x22:\\x22Software to manage and optimize IT resource usage\\x22},{\\x22title\\x22:\\x22Z IntelliMagic Vision for z\\/OS\\x22,\\x22url\\x22:\\x22https:\\/\\/www.ibm.com\\/products\\/z\\u002Dintellimagic\\u002Dvision\\u002Dfor\\u002Dzos?lnk=flatitem\\x22,\\x22description\\x22:\\x22nfrastructure performance management and monitoring software\\x22},{\\x22title\\x22:\\x22Z Service Management Suite\\x22,\\x22url\\x22:\\x22https:\\/\\/www.ibm.com\\/products\\/z\\u002Dservice\\u002Dmanagement\\u002Dsuite?lnk=flatitem\\x22,\\x22description\\x22:\\x22Monitoring, control, and automation suite for Z\\x22}]}]},{\\x22heading\\x22:{\\x22title\\x22:\\x22Middleware\\x22,\\x22description\\x22:\\x22Connect your applications, data and events\\x22},\\x22groups\\x22:[{\\x22heading\\x22:{\\x22title\\x22:\\x22\\x22,\\x22description\\x22:\\x22\\x22},\\x22links\\x22:[{\\x22title\\x22:\\x22API Connect\\x22,\\x22url\\x22:\\x22https:\\/\\/www.ibm.com\\/products\\/api\\u002Dconnect?lnk=flatitem\\x22,\\x22description\\x22:\\x22Software to rapidly create, protect, socialize and manage APIs\\x22},{\\x22title\\x22:\\x22App Connect\\x22,\\x22url\\x22:\\x22https:\\/\\/www.ibm.com\\/products\\/app\\u002Dconnect?lnk=flatitem\\x22,\\x22description\\x22:\\x22Codeless connectors for your data, apps and APIs\\x22},{\\x22title\\x22:\\x22Aspera\\x22,\\x22url\\x22:\\x22https:\\/\\/www.ibm.com\\/products\\/aspera?lnk=flatitem\\x22,\\x22description\\x22:\\x22System to transfer, sync or stream huge data globally\\x22},{\\x22title\\x22:\\x22CICS Transaction Server for z\\/OS\\x22,\\x22url\\x22:\\x22https:\\/\\/www.ibm.com\\/products\\/cics\\u002Dtransaction\\u002Dserver?lnk=flatitem\\x22,\\x22description\\x22:\\x22Application server for online transaction processing\\x22},{\\x22title\\x22:\\x22Cloud Pak for Applications\\x22,\\x22url\\x22:\\x22https:\\/\\/www.ibm.com\\/products\\/cloud\\u002Dpak\\u002Dfor\\u002Dapplications?lnk=flatitem\\x22,\\x22description\\x22:\\x22Kubernetes\\u002Dbased platform for hybrid cloud applications\\x22},{\\x22title\\x22:\\x22Cloud Pak for Integration\\x22,\\x22url\\x22:\\x22https:\\/\\/www.ibm.com\\/products\\/cloud\\u002Dpak\\u002Dfor\\u002Dintegration?lnk=flatitem\\x22,\\x22description\\x22:\\x22Tools to connect all of your apps, data and events\\x22},{\\x22title\\x22:\\x22DataPower\\x22,\\x22url\\x22:\\x22https:\\/\\/www.ibm.com\\/products\\/datapower\\u002Dgateway?lnk=flatitem\\x22,\\x22description\\x22:\\x22Physical or virtual multi\\u002Dprotocol network gateway\\x22},{\\x22title\\x22:\\x22Event Streams\\x22,\\x22url\\x22:\\x22https:\\/\\/www.ibm.com\\/products\\/event\\u002Dstreams?lnk=flatitem\\x22,\\x22description\\x22:\\x22PaaS stream processing based on Apache Kafka\\x22},{\\x22title\\x22:\\x22IBM Cloud Messages for RabbitMQ\\x22,\\x22url\\x22:\\x22https:\\/\\/www.ibm.com\\/products\\/messages\\u002Dfor\\u002Drabbitmq?lnk=flatitem\\x22,\\x22description\\x22:\\x22Managed open\\u002Dsource message broker\\x22},{\\x22title\\x22:\\x22IBM webMethods\\x22,\\x22url\\x22:\\x22https:\\/\\/www.ibm.com\\/products\\/webmethods?lnk=flatitem\\x22,\\x22description\\x22:\\x22iPaaS capabilities including app integration, API management, B2B integration and managed file transfer\\x22},{\\x22title\\x22:\\x22Information Management System\\x22,\\x22url\\x22:\\x22https:\\/\\/www.ibm.com\\/products\\/ims?lnk=flatitem\\x22,\\x22description\\x22:\\x22Hierarchical database and transaction processor for Z\\x22},{\\x22title\\x22:\\x22MQ\\x22,\\x22url\\x22:\\x22https:\\/\\/www.ibm.com\\/products\\/mq?lnk=flatitem\\x22,\\x22description\\x22:\\x22Software and hardware for messaging between distributed systems\\x22},{\\x22title\\x22:\\x22z\\/OS Connect\\x22,\\x22url\\x22:\\x22https:\\/\\/www.ibm.com\\/products\\/zos\\u002Dconnect?lnk=flatitem\\x22,\\x22description\\x22:\\x22Software to build and serve RESTful APIs to z\\/OS applications\\x22}]}]},{\\x22heading\\x22:{\\x22title\\x22:\\x22Network\\x22,\\x22url\\x22:\\x22https:\\/\\/www.ibm.com\\/networking?lnk=flathl\\x22,\\x22description\\x22:\\x22Run and manage public, private and virtual networks\\x22},\\x22groups\\x22:[{\\x22heading\\x22:{\\x22title\\x22:\\x22\\x22,\\x22description\\x22:\\x22\\x22},\\x22links\\x22:[{\\x22title\\x22:\\x22Cloud Pak for Network Automation\\x22,\\x22url\\x22:\\x22https:\\/\\/www.ibm.com\\/products\\/cloud\\u002Dpak\\u002Dfor\\u002Dnetwork\\u002Dautomation?lnk=flatitem\\x22,\\x22description\\x22:\\x22Management software for telco network operations\\x22},{\\x22title\\x22:\\x22Hybrid Cloud Mesh\\x22,\\x22url\\x22:\\x22https:\\/\\/www.ibm.com\\/products\\/hybrid\\u002Dcloud\\u002Dmesh?lnk=flatitem\\x22,\\x22description\\x22:\\x22SaaS for deploying and managing hybrid and multicloud networks\\x22},{\\x22title\\x22:\\x22NS1 Connect\\x22,\\x22url\\x22:\\x22https:\\/\\/www.ibm.com\\/products\\/ns1\\u002Dconnect?lnk=flatitem\\x22,\\x22description\\x22:\\x22Authoritative DNS and traffic steering as a service\\x22},{\\x22title\\x22:\\x22Rapid Network Automation\\x22,\\x22url\\x22:\\x22https:\\/\\/www.ibm.com\\/products\\/rapid\\u002Dnetwork\\u002Dautomation?lnk=flatitem\\x22,\\x22description\\x22:\\x22No\\u002Dcode tool to build automation workflows across apps and APIs\\x22},{\\x22title\\x22:\\x22SevOne Network Performance Management\\x22,\\x22url\\x22:\\x22https:\\/\\/www.ibm.com\\/products\\/sevone\\u002Dnetwork\\u002Dperformance\\u002Dmanagement?lnk=flatitem\\x22,\\x22description\\x22:\\x22Software to collect and analyze network performance data\\x22}]}]},{\\x22heading\\x22:{\\x22title\\x22:\\x22Operating systems\\x22,\\x22description\\x22:\\x22Run critical workloads on specialized operating systems\\x22},\\x22groups\\x22:[{\\x22heading\\x22:{\\x22title\\x22:\\x22\\x22,\\x22description\\x22:\\x22\\x22},\\x22links\\x22:[{\\x22title\\x22:\\x22AIX\\x22,\\x22url\\x22:\\x22https:\\/\\/www.ibm.com\\/products\\/aix?lnk=flatitem\\x22,\\x22description\\x22:\\x22UNIX operating system for Power servers\\x22},{\\x22title\\x22:\\x22IBM i\\x22,\\x22url\\x22:\\x22https:\\/\\/www.ibm.com\\/products\\/ibm\\u002Di?lnk=flatitem\\x22,\\x22description\\x22:\\x22Integrated operating system for Power servers\\x22},{\\x22title\\x22:\\x22Linux\\x22,\\x22url\\x22:\\x22https:\\/\\/www.ibm.com\\/linux?lnk=flatitem\\x22,\\x22description\\x22:\\x22Run Linux workloads on IBM servers\\x22},{\\x22title\\x22:\\x22z\\/OS\\x22,\\x22url\\x22:\\x22https:\\/\\/www.ibm.com\\/products\\/zos?lnk=flatitem\\x22,\\x22description\\x22:\\x22Flagship OS for continuous, high\\u002Dvolume mainframe operation\\x22},{\\x22title\\x22:\\x22z\\/TPF\\x22,\\x22url\\x22:\\x22https:\\/\\/www.ibm.com\\/products\\/z\\u002Dtransaction\\u002Dprocessing\\u002Dfacility?lnk=flatitem\\x22,\\x22description\\x22:\\x22Real\\u002Dtime operating system for mainframes\\x22},{\\x22title\\x22:\\x22z\\/VM\\x22,\\x22url\\x22:\\x22https:\\/\\/www.ibm.com\\/products\\/zvm?lnk=flatitem\\x22,\\x22description\\x22:\\x22Hypervisor and virtualization software for IBM Z and LinuxONE\\x22}]}]},{\\x22heading\\x22:{\\x22title\\x22:\\x22Quantum\\x22,\\x22url\\x22:\\x22https:\\/\\/www.ibm.com\\/quantum?lnk=flathl\\x22,\\x22description\\x22:\\x22Run code on real quantum systems using a full\\u002Dstack SDK\\x22},\\x22groups\\x22:[{\\x22heading\\x22:{\\x22title\\x22:\\x22\\x22,\\x22description\\x22:\\x22\\x22},\\x22links\\x22:[{\\x22title\\x22:\\x22Qiskit Runtime\\x22,\\x22url\\x22:\\x22https:\\/\\/www.ibm.com\\/quantum\\/qiskit?lnk=flatitem\\x22,\\x22description\\x22:\\x22Cloud service for executing quantum workloads at scale\\x22},{\\x22title\\x22:\\x22Quantum Safe\\x22,\\x22url\\x22:\\x22https:\\/\\/www.ibm.com\\/quantum\\/quantum\\u002Dsafe?lnk=flatitem\\x22,\\x22description\\x22:\\x22Technology and consulting services for quantum\\u002Dsafe cryptography\\x22},{\\x22title\\x22:\\x22Quantum Systems\\x22,\\x22url\\x22:\\x22https:\\/\\/www.ibm.com\\/quantum\\/technology?lnk=flatitem\\x22,\\x22description\\x22:\\x22Quantum computing systems accessible on the cloud\\x22}]}]},{\\x22heading\\x22:{\\x22title\\x22:\\x22Security \\x26 identity\\x22,\\x22url\\x22:\\x22https:\\/\\/www.ibm.com\\/security?lnk=flathl\\x22,\\x22description\\x22:\\x22Cloud\\u002Dnative software to secure resources and simplify compliance\\x22},\\x22groups\\x22:[{\\x22heading\\x22:{\\x22title\\x22:\\x22\\x22,\\x22description\\x22:\\x22\\x22},\\x22links\\x22:[{\\x22title\\x22:\\x22Cloud AppID\\x22,\\x22url\\x22:\\x22https:\\/\\/www.ibm.com\\/products\\/app\\u002Did?lnk=flatitem\\x22,\\x22description\\x22:\\x22Authentication and user profiles as a service for mobile and web apps\\x22},{\\x22title\\x22:\\x22Cloud Security and Compliance Center\\x22,\\x22url\\x22:\\x22https:\\/\\/www.ibm.com\\/products\\/security\\u002Dand\\u002Dcompliance\\u002Dcenter?lnk=flatitem\\x22,\\x22description\\x22:\\x22SaaS to define and audit the compliance posture of your cloud\\x22},{\\x22title\\x22:\\x22Data Security Broker\\x22,\\x22url\\x22:\\x22https:\\/\\/www.ibm.com\\/products\\/data\\u002Dsecurity\\u002Dbroker?lnk=flatitem\\x22,\\x22description\\x22:\\x22Administrative console to enable data encryption in the cloud\\x22},{\\x22title\\x22:\\x22Guardium\\x22,\\x22url\\x22:\\x22https:\\/\\/www.ibm.com\\/guardium?lnk=flatitem\\x22,\\x22description\\x22:\\x22Suite for data encryption, management and simplified compliance\\x22},{\\x22title\\x22:\\x22Key Protect for IBM Cloud\\x22,\\x22url\\x22:\\x22https:\\/\\/www.ibm.com\\/products\\/key\\u002Dprotect?lnk=flatitem\\x22,\\x22description\\x22:\\x22Tool to provision and store keys for apps across IBM Cloud services\\x22},{\\x22title\\x22:\\x22MaaS360\\x22,\\x22url\\x22:\\x22https:\\/\\/www.ibm.com\\/products\\/maas360?lnk=flatitem\\x22,\\x22description\\x22:\\x22Unified endpoint management for mobile workforces\\x22},{\\x22title\\x22:\\x22QRadar EDR\\x22,\\x22url\\x22:\\x22https:\\/\\/www.ibm.com\\/products\\/qradar\\u002Dedr?lnk=flatitem\\x22,\\x22description\\x22:\\x22Advanced AI threat detection and response for endpoints\\x22},{\\x22title\\x22:\\x22QRadar SIEM\\x22,\\x22url\\x22:\\x22https:\\/\\/www.ibm.com\\/products\\/qradar\\u002Dsiem?lnk=flatitem\\x22,\\x22description\\x22:\\x22Threat detection and prioritization for real\\u002Dtime visibility\\x22},{\\x22title\\x22:\\x22QRadar SOAR\\x22,\\x22url\\x22:\\x22https:\\/\\/www.ibm.com\\/products\\/qradar\\u002Dsoar?lnk=flatitem\\x22,\\x22description\\x22:\\x22Automation and workflow management for security operations\\x22},{\\x22title\\x22:\\x22Trusteer\\x22,\\x22url\\x22:\\x22https:\\/\\/www.ibm.com\\/trusteer?lnk=flatitem\\x22,\\x22description\\x22:\\x22Software to authenticate customers, detect fraud and assess risk\\x22},{\\x22title\\x22:\\x22Verify\\x22,\\x22url\\x22:\\x22https:\\/\\/www.ibm.com\\/verify?lnk=flatitem\\x22,\\x22description\\x22:\\x22Identity, authentication, and access control software\\x22},{\\x22title\\x22:\\x22zSecure\\x22,\\x22url\\x22:\\x22https:\\/\\/www.ibm.com\\/zsecure?lnk=flatitem\\x22,\\x22description\\x22:\\x22Security, risk management and compliance tools for Z hardware\\x22}]}]},{\\x22heading\\x22:{\\x22title\\x22:\\x22Servers\\x22,\\x22url\\x22:\\x22https:\\/\\/www.ibm.com\\/servers?lnk=flathl\\x22,\\x22description\\x22:\\x22Run workloads on hybrid cloud infrastructure\\x22},\\x22groups\\x22:[{\\x22heading\\x22:{\\x22title\\x22:\\x22\\x22,\\x22description\\x22:\\x22\\x22},\\x22links\\x22:[{\\x22title\\x22:\\x22IBM Cloud Bare Metal Servers\\x22,\\x22url\\x22:\\x22https:\\/\\/www.ibm.com\\/products\\/bare\\u002Dmetal\\u002Dservers?lnk=flatitem\\x22,\\x22description\\x22:\\x22Dedicated hardware for maximum performance\\x22},{\\x22title\\x22:\\x22IBM Cloud Virtual Servers for VPC\\x22,\\x22url\\x22:\\x22https:\\/\\/www.ibm.com\\/products\\/virtual\\u002Dservers?lnk=flatitem\\x22,\\x22description\\x22:\\x22Virtual servers with Intel Xeon or IBM Z CPUs\\x22},{\\x22title\\x22:\\x22LinuxONE 4\\x22,\\x22url\\x22:\\x22https:\\/\\/www.ibm.com\\/products\\/linuxone\\u002D4?lnk=flatitem\\x22,\\x22description\\x22:\\x22Physical and virtual servers for running Linux\\x22},{\\x22title\\x22:\\x22Power\\x22,\\x22url\\x22:\\x22https:\\/\\/www.ibm.com\\/power?lnk=flatitem\\x22,\\x22description\\x22:\\x22Physical and virtual servers with IBM Power CPUs\\x22},{\\x22title\\x22:\\x22z16\\x22,\\x22url\\x22:\\x22https:\\/\\/www.ibm.com\\/products\\/z16?lnk=flatitem\\x22,\\x22description\\x22:\\x22Flagship mainframe with on\\u002Dchip AI and quantum\\u002Dsafe cryptography\\x22}]}]},{\\x22heading\\x22:{\\x22title\\x22:\\x22Storage\\x22,\\x22url\\x22:\\x22https:\\/\\/www.ibm.com\\/storage?lnk=flathl\\x22,\\x22description\\x22:\\x22Software, hardware and services for critical and operational workloads and data\\x22},\\x22groups\\x22:[{\\x22heading\\x22:{\\x22title\\x22:\\x22\\x22,\\x22description\\x22:\\x22\\x22},\\x22links\\x22:[{\\x22title\\x22:\\x22Ceph\\x22,\\x22url\\x22:\\x22https:\\/\\/www.ibm.com\\/products\\/storage\\u002Dceph?lnk=flatitem\\x22,\\x22description\\x22:\\x22Multi\\u002Dprotocol software\\u002Ddefined enterprise storage platform\\x22},{\\x22title\\x22:\\x22Cloud Block Storage\\x22,\\x22url\\x22:\\x22https:\\/\\/www.ibm.com\\/products\\/block\\u002Dstorage?lnk=flatitem\\x22,\\x22description\\x22:\\x22Managed service optimized for low latency and high transfer rates\\x22},{\\x22title\\x22:\\x22Cloud File Storage\\x22,\\x22url\\x22:\\x22https:\\/\\/www.ibm.com\\/products\\/file\\u002Dstorage?lnk=flatitem\\x22,\\x22description\\x22:\\x22Managed service for flash\\u002Dbacked, durable, NFS\\u002Dbased file storage\\x22},{\\x22title\\x22:\\x22Cloud Object Storage\\x22,\\x22url\\x22:\\x22https:\\/\\/www.ibm.com\\/products\\/cloud\\u002Dobject\\u002Dstorage?lnk=flatitem\\x22,\\x22description\\x22:\\x22Unstructured data storage accessible via cloud APIs\\x22},{\\x22title\\x22:\\x22Defender\\x22,\\x22url\\x22:\\x22https:\\/\\/www.ibm.com\\/products\\/storage\\u002Ddefender?lnk=flatitem\\x22,\\x22description\\x22:\\x22Data resiliency software for threat detection and data recovery\\x22},{\\x22title\\x22:\\x22FlashSystem\\x22,\\x22url\\x22:\\x22https:\\/\\/www.ibm.com\\/flashsystem?lnk=flatitem\\x22,\\x22description\\x22:\\x22All\\u002Dflash array with performance and capacity for any workload\\x22},{\\x22title\\x22:\\x22Fusion\\x22,\\x22url\\x22:\\x22https:\\/\\/www.ibm.com\\/products\\/storage\\u002Dfusion?lnk=flatitem\\x22,\\x22description\\x22:\\x22Container\\u002Dnative storage and data orchestration for OpenShift\\x22},{\\x22title\\x22:\\x22Insights\\x22,\\x22url\\x22:\\x22https:\\/\\/www.ibm.com\\/products\\/storage\\u002Dinsights?lnk=flatitem\\x22,\\x22description\\x22:\\x22Storage AIOps for metrics\\u002Dpowered analysis and decisions\\x22},{\\x22title\\x22:\\x22Protect\\x22,\\x22url\\x22:\\x22https:\\/\\/www.ibm.com\\/products\\/storage\\u002Dprotect?lnk=flatitem\\x22,\\x22description\\x22:\\x22Data resiliency, backup and recovery delivered via SaaS\\x22},{\\x22title\\x22:\\x22Protect for Cloud\\x22,\\x22url\\x22:\\x22https:\\/\\/www.ibm.com\\/products\\/storage\\u002Dprotect\\u002Dfor\\u002Dcloud?lnk=flatitem\\x22,\\x22description\\x22:\\x22Backup and recovery SaaS for data in public cloud services\\x22},{\\x22title\\x22:\\x22SAN Switches\\x22,\\x22url\\x22:\\x22https:\\/\\/www.ibm.com\\/storage\\u002Darea\\u002Dnetwork?lnk=flatitem\\x22,\\x22description\\x22:\\x22Scalable and highly available storage area network solutions\\x22},{\\x22title\\x22:\\x22Scale\\x22,\\x22url\\x22:\\x22https:\\/\\/www.ibm.com\\/products\\/storage\\u002Dscale?lnk=flatitem\\x22,\\x22description\\x22:\\x22Software defined storage for AI and high performance workloads\\x22},{\\x22title\\x22:\\x22Scale System\\x22,\\x22url\\x22:\\x22https:\\/\\/www.ibm.com\\/products\\/storage\\u002Dscale\\u002Dsystem?lnk=flatitem\\x22,\\x22description\\x22:\\x22All\\u002Dflash or hybrid performant storage for cloud scale use\\u002Dcases\\x22},{\\x22title\\x22:\\x22Tape Systems\\x22,\\x22url\\x22:\\x22https:\\/\\/www.ibm.com\\/tape\\u002Dstorage?lnk=flatitem\\x22,\\x22description\\x22:\\x22Software and hardware for encrypted and air\\u002Dgapped archives\\x22}]}]},{\\x22heading\\x22:{\\x22title\\x22:\\x22Supply chain\\x22,\\x22url\\x22:\\x22https:\\/\\/www.ibm.com\\/supply\\u002Dchain?lnk=flathl\\x22,\\x22description\\x22:\\x22Manage the flow of goods and services\\x22},\\x22groups\\x22:[{\\x22heading\\x22:{\\x22title\\x22:\\x22\\x22,\\x22description\\x22:\\x22\\x22},\\x22links\\x22:[{\\x22title\\x22:\\x22Sterling Order and Fulfillment Suite\\x22,\\x22url\\x22:\\x22https:\\/\\/www.ibm.com\\/products\\/order\\u002Dfulfillment\\u002Dsuite?lnk=flatitem\\x22,\\x22description\\x22:\\x22Complete order management system with AI and machine learning\\x22},{\\x22title\\x22:\\x22Sterling Supply Chain Intelligence Suite\\x22,\\x22url\\x22:\\x22https:\\/\\/www.ibm.com\\/products\\/supply\\u002Dchain\\u002Dintelligence\\u002Dsuite?lnk=flatitem\\x22,\\x22description\\x22:\\x22Software for supply chain optimization and automation\\x22}]}]}],\\x22viewAll\\x22:{\\x22title\\x22:\\x22View all products\\x22,\\x22url\\x22:\\x22https:\\/\\/www.ibm.com\\/products\\x22}}},{\\x22title\\x22:\\x22Solutions\\x22,\\x22url\\x22:\\x22\\x22,\\x22submenu\\x22:{\\x22sections\\x22:[{\\x22heading\\x22:{\\x22title\\x22:\\x22Automation\\x22,\\x22url\\x22:\\x22https:\\/\\/www.ibm.com\\/automation?lnk=flathl\\x22,\\x22description\\x22:\\x22Intelligent automation for business and IT operations\\x22},\\x22groups\\x22:[{\\x22heading\\x22:{\\x22title\\x22:\\x22\\x22,\\x22description\\x22:\\x22\\x22},\\x22links\\x22:[{\\x22title\\x22:\\x22AIOps\\x22,\\x22url\\x22:\\x22https:\\/\\/www.ibm.com\\/aiops?lnk=flatitem\\x22,\\x22description\\x22:\\x22Enable proactive, continuous application performance management\\x22},{\\x22title\\x22:\\x22Application delivery\\x22,\\x22url\\x22:\\x22https:\\/\\/www.ibm.com\\/application\\u002Ddelivery?lnk=flatitem\\x22,\\x22description\\x22:\\x22Modernize applications and deliver new cloud\\u002Dnative applications\\x22},{\\x22title\\x22:\\x22Application performance management\\x22,\\x22url\\x22:\\x22https:\\/\\/www.ibm.com\\/application\\u002Dperformance\\u002Dmanagement?lnk=flatitem\\x22,\\x22description\\x22:\\x22Bridge observability and automated resource management\\x22},{\\x22title\\x22:\\x22Business automation\\x22,\\x22url\\x22:\\x22https:\\/\\/www.ibm.com\\/business\\u002Dautomation?lnk=flatitem\\x22,\\x22description\\x22:\\x22Deliver intelligent automation solutions quickly with low\\u002Dcode\\x22},{\\x22title\\x22:\\x22Cloud cost management\\x22,\\x22url\\x22:\\x22https:\\/\\/www.ibm.com\\/cloud\\u002Dcost\\u002Dmanagement?lnk=flatitem\\x22,\\x22description\\x22:\\x22Optimize performance at the lowest cost and align business value\\x22},{\\x22title\\x22:\\x22Decision management\\x22,\\x22url\\x22:\\x22https:\\/\\/www.ibm.com\\/decision\\u002Dmanagement?lnk=flatitem\\x22,\\x22description\\x22:\\x22Model, manage and automate repeatable business processes\\x22},{\\x22title\\x22:\\x22DevOps automation\\x22,\\x22url\\x22:\\x22https:\\/\\/www.ibm.com\\/devops\\u002Dautomation?lnk=flatitem\\x22,\\x22description\\x22:\\x22Automate your software delivery process\\x22},{\\x22title\\x22:\\x22Enterprise content management\\x22,\\x22url\\x22:\\x22https:\\/\\/www.ibm.com\\/enterprise\\u002Dcontent\\u002Dmanagement?lnk=flatitem\\x22,\\x22description\\x22:\\x22Accelerate information management and governance processes\\x22},{\\x22title\\x22:\\x22FinOps\\x22,\\x22url\\x22:\\x22https:\\/\\/www.ibm.com\\/finops?lnk=flatitem\\x22,\\x22description\\x22:\\x22Manage the variable economics of cloud infrastructure\\x22},{\\x22title\\x22:\\x22Integration\\x22,\\x22url\\x22:\\x22https:\\/\\/www.ibm.com\\/integration?lnk=flatitem\\x22,\\x22description\\x22:\\x22Connect applications and systems to unlock critical data\\x22},{\\x22title\\x22:\\x22License compliance\\x22,\\x22url\\x22:\\x22https:\\/\\/www.ibm.com\\/license\\u002Dcompliance?lnk=flatitem\\x22,\\x22description\\x22:\\x22Reduce compliance risks with application resource management\\x22},{\\x22title\\x22:\\x22Networking\\x22,\\x22url\\x22:\\x22https:\\/\\/www.ibm.com\\/networking?lnk=flatitem\\x22,\\x22description\\x22:\\x22Automate network configuration, provisioning and troubleshooting\\x22},{\\x22title\\x22:\\x22Workflow\\x22,\\x22url\\x22:\\x22https:\\/\\/www.ibm.com\\/workflow?lnk=flatitem\\x22,\\x22description\\x22:\\x22Increase productivity by streamlining processes and tasks\\x22},{\\x22title\\x22:\\x22iPaaS\\x22,\\x22url\\x22:\\x22https:\\/\\/www.ibm.com\\/ipaas?lnk=flatitem\\x22,\\x22description\\x22:\\x22Deliver connectivity across all your apps and data\\x22}]}]},{\\x22heading\\x22:{\\x22title\\x22:\\x22Data \\x26 AI\\x22,\\x22description\\x22:\\x22Optimize your data strategy to support data\\u002Ddriven decisions\\x22},\\x22groups\\x22:[{\\x22heading\\x22:{\\x22title\\x22:\\x22\\x22,\\x22description\\x22:\\x22\\x22},\\x22links\\x22:[{\\x22title\\x22:\\x22AI\\x22,\\x22url\\x22:\\x22https:\\/\\/www.ibm.com\\/artificial\\u002Dintelligence?lnk=flatitem\\x22,\\x22description\\x22:\\x22Artificial intelligence solutions built with industry expertise\\x22},{\\x22title\\x22:\\x22AI ethics\\x22,\\x22url\\x22:\\x22https:\\/\\/www.ibm.com\\/impact\\/ai\\u002Dethics?lnk=flatitem\\x22,\\x22description\\x22:\\x22Trustworthy, transparent AI with a multidimensional approach\\x22},{\\x22title\\x22:\\x22Customer experience\\x22,\\x22url\\x22:\\x22https:\\/\\/www.ibm.com\\/ai\\u002Dcustomer\\u002Dservice?lnk=flatitem\\x22,\\x22description\\x22:\\x22Build a full\\u002Dservice AI chatbot that integrates with your CRM\\x22},{\\x22title\\x22:\\x22Data fabric\\x22,\\x22url\\x22:\\x22https:\\/\\/www.ibm.com\\/data\\u002Dfabric?lnk=flatitem\\x22,\\x22description\\x22:\\x22Automate data discovery, governance and consumption\\x22},{\\x22title\\x22:\\x22Data lake\\x22,\\x22url\\x22:\\x22https:\\/\\/www.ibm.com\\/data\\u002Dlake?lnk=flatitem\\x22,\\x22description\\x22:\\x22Analyze structured, semi\\u002Dstructured and unstructured data\\x22},{\\x22title\\x22:\\x22Data management\\x22,\\x22url\\x22:\\x22https:\\/\\/www.ibm.com\\/data\\u002Dmanagement?lnk=flatitem\\x22,\\x22description\\x22:\\x22Consistent data access and delivery across apps and domains\\x22},{\\x22title\\x22:\\x22Data quality\\x22,\\x22url\\x22:\\x22https:\\/\\/www.ibm.com\\/data\\u002Dquality?lnk=flatitem\\x22,\\x22description\\x22:\\x22Robust tools help identify, understand and correct data flaws\\x22},{\\x22title\\x22:\\x22Data science\\x22,\\x22url\\x22:\\x22https:\\/\\/www.ibm.com\\/data\\u002Dscience?lnk=flatitem\\x22,\\x22description\\x22:\\x22Operationalize data science models on any cloud\\x22},{\\x22title\\x22:\\x22Data warehouse\\x22,\\x22url\\x22:\\x22https:\\/\\/www.ibm.com\\/data\\u002Dwarehouse?lnk=flatitem\\x22,\\x22description\\x22:\\x22A flexible foundation optimized for data from disparate sources\\x22},{\\x22title\\x22:\\x22DataOps\\x22,\\x22url\\x22:\\x22https:\\/\\/www.ibm.com\\/dataops?lnk=flatitem\\x22,\\x22description\\x22:\\x22Develop a coordinated overview of the data acquisition journey\\x22},{\\x22title\\x22:\\x22Master data management\\x22,\\x22url\\x22:\\x22https:\\/\\/www.ibm.com\\/master\\u002Ddata\\u002Dmanagement?lnk=flatitem\\x22,\\x22description\\x22:\\x22A trusted, 360\\u002Ddegree view of master data across the enterprise\\x22},{\\x22title\\x22:\\x22Prescriptive analytics\\x22,\\x22url\\x22:\\x22https:\\/\\/www.ibm.com\\/prescriptive\\u002Danalytics?lnk=flatitem\\x22,\\x22description\\x22:\\x22Use optimization technology to solve complex decisions\\x22}]}]},{\\x22heading\\x22:{\\x22title\\x22:\\x22Industry\\x22,\\x22url\\x22:\\x22https:\\/\\/www.ibm.com\\/industries?lnk=flathl\\x22,\\x22description\\x22:\\x22Customized, end\\u002Dto\\u002Dend, AI\\u002Dpowered solutions for your industry\\x22},\\x22groups\\x22:[{\\x22heading\\x22:{\\x22title\\x22:\\x22\\x22,\\x22description\\x22:\\x22\\x22},\\x22links\\x22:[{\\x22title\\x22:\\x22Automotive\\x22,\\x22url\\x22:\\x22https:\\/\\/www.ibm.com\\/industries\\/automotive?lnk=flatitem\\x22,\\x22description\\x22:\\x22Shift focus to connected vehicles and digital services\\x22},{\\x22title\\x22:\\x22Banking\\x22,\\x22url\\x22:\\x22https:\\/\\/www.ibm.com\\/industries\\/banking\\u002Dfinancial\\u002Dmarkets?lnk=flatitem\\x22,\\x22description\\x22:\\x22Create compliant, customer\\u002Dcentric banking  experiences\\x22},{\\x22title\\x22:\\x22Consumer goods\\x22,\\x22url\\x22:\\x22https:\\/\\/www.ibm.com\\/industries\\/consumer\\u002Dgoods?lnk=flatitem\\x22,\\x22description\\x22:\\x22Infuse agility and automation into operations and supply chains\\x22},{\\x22title\\x22:\\x22Energy \\x26 utilities\\x22,\\x22url\\x22:\\x22https:\\/\\/www.ibm.com\\/industries\\/energy?lnk=flatitem\\x22,\\x22description\\x22:\\x22Get your utility ready for the new, sustainable energy ecosystem\\x22},{\\x22title\\x22:\\x22Government\\x22,\\x22url\\x22:\\x22https:\\/\\/www.ibm.com\\/industries\\/government?lnk=flatitem\\x22,\\x22description\\x22:\\x22Support citizens with greater speed and confidence\\x22},{\\x22title\\x22:\\x22Healthcare\\x22,\\x22url\\x22:\\x22https:\\/\\/www.ibm.com\\/industries\\/healthcare?lnk=flatitem\\x22,\\x22description\\x22:\\x22Navigate a more interconnected, data\\u002Drich healthcare ecosystem\\x22},{\\x22title\\x22:\\x22Insurance\\x22,\\x22url\\x22:\\x22https:\\/\\/www.ibm.com\\/industries\\/insurance?lnk=flatitem\\x22,\\x22description\\x22:\\x22Improve operations and customer experiences at speed and scale\\x22},{\\x22title\\x22:\\x22Life Sciences\\x22,\\x22url\\x22:\\x22https:\\/\\/www.ibm.com\\/industries\\/life\\u002Dsciences?lnk=flatitem\\x22,\\x22description\\x22:\\x22Accelerate product innovation and drive patient centricity\\x22},{\\x22title\\x22:\\x22Manufacturing\\x22,\\x22url\\x22:\\x22https:\\/\\/www.ibm.com\\/industries\\/manufacturing?lnk=flatitem\\x22,\\x22description\\x22:\\x22Digitally transform traditional manufacturing processes\\x22},{\\x22title\\x22:\\x22Retail\\x22,\\x22url\\x22:\\x22https:\\/\\/www.ibm.com\\/industries\\/retail?lnk=flatitem\\x22,\\x22description\\x22:\\x22Meet changing consumer needs with new retail business models\\x22},{\\x22title\\x22:\\x22Telecommunications\\x22,\\x22url\\x22:\\x22https:\\/\\/www.ibm.com\\/industries\\/telecommunications?lnk=flatitem\\x22,\\x22description\\x22:\\x22Achieve a more flexible, seamless network architecture\\x22},{\\x22title\\x22:\\x22Travel\\x22,\\x22url\\x22:\\x22https:\\/\\/www.ibm.com\\/industries\\/travel\\u002Dtransportation?lnk=flatitem\\x22,\\x22description\\x22:\\x22Restore traveler trust and increase operational efficiency\\x22}]}]},{\\x22heading\\x22:{\\x22title\\x22:\\x22Infrastructure\\x22,\\x22url\\x22:\\x22https:\\/\\/www.ibm.com\\/it\\u002Dinfrastructure?lnk=flathl\\x22,\\x22description\\x22:\\x22\\x22},\\x22groups\\x22:[{\\x22heading\\x22:{\\x22title\\x22:\\x22\\x22,\\x22description\\x22:\\x22\\x22},\\x22links\\x22:[{\\x22title\\x22:\\x22Backup \\x26 recovery\\x22,\\x22url\\x22:\\x22https:\\/\\/www.ibm.com\\/backup\\u002Drecovery?lnk=flatitem\\x22,\\x22description\\x22:\\x22Comprehensive data resilience for physical and virtual servers\\x22},{\\x22title\\x22:\\x22Edge computing\\x22,\\x22url\\x22:\\x22https:\\/\\/www.ibm.com\\/edge\\u002Dcomputing?lnk=flatitem\\x22,\\x22description\\x22:\\x22Manage workloads from edge to core across any hybrid multicloud\\x22},{\\x22title\\x22:\\x22High performance computing (HPC)\\x22,\\x22url\\x22:\\x22https:\\/\\/www.ibm.com\\/high\\u002Dperformance\\u002Dcomputing?lnk=flatitem\\x22,\\x22description\\x22:\\x22HPC infrastructure for advanced and data\\u002Dintensive workloads\\x22},{\\x22title\\x22:\\x22Hybrid cloud\\x22,\\x22url\\x22:\\x22https:\\/\\/www.ibm.com\\/hybrid\\u002Dcloud?lnk=flatitem\\x22,\\x22description\\x22:\\x22Use a common platform across cloud, on\\u002Dprem and edge environments\\x22},{\\x22title\\x22:\\x22IT modernization\\x22,\\x22url\\x22:\\x22https:\\/\\/www.ibm.com\\/infrastructure\\u002Dmodernization?lnk=flatitem\\x22,\\x22description\\x22:\\x22Modernize legacy IT in place with containerized microservices\\x22},{\\x22title\\x22:\\x22Mainframe application modernization\\x22,\\x22url\\x22:\\x22https:\\/\\/www.ibm.com\\/mainframe\\u002Dapplication\\u002Dmodernization?lnk=flatitem\\x22,\\x22description\\x22:\\x22Apply modern development and DevOps tools to mainframe applications\\x22}]}]},{\\x22heading\\x22:{\\x22title\\x22:\\x22Security\\x22,\\x22url\\x22:\\x22https:\\/\\/www.ibm.com\\/security?lnk=flathl\\x22,\\x22description\\x22:\\x22Enterprise cybersecurity for today’s hybrid cloud environments\\x22},\\x22groups\\x22:[{\\x22heading\\x22:{\\x22title\\x22:\\x22\\x22,\\x22description\\x22:\\x22\\x22},\\x22links\\x22:[{\\x22title\\x22:\\x22Cloud security\\x22,\\x22url\\x22:\\x22https:\\/\\/www.ibm.com\\/cloud\\u002Dsecurity?lnk=flatitem\\x22,\\x22description\\x22:\\x22Trust IBM Cloud security for data protection and compliance\\x22},{\\x22title\\x22:\\x22Data security\\x22,\\x22url\\x22:\\x22https:\\/\\/www.ibm.com\\/data\\u002Dsecurity?lnk=flatitem\\x22,\\x22description\\x22:\\x22Meet data privacy regulations and simplify operational complexity\\x22},{\\x22title\\x22:\\x22Insider threat\\x22,\\x22url\\x22:\\x22https:\\/\\/www.ibm.com\\/insider\\u002Dthreat?lnk=flatitem\\x22,\\x22description\\x22:\\x22Protection from malicious or unintentional threats from insiders\\x22},{\\x22title\\x22:\\x22Ransomware\\x22,\\x22url\\x22:\\x22https:\\/\\/www.ibm.com\\/ransomware?lnk=flatitem\\x22,\\x22description\\x22:\\x22Proactively manage cyber risks to reduce the impact of attacks\\x22},{\\x22title\\x22:\\x22Threat detection and response\\x22,\\x22url\\x22:\\x22https:\\/\\/www.ibm.com\\/threat\\u002Ddetection\\u002Dresponse?lnk=flatitem\\x22,\\x22description\\x22:\\x22Accelerate and streamline responses across the attack lifecycle\\x22}]}]},{\\x22heading\\x22:{\\x22title\\x22:\\x22Sustainability\\x22,\\x22url\\x22:\\x22https:\\/\\/www.ibm.com\\/sustainability?lnk=flathl\\x22,\\x22description\\x22:\\x22Embed sustainability into your business transformation\\x22},\\x22groups\\x22:[{\\x22heading\\x22:{\\x22title\\x22:\\x22\\x22,\\x22description\\x22:\\x22\\x22},\\x22links\\x22:[{\\x22title\\x22:\\x22Asset lifecycle management\\x22,\\x22url\\x22:\\x22https:\\/\\/www.ibm.com\\/products\\/maximo\\/sustainability?lnk=flatitem\\x22,\\x22description\\x22:\\x22Optimize performance, extend asset lifecycles and reduce downtime\\x22},{\\x22title\\x22:\\x22ESG reporting\\x22,\\x22url\\x22:\\x22https:\\/\\/www.ibm.com\\/products\\/envizi?lnk=flatitem\\x22,\\x22description\\x22:\\x22Data foundation to streamline meeting ESG reporting requirements\\x22},{\\x22title\\x22:\\x22Facilities management\\x22,\\x22url\\x22:\\x22https:\\/\\/www.ibm.com\\/products\\/tririga\\/sustainability?lnk=flatitem\\x22,\\x22description\\x22:\\x22A single source of truth to manage your corporate real estate\\x22},{\\x22title\\x22:\\x22IT sustainability\\x22,\\x22url\\x22:\\x22https:\\/\\/www.ibm.com\\/products\\/turbonomic\\/sustainability?lnk=flatitem\\x22,\\x22description\\x22:\\x22Software to estimate infrastructure resource consumption\\x22},{\\x22title\\x22:\\x22Supply chain\\x22,\\x22url\\x22:\\x22https:\\/\\/www.ibm.com\\/supply\\u002Dchain?lnk=flatitem\\x22,\\x22description\\x22:\\x22Build supply chain resiliency with intelligent automation\\x22},{\\x22title\\x22:\\x22Weather Risk Management\\x22,\\x22url\\x22:\\x22https:\\/\\/www.ibm.com\\/products\\/environmental\\u002Dintelligence\\u002Dsuite\\/sustainability?lnk=flatitem\\x22,\\x22description\\x22:\\x22Manage the economic impact of weather and climate on your business\\x22}]}]}],\\x22viewAll\\x22:{\\x22title\\x22:\\x22\\x22,\\x22url\\x22:\\x22\\x22}}},{\\x22title\\x22:\\x22Consulting\\x22,\\x22url\\x22:\\x22https:\\/\\/www.ibm.com\\/consulting?lnk=L0G\\x22},{\\x22title\\x22:\\x22Support\\x22,\\x22url\\x22:\\x22\\x22,\\x22submenu\\x22:{\\x22sections\\x22:[{\\x22heading\\x22:{\\x22title\\x22:\\x22\\x22,\\x22description\\x22:\\x22\\x22},\\x22groups\\x22:[{\\x22heading\\x22:{\\x22title\\x22:\\x22What\\x27s New\\x22,\\x22url\\x22:\\x22https:\\/\\/www.ibm.com\\/new?lnk=flathl\\x22,\\x22description\\x22:\\x22\\x22},\\x22links\\x22:[]},{\\x22heading\\x22:{\\x22title\\x22:\\x22Community\\x22,\\x22url\\x22:\\x22https:\\/\\/community.ibm.com\\/community\\/user\\/community?lnk=flathl\\x22,\\x22description\\x22:\\x22\\x22},\\x22links\\x22:[]},{\\x22heading\\x22:{\\x22title\\x22:\\x22Developer\\x22,\\x22url\\x22:\\x22https:\\/\\/developer.ibm.com\\/?lnk=flathl\\x22,\\x22description\\x22:\\x22\\x22},\\x22links\\x22:[{\\x22title\\x22:\\x22Call for Code\\x22,\\x22url\\x22:\\x22https:\\/\\/developer.ibm.com\\/callforcode\\/?lnk=flatitem\\x22},{\\x22title\\x22:\\x22Generative AI\\x22,\\x22url\\x22:\\x22https:\\/\\/developer.ibm.com\\/generative\\u002Dai\\u002Dfor\\u002Ddevelopers\\/?lnk=flatitem\\x22},{\\x22title\\x22:\\x22Open Source @ IBM\\x22,\\x22url\\x22:\\x22https:\\/\\/www.ibm.com\\/opensource\\/?lnk=flatitem\\x22},{\\x22title\\x22:\\x22Products\\x22,\\x22url\\x22:\\x22https:\\/\\/developer.ibm.com\\/components\\/?lnk=flatitem\\x22},{\\x22title\\x22:\\x22Technologies\\x22,\\x22url\\x22:\\x22https:\\/\\/developer.ibm.com\\/technologies\\/?lnk=flatitem\\x22}]},{\\x22heading\\x22:{\\x22title\\x22:\\x22Documentation\\x22,\\x22url\\x22:\\x22https:\\/\\/www.ibm.com\\/docs\\/en?lnk=flathl\\x22,\\x22description\\x22:\\x22\\x22},\\x22links\\x22:[{\\x22title\\x22:\\x22All product documentation\\x22,\\x22url\\x22:\\x22https:\\/\\/www.ibm.com\\/docs\\/en?lnk=flatitem\\x22},{\\x22title\\x22:\\x22IBM Cloud documentation\\x22,\\x22url\\x22:\\x22https:\\/\\/cloud.ibm.com\\/docs?lnk=flatitem\\x22},{\\x22title\\x22:\\x22IBM Redbooks\\x22,\\x22url\\x22:\\x22https:\\/\\/www.redbooks.ibm.com\\/?lnk=flatitem\\x22}]},{\\x22heading\\x22:{\\x22title\\x22:\\x22IBM Cloud platform support\\x22,\\x22url\\x22:\\x22https:\\/\\/www.ibm.com\\/cloud\\/support?lnk=flathl\\x22,\\x22description\\x22:\\x22\\x22},\\x22links\\x22:[]},{\\x22heading\\x22:{\\x22title\\x22:\\x22Implementation\\x22,\\x22description\\x22:\\x22\\x22},\\x22links\\x22:[{\\x22title\\x22:\\x22Expert Labs\\x22,\\x22url\\x22:\\x22https:\\/\\/www.ibm.com\\/products\\/expertlabs?lnk=flatitem\\x22}]},{\\x22heading\\x22:{\\x22title\\x22:\\x22Support\\x22,\\x22url\\x22:\\x22https:\\/\\/www.ibm.com\\/mysupport\\/s\\/?language=en_US\\x26lnk=flathl\\x22,\\x22description\\x22:\\x22\\x22},\\x22links\\x22:[{\\x22title\\x22:\\x22Download fixes, updates \\x26 drivers\\x22,\\x22url\\x22:\\x22https:\\/\\/www.ibm.com\\/support\\/fixcentral?lnk=flatitem\\x22},{\\x22title\\x22:\\x22Download licensed software \\u002D Passport Advantage\\x22,\\x22url\\x22:\\x22https:\\/\\/www.ibm.com\\/software\\/passportadvantage\\/pao_customer.html?lnk=flatitem\\x22},{\\x22title\\x22:\\x22IBM Software Licensing\\x22,\\x22url\\x22:\\x22https:\\/\\/www.ibm.com\\/about\\/software\\u002Dlicensing\\/?lnk=flatitem\\x22},{\\x22title\\x22:\\x22Open a case\\x22,\\x22url\\x22:\\x22https:\\/\\/www.ibm.com\\/mysupport\\/s\\/redirecttoopencasepage?lnk=flatitem\\x22},{\\x22title\\x22:\\x22View more\\x22,\\x22url\\x22:\\x22https:\\/\\/www.ibm.com\\/mysupport\\/s\\/?language=en_US\\x26lnk=flatitem\\x22},{\\x22title\\x22:\\x22View support plans\\x22,\\x22url\\x22:\\x22https:\\/\\/www.ibm.com\\/support\\/pages\\/ibm\\u002Dsupport\\u002Dofferings?lnk=flatitem\\x22},{\\x22title\\x22:\\x22View your cases\\x22,\\x22url\\x22:\\x22https:\\/\\/www.ibm.com\\/mysupport\\/s\\/my\\u002Dcases?lnk=flatitem\\x22}]},{\\x22heading\\x22:{\\x22title\\x22:\\x22Technology Lifecycle Services\\x22,\\x22url\\x22:\\x22https:\\/\\/www.ibm.com\\/services\\/technology\\u002Dlifecycle\\u002Dservices?lnk=flathl\\x22,\\x22description\\x22:\\x22\\x22},\\x22links\\x22:[{\\x22title\\x22:\\x22Enterprise networking and security\\x22,\\x22url\\x22:\\x22https:\\/\\/www.ibm.com\\/services\\/networking\\u002Dsupport?lnk=flatitem\\x22},{\\x22title\\x22:\\x22Servers and storage\\x22,\\x22url\\x22:\\x22https:\\/\\/www.ibm.com\\/services\\/systems\\u002Dsupport?lnk=flatitem\\x22},{\\x22title\\x22:\\x22Software\\x22,\\x22url\\x22:\\x22https:\\/\\/www.ibm.com\\/services\\/software\\u002Dsupport?lnk=flatitem\\x22}]},{\\x22heading\\x22:{\\x22title\\x22:\\x22Training\\x22,\\x22url\\x22:\\x22https:\\/\\/www.ibm.com\\/training\\/?lnk=flathl\\x22,\\x22description\\x22:\\x22\\x22},\\x22links\\x22:[{\\x22title\\x22:\\x22Courses\\x22,\\x22url\\x22:\\x22https:\\/\\/www.ibm.com\\/training\\/search?q=course\\x26lnk=flatitem\\x22},{\\x22title\\x22:\\x22Digital learning subscriptions\\x22,\\x22url\\x22:\\x22https:\\/\\/www.ibm.com\\/training\\/subscriptions?lnk=flatitem\\x22},{\\x22title\\x22:\\x22Learning paths \\x26 collections\\x22,\\x22url\\x22:\\x22https:\\/\\/www.ibm.com\\/training\\/learning\\u002Dpaths\\u002Dand\\u002Dcollections?lnk=flatitem\\x22},{\\x22title\\x22:\\x22Professional certifications\\x22,\\x22url\\x22:\\x22https:\\/\\/www.ibm.com\\/training\\/credentials?lnk=flatitem\\x22}]}]}],\\x22viewAll\\x22:{\\x22title\\x22:\\x22\\x22,\\x22url\\x22:\\x22\\x22}}},{\\x22title\\x22:\\x22Think\\x22,\\x22url\\x22:\\x22https:\\/\\/www.ibm.com\\/think?lnk=L0G\\x22}]}}\";\n",
      "    const searchPlaceholderText = \"Search all of IBM\";\n",
      "    const links = JSON.parse(l0Json).mastheadNav.links;\n",
      "    const unAuthenticated = JSON.parse(l0Json).profileMenu.signedout;\n",
      "    const authenticated = JSON.parse(l0Json).profileMenu.signedin;\n",
      "\n",
      "    const mastheadContainerEl = document.querySelector('c4d-masthead-container');\n",
      "\n",
      "    mastheadContainerEl.navLinks = links;\n",
      "    mastheadContainerEl.unauthenticatedProfileItems = unAuthenticated;\n",
      "    mastheadContainerEl.authenticatedProfileItems = authenticated;\n",
      "\n",
      "    const appendSearchPlaceholderText = () => {\n",
      "        const typeheadEl = mastheadContainerEl.querySelector('c4d-search-with-typeahead');\n",
      "        if (typeheadEl) {\n",
      "            typeheadEl.searchPlaceholder = searchPlaceholderText;\n",
      "            observer.disconnect();\n",
      "        }\n",
      "    }\n",
      "    let observer = new MutationObserver(appendSearchPlaceholderText);\n",
      "    observer.observe(mastheadContainerEl, {subtree: true, childList: true});\n",
      "      </script>\n",
      "      <script type=\"text/javascript\">\n",
      "       if(window.location.href.includes(\"/careers\")){\n",
      "       document.querySelector('c4d-masthead-container').setAttribute(\"has-search\",\"false\");\n",
      "       document.querySelector('c4d-masthead-container').setAttribute(\"has-profile\",\"false\");\n",
      "    }\n",
      "      </script>\n",
      "     </div>\n",
      "     <div class=\"container responsivegrid\">\n",
      "      <div class=\"cmp-container\" id=\"container-35bfd5ef7a\">\n",
      "      </div>\n",
      "     </div>\n",
      "     <div class=\"leadspace-container container responsivegrid\">\n",
      "      <div class=\"cmp-container\" id=\"leadspace-container-1e918979ca\">\n",
      "       <div class=\"leadspace-expanded leadspace\">\n",
      "        <section class=\"bx--grid theme-white leadspace-expanded__container leadspace-expanded__container--tall leadspace-expanded__container--aside\">\n",
      "         <div class=\"bx--row leadspace-expanded__row\">\n",
      "          <div class=\"bx--col-lg-6 leadspace-expanded__column leadspace-expanded__column--content\">\n",
      "           <div>\n",
      "            <div class=\"leadspace-expanded__navigation leadspace-expanded__navigation--tags\">\n",
      "            </div>\n",
      "            <caem-heading class=\"leadspace-expanded__heading\" id=\"leadspaceSimpleTitle\" type=\"h1\" type-style=\"display-01\">\n",
      "             <span class=\"enhanced-title\">\n",
      "              Supercharge sustainability with AI\n",
      "             </span>\n",
      "            </caem-heading>\n",
      "           </div>\n",
      "           <div>\n",
      "            <caem-paragraph data-autoid=\"caem--paragraph\" size=\"lead-in\">\n",
      "             <p>\n",
      "              Discover how IBM uses data and AI to drive measurable ROI for business—and the planet\n",
      "             </p>\n",
      "            </caem-paragraph>\n",
      "            <caem-button-group class=\"leadspace-expanded__action leadspace-expanded__action--button-group\">\n",
      "             <caem-button-cta cta-type=\"local\" data-aem-autoid=\"aem--leadspace_cta-0\" href=\"https://www.ibm.com/think/reports/sustainability-readiness?lnk=hpUSls1\" kind=\"primary\" target=\"_self\">\n",
      "              <span>\n",
      "               Read the latest sustainability report\n",
      "              </span>\n",
      "             </caem-button-cta>\n",
      "             <caem-button-cta cta-type=\"local\" data-aem-autoid=\"aem--leadspace_cta-1\" href=\"https://www.ibm.com/sustainability?lnk=hpUSls2\" kind=\"tertiary\" target=\"_self\">\n",
      "              <span>\n",
      "               Explore sustainability solutions\n",
      "              </span>\n",
      "             </caem-button-cta>\n",
      "            </caem-button-group>\n",
      "           </div>\n",
      "          </div>\n",
      "          <div class=\"bx--col-lg-8 leadspace-expanded__column leadspace-expanded__column--media\">\n",
      "           <div class=\"leadspace-expanded__column-inner\">\n",
      "            <caem-image-with-caption alt=\"Aerial view of a farmer standing in a vegetable field using a tablet\" caption-alignment=\"left\" class=\"\" default-src=\"/content/dam/connectedassets-adobe-cms/worldwide-content/stock-assets/getty/image/photography/4f/b4/farming005.component.crop-5by4-xl.ts=1731501462427.jpg/content/adobe-cms/us/en/homepage/jcr:content/root/leadspace_container/leadspace_expanded\" id=\"image--1253788689\">\n",
      "             <dds-image-item media=\"(min-width: 1312px) and (min-resolution: 192dpi)\" srcset=\"/content/dam/connectedassets-adobe-cms/worldwide-content/stock-assets/getty/image/photography/4f/b4/farming005.component.crop-5by4-xl-retina.ts=1731501462427.jpg/content/adobe-cms/us/en/homepage/jcr:content/root/leadspace_container/leadspace_expanded\">\n",
      "             </dds-image-item>\n",
      "             <dds-image-item media=\"(min-width: 1312px)\" srcset=\"/content/dam/connectedassets-adobe-cms/worldwide-content/stock-assets/getty/image/photography/4f/b4/farming005.component.crop-5by4-xl.ts=1731501462427.jpg/content/adobe-cms/us/en/homepage/jcr:content/root/leadspace_container/leadspace_expanded\">\n",
      "             </dds-image-item>\n",
      "             <dds-image-item media=\"(min-width: 1056px) and (min-resolution: 192dpi)\" srcset=\"/content/dam/connectedassets-adobe-cms/worldwide-content/stock-assets/getty/image/photography/4f/b4/farming005.component.crop-5by4-l-retina.ts=1731501462427.jpg/content/adobe-cms/us/en/homepage/jcr:content/root/leadspace_container/leadspace_expanded\">\n",
      "             </dds-image-item>\n",
      "             <dds-image-item media=\"(min-width: 1056px)\" srcset=\"/content/dam/connectedassets-adobe-cms/worldwide-content/stock-assets/getty/image/photography/4f/b4/farming005.component.crop-5by4-l.ts=1731501462427.jpg/content/adobe-cms/us/en/homepage/jcr:content/root/leadspace_container/leadspace_expanded\">\n",
      "             </dds-image-item>\n",
      "             <dds-image-item media=\"(min-width: 672px) and (min-resolution: 192dpi)\" srcset=\"/content/dam/connectedassets-adobe-cms/worldwide-content/stock-assets/getty/image/photography/4f/b4/farming005.component.crop-5by4-m-retina.ts=1731501462427.jpg/content/adobe-cms/us/en/homepage/jcr:content/root/leadspace_container/leadspace_expanded\">\n",
      "             </dds-image-item>\n",
      "             <dds-image-item media=\"(min-width: 672px)\" srcset=\"/content/dam/connectedassets-adobe-cms/worldwide-content/stock-assets/getty/image/photography/4f/b4/farming005.component.crop-5by4-m.ts=1731501462427.jpg/content/adobe-cms/us/en/homepage/jcr:content/root/leadspace_container/leadspace_expanded\">\n",
      "             </dds-image-item>\n",
      "             <dds-image-item media=\"(min-width: 481px) and (min-resolution: 192dpi)\" srcset=\"/content/dam/connectedassets-adobe-cms/worldwide-content/stock-assets/getty/image/photography/4f/b4/farming005.component.crop-5by4-s-retina.ts=1731501462427.jpg/content/adobe-cms/us/en/homepage/jcr:content/root/leadspace_container/leadspace_expanded\">\n",
      "             </dds-image-item>\n",
      "             <dds-image-item media=\"(min-width: 481px)\" srcset=\"/content/dam/connectedassets-adobe-cms/worldwide-content/stock-assets/getty/image/photography/4f/b4/farming005.component.crop-5by4-s.ts=1731501462427.jpg/content/adobe-cms/us/en/homepage/jcr:content/root/leadspace_container/leadspace_expanded\">\n",
      "             </dds-image-item>\n",
      "             <dds-image-item media=\"(max-width: 480px) and (min-resolution: 192dpi)\" srcset=\"/content/dam/connectedassets-adobe-cms/worldwide-content/stock-assets/getty/image/photography/4f/b4/farming005.component.crop-5by4-xs-retina.ts=1731501462427.jpg/content/adobe-cms/us/en/homepage/jcr:content/root/leadspace_container/leadspace_expanded\">\n",
      "             </dds-image-item>\n",
      "             <dds-image-item media=\"(max-width: 480px)\" srcset=\"/content/dam/connectedassets-adobe-cms/worldwide-content/stock-assets/getty/image/photography/4f/b4/farming005.component.crop-5by4-xs.ts=1731501462427.jpg/content/adobe-cms/us/en/homepage/jcr:content/root/leadspace_container/leadspace_expanded\">\n",
      "             </dds-image-item>\n",
      "            </caem-image-with-caption>\n",
      "           </div>\n",
      "          </div>\n",
      "          <div class=\"bx--col-lg-2 leadspace-expanded__column leadspace-expanded__column--aside\">\n",
      "           <div class=\"leadspace-expanded__column-inner\">\n",
      "            <dds-link-list class=\"newsfeed\">\n",
      "             <dds-link-list-heading aria-level=\"4\" role=\"heading\" slot=\"heading\">\n",
      "              Latest news\n",
      "             </dds-link-list-heading>\n",
      "             <caem-link-list-item aria-label=\"IBM Champions Generative AI and Automation to Safeguard Security Across AWS Environments\" cta-type=\"link\" href=\"https://newsroom.ibm.com/2024-11-14-ibm-champions-generative-ai-and-automation-to-safeguard-security-across-aws-environments\">\n",
      "              <p>\n",
      "               IBM Champions Generative AI and Automation to Safeguard Security Across AWS Environments\n",
      "              </p>\n",
      "              <dds-card-cta-footer cta-type=\"local\" href=\"https://newsroom.ibm.com/2024-11-14-ibm-champions-generative-ai-and-automation-to-safeguard-security-across-aws-environments\" target=\"_self\">\n",
      "               <span class=\"ibm_icon_arrowright_local bx--card__cta dds-ce--cta__icon\" slot=\"icon\">\n",
      "               </span>\n",
      "              </dds-card-cta-footer>\n",
      "             </caem-link-list-item>\n",
      "             <caem-link-list-item aria-label=\"UFC Names IBM as First-Ever Official AI Partner\" cta-type=\"link\" href=\"https://newsroom.ibm.com/2024-11-14-ufc-names-ibm-as-first-ever-official-ai-partner\">\n",
      "              <p>\n",
      "               UFC Names IBM as First-Ever Official AI Partner\n",
      "              </p>\n",
      "              <dds-card-cta-footer cta-type=\"local\" href=\"https://newsroom.ibm.com/2024-11-14-ufc-names-ibm-as-first-ever-official-ai-partner\" target=\"_self\">\n",
      "               <span class=\"ibm_icon_arrowright_local bx--card__cta dds-ce--cta__icon\" slot=\"icon\">\n",
      "               </span>\n",
      "              </dds-card-cta-footer>\n",
      "             </caem-link-list-item>\n",
      "             <caem-link-list-item aria-label=\"Sustainable Energy for All and IBM Launch New AI Solutions for Energy and Urban Development\" cta-type=\"link\" href=\"https://newsroom.ibm.com/2024-11-14-sustainable-energy-for-all-and-ibm-launch-new-ai-solutions-for-energy-and-urban-development\">\n",
      "              <p>\n",
      "               Sustainable Energy for All and IBM Launch New AI Solutions for Energy and Urban Development\n",
      "              </p>\n",
      "              <dds-card-cta-footer cta-type=\"local\" href=\"https://newsroom.ibm.com/2024-11-14-sustainable-energy-for-all-and-ibm-launch-new-ai-solutions-for-energy-and-urban-development\" target=\"_self\">\n",
      "               <span class=\"ibm_icon_arrowright_local bx--card__cta dds-ce--cta__icon\" slot=\"icon\">\n",
      "               </span>\n",
      "              </dds-card-cta-footer>\n",
      "             </caem-link-list-item>\n",
      "             <caem-link-list-item aria-label=\"IBM Launches Its Most Advanced Quantum Computers, Fueling New Scientific Value and Progress towards Quantum Advantage\" cta-type=\"link\" href=\"https://newsroom.ibm.com/2024-11-13-ibm-launches-its-most-advanced-quantum-computers,-fueling-new-scientific-value-and-progress-towards-quantum-advantage\">\n",
      "              <p>\n",
      "               IBM Launches Its Most Advanced Quantum Computers, Fueling New Scientific Value and Progress towards Quantum Advantage\n",
      "              </p>\n",
      "              <dds-card-cta-footer cta-type=\"local\" href=\"https://newsroom.ibm.com/2024-11-13-ibm-launches-its-most-advanced-quantum-computers,-fueling-new-scientific-value-and-progress-towards-quantum-advantage\" target=\"_self\">\n",
      "               <span class=\"ibm_icon_arrowright_local bx--card__cta dds-ce--cta__icon\" slot=\"icon\">\n",
      "               </span>\n",
      "              </dds-card-cta-footer>\n",
      "             </caem-link-list-item>\n",
      "             <caem-link-list-item aria-label=\"New IBM Report Shows Strong Tailwinds Behind Corporate Investment in AI for Sustainability; But Ambitions Don't Yet Match Actions\" cta-type=\"link\" href=\"https://newsroom.ibm.com/2024-11-12-new-ibm-report-shows-strong-tailwinds-behind-corporate-investment-in-ai-for-sustainability-but-ambitions-dont-yet-match-actions\">\n",
      "              <p>\n",
      "               New IBM Report Shows Strong Tailwinds Behind Corporate Investment in AI for Sustainability; But Ambitions Don't Yet Match Actions\n",
      "              </p>\n",
      "              <dds-card-cta-footer cta-type=\"local\" href=\"https://newsroom.ibm.com/2024-11-12-new-ibm-report-shows-strong-tailwinds-behind-corporate-investment-in-ai-for-sustainability-but-ambitions-dont-yet-match-actions\" target=\"_self\">\n",
      "               <span class=\"ibm_icon_arrowright_local bx--card__cta dds-ce--cta__icon\" slot=\"icon\">\n",
      "               </span>\n",
      "              </dds-card-cta-footer>\n",
      "             </caem-link-list-item>\n",
      "             <caem-link-list-item aria-label=\"Prosper Africa’s Tech for Trade Alliance Announces a Pharmaceutical Tracing Pilot in South Africa as part of U.S. Digital Transformation with Africa (DTA) Strategy \" cta-type=\"link\" href=\"https://newsroom.ibm.com/2024-11-12-prosper-africas-tech-for-trade-alliance-announces-a-pharmaceutical-tracing-pilot-in-south-africa-as-part-of-u-s-digital-transformation-with-africa-dta-strategy\">\n",
      "              <p>\n",
      "               Prosper Africa’s Tech for Trade Alliance Announces a Pharmaceutical Tracing Pilot in South Africa as part of U.S. Digital Transformation with Africa (DTA) Strategy\n",
      "              </p>\n",
      "              <dds-card-cta-footer cta-type=\"local\" href=\"https://newsroom.ibm.com/2024-11-12-prosper-africas-tech-for-trade-alliance-announces-a-pharmaceutical-tracing-pilot-in-south-africa-as-part-of-u-s-digital-transformation-with-africa-dta-strategy\" target=\"_self\">\n",
      "               <span class=\"ibm_icon_arrowright_local bx--card__cta dds-ce--cta__icon\" slot=\"icon\">\n",
      "               </span>\n",
      "              </dds-card-cta-footer>\n",
      "             </caem-link-list-item>\n",
      "             <caem-link-list-item aria-label='IBM \"AI in Action\" Report Identifies Key Characteristics of Businesses That Consider Themselves Leaders in AI' cta-type=\"link\" href=\"https://newsroom.ibm.com/2024-11-08-ibm-ai-in-action-report-identifies-key-characteristics-of-businesses-that-consider-themselves-leaders-in-ai\">\n",
      "              <p>\n",
      "               IBM \"AI in Action\" Report Identifies Key Characteristics of Businesses That Consider Themselves Leaders in AI\n",
      "              </p>\n",
      "              <dds-card-cta-footer cta-type=\"local\" href=\"https://newsroom.ibm.com/2024-11-08-ibm-ai-in-action-report-identifies-key-characteristics-of-businesses-that-consider-themselves-leaders-in-ai\" target=\"_self\">\n",
      "               <span class=\"ibm_icon_arrowright_local bx--card__cta dds-ce--cta__icon\" slot=\"icon\">\n",
      "               </span>\n",
      "              </dds-card-cta-footer>\n",
      "             </caem-link-list-item>\n",
      "             <caem-link-list-item aria-label=\"IBM Selected as Official Fan Engagement and Data Analytics Partner for Scuderia Ferrari HP\" cta-type=\"link\" href=\"https://newsroom.ibm.com/2024-11-07-ibm-selected-as-official-fan-engagement-and-data-analytics-partner-for-scuderia-ferrari-hp\">\n",
      "              <p>\n",
      "               IBM Selected as Official Fan Engagement and Data Analytics Partner for Scuderia Ferrari HP\n",
      "              </p>\n",
      "              <dds-card-cta-footer cta-type=\"local\" href=\"https://newsroom.ibm.com/2024-11-07-ibm-selected-as-official-fan-engagement-and-data-analytics-partner-for-scuderia-ferrari-hp\" target=\"_self\">\n",
      "               <span class=\"ibm_icon_arrowright_local bx--card__cta dds-ce--cta__icon\" slot=\"icon\">\n",
      "               </span>\n",
      "              </dds-card-cta-footer>\n",
      "             </caem-link-list-item>\n",
      "            </dds-link-list>\n",
      "           </div>\n",
      "          </div>\n",
      "         </div>\n",
      "        </section>\n",
      "       </div>\n",
      "      </div>\n",
      "     </div>\n",
      "     <div class=\"table-of-contents container responsivegrid\">\n",
      "      <dds-table-of-contents class=\"cmp-table-of-contents\" data-autoid=\"dds--table-of-contents\" data-cmp-is=\"table-of-contents\" stickyoffset=\"48\" toc-hide=\"hidden\" toc-layout=\"horizontal\">\n",
      "       <div class=\"cmp-table-of-contents\" id=\"table-of-contents-b422012d4b\">\n",
      "        <div class=\"modular-container container responsivegrid\">\n",
      "         <div class=\"cmp-container\" id=\"modular-container-253180b30f\">\n",
      "          <div class=\"standalone-title enhanced-title text\">\n",
      "           <caem-heading type=\"h5\">\n",
      "            Recommended for you\n",
      "            <br/>\n",
      "           </caem-heading>\n",
      "          </div>\n",
      "         </div>\n",
      "        </div>\n",
      "        <div class=\"tile-group-container container responsivegrid\">\n",
      "         <div class=\"bx--col\">\n",
      "          <caem-heading type=\"h2\">\n",
      "          </caem-heading>\n",
      "          <caem-tile-group>\n",
      "           <caem-tile cta-type=\"local\" data-video-modal-type=\"media-center\" href=\"https://www.ibm.com/think/insights/for-the-planet-and-people-ibms-focus-on-ai-ethics-in-sustainability?lnk=hpUSrc1\" label=\"Blog\" target=\"_self\">\n",
      "            <dds-image alt=\"Illustrative collage of a person, globe, and leaf for sustainability\" class=\"\" default-src=\"/content/dam/connectedassets-adobe-cms/worldwide-content/creative-assets/ibs/ul/cpi/84/eb/envizi-esg-suite_value-chain-surveys-assessments_1x1.component.tile-card-xl.ts=1731501463884.png/content/adobe-cms/us/en/homepage/jcr:content/root/table_of_contents/tile_group_container_1662354541/container/tile_card_2026675993/image\" id=\"image--1773978476\" slot=\"image\">\n",
      "             <dds-image-item media=\"(min-width: 1312px) and (min-resolution: 192dpi)\" srcset=\"/content/dam/connectedassets-adobe-cms/worldwide-content/creative-assets/ibs/ul/cpi/84/eb/envizi-esg-suite_value-chain-surveys-assessments_1x1.component.tile-card-xl-retina.ts=1731501463884.png/content/adobe-cms/us/en/homepage/jcr:content/root/table_of_contents/tile_group_container_1662354541/container/tile_card_2026675993/image\">\n",
      "             </dds-image-item>\n",
      "             <dds-image-item media=\"(min-width: 1312px)\" srcset=\"/content/dam/connectedassets-adobe-cms/worldwide-content/creative-assets/ibs/ul/cpi/84/eb/envizi-esg-suite_value-chain-surveys-assessments_1x1.component.tile-card-xl.ts=1731501463884.png/content/adobe-cms/us/en/homepage/jcr:content/root/table_of_contents/tile_group_container_1662354541/container/tile_card_2026675993/image\">\n",
      "             </dds-image-item>\n",
      "             <dds-image-item media=\"(min-width: 1056px) and (min-resolution: 192dpi)\" srcset=\"/content/dam/connectedassets-adobe-cms/worldwide-content/creative-assets/ibs/ul/cpi/84/eb/envizi-esg-suite_value-chain-surveys-assessments_1x1.component.tile-card-l-retina.ts=1731501463884.png/content/adobe-cms/us/en/homepage/jcr:content/root/table_of_contents/tile_group_container_1662354541/container/tile_card_2026675993/image\">\n",
      "             </dds-image-item>\n",
      "             <dds-image-item media=\"(min-width: 1056px)\" srcset=\"/content/dam/connectedassets-adobe-cms/worldwide-content/creative-assets/ibs/ul/cpi/84/eb/envizi-esg-suite_value-chain-surveys-assessments_1x1.component.tile-card-l.ts=1731501463884.png/content/adobe-cms/us/en/homepage/jcr:content/root/table_of_contents/tile_group_container_1662354541/container/tile_card_2026675993/image\">\n",
      "             </dds-image-item>\n",
      "             <dds-image-item media=\"(min-width: 672px) and (min-resolution: 192dpi)\" srcset=\"/content/dam/connectedassets-adobe-cms/worldwide-content/creative-assets/ibs/ul/cpi/84/eb/envizi-esg-suite_value-chain-surveys-assessments_1x1.component.tile-card-m-retina.ts=1731501463884.png/content/adobe-cms/us/en/homepage/jcr:content/root/table_of_contents/tile_group_container_1662354541/container/tile_card_2026675993/image\">\n",
      "             </dds-image-item>\n",
      "             <dds-image-item media=\"(min-width: 672px)\" srcset=\"/content/dam/connectedassets-adobe-cms/worldwide-content/creative-assets/ibs/ul/cpi/84/eb/envizi-esg-suite_value-chain-surveys-assessments_1x1.component.tile-card-m.ts=1731501463884.png/content/adobe-cms/us/en/homepage/jcr:content/root/table_of_contents/tile_group_container_1662354541/container/tile_card_2026675993/image\">\n",
      "             </dds-image-item>\n",
      "             <dds-image-item media=\"(min-width: 481px) and (min-resolution: 192dpi)\" srcset=\"/content/dam/connectedassets-adobe-cms/worldwide-content/creative-assets/ibs/ul/cpi/84/eb/envizi-esg-suite_value-chain-surveys-assessments_1x1.component.tile-card-s-retina.ts=1731501463884.png/content/adobe-cms/us/en/homepage/jcr:content/root/table_of_contents/tile_group_container_1662354541/container/tile_card_2026675993/image\">\n",
      "             </dds-image-item>\n",
      "             <dds-image-item media=\"(min-width: 481px)\" srcset=\"/content/dam/connectedassets-adobe-cms/worldwide-content/creative-assets/ibs/ul/cpi/84/eb/envizi-esg-suite_value-chain-surveys-assessments_1x1.component.tile-card-s.ts=1731501463884.png/content/adobe-cms/us/en/homepage/jcr:content/root/table_of_contents/tile_group_container_1662354541/container/tile_card_2026675993/image\">\n",
      "             </dds-image-item>\n",
      "             <dds-image-item media=\"(max-width: 480px) and (min-resolution: 192dpi)\" srcset=\"/content/dam/connectedassets-adobe-cms/worldwide-content/creative-assets/ibs/ul/cpi/84/eb/envizi-esg-suite_value-chain-surveys-assessments_1x1.component.tile-card-xs-retina.ts=1731501463884.png/content/adobe-cms/us/en/homepage/jcr:content/root/table_of_contents/tile_group_container_1662354541/container/tile_card_2026675993/image\">\n",
      "             </dds-image-item>\n",
      "             <dds-image-item media=\"(max-width: 480px)\" srcset=\"/content/dam/connectedassets-adobe-cms/worldwide-content/creative-assets/ibs/ul/cpi/84/eb/envizi-esg-suite_value-chain-surveys-assessments_1x1.component.tile-card-xs.ts=1731501463884.png/content/adobe-cms/us/en/homepage/jcr:content/root/table_of_contents/tile_group_container_1662354541/container/tile_card_2026675993/image\">\n",
      "             </dds-image-item>\n",
      "            </dds-image>\n",
      "            Read IBM’s focus on AI ethics in sustainability\n",
      "            <p slot=\"cta\">\n",
      "            </p>\n",
      "           </caem-tile>\n",
      "           <div class=\"caem-card-svg-source\" hidden=\"\">\n",
      "            <svg id=\"accelerated-computing\" viewbox=\"0 0 32 32\" xmlns=\"http://www.w3.org/2000/svg\">\n",
      "             <path d=\"M19,29.36c-3.401,0-6.596-1.506-8.764-4.131l0.556-0.459c2.03,2.459,5.022,3.869,8.208,3.869 c5.867,0,10.64-4.772,10.64-10.64c0-5.867-4.772-10.64-10.64-10.64c-3.186,0-6.177,1.411-8.208,3.87l-0.555-0.459 c2.091-2.532,5.137-4.022,8.403-4.125V5.36H16c-0.199,0-0.36-0.161-0.36-0.36V3c0-0.199,0.161-0.36,0.36-0.36h6 c0.199,0,0.36,0.161,0.36,0.36v2c0,0.199-0.161,0.36-0.36,0.36h-2.64v1.286c6.098,0.191,11,5.211,11,11.354 C30.36,24.264,25.264,29.36,19,29.36z M16.36,4.64h5.28V3.36h-5.28V4.64z M14,23.36H4v-0.72h10V23.36z M12,18.36H2v-0.72h10V18.36z M19.179,18.312l-0.357-0.625l7-4l0.357,0.625L19.179,18.312z M14,13.36H4v-0.72h10V13.36z\">\n",
      "             </path>\n",
      "            </svg>\n",
      "           </div>\n",
      "           <caem-tile cta-type=\"local\" data-video-modal-type=\"media-center\" href=\"https://www.ibm.com/info/guidebook?lnk=hpUSrc2\" label=\"Guidebook\" target=\"_self\">\n",
      "            <dds-image alt=\"Illustration of business buildings and nature\" class=\"\" default-src=\"/content/dam/connectedassets-adobe-cms/worldwide-content/creative-assets/ibs/ul/cpi/30/78/envizi-esg-suite_overview_1x1.component.tile-card-xl.ts=1731501464051.png/content/adobe-cms/us/en/homepage/jcr:content/root/table_of_contents/tile_group_container_1662354541/container/tile_card_734954344/image\" id=\"image--1031071656\" slot=\"image\">\n",
      "             <dds-image-item media=\"(min-width: 1312px) and (min-resolution: 192dpi)\" srcset=\"/content/dam/connectedassets-adobe-cms/worldwide-content/creative-assets/ibs/ul/cpi/30/78/envizi-esg-suite_overview_1x1.component.tile-card-xl-retina.ts=1731501464051.png/content/adobe-cms/us/en/homepage/jcr:content/root/table_of_contents/tile_group_container_1662354541/container/tile_card_734954344/image\">\n",
      "             </dds-image-item>\n",
      "             <dds-image-item media=\"(min-width: 1312px)\" srcset=\"/content/dam/connectedassets-adobe-cms/worldwide-content/creative-assets/ibs/ul/cpi/30/78/envizi-esg-suite_overview_1x1.component.tile-card-xl.ts=1731501464051.png/content/adobe-cms/us/en/homepage/jcr:content/root/table_of_contents/tile_group_container_1662354541/container/tile_card_734954344/image\">\n",
      "             </dds-image-item>\n",
      "             <dds-image-item media=\"(min-width: 1056px) and (min-resolution: 192dpi)\" srcset=\"/content/dam/connectedassets-adobe-cms/worldwide-content/creative-assets/ibs/ul/cpi/30/78/envizi-esg-suite_overview_1x1.component.tile-card-l-retina.ts=1731501464051.png/content/adobe-cms/us/en/homepage/jcr:content/root/table_of_contents/tile_group_container_1662354541/container/tile_card_734954344/image\">\n",
      "             </dds-image-item>\n",
      "             <dds-image-item media=\"(min-width: 1056px)\" srcset=\"/content/dam/connectedassets-adobe-cms/worldwide-content/creative-assets/ibs/ul/cpi/30/78/envizi-esg-suite_overview_1x1.component.tile-card-l.ts=1731501464051.png/content/adobe-cms/us/en/homepage/jcr:content/root/table_of_contents/tile_group_container_1662354541/container/tile_card_734954344/image\">\n",
      "             </dds-image-item>\n",
      "             <dds-image-item media=\"(min-width: 672px) and (min-resolution: 192dpi)\" srcset=\"/content/dam/connectedassets-adobe-cms/worldwide-content/creative-assets/ibs/ul/cpi/30/78/envizi-esg-suite_overview_1x1.component.tile-card-m-retina.ts=1731501464051.png/content/adobe-cms/us/en/homepage/jcr:content/root/table_of_contents/tile_group_container_1662354541/container/tile_card_734954344/image\">\n",
      "             </dds-image-item>\n",
      "             <dds-image-item media=\"(min-width: 672px)\" srcset=\"/content/dam/connectedassets-adobe-cms/worldwide-content/creative-assets/ibs/ul/cpi/30/78/envizi-esg-suite_overview_1x1.component.tile-card-m.ts=1731501464051.png/content/adobe-cms/us/en/homepage/jcr:content/root/table_of_contents/tile_group_container_1662354541/container/tile_card_734954344/image\">\n",
      "             </dds-image-item>\n",
      "             <dds-image-item media=\"(min-width: 481px) and (min-resolution: 192dpi)\" srcset=\"/content/dam/connectedassets-adobe-cms/worldwide-content/creative-assets/ibs/ul/cpi/30/78/envizi-esg-suite_overview_1x1.component.tile-card-s-retina.ts=1731501464051.png/content/adobe-cms/us/en/homepage/jcr:content/root/table_of_contents/tile_group_container_1662354541/container/tile_card_734954344/image\">\n",
      "             </dds-image-item>\n",
      "             <dds-image-item media=\"(min-width: 481px)\" srcset=\"/content/dam/connectedassets-adobe-cms/worldwide-content/creative-assets/ibs/ul/cpi/30/78/envizi-esg-suite_overview_1x1.component.tile-card-s.ts=1731501464051.png/content/adobe-cms/us/en/homepage/jcr:content/root/table_of_contents/tile_group_container_1662354541/container/tile_card_734954344/image\">\n",
      "             </dds-image-item>\n",
      "             <dds-image-item media=\"(max-width: 480px) and (min-resolution: 192dpi)\" srcset=\"/content/dam/connectedassets-adobe-cms/worldwide-content/creative-assets/ibs/ul/cpi/30/78/envizi-esg-suite_overview_1x1.component.tile-card-xs-retina.ts=1731501464051.png/content/adobe-cms/us/en/homepage/jcr:content/root/table_of_contents/tile_group_container_1662354541/container/tile_card_734954344/image\">\n",
      "             </dds-image-item>\n",
      "             <dds-image-item media=\"(max-width: 480px)\" srcset=\"/content/dam/connectedassets-adobe-cms/worldwide-content/creative-assets/ibs/ul/cpi/30/78/envizi-esg-suite_overview_1x1.component.tile-card-xs.ts=1731501464051.png/content/adobe-cms/us/en/homepage/jcr:content/root/table_of_contents/tile_group_container_1662354541/container/tile_card_734954344/image\">\n",
      "             </dds-image-item>\n",
      "            </dds-image>\n",
      "            Make an impact on business and the environment\n",
      "            <p slot=\"cta\">\n",
      "            </p>\n",
      "           </caem-tile>\n",
      "           <div class=\"caem-card-svg-source\" hidden=\"\">\n",
      "            <svg id=\"accelerated-computing\" viewbox=\"0 0 32 32\" xmlns=\"http://www.w3.org/2000/svg\">\n",
      "             <path d=\"M19,29.36c-3.401,0-6.596-1.506-8.764-4.131l0.556-0.459c2.03,2.459,5.022,3.869,8.208,3.869 c5.867,0,10.64-4.772,10.64-10.64c0-5.867-4.772-10.64-10.64-10.64c-3.186,0-6.177,1.411-8.208,3.87l-0.555-0.459 c2.091-2.532,5.137-4.022,8.403-4.125V5.36H16c-0.199,0-0.36-0.161-0.36-0.36V3c0-0.199,0.161-0.36,0.36-0.36h6 c0.199,0,0.36,0.161,0.36,0.36v2c0,0.199-0.161,0.36-0.36,0.36h-2.64v1.286c6.098,0.191,11,5.211,11,11.354 C30.36,24.264,25.264,29.36,19,29.36z M16.36,4.64h5.28V3.36h-5.28V4.64z M14,23.36H4v-0.72h10V23.36z M12,18.36H2v-0.72h10V18.36z M19.179,18.312l-0.357-0.625l7-4l0.357,0.625L19.179,18.312z M14,13.36H4v-0.72h10V13.36z\">\n",
      "             </path>\n",
      "            </svg>\n",
      "           </div>\n",
      "           <caem-tile cta-type=\"external\" data-video-modal-type=\"media-center\" href=\"https://skillsbuild.org/students/course-catalog/sustainability?lnk=hpUSrc3\" label=\"SkillsBuild\" target=\"_self\">\n",
      "            <dds-image alt=\"Illustration of a hand placing a circle into a grid\" class=\"\" default-src=\"/content/dam/connectedassets-adobe-cms/worldwide-content/cdp/cf/ul/g/6f/3e/sustainable_human_network.component.tile-card-xl.ts=1731501464254.png/content/adobe-cms/us/en/homepage/jcr:content/root/table_of_contents/tile_group_container_1662354541/container/tile_card_964526575/image\" id=\"image--1140056554\" slot=\"image\">\n",
      "             <dds-image-item media=\"(min-width: 1312px) and (min-resolution: 192dpi)\" srcset=\"/content/dam/connectedassets-adobe-cms/worldwide-content/cdp/cf/ul/g/6f/3e/sustainable_human_network.component.tile-card-xl-retina.ts=1731501464254.png/content/adobe-cms/us/en/homepage/jcr:content/root/table_of_contents/tile_group_container_1662354541/container/tile_card_964526575/image\">\n",
      "             </dds-image-item>\n",
      "             <dds-image-item media=\"(min-width: 1312px)\" srcset=\"/content/dam/connectedassets-adobe-cms/worldwide-content/cdp/cf/ul/g/6f/3e/sustainable_human_network.component.tile-card-xl.ts=1731501464254.png/content/adobe-cms/us/en/homepage/jcr:content/root/table_of_contents/tile_group_container_1662354541/container/tile_card_964526575/image\">\n",
      "             </dds-image-item>\n",
      "             <dds-image-item media=\"(min-width: 1056px) and (min-resolution: 192dpi)\" srcset=\"/content/dam/connectedassets-adobe-cms/worldwide-content/cdp/cf/ul/g/6f/3e/sustainable_human_network.component.tile-card-l-retina.ts=1731501464254.png/content/adobe-cms/us/en/homepage/jcr:content/root/table_of_contents/tile_group_container_1662354541/container/tile_card_964526575/image\">\n",
      "             </dds-image-item>\n",
      "             <dds-image-item media=\"(min-width: 1056px)\" srcset=\"/content/dam/connectedassets-adobe-cms/worldwide-content/cdp/cf/ul/g/6f/3e/sustainable_human_network.component.tile-card-l.ts=1731501464254.png/content/adobe-cms/us/en/homepage/jcr:content/root/table_of_contents/tile_group_container_1662354541/container/tile_card_964526575/image\">\n",
      "             </dds-image-item>\n",
      "             <dds-image-item media=\"(min-width: 672px) and (min-resolution: 192dpi)\" srcset=\"/content/dam/connectedassets-adobe-cms/worldwide-content/cdp/cf/ul/g/6f/3e/sustainable_human_network.component.tile-card-m-retina.ts=1731501464254.png/content/adobe-cms/us/en/homepage/jcr:content/root/table_of_contents/tile_group_container_1662354541/container/tile_card_964526575/image\">\n",
      "             </dds-image-item>\n",
      "             <dds-image-item media=\"(min-width: 672px)\" srcset=\"/content/dam/connectedassets-adobe-cms/worldwide-content/cdp/cf/ul/g/6f/3e/sustainable_human_network.component.tile-card-m.ts=1731501464254.png/content/adobe-cms/us/en/homepage/jcr:content/root/table_of_contents/tile_group_container_1662354541/container/tile_card_964526575/image\">\n",
      "             </dds-image-item>\n",
      "             <dds-image-item media=\"(min-width: 481px) and (min-resolution: 192dpi)\" srcset=\"/content/dam/connectedassets-adobe-cms/worldwide-content/cdp/cf/ul/g/6f/3e/sustainable_human_network.component.tile-card-s-retina.ts=1731501464254.png/content/adobe-cms/us/en/homepage/jcr:content/root/table_of_contents/tile_group_container_1662354541/container/tile_card_964526575/image\">\n",
      "             </dds-image-item>\n",
      "             <dds-image-item media=\"(min-width: 481px)\" srcset=\"/content/dam/connectedassets-adobe-cms/worldwide-content/cdp/cf/ul/g/6f/3e/sustainable_human_network.component.tile-card-s.ts=1731501464254.png/content/adobe-cms/us/en/homepage/jcr:content/root/table_of_contents/tile_group_container_1662354541/container/tile_card_964526575/image\">\n",
      "             </dds-image-item>\n",
      "             <dds-image-item media=\"(max-width: 480px) and (min-resolution: 192dpi)\" srcset=\"/content/dam/connectedassets-adobe-cms/worldwide-content/cdp/cf/ul/g/6f/3e/sustainable_human_network.component.tile-card-xs-retina.ts=1731501464254.png/content/adobe-cms/us/en/homepage/jcr:content/root/table_of_contents/tile_group_container_1662354541/container/tile_card_964526575/image\">\n",
      "             </dds-image-item>\n",
      "             <dds-image-item media=\"(max-width: 480px)\" srcset=\"/content/dam/connectedassets-adobe-cms/worldwide-content/cdp/cf/ul/g/6f/3e/sustainable_human_network.component.tile-card-xs.ts=1731501464254.png/content/adobe-cms/us/en/homepage/jcr:content/root/table_of_contents/tile_group_container_1662354541/container/tile_card_964526575/image\">\n",
      "             </dds-image-item>\n",
      "            </dds-image>\n",
      "            Take free sustainability learning courses\n",
      "            <p slot=\"cta\">\n",
      "            </p>\n",
      "           </caem-tile>\n",
      "           <div class=\"caem-card-svg-source\" hidden=\"\">\n",
      "            <svg id=\"accelerated-computing\" viewbox=\"0 0 32 32\" xmlns=\"http://www.w3.org/2000/svg\">\n",
      "             <path d=\"M19,29.36c-3.401,0-6.596-1.506-8.764-4.131l0.556-0.459c2.03,2.459,5.022,3.869,8.208,3.869 c5.867,0,10.64-4.772,10.64-10.64c0-5.867-4.772-10.64-10.64-10.64c-3.186,0-6.177,1.411-8.208,3.87l-0.555-0.459 c2.091-2.532,5.137-4.022,8.403-4.125V5.36H16c-0.199,0-0.36-0.161-0.36-0.36V3c0-0.199,0.161-0.36,0.36-0.36h6 c0.199,0,0.36,0.161,0.36,0.36v2c0,0.199-0.161,0.36-0.36,0.36h-2.64v1.286c6.098,0.191,11,5.211,11,11.354 C30.36,24.264,25.264,29.36,19,29.36z M16.36,4.64h5.28V3.36h-5.28V4.64z M14,23.36H4v-0.72h10V23.36z M12,18.36H2v-0.72h10V18.36z M19.179,18.312l-0.357-0.625l7-4l0.357,0.625L19.179,18.312z M14,13.36H4v-0.72h10V13.36z\">\n",
      "             </path>\n",
      "            </svg>\n",
      "           </div>\n",
      "           <caem-tile cta-type=\"local\" data-video-modal-type=\"media-center\" href=\"https://www.ibm.com/products/guardium-data-security-center?lnk=hpUSrc4\" label=\"Product launch\" target=\"_self\">\n",
      "            <dds-image alt=\"screenshot from IBM Guardium Data Security Center with colorful bar chart\" class=\"\" default-src=\"/content/dam/connectedassets-adobe-cms/worldwide-content/creative-assets/s-migr/ul/g/43/24/guardium-dsc-static-ui-4-3.component.tile-card-xl.ts=1731501464418.png/content/adobe-cms/us/en/homepage/jcr:content/root/table_of_contents/tile_group_container_1662354541/container/tile_card/image\" id=\"image--504210012\" slot=\"image\">\n",
      "             <dds-image-item media=\"(min-width: 1312px) and (min-resolution: 192dpi)\" srcset=\"/content/dam/connectedassets-adobe-cms/worldwide-content/creative-assets/s-migr/ul/g/43/24/guardium-dsc-static-ui-4-3.component.tile-card-xl-retina.ts=1731501464418.png/content/adobe-cms/us/en/homepage/jcr:content/root/table_of_contents/tile_group_container_1662354541/container/tile_card/image\">\n",
      "             </dds-image-item>\n",
      "             <dds-image-item media=\"(min-width: 1312px)\" srcset=\"/content/dam/connectedassets-adobe-cms/worldwide-content/creative-assets/s-migr/ul/g/43/24/guardium-dsc-static-ui-4-3.component.tile-card-xl.ts=1731501464418.png/content/adobe-cms/us/en/homepage/jcr:content/root/table_of_contents/tile_group_container_1662354541/container/tile_card/image\">\n",
      "             </dds-image-item>\n",
      "             <dds-image-item media=\"(min-width: 1056px) and (min-resolution: 192dpi)\" srcset=\"/content/dam/connectedassets-adobe-cms/worldwide-content/creative-assets/s-migr/ul/g/43/24/guardium-dsc-static-ui-4-3.component.tile-card-l-retina.ts=1731501464418.png/content/adobe-cms/us/en/homepage/jcr:content/root/table_of_contents/tile_group_container_1662354541/container/tile_card/image\">\n",
      "             </dds-image-item>\n",
      "             <dds-image-item media=\"(min-width: 1056px)\" srcset=\"/content/dam/connectedassets-adobe-cms/worldwide-content/creative-assets/s-migr/ul/g/43/24/guardium-dsc-static-ui-4-3.component.tile-card-l.ts=1731501464418.png/content/adobe-cms/us/en/homepage/jcr:content/root/table_of_contents/tile_group_container_1662354541/container/tile_card/image\">\n",
      "             </dds-image-item>\n",
      "             <dds-image-item media=\"(min-width: 672px) and (min-resolution: 192dpi)\" srcset=\"/content/dam/connectedassets-adobe-cms/worldwide-content/creative-assets/s-migr/ul/g/43/24/guardium-dsc-static-ui-4-3.component.tile-card-m-retina.ts=1731501464418.png/content/adobe-cms/us/en/homepage/jcr:content/root/table_of_contents/tile_group_container_1662354541/container/tile_card/image\">\n",
      "             </dds-image-item>\n",
      "             <dds-image-item media=\"(min-width: 672px)\" srcset=\"/content/dam/connectedassets-adobe-cms/worldwide-content/creative-assets/s-migr/ul/g/43/24/guardium-dsc-static-ui-4-3.component.tile-card-m.ts=1731501464418.png/content/adobe-cms/us/en/homepage/jcr:content/root/table_of_contents/tile_group_container_1662354541/container/tile_card/image\">\n",
      "             </dds-image-item>\n",
      "             <dds-image-item media=\"(min-width: 481px) and (min-resolution: 192dpi)\" srcset=\"/content/dam/connectedassets-adobe-cms/worldwide-content/creative-assets/s-migr/ul/g/43/24/guardium-dsc-static-ui-4-3.component.tile-card-s-retina.ts=1731501464418.png/content/adobe-cms/us/en/homepage/jcr:content/root/table_of_contents/tile_group_container_1662354541/container/tile_card/image\">\n",
      "             </dds-image-item>\n",
      "             <dds-image-item media=\"(min-width: 481px)\" srcset=\"/content/dam/connectedassets-adobe-cms/worldwide-content/creative-assets/s-migr/ul/g/43/24/guardium-dsc-static-ui-4-3.component.tile-card-s.ts=1731501464418.png/content/adobe-cms/us/en/homepage/jcr:content/root/table_of_contents/tile_group_container_1662354541/container/tile_card/image\">\n",
      "             </dds-image-item>\n",
      "             <dds-image-item media=\"(max-width: 480px) and (min-resolution: 192dpi)\" srcset=\"/content/dam/connectedassets-adobe-cms/worldwide-content/creative-assets/s-migr/ul/g/43/24/guardium-dsc-static-ui-4-3.component.tile-card-xs-retina.ts=1731501464418.png/content/adobe-cms/us/en/homepage/jcr:content/root/table_of_contents/tile_group_container_1662354541/container/tile_card/image\">\n",
      "             </dds-image-item>\n",
      "             <dds-image-item media=\"(max-width: 480px)\" srcset=\"/content/dam/connectedassets-adobe-cms/worldwide-content/creative-assets/s-migr/ul/g/43/24/guardium-dsc-static-ui-4-3.component.tile-card-xs.ts=1731501464418.png/content/adobe-cms/us/en/homepage/jcr:content/root/table_of_contents/tile_group_container_1662354541/container/tile_card/image\">\n",
      "             </dds-image-item>\n",
      "            </dds-image>\n",
      "            Protect your data with IBM Guardium Data Security Center\n",
      "            <p slot=\"cta\">\n",
      "            </p>\n",
      "           </caem-tile>\n",
      "           <div class=\"caem-card-svg-source\" hidden=\"\">\n",
      "            <svg id=\"accelerated-computing\" viewbox=\"0 0 32 32\" xmlns=\"http://www.w3.org/2000/svg\">\n",
      "             <path d=\"M19,29.36c-3.401,0-6.596-1.506-8.764-4.131l0.556-0.459c2.03,2.459,5.022,3.869,8.208,3.869 c5.867,0,10.64-4.772,10.64-10.64c0-5.867-4.772-10.64-10.64-10.64c-3.186,0-6.177,1.411-8.208,3.87l-0.555-0.459 c2.091-2.532,5.137-4.022,8.403-4.125V5.36H16c-0.199,0-0.36-0.161-0.36-0.36V3c0-0.199,0.161-0.36,0.36-0.36h6 c0.199,0,0.36,0.161,0.36,0.36v2c0,0.199-0.161,0.36-0.36,0.36h-2.64v1.286c6.098,0.191,11,5.211,11,11.354 C30.36,24.264,25.264,29.36,19,29.36z M16.36,4.64h5.28V3.36h-5.28V4.64z M14,23.36H4v-0.72h10V23.36z M12,18.36H2v-0.72h10V18.36z M19.179,18.312l-0.357-0.625l7-4l0.357,0.625L19.179,18.312z M14,13.36H4v-0.72h10V13.36z\">\n",
      "             </path>\n",
      "            </svg>\n",
      "           </div>\n",
      "          </caem-tile-group>\n",
      "         </div>\n",
      "        </div>\n",
      "        <div class=\"modular-container container responsivegrid\">\n",
      "         <div class=\"cmp-container\" id=\"modular-container-0a2da8a4d0\">\n",
      "          <div class=\"standalone-text rich-text text\">\n",
      "          </div>\n",
      "         </div>\n",
      "        </div>\n",
      "        <div class=\"50-50-content-block\">\n",
      "         <div class=\"bx--50-50-content-block\">\n",
      "          <div class=\"bx--row\">\n",
      "           <caem-heading class=\"bx--50-50-content-block__heading bx--col-lg-8\" type=\"h2\" type-style=\"expressive-heading-05\">\n",
      "            AI insights and tools\n",
      "           </caem-heading>\n",
      "          </div>\n",
      "          <div class=\"bx--row\">\n",
      "           <div class=\"bx--50-50-content-block__item bx--col-lg-8\">\n",
      "            <div class=\"bx--content-block-50-50-card\">\n",
      "             <div class=\"bx--no-gutter bx--content-block-50-50-card__media\">\n",
      "             </div>\n",
      "             <div class=\"bx--content-block-50-50-card__heading\">\n",
      "              <caem-heading type=\"h4\" type-style=\"expressive-heading-04\">\n",
      "               <span class=\"enhanced-title text-color-gradient-90-blue-to-teal\">\n",
      "                For developers\n",
      "               </span>\n",
      "              </caem-heading>\n",
      "             </div>\n",
      "             <div>\n",
      "              <div class=\"bx--content-block-50-50-card__body\">\n",
      "               <div class=\"cmp-container\" id=\"content-block-container-6afdf3f2d4\">\n",
      "                <div class=\"standalone-text rich-text text\">\n",
      "                 <caem-paragraph size=\"normal\">\n",
      "                  <p>\n",
      "                   Grow your skills and create something new with our AI tools and foundation models. Then connect, collaborate and innovate with your peers.\n",
      "                  </p>\n",
      "                 </caem-paragraph>\n",
      "                </div>\n",
      "                <div class=\"link button\">\n",
      "                 <a cta-type=\"local\" data-dynamic-properties='{\"ctaUrl\":\"href\"}' data-link-type=\"local\" href=\"https://www.ibm.com/granite?lnk=dev\" icon-placement=\"right\" target=\"_self\">\n",
      "                  <span class=\"bx--link-text\" data-dynamic-inner-content=\"ctaLabel\" data-link-text=\"\">\n",
      "                   Start building with IBM Granite 3.0 models\n",
      "                  </span>\n",
      "                  <!-- LTR - Left to Right version -->\n",
      "                  <svg aria-hidden=\"true\" fill=\"currentColor\" focusable=\"false\" height=\"20\" slot=\"icon\" viewbox=\"0 0 20 20\" width=\"20\" xmlns=\"http://www.w3.org/2000/svg\">\n",
      "                   <path d=\"M11.8 2.8L10.8 3.8 16.2 9.3 1 9.3 1 10.7 16.2 10.7 10.8 16.2 11.8 17.2 19 10z\">\n",
      "                   </path>\n",
      "                  </svg>\n",
      "                  <!-- RTL - Right to Left version -->\n",
      "                 </a>\n",
      "                </div>\n",
      "                <div class=\"link button\">\n",
      "                 <a cta-type=\"local\" data-dynamic-properties='{\"ctaUrl\":\"href\"}' data-link-type=\"local\" href=\"https://developer.ibm.com/technologies/artificial-intelligence?lnk=dev\" icon-placement=\"right\" target=\"_self\">\n",
      "                  <span class=\"bx--link-text\" data-dynamic-inner-content=\"ctaLabel\" data-link-text=\"\">\n",
      "                   Explore AI courses, APIs, data sets and more\n",
      "                  </span>\n",
      "                  <!-- LTR - Left to Right version -->\n",
      "                  <svg aria-hidden=\"true\" fill=\"currentColor\" focusable=\"false\" height=\"20\" slot=\"icon\" viewbox=\"0 0 20 20\" width=\"20\" xmlns=\"http://www.w3.org/2000/svg\">\n",
      "                   <path d=\"M11.8 2.8L10.8 3.8 16.2 9.3 1 9.3 1 10.7 16.2 10.7 10.8 16.2 11.8 17.2 19 10z\">\n",
      "                   </path>\n",
      "                  </svg>\n",
      "                  <!-- RTL - Right to Left version -->\n",
      "                 </a>\n",
      "                </div>\n",
      "                <div class=\"link button\">\n",
      "                 <a cta-type=\"local\" data-dynamic-properties='{\"ctaUrl\":\"href\"}' data-link-type=\"local\" href=\"https://www.ibm.com/products/watsonx-code-assistant?lnk=dev\" icon-placement=\"right\" target=\"_self\">\n",
      "                  <span class=\"bx--link-text\" data-dynamic-inner-content=\"ctaLabel\" data-link-text=\"\">\n",
      "                   Accelerate software development with watsonx Code Assistant\n",
      "                  </span>\n",
      "                  <!-- LTR - Left to Right version -->\n",
      "                  <svg aria-hidden=\"true\" fill=\"currentColor\" focusable=\"false\" height=\"20\" slot=\"icon\" viewbox=\"0 0 20 20\" width=\"20\" xmlns=\"http://www.w3.org/2000/svg\">\n",
      "                   <path d=\"M11.8 2.8L10.8 3.8 16.2 9.3 1 9.3 1 10.7 16.2 10.7 10.8 16.2 11.8 17.2 19 10z\">\n",
      "                   </path>\n",
      "                  </svg>\n",
      "                  <!-- RTL - Right to Left version -->\n",
      "                 </a>\n",
      "                </div>\n",
      "                <div class=\"link button\">\n",
      "                 <a cta-type=\"local\" data-dynamic-properties='{\"ctaUrl\":\"href\"}' data-link-type=\"local\" href=\"https://www.ibm.com/watsonx/developer/?lnk=dev\" icon-placement=\"right\" target=\"_self\">\n",
      "                  <span class=\"bx--link-text\" data-dynamic-inner-content=\"ctaLabel\" data-link-text=\"\">\n",
      "                   Check out the watsonx.ai Developer Toolkit\n",
      "                  </span>\n",
      "                  <!-- LTR - Left to Right version -->\n",
      "                  <svg aria-hidden=\"true\" fill=\"currentColor\" focusable=\"false\" height=\"20\" slot=\"icon\" viewbox=\"0 0 20 20\" width=\"20\" xmlns=\"http://www.w3.org/2000/svg\">\n",
      "                   <path d=\"M11.8 2.8L10.8 3.8 16.2 9.3 1 9.3 1 10.7 16.2 10.7 10.8 16.2 11.8 17.2 19 10z\">\n",
      "                   </path>\n",
      "                  </svg>\n",
      "                  <!-- RTL - Right to Left version -->\n",
      "                 </a>\n",
      "                </div>\n",
      "               </div>\n",
      "              </div>\n",
      "             </div>\n",
      "            </div>\n",
      "           </div>\n",
      "           <div class=\"bx--50-50-content-block__item bx--col-lg-8\">\n",
      "            <div class=\"bx--content-block-50-50-card\">\n",
      "             <div class=\"bx--no-gutter bx--content-block-50-50-card__media\">\n",
      "             </div>\n",
      "             <div class=\"bx--content-block-50-50-card__heading\">\n",
      "              <caem-heading type=\"h4\" type-style=\"expressive-heading-04\">\n",
      "               <span class=\"enhanced-title text-color-gradient-90-blue-to-teal\">\n",
      "                For business leaders\n",
      "               </span>\n",
      "              </caem-heading>\n",
      "             </div>\n",
      "             <div>\n",
      "              <div class=\"bx--content-block-50-50-card__body\">\n",
      "               <div class=\"cmp-container\" id=\"content-block-container-5a692cba75\">\n",
      "                <div class=\"standalone-text rich-text text\">\n",
      "                 <caem-paragraph size=\"normal\">\n",
      "                  <p>\n",
      "                   Transform business and drive growth with AI tools, technology and insights that help you stay competitive—and responsibly map your organization's future.\n",
      "                  </p>\n",
      "                 </caem-paragraph>\n",
      "                </div>\n",
      "                <div class=\"link button\">\n",
      "                 <a cta-type=\"local\" data-dynamic-properties='{\"ctaUrl\":\"href\"}' data-link-type=\"local\" href=\"https://www.ibm.com/thought-leadership/institute-business-value/report/ceo-generative-ai?lnk=bus\" icon-placement=\"right\" target=\"_self\">\n",
      "                  <span class=\"bx--link-text\" data-dynamic-inner-content=\"ctaLabel\" data-link-text=\"\">\n",
      "                   Read the CEO's guide to generative AI\n",
      "                  </span>\n",
      "                  <!-- LTR - Left to Right version -->\n",
      "                  <svg aria-hidden=\"true\" fill=\"currentColor\" focusable=\"false\" height=\"20\" slot=\"icon\" viewbox=\"0 0 20 20\" width=\"20\" xmlns=\"http://www.w3.org/2000/svg\">\n",
      "                   <path d=\"M11.8 2.8L10.8 3.8 16.2 9.3 1 9.3 1 10.7 16.2 10.7 10.8 16.2 11.8 17.2 19 10z\">\n",
      "                   </path>\n",
      "                  </svg>\n",
      "                  <!-- RTL - Right to Left version -->\n",
      "                 </a>\n",
      "                </div>\n",
      "                <div class=\"link button\">\n",
      "                 <a cta-type=\"local\" data-dynamic-properties='{\"ctaUrl\":\"href\"}' data-link-type=\"local\" href=\"https://www.ibm.com/think/reports/ai-in-action?lnk=bus\" icon-placement=\"right\" target=\"_self\">\n",
      "                  <span class=\"bx--link-text\" data-dynamic-inner-content=\"ctaLabel\" data-link-text=\"\">\n",
      "                   Read the AI in Action report\n",
      "                  </span>\n",
      "                  <!-- LTR - Left to Right version -->\n",
      "                  <svg aria-hidden=\"true\" fill=\"currentColor\" focusable=\"false\" height=\"20\" slot=\"icon\" viewbox=\"0 0 20 20\" width=\"20\" xmlns=\"http://www.w3.org/2000/svg\">\n",
      "                   <path d=\"M11.8 2.8L10.8 3.8 16.2 9.3 1 9.3 1 10.7 16.2 10.7 10.8 16.2 11.8 17.2 19 10z\">\n",
      "                   </path>\n",
      "                  </svg>\n",
      "                  <!-- RTL - Right to Left version -->\n",
      "                 </a>\n",
      "                </div>\n",
      "                <div class=\"link button\">\n",
      "                 <a cta-type=\"local\" data-dynamic-properties='{\"ctaUrl\":\"href\"}' data-link-type=\"local\" href=\"https://www.ibm.com/products/watsonx-orchestrate/ai-agent-for-hr?lnk=bus\" icon-placement=\"right\" target=\"_self\">\n",
      "                  <span class=\"bx--link-text\" data-dynamic-inner-content=\"ctaLabel\" data-link-text=\"\">\n",
      "                   Deploy an AI agent for HR with watsonx Orchestrate\n",
      "                  </span>\n",
      "                  <!-- LTR - Left to Right version -->\n",
      "                  <svg aria-hidden=\"true\" fill=\"currentColor\" focusable=\"false\" height=\"20\" slot=\"icon\" viewbox=\"0 0 20 20\" width=\"20\" xmlns=\"http://www.w3.org/2000/svg\">\n",
      "                   <path d=\"M11.8 2.8L10.8 3.8 16.2 9.3 1 9.3 1 10.7 16.2 10.7 10.8 16.2 11.8 17.2 19 10z\">\n",
      "                   </path>\n",
      "                  </svg>\n",
      "                  <!-- RTL - Right to Left version -->\n",
      "                 </a>\n",
      "                </div>\n",
      "                <div class=\"link button\">\n",
      "                 <a cta-type=\"external\" data-dynamic-properties='{\"ctaUrl\":\"href\"}' data-link-type=\"external\" href=\"https://skillsbuild.org/adult-learners/explore-learning/artificial-intelligence?lnk=bus\" icon-placement=\"right\" target=\"_self\">\n",
      "                  <span class=\"bx--link-text\" data-dynamic-inner-content=\"ctaLabel\" data-link-text=\"\">\n",
      "                   Power up your AI skills for free\n",
      "                  </span>\n",
      "                  <!-- LTR - Left to Right version -->\n",
      "                  <!-- RTL - Right to Left version -->\n",
      "                  <svg aria-hidden=\"true\" fill=\"currentColor\" focusable=\"false\" height=\"20\" slot=\"icon\" viewbox=\"0 0 32 32\" width=\"20\" xmlns=\"http://www.w3.org/2000/svg\">\n",
      "                   <path d=\"M26,28H6a2.0027,2.0027,0,0,1-2-2V6A2.0027,2.0027,0,0,1,6,4H16V6H6V26H26V16h2V26A2.0027,2.0027,0,0,1,26,28Z\">\n",
      "                   </path>\n",
      "                   <path d=\"M20 2L20 4 26.586 4 18 12.586 19.414 14 28 5.414 28 12 30 12 30 2 20 2z\">\n",
      "                   </path>\n",
      "                  </svg>\n",
      "                 </a>\n",
      "                </div>\n",
      "               </div>\n",
      "              </div>\n",
      "             </div>\n",
      "            </div>\n",
      "           </div>\n",
      "          </div>\n",
      "          <div>\n",
      "           <dds-hr>\n",
      "           </dds-hr>\n",
      "          </div>\n",
      "         </div>\n",
      "        </div>\n",
      "        <div class=\"promotional-banner\">\n",
      "         <caem-promo-banner class=\"theme-g90\">\n",
      "          <dds-image alt=\"Illustration of 30% in shades of blue\" class=\"\" default-src=\"/content/dam/connectedassets-adobe-cms/worldwide-content/creative-assets/s-migr/ul/g/90/7e/30-promo-image.png\" id=\"image--1249531527\" slot=\"image\">\n",
      "          </dds-image>\n",
      "          <caem-paragraph data-autoid=\"caem--paragraph\" size=\"lead-in\" type-style=\"productive-heading-02\">\n",
      "           <p>\n",
      "            Save 30% this November\n",
      "           </p>\n",
      "          </caem-paragraph>\n",
      "          <caem-paragraph data-autoid=\"caem--paragraph\" size=\"normal\">\n",
      "           <p>\n",
      "            Whether you’re just starting or well into your enterprise AI journey, accelerate your business success with special offers on select IBM products\n",
      "           </p>\n",
      "          </caem-paragraph>\n",
      "          <dds-button-cta aria-label=\"Explore and register for TechXchange\" cta-type=\"local\" href=\"https://www.ibm.com/products/offers-and-discounts?lnk=hpUSbt1\" kind=\"primary\" slot=\"cta\" target=\"_self\">\n",
      "           <span>\n",
      "            See current promotions\n",
      "           </span>\n",
      "          </dds-button-cta>\n",
      "         </caem-promo-banner>\n",
      "        </div>\n",
      "        <div class=\"card-group-pictogram-full-width card-group-pictogram themed-block theme-white\">\n",
      "         <div class=\"bx--content-block\">\n",
      "          <h2 class=\"bx--content-block__heading\" data-autoid=\"dds--content-block__heading\">\n",
      "           <span class=\"enhanced-title\">\n",
      "            Technology &amp; Consulting\n",
      "           </span>\n",
      "          </h2>\n",
      "          <div class=\"bx--content-block__copy\">\n",
      "           <div class=\"cms-richtext\" data-dynamic-inner-content=\"description\" id=\"rich-text-7516bf045c\">\n",
      "            <p>\n",
      "             From\n",
      "             <a href=\"https://www.ibm.com/artificial-intelligence?lnk=ProdC\">\n",
      "              next-generation AI\n",
      "             </a>\n",
      "             to cutting edge\n",
      "             <a href=\"https://www.ibm.com/hybrid-cloud?lnk=ProdC\">\n",
      "              hybrid cloud solutions\n",
      "             </a>\n",
      "             to the deep expertise of\n",
      "             <a href=\"https://www.ibm.com/consulting?lnk=ProdC\">\n",
      "              IBM Consulting\n",
      "             </a>\n",
      "             , IBM has what it takes to help you reinvent how your business works in the age of AI.\n",
      "            </p>\n",
      "           </div>\n",
      "          </div>\n",
      "          <caem-card-group cards-per-row=\"4\" class=\"themed-pictogram themed-pictogram--blue-teal-gradient\" data-autoid=\"dds--card-group\" grid-mode=\"border\" style=\"--dds--card-group--cards-in-row:4\">\n",
      "           <caem-card color-scheme=\"\" cta-type=\"local\" data-autoid=\"caem--card\" href=\"https://www.ibm.com/artificial-intelligence?lnk=ProdC\" pictogram-placement=\"bottom\" size=\"\" target=\"_self\">\n",
      "            <caem-card-heading aria-level=\"3\" data-autoid=\"caem--card-heading\" role=\"heading\" slot=\"heading\">\n",
      "             AI solutions\n",
      "            </caem-card-heading>\n",
      "            <svg class=\"bx--card__pictogram\" data-autoid=\"caem--card__pictogram\" focusable=\"false\" height=\"48\" role=\"img\" slot=\"pictogram\" style=\"--colorized-background:url('#g3'); fill: var(--colorized-background)\" width=\"48\">\n",
      "             <use href=\"#ai\">\n",
      "             </use>\n",
      "            </svg>\n",
      "            <p>\n",
      "             Go from AI pilots to production with AI technologies built for business\n",
      "            </p>\n",
      "            <caem-card-cta-footer color-scheme=\"\" cta-type=\"local\" data-autoid=\"caem--card-cta-footer\" href=\"https://www.ibm.com/artificial-intelligence?lnk=ProdC\" icon-placement=\"right\" parent-href=\"https://www.ibm.com/artificial-intelligence?lnk=ProdC\" slot=\"footer\" target=\"_self\">\n",
      "            </caem-card-cta-footer>\n",
      "            <div class=\"caem-card-svg-source\">\n",
      "             <svg id=\"ai\" viewbox=\"0 0 32 32\" xmlns=\"http://www.w3.org/2000/svg\">\n",
      "              <path d=\"M16.195,31.36c-6.421,0-12.169-4.007-14.399-10.002 C1.051,21.408,0.373,20.771,0.372,20c0-0.75,0.61-1.36,1.36-1.36s1.36,0.61,1.36,1.36c0,0.474-0.243,0.892-0.611,1.135 c2.133,5.698,7.604,9.505,13.714,9.505c6.446,0,11.919-4.301,13.773-10.22c-1.448,2.06-3.877,3.44-6.565,3.44 c-3.822,0-7.066-2.785-7.664-6.525C15.113,17.212,14.64,16.661,14.64,16c0-0.584,0.37-1.083,0.888-1.275 c-0.608-3.421-3.615-5.962-7.125-5.962c-3.947,0-7.04,3.176-7.042,7.231c0,0.002,0,0.004,0,0.006H0.64c0-0.002,0-0.004,0-0.007 C0.644,7.526,7.445,0.64,15.805,0.64c6.42,0,12.168,4.006,14.399,10.001c0.777-0.034,1.425,0.587,1.425,1.358 c0,0.75-0.61,1.36-1.36,1.36s-1.36-0.61-1.36-1.36c0-0.473,0.243-0.891,0.611-1.135C27.387,5.166,21.916,1.36,15.805,1.36 c-6.319,0-11.704,4.134-13.659,9.873c1.402-1.949,3.662-3.19,6.256-3.19c3.881,0,7.204,2.826,7.846,6.62 C16.88,14.779,17.36,15.335,17.36,16c0,0.589-0.376,1.092-0.901,1.28c0.567,3.363,3.496,5.859,6.943,5.859 c3.857,0,7.127-3.118,7.235-6.851c0.001-0.096,0.002-0.192,0.002-0.289h0.721c0,0.033,0,0.065-0.001,0.098h0.001 c0,0.069-0.001,0.138-0.003,0.207C31.196,24.634,24.456,31.36,16.195,31.36z M1.732,19.36c-0.353,0-0.64,0.287-0.64,0.64 s0.287,0.64,0.64,0.64s0.64-0.287,0.64-0.64S2.085,19.36,1.732,19.36z M16,15.36c-0.353,0-0.64,0.287-0.64,0.64 s0.287,0.64,0.64,0.64s0.64-0.287,0.64-0.64S16.353,15.36,16,15.36z M30.269,11.36c-0.353,0-0.64,0.287-0.64,0.64 s0.287,0.64,0.64,0.64s0.64-0.287,0.64-0.64S30.621,11.36,30.269,11.36z\">\n",
      "              </path>\n",
      "             </svg>\n",
      "            </div>\n",
      "           </caem-card>\n",
      "           <caem-card color-scheme=\"\" cta-type=\"local\" data-autoid=\"caem--card\" href=\"https://www.ibm.com/granite?lnk=ProdC\" pictogram-placement=\"bottom\" size=\"\" target=\"_self\">\n",
      "            <caem-card-heading aria-level=\"3\" data-autoid=\"caem--card-heading\" role=\"heading\" slot=\"heading\">\n",
      "             AI models\n",
      "            </caem-card-heading>\n",
      "            <svg class=\"bx--card__pictogram\" data-autoid=\"caem--card__pictogram\" focusable=\"false\" height=\"48\" role=\"img\" slot=\"pictogram\" style=\"--colorized-background:url('#g3'); fill: var(--colorized-background)\" width=\"48\">\n",
      "             <use href=\"#app--developer\">\n",
      "             </use>\n",
      "            </svg>\n",
      "            <p>\n",
      "             Get started with cost-efficient AI models, tailored for business and optimized for scale\n",
      "            </p>\n",
      "            <caem-card-cta-footer color-scheme=\"\" cta-type=\"local\" data-autoid=\"caem--card-cta-footer\" href=\"https://www.ibm.com/granite?lnk=ProdC\" icon-placement=\"right\" parent-href=\"https://www.ibm.com/granite?lnk=ProdC\" slot=\"footer\" target=\"_self\">\n",
      "            </caem-card-cta-footer>\n",
      "            <div class=\"caem-card-svg-source\">\n",
      "             <svg id=\"app--developer\" viewbox=\"0 0 32 32\" xmlns=\"http://www.w3.org/2000/svg\">\n",
      "              <path d=\"M3.254,9.254L2.746,8.746L3.991,7.5L2.746,6.254l0.509-0.509L5.009,7.5L3.254,9.254z M3,2 C2.724,2,2.5,2.224,2.5,2.5S2.724,3,3,3s0.5-0.224,0.5-0.5S3.276,2,3,2z M5.5,2.5C5.5,2.776,5.276,3,5,3S4.5,2.776,4.5,2.5 S4.724,2,5,2S5.5,2.224,5.5,2.5z M7.5,2.5C7.5,2.776,7.276,3,7,3S6.5,2.776,6.5,2.5S6.724,2,7,2S7.5,2.224,7.5,2.5z M18.5,6.5 C18.5,6.776,18.276,7,18,7s-0.5-0.224-0.5-0.5S17.724,6,18,6S18.5,6.224,18.5,6.5z M20.5,6.5C20.5,6.776,20.276,7,20,7 s-0.5-0.224-0.5-0.5S19.724,6,20,6S20.5,6.224,20.5,6.5z M22.5,6.5C22.5,6.776,22.276,7,22,7s-0.5-0.224-0.5-0.5S21.724,6,22,6 S22.5,6.224,22.5,6.5z M5.5,24.5C5.5,24.776,5.276,25,5,25s-0.5-0.224-0.5-0.5S4.724,24,5,24S5.5,24.224,5.5,24.5z M13,14.36H1 c-0.199,0-0.36-0.161-0.36-0.36V1c0-0.199,0.161-0.36,0.36-0.36h12c0.199,0,0.36,0.161,0.36,0.36v13 C13.36,14.199,13.199,14.36,13,14.36z M12.64,4.36H1.36v9.28h11.28C12.64,13.64,12.64,4.36,12.64,4.36z M12.64,1.36H1.36v2.281 h11.28C12.64,3.641,12.64,1.36,12.64,1.36z M31.36,5v17c0,0.199-0.161,0.36-0.36,0.36H19.691c-0.301,0.471-0.69,0.885-1.152,1.215 c2.875,1.05,4.819,3.778,4.819,6.902l0.002,0.521L22.639,31l-0.002-0.522c0-3.078-2.09-5.729-5.083-6.45 c-0.15-0.035-0.26-0.163-0.274-0.316s0.07-0.299,0.211-0.361c1.315-0.592,2.165-1.9,2.165-3.334c0-2.017-1.64-3.657-3.656-3.657 c-2.018,0-3.66,1.64-3.66,3.657c0,1.434,0.85,2.742,2.166,3.334c0.141,0.062,0.225,0.208,0.211,0.361s-0.125,0.281-0.274,0.316 c-2.993,0.721-5.084,3.372-5.084,6.449l0.001,0.521L8.64,31l-0.001-0.522c0-3.125,1.943-5.854,4.819-6.903 c-1.138-0.812-1.838-2.134-1.838-3.559c0-2.292,1.772-4.178,4.02-4.362V5c0-0.199,0.161-0.36,0.36-0.36h15 C31.199,4.64,31.36,4.801,31.36,5z M30.64,8.36H16.36v7.295c2.246,0.184,4.017,2.07,4.017,4.362c0,0.566-0.11,1.115-0.315,1.623 H30.64V8.36z M30.64,5.36H16.36v2.28h14.28V5.36z M22,11.64h-4v0.72h4V11.64z M23.64,17.5c0-1.577,1.283-2.86,2.86-2.86 s2.86,1.283,2.86,2.86s-1.283,2.86-2.86,2.86S23.64,19.077,23.64,17.5z M28.242,16.266l-1.383,1.383l-0.004,1.955 c1.01-0.171,1.784-1.046,1.784-2.104C28.64,17.04,28.49,16.615,28.242,16.266z M24.36,17.5c0,1.055,0.769,1.928,1.774,2.103 l0.006-2.253l1.592-1.593c-0.349-0.248-0.773-0.397-1.233-0.397C25.32,15.36,24.36,16.32,24.36,17.5z M8,9.64H5v0.72h3V9.64z M3.5,21.36h3v-0.72h-3V21.36z M3.5,19.36h3v-0.72h-3V19.36z M22,13.64h-4v0.72h4V13.64z M29,11.64h-4v0.72h4V11.64z M29,9.64h-4 v0.72h4V9.64z M22,9.64h-4v0.72h4V9.64z M8.36,17.584v7.832c0,0.521-0.423,0.944-0.944,0.944H2.584 c-0.521,0-0.944-0.424-0.944-0.944v-7.832c0-0.521,0.423-0.944,0.944-0.944h4.832C7.937,16.64,8.36,17.063,8.36,17.584z M7.64,23.36 H2.36v2.056c0,0.123,0.101,0.224,0.224,0.224h4.832c0.124,0,0.224-0.101,0.224-0.224C7.64,25.416,7.64,23.36,7.64,23.36z M7.64,17.584c0-0.123-0.101-0.224-0.224-0.224H2.584c-0.124,0-0.224,0.101-0.224,0.224v5.056h5.28 C7.64,22.64,7.64,17.584,7.64,17.584z\">\n",
      "              </path>\n",
      "             </svg>\n",
      "            </div>\n",
      "           </caem-card>\n",
      "           <caem-card color-scheme=\"\" cta-type=\"local\" data-autoid=\"caem--card\" href=\"https://www.ibm.com/consulting?lnk=ProdC\" pictogram-placement=\"bottom\" size=\"\" target=\"_self\">\n",
      "            <caem-card-heading aria-level=\"3\" data-autoid=\"caem--card-heading\" role=\"heading\" slot=\"heading\">\n",
      "             Consulting\n",
      "            </caem-card-heading>\n",
      "            <svg class=\"bx--card__pictogram\" data-autoid=\"caem--card__pictogram\" focusable=\"false\" height=\"48\" role=\"img\" slot=\"pictogram\" style=\"--colorized-background:url('#g3'); fill: var(--colorized-background)\" width=\"48\">\n",
      "             <use href=\"#group\">\n",
      "             </use>\n",
      "            </svg>\n",
      "            <p>\n",
      "             Engage with IBM Consulting to design, build and operate high-performing businesses\n",
      "            </p>\n",
      "            <caem-card-cta-footer color-scheme=\"\" cta-type=\"local\" data-autoid=\"caem--card-cta-footer\" href=\"https://www.ibm.com/consulting?lnk=ProdC\" icon-placement=\"right\" parent-href=\"https://www.ibm.com/consulting?lnk=ProdC\" slot=\"footer\" target=\"_self\">\n",
      "            </caem-card-cta-footer>\n",
      "            <div class=\"caem-card-svg-source\">\n",
      "             <svg id=\"group\" viewbox=\"0 0 32 32\" xmlns=\"http://www.w3.org/2000/svg\">\n",
      "              <path d=\"M24.36,31h-0.72v-7.5c0-3.552-2.414-6.604-5.872-7.424c-0.15-0.036-0.261-0.163-0.275-0.316 c-0.015-0.154,0.071-0.3,0.212-0.363c1.517-0.675,2.496-2.181,2.496-3.836c0-2.316-1.884-4.201-4.2-4.201S11.8,9.244,11.8,11.561 c0,1.655,0.98,3.162,2.496,3.836c0.141,0.063,0.227,0.209,0.212,0.363c-0.014,0.153-0.125,0.281-0.275,0.316 c-3.458,0.82-5.872,3.872-5.872,7.424V31H7.64v-7.5c0-3.592,2.257-6.718,5.585-7.879c-1.326-0.907-2.146-2.421-2.146-4.061 c0-1.964,1.157-3.664,2.826-4.452C14.101,6.617,14.2,6.097,14.2,5.561c0-2.316-1.884-4.201-4.2-4.201S5.799,3.244,5.799,5.561 c0,1.656,0.98,3.162,2.496,3.836C8.437,9.46,8.521,9.606,8.507,9.76c-0.014,0.153-0.125,0.281-0.275,0.316 C4.774,10.896,2.36,13.948,2.36,17.5V25H1.64v-7.5c0-3.592,2.257-6.718,5.585-7.879C5.899,8.714,5.08,7.2,5.08,5.561 c0-2.713,2.207-4.92,4.92-4.92s4.92,2.207,4.92,4.92c0,0.422-0.052,0.836-0.157,1.237c0.791-0.205,1.683-0.205,2.473,0 c-0.104-0.401-0.157-0.815-0.157-1.237c0-2.713,2.208-4.92,4.921-4.92s4.921,2.207,4.921,4.92c0,1.64-0.82,3.154-2.146,4.061 c3.329,1.161,5.586,4.287,5.586,7.879V25H29.64v-7.5c0-3.552-2.414-6.604-5.872-7.424c-0.15-0.036-0.261-0.163-0.275-0.316 c-0.015-0.154,0.071-0.3,0.212-0.363C25.221,8.722,26.2,7.216,26.2,5.561c0-2.316-1.884-4.201-4.2-4.201s-4.2,1.884-4.2,4.201 c0,0.536,0.099,1.056,0.295,1.548c1.669,0.789,2.826,2.488,2.826,4.452c0,1.64-0.82,3.154-2.146,4.061 c3.329,1.161,5.586,4.287,5.586,7.879L24.36,31L24.36,31z\">\n",
      "              </path>\n",
      "             </svg>\n",
      "            </div>\n",
      "           </caem-card>\n",
      "           <caem-card color-scheme=\"\" cta-type=\"local\" data-autoid=\"caem--card\" href=\"https://www.ibm.com/analytics?lnk=ProdC\" pictogram-placement=\"bottom\" size=\"\" target=\"_self\">\n",
      "            <caem-card-heading aria-level=\"3\" data-autoid=\"caem--card-heading\" role=\"heading\" slot=\"heading\">\n",
      "             Analytics\n",
      "            </caem-card-heading>\n",
      "            <svg class=\"bx--card__pictogram\" data-autoid=\"caem--card__pictogram\" focusable=\"false\" height=\"48\" role=\"img\" slot=\"pictogram\" style=\"--colorized-background:url('#g3'); fill: var(--colorized-background)\" width=\"48\">\n",
      "             <use href=\"#predictive-analytics\">\n",
      "             </use>\n",
      "            </svg>\n",
      "            <p>\n",
      "             Support data-driven decisions for your business\n",
      "            </p>\n",
      "            <caem-card-cta-footer color-scheme=\"\" cta-type=\"local\" data-autoid=\"caem--card-cta-footer\" href=\"https://www.ibm.com/analytics?lnk=ProdC\" icon-placement=\"right\" parent-href=\"https://www.ibm.com/analytics?lnk=ProdC\" slot=\"footer\" target=\"_self\">\n",
      "            </caem-card-cta-footer>\n",
      "            <div class=\"caem-card-svg-source\">\n",
      "             <svg id=\"predictive-analytics\" viewbox=\"0 0 32 32\" xmlns=\"http://www.w3.org/2000/svg\">\n",
      "              <path d=\"M31,31.36H1c-0.199,0-0.36-0.161-0.36-0.36 V1h0.72v29.64h4.28v-7.328c-0.576-0.158-1-0.687-1-1.312c0-0.75,0.61-1.36,1.36-1.36c0.364,0,0.694,0.144,0.938,0.377l3.702-2.221 v-8.484c-0.576-0.158-1-0.686-1-1.312c0-0.75,0.61-1.36,1.36-1.36S12.36,8.25,12.36,9c0,0.625-0.424,1.153-1,1.312v8.053l3.33-1.998 c-0.032-0.116-0.05-0.239-0.05-0.366c0-0.75,0.61-1.36,1.36-1.36c0.364,0,0.695,0.144,0.939,0.377l3.701-2.221V6.312 c-0.575-0.158-1-0.686-1-1.312c0-0.75,0.61-1.36,1.36-1.36S22.36,4.25,22.36,5c0,0.625-0.425,1.153-1,1.312v6.053l3.33-1.998 c-0.033-0.117-0.05-0.24-0.05-0.367c0-0.75,0.61-1.36,1.36-1.36s1.36,0.61,1.36,1.36c0,0.625-0.425,1.153-1,1.312V30.64H31V31.36z M21.36,30.64h4.279V11.312c-0.22-0.061-0.418-0.175-0.578-0.328l-3.701,2.221V30.64z M16.36,30.64h4.28V13.636l-3.33,1.998 c0.033,0.116,0.05,0.239,0.05,0.366c0,0.625-0.425,1.153-1,1.312V30.64z M11.36,30.64h4.28V17.312 c-0.22-0.061-0.418-0.175-0.579-0.328l-3.702,2.221V30.64H11.36z M6.36,30.64h4.28V19.636l-3.33,1.998 C7.343,21.75,7.36,21.873,7.36,22c0,0.625-0.424,1.153-1,1.312V30.64z M6,21.36c-0.353,0-0.64,0.287-0.64,0.64S5.647,22.64,6,22.64 S6.64,22.353,6.64,22S6.353,21.36,6,21.36z M16,15.36c-0.353,0-0.64,0.287-0.64,0.64s0.287,0.64,0.64,0.64s0.64-0.287,0.64-0.64 S16.353,15.36,16,15.36z M26,9.36c-0.353,0-0.64,0.287-0.64,0.64s0.287,0.64,0.64,0.64s0.64-0.287,0.64-0.64S26.353,9.36,26,9.36z M11,8.36c-0.353,0-0.64,0.287-0.64,0.64S10.647,9.64,11,9.64S11.64,9.353,11.64,9S11.353,8.36,11,8.36z M21,4.36 c-0.353,0-0.64,0.287-0.64,0.64S20.647,5.64,21,5.64S21.64,5.353,21.64,5S21.353,4.36,21,4.36z\">\n",
      "              </path>\n",
      "             </svg>\n",
      "            </div>\n",
      "           </caem-card>\n",
      "           <caem-card color-scheme=\"\" cta-type=\"local\" data-autoid=\"caem--card\" href=\"https://www.ibm.com/automation?lnk=ProdC\" pictogram-placement=\"bottom\" size=\"\" target=\"_self\">\n",
      "            <caem-card-heading aria-level=\"3\" data-autoid=\"caem--card-heading\" role=\"heading\" slot=\"heading\">\n",
      "             IT automation\n",
      "            </caem-card-heading>\n",
      "            <svg class=\"bx--card__pictogram\" data-autoid=\"caem--card__pictogram\" focusable=\"false\" height=\"48\" role=\"img\" slot=\"pictogram\" style=\"--colorized-background:url('#g3'); fill: var(--colorized-background)\" width=\"48\">\n",
      "             <use href=\"#automation--decision\">\n",
      "             </use>\n",
      "            </svg>\n",
      "            <p>\n",
      "             Discover how automation solutions increase productivity while managing costs\n",
      "            </p>\n",
      "            <caem-card-cta-footer color-scheme=\"\" cta-type=\"local\" data-autoid=\"caem--card-cta-footer\" href=\"https://www.ibm.com/automation?lnk=ProdC\" icon-placement=\"right\" parent-href=\"https://www.ibm.com/automation?lnk=ProdC\" slot=\"footer\" target=\"_self\">\n",
      "            </caem-card-cta-footer>\n",
      "            <div class=\"caem-card-svg-source\">\n",
      "             <svg id=\"automation--decision\" viewbox=\"0 0 32 32\" xmlns=\"http://www.w3.org/2000/svg\">\n",
      "              <path d=\"M27.255,19.255L30.509,16l-3.254-3.254l-0.51,0.509l2.386,2.386H16.149L9.36,8.85V5.36h19.771 l-2.386,2.386l0.51,0.509L30.509,5l-3.254-3.254l-0.51,0.509l2.386,2.386H9C8.801,4.64,8.64,4.801,8.64,5v3.85l-6.895,6.896 c-0.141,0.141-0.141,0.368,0,0.509L8.64,23.15V27c0,0.199,0.161,0.36,0.36,0.36h20.131l-2.386,2.385l0.51,0.51L30.509,27 l-3.254-3.255l-0.51,0.51l2.386,2.385H9.36v-3.49l6.789-6.79h12.982l-2.386,2.385L27.255,19.255z M9,22.491L2.509,16L9,9.508 L15.491,16L9,22.491z\">\n",
      "              </path>\n",
      "             </svg>\n",
      "            </div>\n",
      "           </caem-card>\n",
      "           <caem-card color-scheme=\"\" cta-type=\"local\" data-autoid=\"caem--card\" href=\"https://www.ibm.com/servers?lnk=ProdC\" pictogram-placement=\"bottom\" size=\"\" target=\"_self\">\n",
      "            <caem-card-heading aria-level=\"3\" data-autoid=\"caem--card-heading\" role=\"heading\" slot=\"heading\">\n",
      "             Compute &amp; servers\n",
      "            </caem-card-heading>\n",
      "            <svg class=\"bx--card__pictogram\" data-autoid=\"caem--card__pictogram\" focusable=\"false\" height=\"48\" role=\"img\" slot=\"pictogram\" style=\"--colorized-background:url('#g3'); fill: var(--colorized-background)\" width=\"48\">\n",
      "             <use href=\"#storage--product\">\n",
      "             </use>\n",
      "            </svg>\n",
      "            <p>\n",
      "             Handle mission-critical workloads while maintaining security, reliability and control of your entire IT infrastructure\n",
      "            </p>\n",
      "            <caem-card-cta-footer color-scheme=\"\" cta-type=\"local\" data-autoid=\"caem--card-cta-footer\" href=\"https://www.ibm.com/servers?lnk=ProdC\" icon-placement=\"right\" parent-href=\"https://www.ibm.com/servers?lnk=ProdC\" slot=\"footer\" target=\"_self\">\n",
      "            </caem-card-cta-footer>\n",
      "            <div class=\"caem-card-svg-source\">\n",
      "             <svg id=\"storage--product\" viewbox=\"0 0 32 32\" xmlns=\"http://www.w3.org/2000/svg\">\n",
      "              <path d=\"M30,31.36H8c-0.199,0-0.36-0.161-0.36-0.36v-5c0-0.199,0.161-0.36,0.36-0.36h22 c0.199,0,0.36,0.161,0.36,0.36v5C30.36,31.199,30.199,31.36,30,31.36z M8.36,30.64h21.28v-4.28H8.36V30.64z M6,31.36H2 c-0.199,0-0.36-0.161-0.36-0.36V1c0-0.199,0.161-0.36,0.36-0.36h11c0.199,0,0.36,0.161,0.36,0.36v9h-0.72V1.36H2.36v29.28H6V31.36z M28.36,30h-0.72v-2h0.721L28.36,30L28.36,30z M26.36,30h-0.72v-2h0.721L26.36,30L26.36,30z M24.36,30h-0.72v-2h0.721L24.36,30 L24.36,30z M22.36,30h-0.72v-2h0.721L22.36,30L22.36,30z M30,24.36H8c-0.199,0-0.36-0.161-0.36-0.36v-5 c0-0.199,0.161-0.36,0.36-0.36h22c0.199,0,0.36,0.161,0.36,0.36v5C30.36,24.199,30.199,24.36,30,24.36z M8.36,23.64h21.28v-4.28 H8.36V23.64z M28.36,23h-0.72v-2h0.721L28.36,23L28.36,23z M26.36,23h-0.72v-2h0.721L26.36,23L26.36,23z M24.36,23h-0.72v-2h0.721 L24.36,23L24.36,23z M22.36,23h-0.72v-2h0.721L22.36,23L22.36,23z M30,17.36H8c-0.199,0-0.36-0.161-0.36-0.36v-5 c0-0.199,0.161-0.36,0.36-0.36h22c0.199,0,0.36,0.161,0.36,0.36v5C30.36,17.199,30.199,17.36,30,17.36z M8.36,16.64h21.28v-4.28 H8.36V16.64z M28.36,16h-0.72v-2h0.721L28.36,16L28.36,16z M26.36,16h-0.72v-2h0.721L26.36,16L26.36,16z M24.36,16h-0.72v-2h0.721 L24.36,16L24.36,16z M22.36,16h-0.72v-2h0.721L22.36,16L22.36,16z M6,4.36H4V3.64h2V4.36z\">\n",
      "              </path>\n",
      "             </svg>\n",
      "            </div>\n",
      "           </caem-card>\n",
      "           <caem-card color-scheme=\"\" cta-type=\"local\" data-autoid=\"caem--card\" href=\"https://www.ibm.com/database?lnk=ProdC\" pictogram-placement=\"bottom\" size=\"\" target=\"_self\">\n",
      "            <caem-card-heading aria-level=\"3\" data-autoid=\"caem--card-heading\" role=\"heading\" slot=\"heading\">\n",
      "             Databases\n",
      "            </caem-card-heading>\n",
      "            <svg class=\"bx--card__pictogram\" data-autoid=\"caem--card__pictogram\" focusable=\"false\" height=\"48\" role=\"img\" slot=\"pictogram\" style=\"--colorized-background:url('#g3'); fill: var(--colorized-background)\" width=\"48\">\n",
      "             <use href=\"#hard--drive--network\">\n",
      "             </use>\n",
      "            </svg>\n",
      "            <p>\n",
      "             Run your applications, analytics and generative AI with databases on any cloud\n",
      "            </p>\n",
      "            <caem-card-cta-footer color-scheme=\"\" cta-type=\"local\" data-autoid=\"caem--card-cta-footer\" href=\"https://www.ibm.com/database?lnk=ProdC\" icon-placement=\"right\" parent-href=\"https://www.ibm.com/database?lnk=ProdC\" slot=\"footer\" target=\"_self\">\n",
      "            </caem-card-cta-footer>\n",
      "            <div class=\"caem-card-svg-source\">\n",
      "             <svg id=\"hard--drive--network\" viewbox=\"0 0 32 32\" xmlns=\"http://www.w3.org/2000/svg\">\n",
      "              <path d=\"M20,6c-0.552,0-1-0.448-1-1s0.448-1,1-1s1,0.448,1,1S20.552,6,20,6z M21,16 c0-0.552-0.448-1-1-1s-1,0.448-1,1s0.448,1,1,1S21,16.552,21,16z M21,27c0-0.552-0.448-1-1-1s-1,0.448-1,1s0.448,1,1,1 S21,27.552,21,27z M24,31.36H1c-0.199,0-0.36-0.161-0.36-0.36v-8c0-0.199,0.161-0.36,0.36-0.36h23c0.199,0,0.36,0.161,0.36,0.36v8 C24.36,31.199,24.199,31.36,24,31.36z M1.36,30.64h22.28v-7.28H1.36V30.64z M31,27.36h-5v-0.72h4.64V16.36H26v-0.72h4.64V5.36H26 V4.64h5c0.199,0,0.36,0.161,0.36,0.36v22C31.36,27.199,31.199,27.36,31,27.36z M24,20.36H1c-0.199,0-0.36-0.161-0.36-0.36v-8 c0-0.199,0.161-0.36,0.36-0.36h23c0.199,0,0.36,0.161,0.36,0.36v8C24.36,20.199,24.199,20.36,24,20.36z M1.36,19.64h22.28v-7.28 H1.36V19.64z M24,9.36H1C0.801,9.36,0.64,9.199,0.64,9V1c0-0.199,0.161-0.36,0.36-0.36h23c0.199,0,0.36,0.161,0.36,0.36v8 C24.36,9.199,24.199,9.36,24,9.36z M1.36,8.64h22.28V1.36H1.36V8.64z\">\n",
      "              </path>\n",
      "             </svg>\n",
      "            </div>\n",
      "           </caem-card>\n",
      "           <caem-card color-scheme=\"\" cta-type=\"local\" data-autoid=\"caem--card\" href=\"https://www.ibm.com/security?lnk=ProdC\" pictogram-placement=\"bottom\" size=\"\" target=\"_self\">\n",
      "            <caem-card-heading aria-level=\"3\" data-autoid=\"caem--card-heading\" role=\"heading\" slot=\"heading\">\n",
      "             Security &amp; identity\n",
      "            </caem-card-heading>\n",
      "            <svg class=\"bx--card__pictogram\" data-autoid=\"caem--card__pictogram\" focusable=\"false\" height=\"48\" role=\"img\" slot=\"pictogram\" style=\"--colorized-background:url('#g3'); fill: var(--colorized-background)\" width=\"48\">\n",
      "             <use href=\"#secure--profile\">\n",
      "             </use>\n",
      "            </svg>\n",
      "            <p>\n",
      "             Secure hybrid cloud and AI with data and identity-centric cybersecurity solutions\n",
      "            </p>\n",
      "            <caem-card-cta-footer color-scheme=\"\" cta-type=\"local\" data-autoid=\"caem--card-cta-footer\" href=\"https://www.ibm.com/security?lnk=ProdC\" icon-placement=\"right\" parent-href=\"https://www.ibm.com/security?lnk=ProdC\" slot=\"footer\" target=\"_self\">\n",
      "            </caem-card-cta-footer>\n",
      "            <div class=\"caem-card-svg-source\">\n",
      "             <svg id=\"secure--profile\" viewbox=\"0 0 32 32\" xmlns=\"http://www.w3.org/2000/svg\">\n",
      "              <path d=\"M23.14,25.415v-1.988c-0.373-0.145-0.64-0.503-0.64-0.927c0-0.552,0.448-1,1-1s1,0.448,1,1 c0,0.424-0.266,0.782-0.64,0.927v1.988c0,0.199-0.161,0.36-0.36,0.36S23.14,25.614,23.14,25.415z M31.36,16v15 c0,0.199-0.161,0.36-0.36,0.36H16c-0.199,0-0.36-0.161-0.36-0.36V19h0.72v11.64h14.28V16.36H1c-0.199,0-0.36-0.161-0.36-0.36V1 c0-0.199,0.161-0.36,0.36-0.36h15c0.199,0,0.36,0.161,0.36,0.36v12h-0.72V1.36H1.36v14.28h2.28v-2.639 c0-1.926,1.166-3.659,2.908-4.427C5.978,8.04,5.643,7.293,5.643,6.5c0-1.577,1.283-2.86,2.86-2.86s2.86,1.283,2.86,2.86 c0,0.794-0.335,1.542-0.907,2.075c1.74,0.77,2.904,2.502,2.904,4.426v2.639h6.28V11.5c0-2.128,1.731-3.86,3.859-3.86 c2.129,0,3.861,1.731,3.861,3.86l-0.001,4.14H31C31.199,15.64,31.36,15.801,31.36,16z M12.64,13.001c0-1.837-1.25-3.47-3.041-3.97 c-0.141-0.04-0.244-0.16-0.261-0.306C9.321,8.58,9.395,8.439,9.523,8.369c0.69-0.379,1.12-1.095,1.12-1.869 c0-1.18-0.96-2.14-2.14-2.14s-2.14,0.96-2.14,2.14c0,0.773,0.429,1.489,1.119,1.868c0.128,0.07,0.201,0.211,0.184,0.357 C7.648,8.87,7.545,8.991,7.404,9.03C5.612,9.529,4.36,11.162,4.36,13.001v2.639h8.28C12.64,15.64,12.64,13.001,12.64,13.001z M26.64,11.5c0-1.731-1.408-3.14-3.14-3.14s-3.14,1.409-3.14,3.14v4.14h6.278L26.64,11.5z\">\n",
      "              </path>\n",
      "             </svg>\n",
      "            </div>\n",
      "           </caem-card>\n",
      "          </caem-card-group>\n",
      "         </div>\n",
      "         <div horizontal-ruler=\"\">\n",
      "          <dds-hr>\n",
      "          </dds-hr>\n",
      "         </div>\n",
      "         <svg class=\"bx--visually-hidden\">\n",
      "          <defs>\n",
      "           <lineargradient id=\"g1\" x1=\"0%\" x2=\"0%\" y1=\"0%\" y2=\"100%\">\n",
      "            <stop offset=\"0%\" stop-color=\"#0F62FE\">\n",
      "            </stop>\n",
      "            <stop offset=\"100%\" stop-color=\"#8A3FFC\">\n",
      "            </stop>\n",
      "           </lineargradient>\n",
      "           <lineargradient id=\"g1-dark\" x1=\"0%\" x2=\"0%\" y1=\"0%\" y2=\"100%\">\n",
      "            <stop offset=\"0%\" stop-color=\"#4589FF\">\n",
      "            </stop>\n",
      "            <stop offset=\"100%\" stop-color=\"#A56EFF\">\n",
      "            </stop>\n",
      "           </lineargradient>\n",
      "           <lineargradient id=\"g2\" x1=\"0%\" x2=\"0%\" y1=\"0%\" y2=\"100%\">\n",
      "            <stop offset=\"0%\" stop-color=\"#0F62FE\">\n",
      "            </stop>\n",
      "            <stop offset=\"100%\" stop-color=\"#78A9FF\">\n",
      "            </stop>\n",
      "           </lineargradient>\n",
      "           <lineargradient id=\"g2-dark\" x1=\"0%\" x2=\"0%\" y1=\"0%\" y2=\"100%\">\n",
      "            <stop offset=\"0%\" stop-color=\"#0F62FE\">\n",
      "            </stop>\n",
      "            <stop offset=\"100%\" stop-color=\"#78A9FF\">\n",
      "            </stop>\n",
      "           </lineargradient>\n",
      "           <lineargradient id=\"g3\" x1=\"0%\" x2=\"0%\" y1=\"0%\" y2=\"100%\">\n",
      "            <stop offset=\"0%\" stop-color=\"#0F62FE\">\n",
      "            </stop>\n",
      "            <stop offset=\"100%\" stop-color=\"#08BDBA\">\n",
      "            </stop>\n",
      "           </lineargradient>\n",
      "           <lineargradient id=\"g3-dark\" x1=\"0%\" x2=\"0%\" y1=\"0%\" y2=\"100%\">\n",
      "            <stop offset=\"0%\" stop-color=\"#4589FF\">\n",
      "            </stop>\n",
      "            <stop offset=\"100%\" stop-color=\"#08BDBA\">\n",
      "            </stop>\n",
      "           </lineargradient>\n",
      "           <lineargradient id=\"g4\" x1=\"0%\" x2=\"0%\" y1=\"0%\" y2=\"100%\">\n",
      "            <stop offset=\"0%\" stop-color=\"#0F62FE\">\n",
      "            </stop>\n",
      "            <stop offset=\"100%\" stop-color=\"#FF7EB6\">\n",
      "            </stop>\n",
      "           </lineargradient>\n",
      "           <lineargradient id=\"g4-dark\" x1=\"0%\" x2=\"0%\" y1=\"0%\" y2=\"100%\">\n",
      "            <stop offset=\"0%\" stop-color=\"#4589FF\">\n",
      "            </stop>\n",
      "            <stop offset=\"100%\" stop-color=\"#EE5396\">\n",
      "            </stop>\n",
      "           </lineargradient>\n",
      "           <lineargradient id=\"g5\" x1=\"0%\" x2=\"0%\" y1=\"0%\" y2=\"100%\">\n",
      "            <stop offset=\"0%\" stop-color=\"#FA4D56\">\n",
      "            </stop>\n",
      "            <stop offset=\"100%\" stop-color=\"#A56EFF\">\n",
      "            </stop>\n",
      "           </lineargradient>\n",
      "           <lineargradient id=\"g5-dark\" x1=\"0%\" x2=\"0%\" y1=\"0%\" y2=\"100%\">\n",
      "            <stop offset=\"0%\" stop-color=\"#FA4D56\">\n",
      "            </stop>\n",
      "            <stop offset=\"100%\" stop-color=\"#A56EFF\">\n",
      "            </stop>\n",
      "           </lineargradient>\n",
      "          </defs>\n",
      "         </svg>\n",
      "        </div>\n",
      "        <div class=\"cta-section\">\n",
      "         <dds-cta-block class=\"title-plus-3-items-layout\">\n",
      "          <dds-content-block-heading class=\"\">\n",
      "           Inside IBM\n",
      "          </dds-content-block-heading>\n",
      "          <dds-cta-block-item-row no-border=\"\">\n",
      "           <dds-cta-block-item>\n",
      "            <dds-content-item-heading>\n",
      "             Our company\n",
      "            </dds-content-item-heading>\n",
      "            <dds-content-item-copy>\n",
      "             <dds-content-item-paragraph>\n",
      "              <div class=\"cms-richtext\" data-dynamic-inner-content=\"description\" id=\"rich-text-fa074a9752\">\n",
      "               <p>\n",
      "                Explore IBM history and culture of putting technology to work in the real world\n",
      "               </p>\n",
      "              </div>\n",
      "             </dds-content-item-paragraph>\n",
      "            </dds-content-item-copy>\n",
      "            <dds-text-cta cta-type=\"local\" data-dynamic-inner-content=\"ctaLabel\" data-dynamic-properties='{\"ctaUrl\":\"href\"}' href=\"https://www.ibm.com/about?lnk=inside\" icon-placement=\"right\" slot=\"footer\" target=\"_self\">\n",
      "             About IBM\n",
      "            </dds-text-cta>\n",
      "            <dds-text-cta cta-type=\"local\" data-dynamic-inner-content=\"ctaLabel\" data-dynamic-properties='{\"ctaUrl\":\"href\"}' href=\"https://www.ibm.com/history?lnk=inside\" icon-placement=\"right\" slot=\"footer\" target=\"_self\">\n",
      "             Our history\n",
      "            </dds-text-cta>\n",
      "           </dds-cta-block-item>\n",
      "           <dds-cta-block-item>\n",
      "            <dds-content-item-heading>\n",
      "             Our impact\n",
      "            </dds-content-item-heading>\n",
      "            <dds-content-item-copy>\n",
      "             <dds-content-item-paragraph>\n",
      "              <div class=\"cms-richtext\" data-dynamic-inner-content=\"description\" id=\"rich-text-4b244d2cb1\">\n",
      "               <p>\n",
      "                Learn about IBM's commitment to environmental, equitable and ethical pillars\n",
      "               </p>\n",
      "              </div>\n",
      "             </dds-content-item-paragraph>\n",
      "            </dds-content-item-copy>\n",
      "            <dds-text-cta cta-type=\"local\" data-dynamic-inner-content=\"ctaLabel\" data-dynamic-properties='{\"ctaUrl\":\"href\"}' href=\"https://www.ibm.com/impact?lnk=inside\" icon-placement=\"right\" slot=\"footer\" target=\"_self\">\n",
      "             Corporate social responsibility\n",
      "            </dds-text-cta>\n",
      "            <dds-text-cta cta-type=\"local\" data-dynamic-inner-content=\"ctaLabel\" data-dynamic-properties='{\"ctaUrl\":\"href\"}' href=\"https://www.ibm.com/impact/be-equal?lnk=inside\" icon-placement=\"right\" slot=\"footer\" target=\"_self\">\n",
      "             Diversity and inclusion\n",
      "            </dds-text-cta>\n",
      "           </dds-cta-block-item>\n",
      "           <dds-cta-block-item>\n",
      "            <dds-content-item-heading>\n",
      "             Our innovations\n",
      "            </dds-content-item-heading>\n",
      "            <dds-content-item-copy>\n",
      "             <dds-content-item-paragraph>\n",
      "              <div class=\"cms-richtext\" data-dynamic-inner-content=\"description\" id=\"rich-text-77395c58ee\">\n",
      "               <p>\n",
      "                Visit the IBM lab, and see what's in store for the future of computing\n",
      "               </p>\n",
      "              </div>\n",
      "             </dds-content-item-paragraph>\n",
      "            </dds-content-item-copy>\n",
      "            <dds-text-cta cta-type=\"external\" data-dynamic-inner-content=\"ctaLabel\" data-dynamic-properties='{\"ctaUrl\":\"href\"}' href=\"https://research.ibm.com?lnk=inside\" icon-placement=\"right\" slot=\"footer\" target=\"_self\">\n",
      "             IBM Research\n",
      "            </dds-text-cta>\n",
      "            <dds-text-cta cta-type=\"local\" data-dynamic-inner-content=\"ctaLabel\" data-dynamic-properties='{\"ctaUrl\":\"href\"}' href=\"https://www.ibm.com/quantum?lnk=inside\" icon-placement=\"right\" slot=\"footer\" target=\"_self\">\n",
      "             Quantum computing\n",
      "            </dds-text-cta>\n",
      "           </dds-cta-block-item>\n",
      "          </dds-cta-block-item-row>\n",
      "         </dds-cta-block>\n",
      "        </div>\n",
      "        <div class=\"intro-section\">\n",
      "         <div class=\"bx--col\">\n",
      "          <caem-intro-section>\n",
      "           <caem-heading data-autoid=\"caem-heading\" slot=\"heading\" type=\"h2\" type-style=\"expressive-heading-05\">\n",
      "            Take the next step\n",
      "           </caem-heading>\n",
      "           <caem-paragraph data-autoid=\"caem--paragraph\" size=\"lead-in\">\n",
      "            <div class=\"cms-richtext\" data-dynamic-inner-content=\"description\" id=\"rich-text-8224f9545a\">\n",
      "             <p>\n",
      "              Solving the world’s problems through technology wouldn’t be possible without people with the right skills. See what it takes to become an IBMer, or build your skills with our educational courses.\n",
      "             </p>\n",
      "            </div>\n",
      "           </caem-paragraph>\n",
      "           <dds-link-list type=\"vertical\">\n",
      "           </dds-link-list>\n",
      "          </caem-intro-section>\n",
      "         </div>\n",
      "        </div>\n",
      "        <div class=\"container-50-50 container responsivegrid\">\n",
      "         <div class=\"container-50-50-container\">\n",
      "          <div class=\"container-50-50-row\">\n",
      "           <div class=\"container-50-50--col-lg-8\">\n",
      "            <div class=\"cmp-container\" id=\"container-item-50-50-854ab607b3\">\n",
      "             <div class=\"tile-card card link button\">\n",
      "              <caem-tile align-with-content=\"align-with-content\" cta-type=\"local\" data-video-modal-type=\"media-center\" double-tile=\"double-tile\" href=\"https://www.ibm.com/careers?lnk=next\" label=\"IBM Careers\" target=\"_self\">\n",
      "               <dds-image alt=\"Woman standing next to IBM logo illustration\" class=\"\" default-src=\"/content/dam/connectedassets-adobe-cms/worldwide-content/creative-assets/tai/ul/g/16/b2/photo-435_hn.component.tile-card-xl.ts=1731501468029.jpg/content/adobe-cms/us/en/homepage/jcr:content/root/table_of_contents/container_50_50_copy/container1/tile_card_1011472503/image\" id=\"image--1583282671\" slot=\"image\">\n",
      "                <dds-image-item media=\"(min-width: 1312px) and (min-resolution: 192dpi)\" srcset=\"/content/dam/connectedassets-adobe-cms/worldwide-content/creative-assets/tai/ul/g/16/b2/photo-435_hn.component.tile-card-xl-retina.ts=1731501468029.jpg/content/adobe-cms/us/en/homepage/jcr:content/root/table_of_contents/container_50_50_copy/container1/tile_card_1011472503/image\">\n",
      "                </dds-image-item>\n",
      "                <dds-image-item media=\"(min-width: 1312px)\" srcset=\"/content/dam/connectedassets-adobe-cms/worldwide-content/creative-assets/tai/ul/g/16/b2/photo-435_hn.component.tile-card-xl.ts=1731501468029.jpg/content/adobe-cms/us/en/homepage/jcr:content/root/table_of_contents/container_50_50_copy/container1/tile_card_1011472503/image\">\n",
      "                </dds-image-item>\n",
      "                <dds-image-item media=\"(min-width: 1056px) and (min-resolution: 192dpi)\" srcset=\"/content/dam/connectedassets-adobe-cms/worldwide-content/creative-assets/tai/ul/g/16/b2/photo-435_hn.component.tile-card-l-retina.ts=1731501468029.jpg/content/adobe-cms/us/en/homepage/jcr:content/root/table_of_contents/container_50_50_copy/container1/tile_card_1011472503/image\">\n",
      "                </dds-image-item>\n",
      "                <dds-image-item media=\"(min-width: 1056px)\" srcset=\"/content/dam/connectedassets-adobe-cms/worldwide-content/creative-assets/tai/ul/g/16/b2/photo-435_hn.component.tile-card-l.ts=1731501468029.jpg/content/adobe-cms/us/en/homepage/jcr:content/root/table_of_contents/container_50_50_copy/container1/tile_card_1011472503/image\">\n",
      "                </dds-image-item>\n",
      "                <dds-image-item media=\"(min-width: 672px) and (min-resolution: 192dpi)\" srcset=\"/content/dam/connectedassets-adobe-cms/worldwide-content/creative-assets/tai/ul/g/16/b2/photo-435_hn.component.tile-card-m-retina.ts=1731501468029.jpg/content/adobe-cms/us/en/homepage/jcr:content/root/table_of_contents/container_50_50_copy/container1/tile_card_1011472503/image\">\n",
      "                </dds-image-item>\n",
      "                <dds-image-item media=\"(min-width: 672px)\" srcset=\"/content/dam/connectedassets-adobe-cms/worldwide-content/creative-assets/tai/ul/g/16/b2/photo-435_hn.component.tile-card-m.ts=1731501468029.jpg/content/adobe-cms/us/en/homepage/jcr:content/root/table_of_contents/container_50_50_copy/container1/tile_card_1011472503/image\">\n",
      "                </dds-image-item>\n",
      "                <dds-image-item media=\"(min-width: 481px) and (min-resolution: 192dpi)\" srcset=\"/content/dam/connectedassets-adobe-cms/worldwide-content/creative-assets/tai/ul/g/16/b2/photo-435_hn.component.tile-card-s-retina.ts=1731501468029.jpg/content/adobe-cms/us/en/homepage/jcr:content/root/table_of_contents/container_50_50_copy/container1/tile_card_1011472503/image\">\n",
      "                </dds-image-item>\n",
      "                <dds-image-item media=\"(min-width: 481px)\" srcset=\"/content/dam/connectedassets-adobe-cms/worldwide-content/creative-assets/tai/ul/g/16/b2/photo-435_hn.component.tile-card-s.ts=1731501468029.jpg/content/adobe-cms/us/en/homepage/jcr:content/root/table_of_contents/container_50_50_copy/container1/tile_card_1011472503/image\">\n",
      "                </dds-image-item>\n",
      "                <dds-image-item media=\"(max-width: 480px) and (min-resolution: 192dpi)\" srcset=\"/content/dam/connectedassets-adobe-cms/worldwide-content/creative-assets/tai/ul/g/16/b2/photo-435_hn.component.tile-card-xs-retina.ts=1731501468029.jpg/content/adobe-cms/us/en/homepage/jcr:content/root/table_of_contents/container_50_50_copy/container1/tile_card_1011472503/image\">\n",
      "                </dds-image-item>\n",
      "                <dds-image-item media=\"(max-width: 480px)\" srcset=\"/content/dam/connectedassets-adobe-cms/worldwide-content/creative-assets/tai/ul/g/16/b2/photo-435_hn.component.tile-card-xs.ts=1731501468029.jpg/content/adobe-cms/us/en/homepage/jcr:content/root/table_of_contents/container_50_50_copy/container1/tile_card_1011472503/image\">\n",
      "                </dds-image-item>\n",
      "               </dds-image>\n",
      "               Become an IBMer\n",
      "               <p slot=\"cta\">\n",
      "                Explore jobs\n",
      "               </p>\n",
      "              </caem-tile>\n",
      "              <div class=\"caem-card-svg-source\" hidden=\"\">\n",
      "               <svg id=\"accelerated-computing\" viewbox=\"0 0 32 32\" xmlns=\"http://www.w3.org/2000/svg\">\n",
      "                <path d=\"M19,29.36c-3.401,0-6.596-1.506-8.764-4.131l0.556-0.459c2.03,2.459,5.022,3.869,8.208,3.869 c5.867,0,10.64-4.772,10.64-10.64c0-5.867-4.772-10.64-10.64-10.64c-3.186,0-6.177,1.411-8.208,3.87l-0.555-0.459 c2.091-2.532,5.137-4.022,8.403-4.125V5.36H16c-0.199,0-0.36-0.161-0.36-0.36V3c0-0.199,0.161-0.36,0.36-0.36h6 c0.199,0,0.36,0.161,0.36,0.36v2c0,0.199-0.161,0.36-0.36,0.36h-2.64v1.286c6.098,0.191,11,5.211,11,11.354 C30.36,24.264,25.264,29.36,19,29.36z M16.36,4.64h5.28V3.36h-5.28V4.64z M14,23.36H4v-0.72h10V23.36z M12,18.36H2v-0.72h10V18.36z M19.179,18.312l-0.357-0.625l7-4l0.357,0.625L19.179,18.312z M14,13.36H4v-0.72h10V13.36z\">\n",
      "                </path>\n",
      "               </svg>\n",
      "              </div>\n",
      "             </div>\n",
      "            </div>\n",
      "           </div>\n",
      "           <div class=\"container-50-50--col-lg-8\">\n",
      "            <div class=\"cmp-container\" id=\"container-item-50-50-07b2100915\">\n",
      "             <div class=\"tile-card card link button\">\n",
      "              <caem-tile align-with-content=\"align-with-content\" cta-type=\"external\" data-video-modal-type=\"media-center\" double-tile=\"double-tile\" href=\"https://skillsbuild.org?lnk=next\" label=\"IBM SkillsBuild\" target=\"_blank\">\n",
      "               <dds-image alt=\"Woman holding laptop and looking at camera\" class=\"\" default-src=\"/content/dam/connectedassets-adobe-cms/worldwide-content/stock-assets/getty/image/others/80/0e/800e7041-0619-467f-b991f916451e1e50.component.tile-card-xl.ts=1731501468170.jpg/content/adobe-cms/us/en/homepage/jcr:content/root/table_of_contents/container_50_50_copy/container2/tile_card_769450518_/image\" id=\"image--1454371264\" slot=\"image\">\n",
      "                <dds-image-item media=\"(min-width: 1312px) and (min-resolution: 192dpi)\" srcset=\"/content/dam/connectedassets-adobe-cms/worldwide-content/stock-assets/getty/image/others/80/0e/800e7041-0619-467f-b991f916451e1e50.component.tile-card-xl-retina.ts=1731501468170.jpg/content/adobe-cms/us/en/homepage/jcr:content/root/table_of_contents/container_50_50_copy/container2/tile_card_769450518_/image\">\n",
      "                </dds-image-item>\n",
      "                <dds-image-item media=\"(min-width: 1312px)\" srcset=\"/content/dam/connectedassets-adobe-cms/worldwide-content/stock-assets/getty/image/others/80/0e/800e7041-0619-467f-b991f916451e1e50.component.tile-card-xl.ts=1731501468170.jpg/content/adobe-cms/us/en/homepage/jcr:content/root/table_of_contents/container_50_50_copy/container2/tile_card_769450518_/image\">\n",
      "                </dds-image-item>\n",
      "                <dds-image-item media=\"(min-width: 1056px) and (min-resolution: 192dpi)\" srcset=\"/content/dam/connectedassets-adobe-cms/worldwide-content/stock-assets/getty/image/others/80/0e/800e7041-0619-467f-b991f916451e1e50.component.tile-card-l-retina.ts=1731501468170.jpg/content/adobe-cms/us/en/homepage/jcr:content/root/table_of_contents/container_50_50_copy/container2/tile_card_769450518_/image\">\n",
      "                </dds-image-item>\n",
      "                <dds-image-item media=\"(min-width: 1056px)\" srcset=\"/content/dam/connectedassets-adobe-cms/worldwide-content/stock-assets/getty/image/others/80/0e/800e7041-0619-467f-b991f916451e1e50.component.tile-card-l.ts=1731501468170.jpg/content/adobe-cms/us/en/homepage/jcr:content/root/table_of_contents/container_50_50_copy/container2/tile_card_769450518_/image\">\n",
      "                </dds-image-item>\n",
      "                <dds-image-item media=\"(min-width: 672px) and (min-resolution: 192dpi)\" srcset=\"/content/dam/connectedassets-adobe-cms/worldwide-content/stock-assets/getty/image/others/80/0e/800e7041-0619-467f-b991f916451e1e50.component.tile-card-m-retina.ts=1731501468170.jpg/content/adobe-cms/us/en/homepage/jcr:content/root/table_of_contents/container_50_50_copy/container2/tile_card_769450518_/image\">\n",
      "                </dds-image-item>\n",
      "                <dds-image-item media=\"(min-width: 672px)\" srcset=\"/content/dam/connectedassets-adobe-cms/worldwide-content/stock-assets/getty/image/others/80/0e/800e7041-0619-467f-b991f916451e1e50.component.tile-card-m.ts=1731501468170.jpg/content/adobe-cms/us/en/homepage/jcr:content/root/table_of_contents/container_50_50_copy/container2/tile_card_769450518_/image\">\n",
      "                </dds-image-item>\n",
      "                <dds-image-item media=\"(min-width: 481px) and (min-resolution: 192dpi)\" srcset=\"/content/dam/connectedassets-adobe-cms/worldwide-content/stock-assets/getty/image/others/80/0e/800e7041-0619-467f-b991f916451e1e50.component.tile-card-s-retina.ts=1731501468170.jpg/content/adobe-cms/us/en/homepage/jcr:content/root/table_of_contents/container_50_50_copy/container2/tile_card_769450518_/image\">\n",
      "                </dds-image-item>\n",
      "                <dds-image-item media=\"(min-width: 481px)\" srcset=\"/content/dam/connectedassets-adobe-cms/worldwide-content/stock-assets/getty/image/others/80/0e/800e7041-0619-467f-b991f916451e1e50.component.tile-card-s.ts=1731501468170.jpg/content/adobe-cms/us/en/homepage/jcr:content/root/table_of_contents/container_50_50_copy/container2/tile_card_769450518_/image\">\n",
      "                </dds-image-item>\n",
      "                <dds-image-item media=\"(max-width: 480px) and (min-resolution: 192dpi)\" srcset=\"/content/dam/connectedassets-adobe-cms/worldwide-content/stock-assets/getty/image/others/80/0e/800e7041-0619-467f-b991f916451e1e50.component.tile-card-xs-retina.ts=1731501468170.jpg/content/adobe-cms/us/en/homepage/jcr:content/root/table_of_contents/container_50_50_copy/container2/tile_card_769450518_/image\">\n",
      "                </dds-image-item>\n",
      "                <dds-image-item media=\"(max-width: 480px)\" srcset=\"/content/dam/connectedassets-adobe-cms/worldwide-content/stock-assets/getty/image/others/80/0e/800e7041-0619-467f-b991f916451e1e50.component.tile-card-xs.ts=1731501468170.jpg/content/adobe-cms/us/en/homepage/jcr:content/root/table_of_contents/container_50_50_copy/container2/tile_card_769450518_/image\">\n",
      "                </dds-image-item>\n",
      "               </dds-image>\n",
      "               Explore learning opportunities\n",
      "               <p slot=\"cta\">\n",
      "                Start learning\n",
      "               </p>\n",
      "              </caem-tile>\n",
      "              <div class=\"caem-card-svg-source\" hidden=\"\">\n",
      "               <svg id=\"accelerated-computing\" viewbox=\"0 0 32 32\" xmlns=\"http://www.w3.org/2000/svg\">\n",
      "                <path d=\"M19,29.36c-3.401,0-6.596-1.506-8.764-4.131l0.556-0.459c2.03,2.459,5.022,3.869,8.208,3.869 c5.867,0,10.64-4.772,10.64-10.64c0-5.867-4.772-10.64-10.64-10.64c-3.186,0-6.177,1.411-8.208,3.87l-0.555-0.459 c2.091-2.532,5.137-4.022,8.403-4.125V5.36H16c-0.199,0-0.36-0.161-0.36-0.36V3c0-0.199,0.161-0.36,0.36-0.36h6 c0.199,0,0.36,0.161,0.36,0.36v2c0,0.199-0.161,0.36-0.36,0.36h-2.64v1.286c6.098,0.191,11,5.211,11,11.354 C30.36,24.264,25.264,29.36,19,29.36z M16.36,4.64h5.28V3.36h-5.28V4.64z M14,23.36H4v-0.72h10V23.36z M12,18.36H2v-0.72h10V18.36z M19.179,18.312l-0.357-0.625l7-4l0.357,0.625L19.179,18.312z M14,13.36H4v-0.72h10V13.36z\">\n",
      "                </path>\n",
      "               </svg>\n",
      "              </div>\n",
      "             </div>\n",
      "            </div>\n",
      "           </div>\n",
      "          </div>\n",
      "         </div>\n",
      "        </div>\n",
      "        <div class=\"modular-container container responsivegrid\">\n",
      "         <div class=\"cmp-container\" id=\"modular-container-5d1eac4ca1\">\n",
      "          <div class=\"standalone-text rich-text text\">\n",
      "          </div>\n",
      "         </div>\n",
      "        </div>\n",
      "       </div>\n",
      "      </dds-table-of-contents>\n",
      "     </div>\n",
      "     <div class=\"footer\">\n",
      "      <dds-footer-container class=\"cmp-footer\" data-autoid=\"dds--footer\" data-children-count=\"0\" data-cmp-is=\"footer\" size=\"tall\">\n",
      "      </dds-footer-container>\n",
      "     </div>\n",
      "    </div>\n",
      "   </div>\n",
      "  </dds-video-cta-container>\n",
      "  <div aria-hidden=\"true\" class=\"video-modal-overlay\">\n",
      "   <div class=\"video-modal-overlay__dialog\">\n",
      "    <div class=\"video-modal-overlay__dialog--body\">\n",
      "     <div class=\"video-modal-overlay__dialog--body__close-btn\">\n",
      "      <svg fill=\"none\" height=\"24\" viewbox=\"0 0 24 24\" width=\"24\" xmlns=\"http://www.w3.org/2000/svg\">\n",
      "       <rect fill=\"white\" fill-opacity=\"0.01\" height=\"24\" style=\"mix-blend-mode:multiply\" width=\"24\">\n",
      "       </rect>\n",
      "       <path d=\"M13.0606 12L19.5 5.56058L18.4394 4.5L12 10.9394L5.56072 4.5L4.5 5.56058L10.9394 12L4.5 18.4394L5.56072 19.5L12 13.0606L18.4394 19.5L19.5 18.4394L13.0606 12Z\" fill=\"#161616\" id=\"Vector\">\n",
      "       </path>\n",
      "      </svg>\n",
      "     </div>\n",
      "     <div class=\"video-modal-overlay__dialog--body-content\">\n",
      "      <div class=\"video-modal-overlay__loading-container\">\n",
      "       <bx-loading>\n",
      "       </bx-loading>\n",
      "      </div>\n",
      "      <div class=\"video-wms hide\">\n",
      "       <iframe allowfullscreen=\"\" class=\"video-modal-content\" data-original-src=\"https://video.ibm.com/embed/$[wmsChanneId]?volume=0&amp;autoplay=true&amp;controls=true\" frameborder=\"no\" referrerpolicy=\"no-referrer-when-downgrade\" src=\"\" webkitallowfullscreen=\"\">\n",
      "       </iframe>\n",
      "      </div>\n",
      "      <div class=\"video-media-center hide\">\n",
      "       <dds-video-player-container aspect-ratio=\"16x9\" auto-play=\"\" muted=\"\" playing-mode=\"inline\" video-id=\"\">\n",
      "       </dds-video-player-container>\n",
      "      </div>\n",
      "     </div>\n",
      "    </div>\n",
      "   </div>\n",
      "  </div>\n",
      "  <dds-lightbox-video-player-container>\n",
      "  </dds-lightbox-video-player-container>\n",
      "  <script src=\"/etc.clientlibs/adobe-cms/clientlibs/clientlib-idlBundle.lc-184f1369edfafb914817c747b0b7778e-lc.min.js\">\n",
      "  </script>\n",
      "  <script src=\"/etc.clientlibs/adobe-cms/clientlibs/clientlib-target-antiflicker.lc-36a1efb28e947b5873f4a28c2cf9d5eb-lc.min.js\">\n",
      "  </script>\n",
      "  <script src=\"/etc.clientlibs/adobe-cms/clientlibs/clientlib-idlStyles.lc-f5a7744980f951b41a897229a7802b6f-lc.min.js\">\n",
      "  </script>\n",
      "  <script async=\"\" defer=\"\" src=\"https://www.ibm.com/common/digitaladvisor/cm-app/latest/cm-app.min.js\">\n",
      "  </script>\n",
      "  <script src=\"https://1.www.s81c.com/common/carbon/web-components/version/v1.47.1/tag.min.js\" type=\"module\">\n",
      "  </script>\n",
      "  <script src=\"https://1.www.s81c.com/common/carbon/web-components/version/v1.47.1/code-snippet.min.js\" type=\"module\">\n",
      "  </script>\n",
      "  <script src=\"https://1.www.s81c.com/common/carbon/web-components/version/v1.47.1/loading.min.js\" type=\"module\">\n",
      "  </script>\n",
      "  <script src=\"https://1.www.s81c.com/common/carbon-for-ibm-dotcom/version/v1.51.1/footer.min.js\" type=\"module\">\n",
      "  </script>\n",
      "  <script src=\"https://1.www.s81c.com/common/carbon-for-ibm-dotcom/version/v1.51.1/image.min.js\" type=\"module\">\n",
      "  </script>\n",
      "  <script src=\"https://1.www.s81c.com/common/carbon-for-ibm-dotcom/version/v1.51.1/text-cta.js\" type=\"module\">\n",
      "  </script>\n",
      "  <script src=\"https://1.www.s81c.com/common/carbon-for-ibm-dotcom/version/v1.51.1/link-list.min.js\" type=\"module\">\n",
      "  </script>\n",
      "  <script src=\"https://1.www.s81c.com/common/carbon-for-ibm-dotcom/version/v1.51.1/link-list-item-cta.js\" type=\"module\">\n",
      "  </script>\n",
      "  <script src=\"https://1.www.s81c.com/common/carbon-for-ibm-dotcom/version/v1.51.1/table-of-contents.min.js\" type=\"module\">\n",
      "  </script>\n",
      "  <script src=\"https://1.www.s81c.com/common/carbon-for-ibm-dotcom/version/v1.51.1/video-player.min.js\" type=\"module\">\n",
      "  </script>\n",
      "  <script src=\"https://1.www.s81c.com/common/carbon-for-ibm-dotcom/version/v1.51.1/card-cta-footer.js\" type=\"module\">\n",
      "  </script>\n",
      "  <script src=\"https://1.www.s81c.com/common/carbon-for-ibm-dotcom/version/v1.51.1/tag-group.min.js\" type=\"module\">\n",
      "  </script>\n",
      "  <script src=\"https://1.www.s81c.com/common/carbon-for-ibm-dotcom/version/v1.51.1/button-cta.js\" type=\"module\">\n",
      "  </script>\n",
      "  <script src=\"https://1.www.s81c.com/common/carbon-for-ibm-dotcom/version/v1.51.1/content-group-heading.js\" type=\"module\">\n",
      "  </script>\n",
      "  <script src=\"https://1.www.s81c.com/common/carbon-for-ibm-dotcom/version/v1.51.1/horizontal-rule.min.js\" type=\"module\">\n",
      "  </script>\n",
      "  <script src=\"https://1.www.s81c.com/common/carbon-for-ibm-dotcom/version/v1.51.1/lightbox-video-player.min.js\" type=\"module\">\n",
      "  </script>\n",
      "  <script src=\"https://1.www.s81c.com/common/carbon-for-ibm-dotcom/version/v1.51.1/cta-block.min.js\" type=\"module\">\n",
      "  </script>\n",
      "  <script src=\"https://1.www.s81c.com/common/carbon-for-ibm-dotcom/version/v1.51.1/video-cta-container.min.js\" type=\"module\">\n",
      "  </script>\n",
      "  <script src=\"https://1.www.s81c.com/common/carbon/carbon-for-aem/version/v0.19.0/link-list-item.min.js\" type=\"module\">\n",
      "  </script>\n",
      "  <script src=\"https://1.www.s81c.com/common/carbon/carbon-for-aem/version/v0.19.0/countdown.min.js\" type=\"module\">\n",
      "  </script>\n",
      "  <script src=\"https://1.www.s81c.com/common/carbon/carbon-for-aem/version/v0.19.0/button-group.min.js\" type=\"module\">\n",
      "  </script>\n",
      "  <script src=\"https://1.www.s81c.com/common/carbon/carbon-for-aem/version/v0.19.0/paragraph.min.js\" type=\"module\">\n",
      "  </script>\n",
      "  <script src=\"https://1.www.s81c.com/common/carbon/carbon-for-aem/version/v0.19.0/card.min.js\" type=\"module\">\n",
      "  </script>\n",
      "  <script src=\"https://1.www.s81c.com/common/carbon/carbon-for-aem/version/v0.19.0/tile.min.js\" type=\"module\">\n",
      "  </script>\n",
      "  <script src=\"https://1.www.s81c.com/common/carbon/carbon-for-aem/version/v0.19.0/card-group.min.js\" type=\"module\">\n",
      "  </script>\n",
      "  <script src=\"https://1.www.s81c.com/common/carbon/carbon-for-aem/version/v0.19.0/image-with-caption.min.js\" type=\"module\">\n",
      "  </script>\n",
      "  <script src=\"https://1.www.s81c.com/common/carbon/carbon-for-aem/version/v0.19.0/promo-banner.min.js\" type=\"module\">\n",
      "  </script>\n",
      "  <script src=\"https://1.www.s81c.com/common/carbon/carbon-for-aem/version/v0.19.0/cta.min.js\" type=\"module\">\n",
      "  </script>\n",
      "  <script src=\"https://1.www.s81c.com/common/carbon/carbon-for-aem/version/v0.19.0/intro-section.min.js\" type=\"module\">\n",
      "  </script>\n",
      "  <script src=\"https://1.www.s81c.com/common/carbon/carbon-for-aem/version/v0.19.0/heading.min.js\" type=\"module\">\n",
      "  </script>\n",
      "  <script id=\"anti-flicker-script\" type=\"module\">\n",
      "   document.getElementById('anti-flicker-style').remove();\n",
      "        document.getElementById('anti-flicker-script').remove();\n",
      "  </script>\n",
      "  <script defer=\"\" src=\"/etc.clientlibs/adobe-cms/clientlibs/clientlib-pdfviewer.lc-e4412705ab74ab8b0e2e21371e0762c9-lc.min.js\">\n",
      "  </script>\n",
      "  <!-- Added for Adobe analytics implementation ADCMS-5834\n",
      "<script type=\"text/javascript\">\n",
      "\n",
      "    adobeDataLayer.push({\n",
      "        \"event\": \"linkClick\",\n",
      "        \"web\": {\n",
      "            \"webPageDetails\": {\n",
      "                \"URL\": document.URL,\n",
      "                \"name\": \"home\"\n",
      "            },\n",
      "            \"webInteraction\": {\n",
      "                \"linkClick\":\"event\",\n",
      "                \"value\":\"1\",\n",
      "                \"type\": \"other\",\n",
      "                \"URL\": document.URL,\n",
      "                \"name\": \"linkClick: \" +  document.URL\n",
      "            }\n",
      "        },\n",
      "    })\n",
      "</script>  !-->\n",
      "  <!-- Added for Adobe analytics implementation ADCMS-5834 & ADCMS-6152 !-->\n",
      "  <script type=\"text/javascript\">\n",
      "   document.addEventListener(\"DOMContentLoaded\", function() {\n",
      "        var templatePath = \"\\/conf\\/adobe\\u002Dcms\\u002Deditable\\/settings\\/wcm\\/templates\\/full\\u002Dwidth\\u002Dlayout\";\n",
      "        var templateName = templatePath.split('/').pop();\n",
      "        const currentUrl = document.URL;\n",
      "        const parts = currentUrl.split(\"/\");\n",
      "        const sectionOne = parts.length > 3 ? parts[3].split(\"?\")[0] : \"\";\n",
      "        const sectionTwo = parts.length > 4 ? parts[4].split(\"?\")[0] : \"\";\n",
      "        const sectionThree = parts.length > 5 ? parts[5].split(\"?\")[0] : \"\";\n",
      "\n",
      "        function getCookieByName(name) {\n",
      "            const cookieArr = document.cookie.split(';');\n",
      "            for (let i = 0; i < cookieArr.length; i++) {\n",
      "                const cookie = cookieArr[i].trim();\n",
      "                if (cookie.startsWith(name + \"=\")) {\n",
      "                    return cookie.substring(name.length + 1);\n",
      "                }\n",
      "            }\n",
      "            return null;\n",
      "        }\n",
      "        function cleanUrl(url) {\n",
      "            let modifiedUrl = url;\n",
      "            if (modifiedUrl.startsWith(\"www\")) {\n",
      "                modifiedUrl = modifiedUrl.replace(/^www\\.?/, \"\");\n",
      "            }\n",
      "            return modifiedUrl;\n",
      "        }\n",
      "\n",
      "        const cisSessionId = getCookieByName(\"CISSESSIONIDP07A\");\n",
      "        let loginStatus = cisSessionId ? \"logged in\" : \"logged out\";\n",
      "\n",
      "        adobeDataLayer.push({\n",
      "            \"event\": \"pageLoad\",\n",
      "            \"_ibm\": {\n",
      "                \"page\": {\n",
      "                    \"siteSection2\": sectionTwo,\n",
      "                    \"siteSection3\": sectionThree,\n",
      "                    \"pageType\": templateName,\n",
      "                    \"domain\": cleanUrl(window.location.host),\n",
      "                    \"siteLanguage\": \"en\",\n",
      "                    \"pageName\": cleanUrl(window.location.host) + \" | \" + templateName + \" | Homepage\",\n",
      "                    \"siteCountry\": \"us\"\n",
      "                },\n",
      "                \"user\": {\n",
      "                    \"userAgent\": navigator.userAgent,\n",
      "                    \"loginStatus\": loginStatus\n",
      "                }\n",
      "            },\n",
      "            \"web\": {\n",
      "                \"webPageDetails\": {\n",
      "                    \"pageViews\": { \"value\": 1 },\n",
      "                    \"URL\": document.URL,\n",
      "                    \"name\": \"Homepage\",\n",
      "                    \"siteSection\": sectionOne\n",
      "                },\n",
      "                \"webReferrer\": {\n",
      "                    \"URL\": document.referrer\n",
      "                }\n",
      "            }\n",
      "        });\n",
      "\n",
      "        document.addEventListener('click', function(event) {\n",
      "            if (event.target.closest('.WACLauncher__ButtonContainer')) {\n",
      "                handleClick(event);\n",
      "            }\n",
      "        });\n",
      "\n",
      "        function handleClick(event) {\n",
      "            adobeDataLayer.push({\n",
      "                \"event\": \"chatInitialized\",\n",
      "                \"_ibm\": {\n",
      "                    \"chat\": {\n",
      "                        \"chatBotClick\": { \"value\": 1 },\n",
      "                        \"liveChatType\": \"Support or Sales\",\n",
      "                        \"chatLanguage\": \"en\",\n",
      "                        \"chatCountry\": \"us\"\n",
      "                    },\n",
      "                    \"click\": {\n",
      "                        \"linkTileNumber\": 1\n",
      "                    }\n",
      "                },\n",
      "                \"web\": {\n",
      "                    \"webPageDetails\": {\n",
      "                        \"URL\": document.URL,\n",
      "                        \"name\": \"Homepage\"\n",
      "                    },\n",
      "                    \"webInteraction\": {\n",
      "                        \"name\": \"chatInitialized\",\n",
      "                        \"URL\": document.URL,\n",
      "                        \"type\": \"other\"\n",
      "                    }\n",
      "                }\n",
      "            });\n",
      "        }\n",
      "    });\n",
      "  </script>\n",
      "  <script src=\"/ey0I2Q/HdhT8/BSWJs/bRA1/hikEtXp0kwNc/L3tjPw93/H2l/eVSZUc2cB\" type=\"text/javascript\">\n",
      "  </script>\n",
      "  <link href=\"/ey0I2Q/HdhT8/BSWJs/bRA1/pt/TzJTPw93/ISx/YZXcZHH5X\" rel=\"stylesheet\" type=\"text/css\"/>\n",
      "  <script async=\"\" defer=\"\" src=\"/ey0I2Q/HdhT8/BSWJs/bRA1/pt/TzJTPw93/VGZ/UOlIfR28o\">\n",
      "  </script>\n",
      "  <div id=\"sec-overlay\" style=\"display:none;\">\n",
      "   <div id=\"sec-container\">\n",
      "   </div>\n",
      "  </div>\n",
      " </body>\n",
      "</html>\n",
      "\n"
     ]
    }
   ],
   "source": [
    "print(soup.prettify())"
   ]
  },
  {
   "cell_type": "markdown",
   "metadata": {},
   "source": [
    "Scrape all links\n"
   ]
  },
  {
   "cell_type": "code",
   "execution_count": 6,
   "metadata": {
    "scrolled": true
   },
   "outputs": [
    {
     "name": "stdout",
     "output_type": "stream",
     "text": [
      "https://www.ibm.com/granite?lnk=dev\n",
      "https://developer.ibm.com/technologies/artificial-intelligence?lnk=dev\n",
      "https://www.ibm.com/products/watsonx-code-assistant?lnk=dev\n",
      "https://www.ibm.com/watsonx/developer/?lnk=dev\n",
      "https://www.ibm.com/thought-leadership/institute-business-value/report/ceo-generative-ai?lnk=bus\n",
      "https://www.ibm.com/think/reports/ai-in-action?lnk=bus\n",
      "https://www.ibm.com/products/watsonx-orchestrate/ai-agent-for-hr?lnk=bus\n",
      "https://skillsbuild.org/adult-learners/explore-learning/artificial-intelligence?lnk=bus\n",
      "https://www.ibm.com/artificial-intelligence?lnk=ProdC\n",
      "https://www.ibm.com/hybrid-cloud?lnk=ProdC\n",
      "https://www.ibm.com/consulting?lnk=ProdC\n"
     ]
    }
   ],
   "source": [
    "for link in soup.find_all('a', href = True):\n",
    "    print(link.get('href'))"
   ]
  },
  {
   "cell_type": "markdown",
   "metadata": {},
   "source": [
    "## Scrape  all images  Tags\n"
   ]
  },
  {
   "cell_type": "code",
   "execution_count": 8,
   "metadata": {},
   "outputs": [],
   "source": [
    "for image in soup.find_all('img'):\n",
    "    image_url = image.get('src')\n",
    "    print(image_url)"
   ]
  },
  {
   "cell_type": "markdown",
   "metadata": {},
   "source": [
    "## Scrape data from HTML tables\n"
   ]
  },
  {
   "cell_type": "code",
   "execution_count": 9,
   "metadata": {},
   "outputs": [],
   "source": [
    "#The below url contains an html table with data about colors and color codes.\n",
    "url = \"https://cf-courses-data.s3.us.cloud-object-storage.appdomain.cloud/IBM-DA0321EN-SkillsNetwork/labs/datasets/HTMLColorCodes.html\""
   ]
  },
  {
   "cell_type": "markdown",
   "metadata": {},
   "source": [
    "Before proceeding to scrape a web site, you need to examine the contents, and the way data is organized on the website. Open the above url in your browser and check how many rows and columns are there in the color table.\n"
   ]
  },
  {
   "cell_type": "code",
   "execution_count": 10,
   "metadata": {},
   "outputs": [],
   "source": [
    "# get the contents of the webpage in text format and store in a variable called data\n",
    "data = requests.get(url).text"
   ]
  },
  {
   "cell_type": "code",
   "execution_count": 11,
   "metadata": {
    "scrolled": true
   },
   "outputs": [
    {
     "name": "stdout",
     "output_type": "stream",
     "text": [
      "<html>\n",
      " <body>\n",
      "  <h1>\n",
      "   Partital List  of HTML5 Supported Colors\n",
      "  </h1>\n",
      "  <table border=\"1\" class=\"main-table\">\n",
      "   <tr>\n",
      "    <td>\n",
      "     Number\n",
      "    </td>\n",
      "    <td>\n",
      "     Color\n",
      "    </td>\n",
      "    <td>\n",
      "     Color Name\n",
      "    </td>\n",
      "    <td>\n",
      "     Hex Code\n",
      "     <br/>\n",
      "     #RRGGBB\n",
      "    </td>\n",
      "    <td>\n",
      "     Decimal Code\n",
      "     <br/>\n",
      "     (R,G,B)\n",
      "    </td>\n",
      "   </tr>\n",
      "   <tr>\n",
      "    <td>\n",
      "     1\n",
      "    </td>\n",
      "    <td style=\"background:lightsalmon;\">\n",
      "    </td>\n",
      "    <td>\n",
      "     lightsalmon\n",
      "    </td>\n",
      "    <td>\n",
      "     #FFA07A\n",
      "    </td>\n",
      "    <td>\n",
      "     rgb(255,160,122)\n",
      "    </td>\n",
      "   </tr>\n",
      "   <tr>\n",
      "    <td>\n",
      "     2\n",
      "    </td>\n",
      "    <td style=\"background:salmon;\">\n",
      "    </td>\n",
      "    <td>\n",
      "     salmon\n",
      "    </td>\n",
      "    <td>\n",
      "     #FA8072\n",
      "    </td>\n",
      "    <td>\n",
      "     rgb(250,128,114)\n",
      "    </td>\n",
      "   </tr>\n",
      "   <tr>\n",
      "    <td>\n",
      "     3\n",
      "    </td>\n",
      "    <td style=\"background:darksalmon;\">\n",
      "    </td>\n",
      "    <td>\n",
      "     darksalmon\n",
      "    </td>\n",
      "    <td>\n",
      "     #E9967A\n",
      "    </td>\n",
      "    <td>\n",
      "     rgb(233,150,122)\n",
      "    </td>\n",
      "   </tr>\n",
      "   <tr>\n",
      "    <td>\n",
      "     4\n",
      "    </td>\n",
      "    <td style=\"background:lightcoral;\">\n",
      "    </td>\n",
      "    <td>\n",
      "     lightcoral\n",
      "    </td>\n",
      "    <td>\n",
      "     #F08080\n",
      "    </td>\n",
      "    <td>\n",
      "     rgb(240,128,128)\n",
      "    </td>\n",
      "   </tr>\n",
      "   <tr>\n",
      "    <td>\n",
      "     5\n",
      "    </td>\n",
      "    <td style=\"background:coral;\">\n",
      "    </td>\n",
      "    <td>\n",
      "     coral\n",
      "    </td>\n",
      "    <td>\n",
      "     #FF7F50\n",
      "    </td>\n",
      "    <td>\n",
      "     rgb(255,127,80)\n",
      "    </td>\n",
      "   </tr>\n",
      "   <tr>\n",
      "    <td>\n",
      "     6\n",
      "    </td>\n",
      "    <td style=\"background:tomato;\">\n",
      "    </td>\n",
      "    <td>\n",
      "     tomato\n",
      "    </td>\n",
      "    <td>\n",
      "     #FF6347\n",
      "    </td>\n",
      "    <td>\n",
      "     rgb(255,99,71)\n",
      "    </td>\n",
      "   </tr>\n",
      "   <tr>\n",
      "    <td>\n",
      "     7\n",
      "    </td>\n",
      "    <td style=\"background:orangered;\">\n",
      "    </td>\n",
      "    <td>\n",
      "     orangered\n",
      "    </td>\n",
      "    <td>\n",
      "     #FF4500\n",
      "    </td>\n",
      "    <td>\n",
      "     rgb(255,69,0)\n",
      "    </td>\n",
      "   </tr>\n",
      "   <tr>\n",
      "    <td>\n",
      "     8\n",
      "    </td>\n",
      "    <td style=\"background:gold;\">\n",
      "    </td>\n",
      "    <td>\n",
      "     gold\n",
      "    </td>\n",
      "    <td>\n",
      "     #FFD700\n",
      "    </td>\n",
      "    <td>\n",
      "     rgb(255,215,0)\n",
      "    </td>\n",
      "   </tr>\n",
      "   <tr>\n",
      "    <td>\n",
      "     9\n",
      "    </td>\n",
      "    <td style=\"background:orange;\">\n",
      "    </td>\n",
      "    <td>\n",
      "     orange\n",
      "    </td>\n",
      "    <td>\n",
      "     #FFA500\n",
      "    </td>\n",
      "    <td>\n",
      "     rgb(255,165,0)\n",
      "    </td>\n",
      "   </tr>\n",
      "   <tr>\n",
      "    <td>\n",
      "     10\n",
      "    </td>\n",
      "    <td style=\"background:darkorange;\">\n",
      "    </td>\n",
      "    <td>\n",
      "     darkorange\n",
      "    </td>\n",
      "    <td>\n",
      "     #FF8C00\n",
      "    </td>\n",
      "    <td>\n",
      "     rgb(255,140,0)\n",
      "    </td>\n",
      "   </tr>\n",
      "   <tr>\n",
      "    <td>\n",
      "     11\n",
      "    </td>\n",
      "    <td style=\"background:lightyellow;\">\n",
      "    </td>\n",
      "    <td>\n",
      "     lightyellow\n",
      "    </td>\n",
      "    <td>\n",
      "     #FFFFE0\n",
      "    </td>\n",
      "    <td>\n",
      "     rgb(255,255,224)\n",
      "    </td>\n",
      "   </tr>\n",
      "   <tr>\n",
      "    <td>\n",
      "     12\n",
      "    </td>\n",
      "    <td style=\"background:lemonchiffon;\">\n",
      "    </td>\n",
      "    <td>\n",
      "     lemonchiffon\n",
      "    </td>\n",
      "    <td>\n",
      "     #FFFACD\n",
      "    </td>\n",
      "    <td>\n",
      "     rgb(255,250,205)\n",
      "    </td>\n",
      "   </tr>\n",
      "   <tr>\n",
      "    <td>\n",
      "     13\n",
      "    </td>\n",
      "    <td style=\"background:papayawhip;\">\n",
      "    </td>\n",
      "    <td>\n",
      "     papayawhip\n",
      "    </td>\n",
      "    <td>\n",
      "     #FFEFD5\n",
      "    </td>\n",
      "    <td>\n",
      "     rgb(255,239,213)\n",
      "    </td>\n",
      "   </tr>\n",
      "   <tr>\n",
      "    <td>\n",
      "     14\n",
      "    </td>\n",
      "    <td style=\"background:moccasin;\">\n",
      "    </td>\n",
      "    <td>\n",
      "     moccasin\n",
      "    </td>\n",
      "    <td>\n",
      "     #FFE4B5\n",
      "    </td>\n",
      "    <td>\n",
      "     rgb(255,228,181)\n",
      "    </td>\n",
      "   </tr>\n",
      "   <tr>\n",
      "    <td>\n",
      "     15\n",
      "    </td>\n",
      "    <td style=\"background:peachpuff;\">\n",
      "    </td>\n",
      "    <td>\n",
      "     peachpuff\n",
      "    </td>\n",
      "    <td>\n",
      "     #FFDAB9\n",
      "    </td>\n",
      "    <td>\n",
      "     rgb(255,218,185)\n",
      "    </td>\n",
      "   </tr>\n",
      "   <tr>\n",
      "    <td>\n",
      "     16\n",
      "    </td>\n",
      "    <td style=\"background:palegoldenrod;\">\n",
      "    </td>\n",
      "    <td>\n",
      "     palegoldenrod\n",
      "    </td>\n",
      "    <td>\n",
      "     #EEE8AA\n",
      "    </td>\n",
      "    <td>\n",
      "     rgb(238,232,170)\n",
      "    </td>\n",
      "   </tr>\n",
      "   <tr>\n",
      "    <td>\n",
      "     17\n",
      "    </td>\n",
      "    <td style=\"background:khaki;\">\n",
      "    </td>\n",
      "    <td>\n",
      "     khaki\n",
      "    </td>\n",
      "    <td>\n",
      "     #F0E68C\n",
      "    </td>\n",
      "    <td>\n",
      "     rgb(240,230,140)\n",
      "    </td>\n",
      "   </tr>\n",
      "   <tr>\n",
      "    <td>\n",
      "     18\n",
      "    </td>\n",
      "    <td style=\"background:darkkhaki;\">\n",
      "    </td>\n",
      "    <td>\n",
      "     darkkhaki\n",
      "    </td>\n",
      "    <td>\n",
      "     #BDB76B\n",
      "    </td>\n",
      "    <td>\n",
      "     rgb(189,183,107)\n",
      "    </td>\n",
      "   </tr>\n",
      "   <tr>\n",
      "    <td>\n",
      "     19\n",
      "    </td>\n",
      "    <td style=\"background:yellow;\">\n",
      "    </td>\n",
      "    <td>\n",
      "     yellow\n",
      "    </td>\n",
      "    <td>\n",
      "     #FFFF00\n",
      "    </td>\n",
      "    <td>\n",
      "     rgb(255,255,0)\n",
      "    </td>\n",
      "   </tr>\n",
      "   <tr>\n",
      "    <td>\n",
      "     20\n",
      "    </td>\n",
      "    <td style=\"background:lawngreen;\">\n",
      "    </td>\n",
      "    <td>\n",
      "     lawngreen\n",
      "    </td>\n",
      "    <td>\n",
      "     #7CFC00\n",
      "    </td>\n",
      "    <td>\n",
      "     rgb(124,252,0)\n",
      "    </td>\n",
      "   </tr>\n",
      "   <tr>\n",
      "    <td>\n",
      "     21\n",
      "    </td>\n",
      "    <td style=\"background:chartreuse;\">\n",
      "    </td>\n",
      "    <td>\n",
      "     chartreuse\n",
      "    </td>\n",
      "    <td>\n",
      "     #7FFF00\n",
      "    </td>\n",
      "    <td>\n",
      "     rgb(127,255,0)\n",
      "    </td>\n",
      "   </tr>\n",
      "   <tr>\n",
      "    <td>\n",
      "     22\n",
      "    </td>\n",
      "    <td style=\"background:limegreen;\">\n",
      "    </td>\n",
      "    <td>\n",
      "     limegreen\n",
      "    </td>\n",
      "    <td>\n",
      "     #32CD32\n",
      "    </td>\n",
      "    <td>\n",
      "     rgb(50,205,50)\n",
      "    </td>\n",
      "   </tr>\n",
      "   <tr>\n",
      "    <td>\n",
      "     23\n",
      "    </td>\n",
      "    <td style=\"background:lime;\">\n",
      "    </td>\n",
      "    <td>\n",
      "     lime\n",
      "    </td>\n",
      "    <td>\n",
      "     #00FF00\n",
      "    </td>\n",
      "    <td>\n",
      "     rgb(0.255.0)\n",
      "    </td>\n",
      "   </tr>\n",
      "   <tr>\n",
      "    <td>\n",
      "     24\n",
      "    </td>\n",
      "    <td style=\"background:forestgreen;\">\n",
      "    </td>\n",
      "    <td>\n",
      "     forestgreen\n",
      "    </td>\n",
      "    <td>\n",
      "     #228B22\n",
      "    </td>\n",
      "    <td>\n",
      "     rgb(34,139,34)\n",
      "    </td>\n",
      "   </tr>\n",
      "   <tr>\n",
      "    <td>\n",
      "     25\n",
      "    </td>\n",
      "    <td style=\"background:green;\">\n",
      "    </td>\n",
      "    <td>\n",
      "     green\n",
      "    </td>\n",
      "    <td>\n",
      "     #008000\n",
      "    </td>\n",
      "    <td>\n",
      "     rgb(0,128,0)\n",
      "    </td>\n",
      "   </tr>\n",
      "   <tr>\n",
      "    <td>\n",
      "     26\n",
      "    </td>\n",
      "    <td style=\"background:powderblue;\">\n",
      "    </td>\n",
      "    <td>\n",
      "     powderblue\n",
      "    </td>\n",
      "    <td>\n",
      "     #B0E0E6\n",
      "    </td>\n",
      "    <td>\n",
      "     rgb(176,224,230)\n",
      "    </td>\n",
      "   </tr>\n",
      "   <tr>\n",
      "    <td>\n",
      "     27\n",
      "    </td>\n",
      "    <td style=\"background:lightblue;\">\n",
      "    </td>\n",
      "    <td>\n",
      "     lightblue\n",
      "    </td>\n",
      "    <td>\n",
      "     #ADD8E6\n",
      "    </td>\n",
      "    <td>\n",
      "     rgb(173,216,230)\n",
      "    </td>\n",
      "   </tr>\n",
      "   <tr>\n",
      "    <td>\n",
      "     28\n",
      "    </td>\n",
      "    <td style=\"background:lightskyblue;\">\n",
      "    </td>\n",
      "    <td>\n",
      "     lightskyblue\n",
      "    </td>\n",
      "    <td>\n",
      "     #87CEFA\n",
      "    </td>\n",
      "    <td>\n",
      "     rgb(135,206,250)\n",
      "    </td>\n",
      "   </tr>\n",
      "   <tr>\n",
      "    <td>\n",
      "     29\n",
      "    </td>\n",
      "    <td style=\"background:skyblue;\">\n",
      "    </td>\n",
      "    <td>\n",
      "     skyblue\n",
      "    </td>\n",
      "    <td>\n",
      "     #87CEEB\n",
      "    </td>\n",
      "    <td>\n",
      "     rgb(135,206,235)\n",
      "    </td>\n",
      "   </tr>\n",
      "   <tr>\n",
      "    <td>\n",
      "     30\n",
      "    </td>\n",
      "    <td style=\"background:deepskyblue;\">\n",
      "    </td>\n",
      "    <td>\n",
      "     deepskyblue\n",
      "    </td>\n",
      "    <td>\n",
      "     #00BFFF\n",
      "    </td>\n",
      "    <td>\n",
      "     rgb(0,191,255)\n",
      "    </td>\n",
      "   </tr>\n",
      "   <tr>\n",
      "    <td>\n",
      "     31\n",
      "    </td>\n",
      "    <td style=\"background:lightsteelblue;\">\n",
      "    </td>\n",
      "    <td>\n",
      "     lightsteelblue\n",
      "    </td>\n",
      "    <td>\n",
      "     #B0C4DE\n",
      "    </td>\n",
      "    <td>\n",
      "     rgb(176,196,222)\n",
      "    </td>\n",
      "   </tr>\n",
      "   <tr>\n",
      "    <td>\n",
      "     32\n",
      "    </td>\n",
      "    <td style=\"background:dodgerblue;\">\n",
      "    </td>\n",
      "    <td>\n",
      "     dodgerblue\n",
      "    </td>\n",
      "    <td>\n",
      "     #1E90FF\n",
      "    </td>\n",
      "    <td>\n",
      "     rgb(30,144,255)\n",
      "    </td>\n",
      "   </tr>\n",
      "  </table>\n",
      " </body>\n",
      "</html>\n",
      "\n"
     ]
    }
   ],
   "source": [
    "soup = BeautifulSoup(data,'html.parser')\n",
    "print(soup.prettify())"
   ]
  },
  {
   "cell_type": "code",
   "execution_count": 14,
   "metadata": {
    "collapsed": true,
    "jupyter": {
     "outputs_hidden": true
    }
   },
   "outputs": [
    {
     "name": "stdout",
     "output_type": "stream",
     "text": [
      "<table border=\"1\" class=\"main-table\">\n",
      "<tr>\n",
      "<td>Number </td>\n",
      "<td>Color</td>\n",
      "<td>Color Name</td>\n",
      "<td>Hex Code<br/>#RRGGBB</td>\n",
      "<td>Decimal Code<br/>(R,G,B)</td>\n",
      "</tr>\n",
      "<tr>\n",
      "<td>1</td>\n",
      "<td style=\"background:lightsalmon;\"> </td>\n",
      "<td>lightsalmon</td>\n",
      "<td>#FFA07A</td>\n",
      "<td>rgb(255,160,122)</td>\n",
      "</tr>\n",
      "<tr>\n",
      "<td>2</td>\n",
      "<td style=\"background:salmon;\"> </td>\n",
      "<td>salmon</td>\n",
      "<td>#FA8072</td>\n",
      "<td>rgb(250,128,114)</td>\n",
      "</tr>\n",
      "<tr>\n",
      "<td>3</td>\n",
      "<td style=\"background:darksalmon;\"> </td>\n",
      "<td>darksalmon</td>\n",
      "<td>#E9967A</td>\n",
      "<td>rgb(233,150,122)</td>\n",
      "</tr>\n",
      "<tr>\n",
      "<td>4</td>\n",
      "<td style=\"background:lightcoral;\"> </td>\n",
      "<td>lightcoral</td>\n",
      "<td>#F08080</td>\n",
      "<td>rgb(240,128,128)</td>\n",
      "</tr>\n",
      "<tr>\n",
      "<td>5</td>\n",
      "<td style=\"background:coral;\"> </td>\n",
      "<td>coral</td>\n",
      "<td>#FF7F50</td>\n",
      "<td>rgb(255,127,80)</td>\n",
      "</tr>\n",
      "<tr>\n",
      "<td>6</td>\n",
      "<td style=\"background:tomato;\"> </td>\n",
      "<td>tomato</td>\n",
      "<td>#FF6347</td>\n",
      "<td>rgb(255,99,71)</td>\n",
      "</tr>\n",
      "<tr>\n",
      "<td>7</td>\n",
      "<td style=\"background:orangered;\"> </td>\n",
      "<td>orangered</td>\n",
      "<td>#FF4500</td>\n",
      "<td>rgb(255,69,0)</td>\n",
      "</tr>\n",
      "<tr>\n",
      "<td>8</td>\n",
      "<td style=\"background:gold;\"> </td>\n",
      "<td>gold</td>\n",
      "<td>#FFD700</td>\n",
      "<td>rgb(255,215,0)</td>\n",
      "</tr>\n",
      "<tr>\n",
      "<td>9</td>\n",
      "<td style=\"background:orange;\"> </td>\n",
      "<td>orange</td>\n",
      "<td>#FFA500</td>\n",
      "<td>rgb(255,165,0)</td>\n",
      "</tr>\n",
      "<tr>\n",
      "<td>10</td>\n",
      "<td style=\"background:darkorange;\"> </td>\n",
      "<td>darkorange</td>\n",
      "<td>#FF8C00</td>\n",
      "<td>rgb(255,140,0)</td>\n",
      "</tr>\n",
      "<tr>\n",
      "<td>11</td>\n",
      "<td style=\"background:lightyellow;\"> </td>\n",
      "<td>lightyellow</td>\n",
      "<td>#FFFFE0</td>\n",
      "<td>rgb(255,255,224)</td>\n",
      "</tr>\n",
      "<tr>\n",
      "<td>12</td>\n",
      "<td style=\"background:lemonchiffon;\"> </td>\n",
      "<td>lemonchiffon</td>\n",
      "<td>#FFFACD</td>\n",
      "<td>rgb(255,250,205)</td>\n",
      "</tr>\n",
      "<tr>\n",
      "<td>13</td>\n",
      "<td style=\"background:papayawhip;\"> </td>\n",
      "<td>papayawhip</td>\n",
      "<td>#FFEFD5</td>\n",
      "<td>rgb(255,239,213)</td>\n",
      "</tr>\n",
      "<tr>\n",
      "<td>14</td>\n",
      "<td style=\"background:moccasin;\"> </td>\n",
      "<td>moccasin</td>\n",
      "<td>#FFE4B5</td>\n",
      "<td>rgb(255,228,181)</td>\n",
      "</tr>\n",
      "<tr>\n",
      "<td>15</td>\n",
      "<td style=\"background:peachpuff;\"> </td>\n",
      "<td>peachpuff</td>\n",
      "<td>#FFDAB9</td>\n",
      "<td>rgb(255,218,185)</td>\n",
      "</tr>\n",
      "<tr>\n",
      "<td>16</td>\n",
      "<td style=\"background:palegoldenrod;\"> </td>\n",
      "<td>palegoldenrod</td>\n",
      "<td>#EEE8AA</td>\n",
      "<td>rgb(238,232,170)</td>\n",
      "</tr>\n",
      "<tr>\n",
      "<td>17</td>\n",
      "<td style=\"background:khaki;\"> </td>\n",
      "<td>khaki</td>\n",
      "<td>#F0E68C</td>\n",
      "<td>rgb(240,230,140)</td>\n",
      "</tr>\n",
      "<tr>\n",
      "<td>18</td>\n",
      "<td style=\"background:darkkhaki;\"> </td>\n",
      "<td>darkkhaki</td>\n",
      "<td>#BDB76B</td>\n",
      "<td>rgb(189,183,107)</td>\n",
      "</tr>\n",
      "<tr>\n",
      "<td>19</td>\n",
      "<td style=\"background:yellow;\"> </td>\n",
      "<td>yellow</td>\n",
      "<td>#FFFF00</td>\n",
      "<td>rgb(255,255,0)</td>\n",
      "</tr>\n",
      "<tr>\n",
      "<td>20</td>\n",
      "<td style=\"background:lawngreen;\"> </td>\n",
      "<td>lawngreen</td>\n",
      "<td>#7CFC00</td>\n",
      "<td>rgb(124,252,0)</td>\n",
      "</tr>\n",
      "<tr>\n",
      "<td>21</td>\n",
      "<td style=\"background:chartreuse;\"> </td>\n",
      "<td>chartreuse</td>\n",
      "<td>#7FFF00</td>\n",
      "<td>rgb(127,255,0)</td>\n",
      "</tr>\n",
      "<tr>\n",
      "<td>22</td>\n",
      "<td style=\"background:limegreen;\"> </td>\n",
      "<td>limegreen</td>\n",
      "<td>#32CD32</td>\n",
      "<td>rgb(50,205,50)</td>\n",
      "</tr>\n",
      "<tr>\n",
      "<td>23</td>\n",
      "<td style=\"background:lime;\"> </td>\n",
      "<td>lime</td>\n",
      "<td>#00FF00</td>\n",
      "<td>rgb(0.255.0)</td>\n",
      "</tr>\n",
      "<tr>\n",
      "<td>24</td>\n",
      "<td style=\"background:forestgreen;\"> </td>\n",
      "<td>forestgreen</td>\n",
      "<td>#228B22</td>\n",
      "<td>rgb(34,139,34)</td>\n",
      "</tr>\n",
      "<tr>\n",
      "<td>25</td>\n",
      "<td style=\"background:green;\"> </td>\n",
      "<td>green</td>\n",
      "<td>#008000</td>\n",
      "<td>rgb(0,128,0)</td>\n",
      "</tr>\n",
      "<tr>\n",
      "<td>26</td>\n",
      "<td style=\"background:powderblue;\"> </td>\n",
      "<td>powderblue</td>\n",
      "<td>#B0E0E6</td>\n",
      "<td>rgb(176,224,230)</td>\n",
      "</tr>\n",
      "<tr>\n",
      "<td>27</td>\n",
      "<td style=\"background:lightblue;\"> </td>\n",
      "<td>lightblue</td>\n",
      "<td>#ADD8E6</td>\n",
      "<td>rgb(173,216,230)</td>\n",
      "</tr>\n",
      "<tr>\n",
      "<td>28</td>\n",
      "<td style=\"background:lightskyblue;\"> </td>\n",
      "<td>lightskyblue</td>\n",
      "<td>#87CEFA</td>\n",
      "<td>rgb(135,206,250)</td>\n",
      "</tr>\n",
      "<tr>\n",
      "<td>29</td>\n",
      "<td style=\"background:skyblue;\"> </td>\n",
      "<td>skyblue</td>\n",
      "<td>#87CEEB</td>\n",
      "<td>rgb(135,206,235)</td>\n",
      "</tr>\n",
      "<tr>\n",
      "<td>30</td>\n",
      "<td style=\"background:deepskyblue;\"> </td>\n",
      "<td>deepskyblue</td>\n",
      "<td>#00BFFF</td>\n",
      "<td>rgb(0,191,255)</td>\n",
      "</tr>\n",
      "<tr>\n",
      "<td>31</td>\n",
      "<td style=\"background:lightsteelblue;\"> </td>\n",
      "<td>lightsteelblue</td>\n",
      "<td>#B0C4DE</td>\n",
      "<td>rgb(176,196,222)</td>\n",
      "</tr>\n",
      "<tr>\n",
      "<td>32</td>\n",
      "<td style=\"background:dodgerblue;\"> </td>\n",
      "<td>dodgerblue</td>\n",
      "<td>#1E90FF</td>\n",
      "<td>rgb(30,144,255)</td>\n",
      "</tr>\n",
      "</table>\n"
     ]
    }
   ],
   "source": [
    "#find a html table in the web page\n",
    "table = soup.find('table')\n",
    "print(table)"
   ]
  },
  {
   "cell_type": "code",
   "execution_count": 19,
   "metadata": {},
   "outputs": [
    {
     "name": "stdout",
     "output_type": "stream",
     "text": [
      "Color Name ---> None\n",
      "lightsalmon ---> #FFA07A\n",
      "salmon ---> #FA8072\n",
      "darksalmon ---> #E9967A\n",
      "lightcoral ---> #F08080\n",
      "coral ---> #FF7F50\n",
      "tomato ---> #FF6347\n",
      "orangered ---> #FF4500\n",
      "gold ---> #FFD700\n",
      "orange ---> #FFA500\n",
      "darkorange ---> #FF8C00\n",
      "lightyellow ---> #FFFFE0\n",
      "lemonchiffon ---> #FFFACD\n",
      "papayawhip ---> #FFEFD5\n",
      "moccasin ---> #FFE4B5\n",
      "peachpuff ---> #FFDAB9\n",
      "palegoldenrod ---> #EEE8AA\n",
      "khaki ---> #F0E68C\n",
      "darkkhaki ---> #BDB76B\n",
      "yellow ---> #FFFF00\n",
      "lawngreen ---> #7CFC00\n",
      "chartreuse ---> #7FFF00\n",
      "limegreen ---> #32CD32\n",
      "lime ---> #00FF00\n",
      "forestgreen ---> #228B22\n",
      "green ---> #008000\n",
      "powderblue ---> #B0E0E6\n",
      "lightblue ---> #ADD8E6\n",
      "lightskyblue ---> #87CEFA\n",
      "skyblue ---> #87CEEB\n",
      "deepskyblue ---> #00BFFF\n",
      "lightsteelblue ---> #B0C4DE\n",
      "dodgerblue ---> #1E90FF\n"
     ]
    }
   ],
   "source": [
    "#Get all rows from the table\n",
    "for row in soup.find_all(\"tr\"):\n",
    "    cells = row.find_all(\"td\")\n",
    "    color_name = cells[2].string\n",
    "    color_code = cells[3].string\n",
    "    print(\"{} ---> {}\".format(color_name, color_code))"
   ]
  },
  {
   "cell_type": "code",
   "execution_count": 125,
   "metadata": {},
   "outputs": [],
   "source": [
    "#How to get the shade and the code in the output??? No string there"
   ]
  },
  {
   "cell_type": "markdown",
   "metadata": {},
   "source": [
    "## Scrape data from HTML tables into a DataFrame using BeautifulSoup and Pandas\n"
   ]
  },
  {
   "cell_type": "code",
   "execution_count": 62,
   "metadata": {},
   "outputs": [
    {
     "name": "stdout",
     "output_type": "stream",
     "text": [
      "Collecting pandas\n",
      "  Downloading pandas-2.2.3-cp311-cp311-manylinux_2_17_x86_64.manylinux2014_x86_64.whl.metadata (89 kB)\n",
      "\u001b[2K     \u001b[90m━━━━━━━━━━━━━━━━━━━━━━━━━━━━━━━━━━━━━━━━\u001b[0m \u001b[32m89.9/89.9 kB\u001b[0m \u001b[31m9.8 MB/s\u001b[0m eta \u001b[36m0:00:00\u001b[0m\n",
      "\u001b[?25hCollecting numpy>=1.23.2 (from pandas)\n",
      "  Downloading numpy-2.1.3-cp311-cp311-manylinux_2_17_x86_64.manylinux2014_x86_64.whl.metadata (62 kB)\n",
      "\u001b[2K     \u001b[90m━━━━━━━━━━━━━━━━━━━━━━━━━━━━━━━━━━━━━━━━\u001b[0m \u001b[32m62.0/62.0 kB\u001b[0m \u001b[31m6.8 MB/s\u001b[0m eta \u001b[36m0:00:00\u001b[0m\n",
      "\u001b[?25hRequirement already satisfied: python-dateutil>=2.8.2 in /opt/conda/lib/python3.11/site-packages (from pandas) (2.9.0)\n",
      "Requirement already satisfied: pytz>=2020.1 in /opt/conda/lib/python3.11/site-packages (from pandas) (2024.1)\n",
      "Collecting tzdata>=2022.7 (from pandas)\n",
      "  Downloading tzdata-2024.2-py2.py3-none-any.whl.metadata (1.4 kB)\n",
      "Requirement already satisfied: six>=1.5 in /opt/conda/lib/python3.11/site-packages (from python-dateutil>=2.8.2->pandas) (1.16.0)\n",
      "Downloading pandas-2.2.3-cp311-cp311-manylinux_2_17_x86_64.manylinux2014_x86_64.whl (13.1 MB)\n",
      "\u001b[2K   \u001b[90m━━━━━━━━━━━━━━━━━━━━━━━━━━━━━━━━━━━━━━━━\u001b[0m \u001b[32m13.1/13.1 MB\u001b[0m \u001b[31m121.6 MB/s\u001b[0m eta \u001b[36m0:00:00\u001b[0m00:01\u001b[0m0:01\u001b[0m\n",
      "\u001b[?25hDownloading numpy-2.1.3-cp311-cp311-manylinux_2_17_x86_64.manylinux2014_x86_64.whl (16.3 MB)\n",
      "\u001b[2K   \u001b[90m━━━━━━━━━━━━━━━━━━━━━━━━━━━━━━━━━━━━━━━━\u001b[0m \u001b[32m16.3/16.3 MB\u001b[0m \u001b[31m118.6 MB/s\u001b[0m eta \u001b[36m0:00:00\u001b[0m00:01\u001b[0m00:01\u001b[0m\n",
      "\u001b[?25hDownloading tzdata-2024.2-py2.py3-none-any.whl (346 kB)\n",
      "\u001b[2K   \u001b[90m━━━━━━━━━━━━━━━━━━━━━━━━━━━━━━━━━━━━━━━━\u001b[0m \u001b[32m346.6/346.6 kB\u001b[0m \u001b[31m42.7 MB/s\u001b[0m eta \u001b[36m0:00:00\u001b[0m\n",
      "\u001b[?25hInstalling collected packages: tzdata, numpy, pandas\n",
      "Successfully installed numpy-2.1.3 pandas-2.2.3 tzdata-2024.2\n"
     ]
    }
   ],
   "source": [
    "!pip install pandas"
   ]
  },
  {
   "cell_type": "code",
   "execution_count": 63,
   "metadata": {},
   "outputs": [],
   "source": [
    "import pandas as pd"
   ]
  },
  {
   "cell_type": "code",
   "execution_count": 65,
   "metadata": {
    "jupyter": {
     "source_hidden": true
    }
   },
   "outputs": [],
   "source": [
    "#The below url contains html tables with data about world population.\n",
    "url = \"https://en.wikipedia.org/wiki/World_population\""
   ]
  },
  {
   "cell_type": "markdown",
   "metadata": {},
   "source": [
    "Before proceeding to scrape a web site, you need to examine the contents, and the way data is organized on the website. Open the above url in your browser and check the tables on the webpage.\n"
   ]
  },
  {
   "cell_type": "code",
   "execution_count": 35,
   "metadata": {},
   "outputs": [],
   "source": [
    "# get the contents of the webpage in text format and store in a variable called data\n",
    "data = requests.get(url).text"
   ]
  },
  {
   "cell_type": "code",
   "execution_count": 36,
   "metadata": {},
   "outputs": [],
   "source": [
    "soup = BeautifulSoup(data,\"html.parser\")"
   ]
  },
  {
   "cell_type": "code",
   "execution_count": 37,
   "metadata": {},
   "outputs": [],
   "source": [
    "#find all html tables in the web page\n",
    "tables = soup.find_all('table') # in html table is represented by the tag <table>"
   ]
  },
  {
   "cell_type": "code",
   "execution_count": 30,
   "metadata": {},
   "outputs": [
    {
     "data": {
      "text/plain": [
       "31"
      ]
     },
     "execution_count": 30,
     "metadata": {},
     "output_type": "execute_result"
    }
   ],
   "source": [
    "# we can see how many tables were found by checking the length of the tables list\n",
    "len(tables)"
   ]
  },
  {
   "cell_type": "code",
   "execution_count": 52,
   "metadata": {
    "scrolled": true
   },
   "outputs": [
    {
     "data": {
      "text/plain": [
       "<bound method Tag.prettify of <table class=\"wikitable sortable\" style=\"text-align:right\">\n",
       "<caption>10 most densely populated countries <small>(with population above 5 million)</small><sup class=\"reference\" id=\"cite_ref-:10_104-0\"><a href=\"#cite_note-:10-104\"><span class=\"cite-bracket\">[</span>99<span class=\"cite-bracket\">]</span></a></sup>\n",
       "</caption>\n",
       "<tbody><tr>\n",
       "<th scope=\"col\">Rank\n",
       "</th>\n",
       "<th scope=\"col\">Country\n",
       "</th>\n",
       "<th scope=\"col\">Population\n",
       "</th>\n",
       "<th scope=\"col\">Area<br/><small>(km<sup>2</sup>)</small>\n",
       "</th>\n",
       "<th scope=\"col\">Density<br/><small>(pop/km<sup>2</sup>)</small>\n",
       "</th></tr>\n",
       "<tr>\n",
       "<td>1</td>\n",
       "<td align=\"left\"><span class=\"flagicon\"><span class=\"mw-image-border\" typeof=\"mw:File\"><span><img alt=\"\" class=\"mw-file-element\" data-file-height=\"600\" data-file-width=\"900\" decoding=\"async\" height=\"15\" src=\"//upload.wikimedia.org/wikipedia/commons/thumb/4/48/Flag_of_Singapore.svg/23px-Flag_of_Singapore.svg.png\" srcset=\"//upload.wikimedia.org/wikipedia/commons/thumb/4/48/Flag_of_Singapore.svg/35px-Flag_of_Singapore.svg.png 1.5x, //upload.wikimedia.org/wikipedia/commons/thumb/4/48/Flag_of_Singapore.svg/45px-Flag_of_Singapore.svg.png 2x\" width=\"23\"/></span></span> </span><a href=\"/wiki/Singapore\" title=\"Singapore\">Singapore</a></td>\n",
       "<td>5,921,231</td>\n",
       "<td>719</td>\n",
       "<td>8,235\n",
       "</td></tr>\n",
       "<tr>\n",
       "<td>2</td>\n",
       "<td align=\"left\"><span class=\"flagicon\"><span class=\"mw-image-border\" typeof=\"mw:File\"><span><img alt=\"\" class=\"mw-file-element\" data-file-height=\"600\" data-file-width=\"1000\" decoding=\"async\" height=\"14\" src=\"//upload.wikimedia.org/wikipedia/commons/thumb/f/f9/Flag_of_Bangladesh.svg/23px-Flag_of_Bangladesh.svg.png\" srcset=\"//upload.wikimedia.org/wikipedia/commons/thumb/f/f9/Flag_of_Bangladesh.svg/35px-Flag_of_Bangladesh.svg.png 1.5x, //upload.wikimedia.org/wikipedia/commons/thumb/f/f9/Flag_of_Bangladesh.svg/46px-Flag_of_Bangladesh.svg.png 2x\" width=\"23\"/></span></span> </span><a href=\"/wiki/Bangladesh\" title=\"Bangladesh\">Bangladesh</a></td>\n",
       "<td>165,650,475</td>\n",
       "<td>148,460</td>\n",
       "<td>1,116\n",
       "</td></tr>\n",
       "<tr>\n",
       "<td>3</td>\n",
       "<td align=\"left\">\n",
       "<p><span class=\"flagicon\"><span class=\"mw-image-border\" typeof=\"mw:File\"><span><img alt=\"\" class=\"mw-file-element\" data-file-height=\"600\" data-file-width=\"1200\" decoding=\"async\" height=\"12\" src=\"//upload.wikimedia.org/wikipedia/commons/thumb/0/00/Flag_of_Palestine.svg/23px-Flag_of_Palestine.svg.png\" srcset=\"//upload.wikimedia.org/wikipedia/commons/thumb/0/00/Flag_of_Palestine.svg/35px-Flag_of_Palestine.svg.png 1.5x, //upload.wikimedia.org/wikipedia/commons/thumb/0/00/Flag_of_Palestine.svg/46px-Flag_of_Palestine.svg.png 2x\" width=\"23\"/></span></span> </span><a href=\"/wiki/State_of_Palestine\" title=\"State of Palestine\">Palestine</a><sup class=\"reference\" id=\"cite_ref-105\"><a href=\"#cite_note-105\"><span class=\"cite-bracket\">[</span>note 3<span class=\"cite-bracket\">]</span></a></sup><sup class=\"reference\" id=\"cite_ref-106\"><a href=\"#cite_note-106\"><span class=\"cite-bracket\">[</span>100<span class=\"cite-bracket\">]</span></a></sup>\n",
       "</p>\n",
       "</td>\n",
       "<td>5,223,000</td>\n",
       "<td>6,025</td>\n",
       "<td>867\n",
       "</td></tr>\n",
       "<tr>\n",
       "<td>4</td>\n",
       "<td align=\"left\"><span class=\"flagicon\"><span class=\"mw-image-border\" typeof=\"mw:File\"><span><img alt=\"\" class=\"mw-file-element\" data-file-height=\"600\" data-file-width=\"900\" decoding=\"async\" height=\"15\" src=\"//upload.wikimedia.org/wikipedia/commons/thumb/7/72/Flag_of_the_Republic_of_China.svg/23px-Flag_of_the_Republic_of_China.svg.png\" srcset=\"//upload.wikimedia.org/wikipedia/commons/thumb/7/72/Flag_of_the_Republic_of_China.svg/35px-Flag_of_the_Republic_of_China.svg.png 1.5x, //upload.wikimedia.org/wikipedia/commons/thumb/7/72/Flag_of_the_Republic_of_China.svg/45px-Flag_of_the_Republic_of_China.svg.png 2x\" width=\"23\"/></span></span> </span><a href=\"/wiki/Taiwan\" title=\"Taiwan\">Taiwan</a><sup class=\"reference\" id=\"cite_ref-107\"><a href=\"#cite_note-107\"><span class=\"cite-bracket\">[</span>note 4<span class=\"cite-bracket\">]</span></a></sup></td>\n",
       "<td>23,580,712</td>\n",
       "<td>35,980</td>\n",
       "<td>655\n",
       "</td></tr>\n",
       "<tr>\n",
       "<td>5</td>\n",
       "<td align=\"left\"><span class=\"flagicon\"><span class=\"mw-image-border\" typeof=\"mw:File\"><span><img alt=\"\" class=\"mw-file-element\" data-file-height=\"600\" data-file-width=\"900\" decoding=\"async\" height=\"15\" src=\"//upload.wikimedia.org/wikipedia/commons/thumb/0/09/Flag_of_South_Korea.svg/23px-Flag_of_South_Korea.svg.png\" srcset=\"//upload.wikimedia.org/wikipedia/commons/thumb/0/09/Flag_of_South_Korea.svg/35px-Flag_of_South_Korea.svg.png 1.5x, //upload.wikimedia.org/wikipedia/commons/thumb/0/09/Flag_of_South_Korea.svg/45px-Flag_of_South_Korea.svg.png 2x\" width=\"23\"/></span></span> </span><a href=\"/wiki/South_Korea\" title=\"South Korea\">South Korea</a></td>\n",
       "<td>51,844,834</td>\n",
       "<td>99,720</td>\n",
       "<td>520\n",
       "</td></tr>\n",
       "<tr>\n",
       "<td>6</td>\n",
       "<td align=\"left\"><span class=\"flagicon\"><span class=\"mw-image-border\" typeof=\"mw:File\"><span><img alt=\"\" class=\"mw-file-element\" data-file-height=\"600\" data-file-width=\"900\" decoding=\"async\" height=\"15\" src=\"//upload.wikimedia.org/wikipedia/commons/thumb/5/59/Flag_of_Lebanon.svg/23px-Flag_of_Lebanon.svg.png\" srcset=\"//upload.wikimedia.org/wikipedia/commons/thumb/5/59/Flag_of_Lebanon.svg/35px-Flag_of_Lebanon.svg.png 1.5x, //upload.wikimedia.org/wikipedia/commons/thumb/5/59/Flag_of_Lebanon.svg/45px-Flag_of_Lebanon.svg.png 2x\" width=\"23\"/></span></span> </span><a href=\"/wiki/Lebanon\" title=\"Lebanon\">Lebanon</a></td>\n",
       "<td>5,296,814</td>\n",
       "<td>10,400</td>\n",
       "<td>509\n",
       "</td></tr>\n",
       "<tr>\n",
       "<td>7</td>\n",
       "<td align=\"left\"><span class=\"flagicon\"><span class=\"mw-image-border\" typeof=\"mw:File\"><span><img alt=\"\" class=\"mw-file-element\" data-file-height=\"600\" data-file-width=\"900\" decoding=\"async\" height=\"15\" src=\"//upload.wikimedia.org/wikipedia/commons/thumb/1/17/Flag_of_Rwanda.svg/23px-Flag_of_Rwanda.svg.png\" srcset=\"//upload.wikimedia.org/wikipedia/commons/thumb/1/17/Flag_of_Rwanda.svg/35px-Flag_of_Rwanda.svg.png 1.5x, //upload.wikimedia.org/wikipedia/commons/thumb/1/17/Flag_of_Rwanda.svg/45px-Flag_of_Rwanda.svg.png 2x\" width=\"23\"/></span></span> </span><a href=\"/wiki/Rwanda\" title=\"Rwanda\">Rwanda</a></td>\n",
       "<td>13,173,730</td>\n",
       "<td>26,338</td>\n",
       "<td>500\n",
       "</td></tr>\n",
       "<tr>\n",
       "<td>8</td>\n",
       "<td align=\"left\"><span class=\"flagicon\"><span class=\"mw-image-border\" typeof=\"mw:File\"><span><img alt=\"\" class=\"mw-file-element\" data-file-height=\"600\" data-file-width=\"1000\" decoding=\"async\" height=\"14\" src=\"//upload.wikimedia.org/wikipedia/commons/thumb/5/50/Flag_of_Burundi.svg/23px-Flag_of_Burundi.svg.png\" srcset=\"//upload.wikimedia.org/wikipedia/commons/thumb/5/50/Flag_of_Burundi.svg/35px-Flag_of_Burundi.svg.png 1.5x, //upload.wikimedia.org/wikipedia/commons/thumb/5/50/Flag_of_Burundi.svg/46px-Flag_of_Burundi.svg.png 2x\" width=\"23\"/></span></span> </span><a href=\"/wiki/Burundi\" title=\"Burundi\">Burundi</a></td>\n",
       "<td>12,696,478</td>\n",
       "<td>27,830</td>\n",
       "<td>456\n",
       "</td></tr>\n",
       "<tr>\n",
       "<td>9</td>\n",
       "<td align=\"left\"><span class=\"flagicon\"><span class=\"mw-image-border\" typeof=\"mw:File\"><span><img alt=\"\" class=\"mw-file-element\" data-file-height=\"800\" data-file-width=\"1100\" decoding=\"async\" height=\"15\" src=\"//upload.wikimedia.org/wikipedia/commons/thumb/d/d4/Flag_of_Israel.svg/21px-Flag_of_Israel.svg.png\" srcset=\"//upload.wikimedia.org/wikipedia/commons/thumb/d/d4/Flag_of_Israel.svg/32px-Flag_of_Israel.svg.png 1.5x, //upload.wikimedia.org/wikipedia/commons/thumb/d/d4/Flag_of_Israel.svg/41px-Flag_of_Israel.svg.png 2x\" width=\"21\"/></span></span> </span><a href=\"/wiki/Israel\" title=\"Israel\">Israel</a></td>\n",
       "<td>9,402,617</td>\n",
       "<td>21,937</td>\n",
       "<td>429\n",
       "</td></tr>\n",
       "<tr>\n",
       "<td>10</td>\n",
       "<td align=\"left\"><span class=\"flagicon\"><span class=\"mw-image-border\" typeof=\"mw:File\"><span><img alt=\"\" class=\"mw-file-element\" data-file-height=\"600\" data-file-width=\"900\" decoding=\"async\" height=\"15\" src=\"//upload.wikimedia.org/wikipedia/en/thumb/4/41/Flag_of_India.svg/23px-Flag_of_India.svg.png\" srcset=\"//upload.wikimedia.org/wikipedia/en/thumb/4/41/Flag_of_India.svg/35px-Flag_of_India.svg.png 1.5x, //upload.wikimedia.org/wikipedia/en/thumb/4/41/Flag_of_India.svg/45px-Flag_of_India.svg.png 2x\" width=\"23\"/></span></span> </span><a href=\"/wiki/India\" title=\"India\">India</a></td>\n",
       "<td>1,389,637,446</td>\n",
       "<td>3,287,263</td>\n",
       "<td>423\n",
       "</td></tr></tbody></table>>"
      ]
     },
     "execution_count": 52,
     "metadata": {},
     "output_type": "execute_result"
    }
   ],
   "source": [
    "tables[8].prettify"
   ]
  },
  {
   "cell_type": "markdown",
   "metadata": {},
   "source": [
    "Assume that we are looking for the `10 most densly populated countries` table, we can look through the tables list and find the right one we are look for based on the data in each table or we can search for the table name if it is in the table but this option might not always work.\n"
   ]
  },
  {
   "cell_type": "code",
   "execution_count": 49,
   "metadata": {},
   "outputs": [
    {
     "name": "stdout",
     "output_type": "stream",
     "text": [
      "8\n"
     ]
    }
   ],
   "source": [
    "for i,table in enumerate(tables):\n",
    "    if (\"most densely populated countries\" in str(table)):\n",
    "        table_index = i\n",
    "print(table_index)"
   ]
  },
  {
   "cell_type": "markdown",
   "metadata": {},
   "source": [
    "See if you can locate the table name of the table, `10 most densly populated countries`, below.\n"
   ]
  },
  {
   "cell_type": "code",
   "execution_count": 60,
   "metadata": {},
   "outputs": [
    {
     "data": {
      "text/plain": [
       "'10 most densely populated countries (with population above 5\\xa0million)[99]\\n'"
      ]
     },
     "execution_count": 60,
     "metadata": {},
     "output_type": "execute_result"
    }
   ],
   "source": [
    "tables[table_index].find('caption').get_text()"
   ]
  },
  {
   "cell_type": "code",
   "execution_count": 98,
   "metadata": {},
   "outputs": [
    {
     "name": "stdout",
     "output_type": "stream",
     "text": [
      "Rank                 Country    Population      Area Density\n",
      "   1               Singapore     5,921,231       719   8,235\n",
      "   2              Bangladesh   165,650,475   148,460   1,116\n",
      "   3  Palestine[note 3][100]     5,223,000     6,025     867\n",
      "   4          Taiwan[note 4]    23,580,712    35,980     655\n",
      "   5             South Korea    51,844,834    99,720     520\n",
      "   6                 Lebanon     5,296,814    10,400     509\n",
      "   7                  Rwanda    13,173,730    26,338     500\n",
      "   8                 Burundi    12,696,478    27,830     456\n",
      "   9                  Israel     9,402,617    21,937     429\n",
      "  10                   India 1,389,637,446 3,287,263     423\n"
     ]
    }
   ],
   "source": [
    "population_df = pd.DataFrame(columns = [\"Rank\", \"Country\", \"Population\", \"Area\", \"Density\"])\n",
    "\n",
    "for row in tables[table_index].tbody.find_all(\"tr\"):\n",
    "    cells = row.find_all(\"td\")\n",
    "    if cells != []:\n",
    "        rank = cells[0].get_text()\n",
    "        country = cells[1].get_text().strip(\"\\n\")\n",
    "        population = cells[2].get_text()\n",
    "        area = cells[3].get_text()\n",
    "        density = cells[4].get_text().strip()\n",
    "        population_df.loc[len(population_df)] = [rank, country, population, area, density]    #loc[len(population_df)]: adds new row to df\n",
    "print(population_df.to_string(index=False))    # this removes the default index column of df"
   ]
  },
  {
   "cell_type": "markdown",
   "metadata": {},
   "source": [
    "## Scrape data from HTML tables into a DataFrame using BeautifulSoup and read_html\n"
   ]
  },
  {
   "cell_type": "markdown",
   "metadata": {},
   "source": [
    "Using the same `url`, `data`, `soup`, and `tables` object as in the last section we can use the `read_html` function to create a DataFrame.\n",
    "\n",
    "Remember the table we need is located in `tables[table_index]`\n",
    "\n",
    "We can now use the `pandas` function `read_html` and give it the string version of the table as well as the `flavor` which is the parsing engine `bs4`.\n"
   ]
  },
  {
   "cell_type": "code",
   "execution_count": 103,
   "metadata": {},
   "outputs": [
    {
     "name": "stdout",
     "output_type": "stream",
     "text": [
      "Collecting html5lib\n",
      "  Downloading html5lib-1.1-py2.py3-none-any.whl.metadata (16 kB)\n",
      "Requirement already satisfied: six>=1.9 in /opt/conda/lib/python3.11/site-packages (from html5lib) (1.16.0)\n",
      "Requirement already satisfied: webencodings in /opt/conda/lib/python3.11/site-packages (from html5lib) (0.5.1)\n",
      "Downloading html5lib-1.1-py2.py3-none-any.whl (112 kB)\n",
      "\u001b[2K   \u001b[90m━━━━━━━━━━━━━━━━━━━━━━━━━━━━━━━━━━━━━━━━\u001b[0m \u001b[32m112.2/112.2 kB\u001b[0m \u001b[31m10.1 MB/s\u001b[0m eta \u001b[36m0:00:00\u001b[0m\n",
      "\u001b[?25hInstalling collected packages: html5lib\n",
      "Successfully installed html5lib-1.1\n",
      "Collecting lxml\n",
      "  Downloading lxml-5.3.0-cp311-cp311-manylinux_2_28_x86_64.whl.metadata (3.8 kB)\n",
      "Downloading lxml-5.3.0-cp311-cp311-manylinux_2_28_x86_64.whl (5.0 MB)\n",
      "\u001b[2K   \u001b[90m━━━━━━━━━━━━━━━━━━━━━━━━━━━━━━━━━━━━━━━━\u001b[0m \u001b[32m5.0/5.0 MB\u001b[0m \u001b[31m114.5 MB/s\u001b[0m eta \u001b[36m0:00:00\u001b[0m00:01\u001b[0m\n",
      "\u001b[?25hInstalling collected packages: lxml\n",
      "Successfully installed lxml-5.3.0\n"
     ]
    }
   ],
   "source": [
    "!pip install html5lib\n",
    "!pip install lxml"
   ]
  },
  {
   "cell_type": "code",
   "execution_count": 106,
   "metadata": {},
   "outputs": [],
   "source": [
    "import html5lib\n",
    "import lxml\n",
    "import bs4"
   ]
  },
  {
   "cell_type": "code",
   "execution_count": 115,
   "metadata": {
    "scrolled": true
   },
   "outputs": [
    {
     "name": "stderr",
     "output_type": "stream",
     "text": [
      "/tmp/ipykernel_85/1935995865.py:1: FutureWarning: Passing literal html to 'read_html' is deprecated and will be removed in a future version. To read from a literal string, wrap it in a 'StringIO' object.\n",
      "  pd.read_html(str(tables[3:7]))\n"
     ]
    },
    {
     "data": {
      "text/plain": [
       "[    0                                                  1\n",
       " 0 NaN  Graphs are unavailable due to technical issues...,\n",
       "                      Region Density (inhabitants/km2) Population (millions)  \\\n",
       " 0                      Asia                     104.1                  4641   \n",
       " 1                    Africa                      44.4                  1340   \n",
       " 2                    Europe                      73.4                   747   \n",
       " 3             Latin America                      24.1                   653   \n",
       " 4  Northern America[note 1]                      14.9                   368   \n",
       " 5                   Oceania                         5                    42   \n",
       " 6                Antarctica                        ~0             0.004[86]   \n",
       " \n",
       "                                Most populous country  \\\n",
       " 0                              1,439,090,595 – India   \n",
       " 1                            0,211,401,000 – Nigeria   \n",
       " 2  0,146,171,000 – Russia, approx. 110 million in...   \n",
       " 3                             0,214,103,000 – Brazil   \n",
       " 4                      0,332,909,000 – United States   \n",
       " 5                          0,025,917,000 – Australia   \n",
       " 6                                        N/A[note 2]   \n",
       " \n",
       "               Most populous city (metropolitan area)  \n",
       " 0  13,515,000 – Tokyo Metropolis (37,400,000 – Gr...  \n",
       " 1    09,500,000 – Cairo (20,076,000 – Greater Cairo)  \n",
       " 2  13,200,000 – Moscow (20,004,000 – Moscow metro...  \n",
       " 3  12,252,000 – São Paulo City (21,650,000 – São ...  \n",
       " 4  08,804,000 – New York City (23,582,649 – New Y...  \n",
       " 5                                05,367,000 – Sydney  \n",
       " 6                       00,001,258 – McMurdo Station  ,\n",
       "   Country / Dependency  Population % of world         Date  \\\n",
       " 0                India  1425775850      17.5%  14 Apr 2023   \n",
       " 1                China  1409670000      17.3%  17 Jan 2024   \n",
       " 2        United States   337154491      4.14%  13 Nov 2024   \n",
       " 3            Indonesia   278696200      3.42%   1 Jul 2023   \n",
       " 4             Pakistan   229488994      2.82%   1 Jul 2022   \n",
       " 5              Nigeria   216746934      2.66%   1 Jul 2022   \n",
       " 6               Brazil   218412748      2.68%  13 Nov 2024   \n",
       " 7           Bangladesh   168220000      2.07%   1 Jul 2020   \n",
       " 8               Russia   147190000      1.81%   1 Oct 2021   \n",
       " 9               Mexico   128271248      1.58%  31 Mar 2022   \n",
       " \n",
       "   Source (official or from the United Nations)  \n",
       " 0                            UN projection[89]  \n",
       " 1                 National annual estimate[90]  \n",
       " 2                National population clock[91]  \n",
       " 3                 National annual estimate[92]  \n",
       " 4                            UN projection[93]  \n",
       " 5                            UN projection[93]  \n",
       " 6                National population clock[94]  \n",
       " 7               Annual Population Estimate[95]  \n",
       " 8          2021 preliminary census results[96]  \n",
       " 9                                          NaN  ,\n",
       "                                                                                                          #  \\\n",
       "    Graphs are unavailable due to technical issues. There is more info on Phabricator and on MediaWiki.org.   \n",
       "    Graphs are unavailable due to technical issues. There is more info on Phabricator and on MediaWiki.org.   \n",
       "    Graphs are unavailable due to technical issues. There is more info on Phabricator and on MediaWiki.org.   \n",
       "    Graphs are unavailable due to technical issues. There is more info on Phabricator and on MediaWiki.org.   \n",
       "    Graphs are unavailable due to technical issues. There is more info on Phabricator and on MediaWiki.org.   \n",
       "    Graphs are unavailable due to technical issues. There is more info on Phabricator and on MediaWiki.org.   \n",
       "    Graphs are unavailable due to technical issues. There is more info on Phabricator and on MediaWiki.org.   \n",
       "    Graphs are unavailable due to technical issues. There is more info on Phabricator and on MediaWiki.org.   \n",
       "    Graphs are unavailable due to technical issues. There is more info on Phabricator and on MediaWiki.org.   \n",
       "    Graphs are unavailable due to technical issues. There is more info on Phabricator and on MediaWiki.org.   \n",
       "    Graphs are unavailable due to technical issues. There is more info on Phabricator and on MediaWiki.org.   \n",
       " 0                                                 NaN                                                        \n",
       " 1                                                   1                                                        \n",
       " 2                                                   2                                                        \n",
       " 3                                                   3                                                        \n",
       " 4                                                   4                                                        \n",
       " 5                                                   5                                                        \n",
       " 6                                                   6                                                        \n",
       " 7                                                   7                                                        \n",
       " 8                                                   8                                                        \n",
       " 9                                                   9                                                        \n",
       " 10                                                 10                                                        \n",
       " 11                                                NaN                                                        \n",
       " 12  Notes: ^ 2030 = Medium variant. ^ China exclud...                                                        \n",
       " \n",
       "                               Most populous countries  \\\n",
       "                                    Unnamed: 1_level_1   \n",
       "                                    Unnamed: 1_level_2   \n",
       "                                    Unnamed: 1_level_3   \n",
       "                                    Unnamed: 1_level_4   \n",
       "                                    Unnamed: 1_level_5   \n",
       "                                    Unnamed: 1_level_6   \n",
       "                                    Unnamed: 1_level_7   \n",
       "                                    Unnamed: 1_level_8   \n",
       "                                    Unnamed: 1_level_9   \n",
       "                                   Unnamed: 1_level_10   \n",
       "                                   Unnamed: 1_level_11   \n",
       " 0   Graphs are unavailable due to technical issues...   \n",
       " 1                                            China[B]   \n",
       " 2                                               India   \n",
       " 3                                       United States   \n",
       " 4                                           Indonesia   \n",
       " 5                                            Pakistan   \n",
       " 6                                              Brazil   \n",
       " 7                                             Nigeria   \n",
       " 8                                          Bangladesh   \n",
       " 9                                              Russia   \n",
       " 10                                             Mexico   \n",
       " 11                                        World total   \n",
       " 12  Notes: ^ 2030 = Medium variant. ^ China exclud...   \n",
       " \n",
       "                                                  2000  \\\n",
       "                                    Unnamed: 2_level_1   \n",
       "                                    Unnamed: 2_level_2   \n",
       "                                    Unnamed: 2_level_3   \n",
       "                                    Unnamed: 2_level_4   \n",
       "                                    Unnamed: 2_level_5   \n",
       "                                    Unnamed: 2_level_6   \n",
       "                                    Unnamed: 2_level_7   \n",
       "                                    Unnamed: 2_level_8   \n",
       "                                    Unnamed: 2_level_9   \n",
       "                                   Unnamed: 2_level_10   \n",
       "                                   Unnamed: 2_level_11   \n",
       " 0                                                 NaN   \n",
       " 1                                                1270   \n",
       " 2                                                1053   \n",
       " 3                                                 283   \n",
       " 4                                                 212   \n",
       " 5                                                 136   \n",
       " 6                                                 176   \n",
       " 7                                                 123   \n",
       " 8                                                 131   \n",
       " 9                                                 146   \n",
       " 10                                                103   \n",
       " 11                                               6127   \n",
       " 12  Notes: ^ 2030 = Medium variant. ^ China exclud...   \n",
       " \n",
       "                                                  2015  \\\n",
       "                                    Unnamed: 3_level_1   \n",
       "                                    Unnamed: 3_level_2   \n",
       "                                    Unnamed: 3_level_3   \n",
       "                                    Unnamed: 3_level_4   \n",
       "                                    Unnamed: 3_level_5   \n",
       "                                    Unnamed: 3_level_6   \n",
       "                                    Unnamed: 3_level_7   \n",
       "                                    Unnamed: 3_level_8   \n",
       "                                    Unnamed: 3_level_9   \n",
       "                                   Unnamed: 3_level_10   \n",
       "                                   Unnamed: 3_level_11   \n",
       " 0                                                 NaN   \n",
       " 1                                                1376   \n",
       " 2                                                1311   \n",
       " 3                                                 322   \n",
       " 4                                                 258   \n",
       " 5                                                 208   \n",
       " 6                                                 206   \n",
       " 7                                                 182   \n",
       " 8                                                 161   \n",
       " 9                                                 146   \n",
       " 10                                                127   \n",
       " 11                                               7349   \n",
       " 12  Notes: ^ 2030 = Medium variant. ^ China exclud...   \n",
       " \n",
       "                                               2030[A]  \\\n",
       "                                    Unnamed: 4_level_1   \n",
       "                                    Unnamed: 4_level_2   \n",
       "                                    Unnamed: 4_level_3   \n",
       "                                    Unnamed: 4_level_4   \n",
       "                                    Unnamed: 4_level_5   \n",
       "                                    Unnamed: 4_level_6   \n",
       "                                    Unnamed: 4_level_7   \n",
       "                                    Unnamed: 4_level_8   \n",
       "                                    Unnamed: 4_level_9   \n",
       "                                   Unnamed: 4_level_10   \n",
       "                                   Unnamed: 4_level_11   \n",
       " 0                                                 NaN   \n",
       " 1                                                1416   \n",
       " 2                                                1528   \n",
       " 3                                                 356   \n",
       " 4                                                 295   \n",
       " 5                                                 245   \n",
       " 6                                                 228   \n",
       " 7                                                 263   \n",
       " 8                                                 186   \n",
       " 9                                                 149   \n",
       " 10                                                148   \n",
       " 11                                               8501   \n",
       " 12  Notes: ^ 2030 = Medium variant. ^ China exclud...   \n",
       " \n",
       "    Graphs are unavailable due to technical issues. There is more info on Phabricator and on MediaWiki.org.  \n",
       "                                                                                         Unnamed: 5_level_1  \n",
       "                                                                                         Unnamed: 5_level_2  \n",
       "                                                                                         Unnamed: 5_level_3  \n",
       "                                                                                         Unnamed: 5_level_4  \n",
       "                                                                                         Unnamed: 5_level_5  \n",
       "                                                                                         Unnamed: 5_level_6  \n",
       "                                                                                         Unnamed: 5_level_7  \n",
       "                                                                                         Unnamed: 5_level_8  \n",
       "                                                                                         Unnamed: 5_level_9  \n",
       "                                                                                        Unnamed: 5_level_10  \n",
       "                                                                                        Unnamed: 5_level_11  \n",
       " 0                                                 NaN                                                       \n",
       " 1                                                 NaN                                                       \n",
       " 2                                                 NaN                                                       \n",
       " 3                                                 NaN                                                       \n",
       " 4                                                 NaN                                                       \n",
       " 5                                                 NaN                                                       \n",
       " 6                                                 NaN                                                       \n",
       " 7                                                 NaN                                                       \n",
       " 8                                                 NaN                                                       \n",
       " 9                                                 NaN                                                       \n",
       " 10                                                NaN                                                       \n",
       " 11                                                NaN                                                       \n",
       " 12  Notes: ^ 2030 = Medium variant. ^ China exclud...                                                       ,\n",
       "     0                                                  1\n",
       " 0 NaN  Graphs are unavailable due to technical issues...]"
      ]
     },
     "execution_count": 115,
     "metadata": {},
     "output_type": "execute_result"
    }
   ],
   "source": [
    "pd.read_html(str(tables[3:7]))"
   ]
  },
  {
   "cell_type": "code",
   "execution_count": 117,
   "metadata": {},
   "outputs": [],
   "source": [
    "# read_html() will convert the table to string, and the output format is LIST (Even with 1 table). Hence, we must pick which table we would like to see"
   ]
  },
  {
   "cell_type": "markdown",
   "metadata": {},
   "source": [
    "The function `read_html` always returns a list of DataFrames so we must pick the one we want out of the list.\n"
   ]
  },
  {
   "cell_type": "code",
   "execution_count": 116,
   "metadata": {},
   "outputs": [
    {
     "name": "stderr",
     "output_type": "stream",
     "text": [
      "/tmp/ipykernel_85/2581905057.py:1: FutureWarning: Passing literal html to 'read_html' is deprecated and will be removed in a future version. To read from a literal string, wrap it in a 'StringIO' object.\n",
      "  population_data_read_html = pd.read_html(str(tables[3:7]))[2]\n"
     ]
    },
    {
     "data": {
      "text/html": [
       "<div>\n",
       "<style scoped>\n",
       "    .dataframe tbody tr th:only-of-type {\n",
       "        vertical-align: middle;\n",
       "    }\n",
       "\n",
       "    .dataframe tbody tr th {\n",
       "        vertical-align: top;\n",
       "    }\n",
       "\n",
       "    .dataframe thead th {\n",
       "        text-align: right;\n",
       "    }\n",
       "</style>\n",
       "<table border=\"1\" class=\"dataframe\">\n",
       "  <thead>\n",
       "    <tr style=\"text-align: right;\">\n",
       "      <th></th>\n",
       "      <th>Country / Dependency</th>\n",
       "      <th>Population</th>\n",
       "      <th>% of world</th>\n",
       "      <th>Date</th>\n",
       "      <th>Source (official or from the United Nations)</th>\n",
       "    </tr>\n",
       "  </thead>\n",
       "  <tbody>\n",
       "    <tr>\n",
       "      <th>0</th>\n",
       "      <td>India</td>\n",
       "      <td>1425775850</td>\n",
       "      <td>17.5%</td>\n",
       "      <td>14 Apr 2023</td>\n",
       "      <td>UN projection[89]</td>\n",
       "    </tr>\n",
       "    <tr>\n",
       "      <th>1</th>\n",
       "      <td>China</td>\n",
       "      <td>1409670000</td>\n",
       "      <td>17.3%</td>\n",
       "      <td>17 Jan 2024</td>\n",
       "      <td>National annual estimate[90]</td>\n",
       "    </tr>\n",
       "    <tr>\n",
       "      <th>2</th>\n",
       "      <td>United States</td>\n",
       "      <td>337154491</td>\n",
       "      <td>4.14%</td>\n",
       "      <td>13 Nov 2024</td>\n",
       "      <td>National population clock[91]</td>\n",
       "    </tr>\n",
       "    <tr>\n",
       "      <th>3</th>\n",
       "      <td>Indonesia</td>\n",
       "      <td>278696200</td>\n",
       "      <td>3.42%</td>\n",
       "      <td>1 Jul 2023</td>\n",
       "      <td>National annual estimate[92]</td>\n",
       "    </tr>\n",
       "    <tr>\n",
       "      <th>4</th>\n",
       "      <td>Pakistan</td>\n",
       "      <td>229488994</td>\n",
       "      <td>2.82%</td>\n",
       "      <td>1 Jul 2022</td>\n",
       "      <td>UN projection[93]</td>\n",
       "    </tr>\n",
       "    <tr>\n",
       "      <th>5</th>\n",
       "      <td>Nigeria</td>\n",
       "      <td>216746934</td>\n",
       "      <td>2.66%</td>\n",
       "      <td>1 Jul 2022</td>\n",
       "      <td>UN projection[93]</td>\n",
       "    </tr>\n",
       "    <tr>\n",
       "      <th>6</th>\n",
       "      <td>Brazil</td>\n",
       "      <td>218412748</td>\n",
       "      <td>2.68%</td>\n",
       "      <td>13 Nov 2024</td>\n",
       "      <td>National population clock[94]</td>\n",
       "    </tr>\n",
       "    <tr>\n",
       "      <th>7</th>\n",
       "      <td>Bangladesh</td>\n",
       "      <td>168220000</td>\n",
       "      <td>2.07%</td>\n",
       "      <td>1 Jul 2020</td>\n",
       "      <td>Annual Population Estimate[95]</td>\n",
       "    </tr>\n",
       "    <tr>\n",
       "      <th>8</th>\n",
       "      <td>Russia</td>\n",
       "      <td>147190000</td>\n",
       "      <td>1.81%</td>\n",
       "      <td>1 Oct 2021</td>\n",
       "      <td>2021 preliminary census results[96]</td>\n",
       "    </tr>\n",
       "    <tr>\n",
       "      <th>9</th>\n",
       "      <td>Mexico</td>\n",
       "      <td>128271248</td>\n",
       "      <td>1.58%</td>\n",
       "      <td>31 Mar 2022</td>\n",
       "      <td>NaN</td>\n",
       "    </tr>\n",
       "  </tbody>\n",
       "</table>\n",
       "</div>"
      ],
      "text/plain": [
       "  Country / Dependency  Population % of world         Date  \\\n",
       "0                India  1425775850      17.5%  14 Apr 2023   \n",
       "1                China  1409670000      17.3%  17 Jan 2024   \n",
       "2        United States   337154491      4.14%  13 Nov 2024   \n",
       "3            Indonesia   278696200      3.42%   1 Jul 2023   \n",
       "4             Pakistan   229488994      2.82%   1 Jul 2022   \n",
       "5              Nigeria   216746934      2.66%   1 Jul 2022   \n",
       "6               Brazil   218412748      2.68%  13 Nov 2024   \n",
       "7           Bangladesh   168220000      2.07%   1 Jul 2020   \n",
       "8               Russia   147190000      1.81%   1 Oct 2021   \n",
       "9               Mexico   128271248      1.58%  31 Mar 2022   \n",
       "\n",
       "  Source (official or from the United Nations)  \n",
       "0                            UN projection[89]  \n",
       "1                 National annual estimate[90]  \n",
       "2                National population clock[91]  \n",
       "3                 National annual estimate[92]  \n",
       "4                            UN projection[93]  \n",
       "5                            UN projection[93]  \n",
       "6                National population clock[94]  \n",
       "7               Annual Population Estimate[95]  \n",
       "8          2021 preliminary census results[96]  \n",
       "9                                          NaN  "
      ]
     },
     "execution_count": 116,
     "metadata": {},
     "output_type": "execute_result"
    }
   ],
   "source": [
    "population_data_read_html = pd.read_html(str(tables[3:7]))[2]\n",
    "\n",
    "population_data_read_html"
   ]
  },
  {
   "cell_type": "markdown",
   "metadata": {},
   "source": [
    "## Scrape data from HTML tables into a DataFrame using read_html\n"
   ]
  },
  {
   "cell_type": "markdown",
   "metadata": {},
   "source": [
    "We can also use the `read_html` function to directly get DataFrames from a `url`.\n"
   ]
  },
  {
   "cell_type": "code",
   "execution_count": 119,
   "metadata": {},
   "outputs": [],
   "source": [
    "dataframe_list = pd.read_html(url)"
   ]
  },
  {
   "cell_type": "markdown",
   "metadata": {},
   "source": [
    "We can see there are 25 DataFrames just like when we used `find_all` on the `soup` object.\n"
   ]
  },
  {
   "cell_type": "code",
   "execution_count": 121,
   "metadata": {},
   "outputs": [
    {
     "name": "stdout",
     "output_type": "stream",
     "text": [
      "31\n"
     ]
    }
   ],
   "source": [
    "print(len(dataframe_list))"
   ]
  },
  {
   "cell_type": "markdown",
   "metadata": {},
   "source": [
    "Finally we can pick the DataFrame we need out of the list.\n"
   ]
  },
  {
   "cell_type": "code",
   "execution_count": 125,
   "metadata": {},
   "outputs": [
    {
     "data": {
      "text/html": [
       "<div>\n",
       "<style scoped>\n",
       "    .dataframe tbody tr th:only-of-type {\n",
       "        vertical-align: middle;\n",
       "    }\n",
       "\n",
       "    .dataframe tbody tr th {\n",
       "        vertical-align: top;\n",
       "    }\n",
       "\n",
       "    .dataframe thead th {\n",
       "        text-align: right;\n",
       "    }\n",
       "</style>\n",
       "<table border=\"1\" class=\"dataframe\">\n",
       "  <thead>\n",
       "    <tr style=\"text-align: right;\">\n",
       "      <th></th>\n",
       "      <th>Rank</th>\n",
       "      <th>Country</th>\n",
       "      <th>Population</th>\n",
       "      <th>Area (km2)</th>\n",
       "      <th>Density (pop/km2)</th>\n",
       "    </tr>\n",
       "  </thead>\n",
       "  <tbody>\n",
       "    <tr>\n",
       "      <th>0</th>\n",
       "      <td>1</td>\n",
       "      <td>Singapore</td>\n",
       "      <td>5921231</td>\n",
       "      <td>719</td>\n",
       "      <td>8235</td>\n",
       "    </tr>\n",
       "    <tr>\n",
       "      <th>1</th>\n",
       "      <td>2</td>\n",
       "      <td>Bangladesh</td>\n",
       "      <td>165650475</td>\n",
       "      <td>148460</td>\n",
       "      <td>1116</td>\n",
       "    </tr>\n",
       "    <tr>\n",
       "      <th>2</th>\n",
       "      <td>3</td>\n",
       "      <td>Palestine[note 3][100]</td>\n",
       "      <td>5223000</td>\n",
       "      <td>6025</td>\n",
       "      <td>867</td>\n",
       "    </tr>\n",
       "    <tr>\n",
       "      <th>3</th>\n",
       "      <td>4</td>\n",
       "      <td>Taiwan[note 4]</td>\n",
       "      <td>23580712</td>\n",
       "      <td>35980</td>\n",
       "      <td>655</td>\n",
       "    </tr>\n",
       "    <tr>\n",
       "      <th>4</th>\n",
       "      <td>5</td>\n",
       "      <td>South Korea</td>\n",
       "      <td>51844834</td>\n",
       "      <td>99720</td>\n",
       "      <td>520</td>\n",
       "    </tr>\n",
       "    <tr>\n",
       "      <th>5</th>\n",
       "      <td>6</td>\n",
       "      <td>Lebanon</td>\n",
       "      <td>5296814</td>\n",
       "      <td>10400</td>\n",
       "      <td>509</td>\n",
       "    </tr>\n",
       "    <tr>\n",
       "      <th>6</th>\n",
       "      <td>7</td>\n",
       "      <td>Rwanda</td>\n",
       "      <td>13173730</td>\n",
       "      <td>26338</td>\n",
       "      <td>500</td>\n",
       "    </tr>\n",
       "    <tr>\n",
       "      <th>7</th>\n",
       "      <td>8</td>\n",
       "      <td>Burundi</td>\n",
       "      <td>12696478</td>\n",
       "      <td>27830</td>\n",
       "      <td>456</td>\n",
       "    </tr>\n",
       "    <tr>\n",
       "      <th>8</th>\n",
       "      <td>9</td>\n",
       "      <td>Israel</td>\n",
       "      <td>9402617</td>\n",
       "      <td>21937</td>\n",
       "      <td>429</td>\n",
       "    </tr>\n",
       "    <tr>\n",
       "      <th>9</th>\n",
       "      <td>10</td>\n",
       "      <td>India</td>\n",
       "      <td>1389637446</td>\n",
       "      <td>3287263</td>\n",
       "      <td>423</td>\n",
       "    </tr>\n",
       "  </tbody>\n",
       "</table>\n",
       "</div>"
      ],
      "text/plain": [
       "   Rank                 Country  Population  Area (km2)  Density (pop/km2)\n",
       "0     1               Singapore     5921231         719               8235\n",
       "1     2              Bangladesh   165650475      148460               1116\n",
       "2     3  Palestine[note 3][100]     5223000        6025                867\n",
       "3     4          Taiwan[note 4]    23580712       35980                655\n",
       "4     5             South Korea    51844834       99720                520\n",
       "5     6                 Lebanon     5296814       10400                509\n",
       "6     7                  Rwanda    13173730       26338                500\n",
       "7     8                 Burundi    12696478       27830                456\n",
       "8     9                  Israel     9402617       21937                429\n",
       "9    10                   India  1389637446     3287263                423"
      ]
     },
     "execution_count": 125,
     "metadata": {},
     "output_type": "execute_result"
    }
   ],
   "source": [
    "dataframe_list[8]"
   ]
  },
  {
   "cell_type": "code",
   "execution_count": 132,
   "metadata": {},
   "outputs": [
    {
     "name": "stdout",
     "output_type": "stream",
     "text": [
      " Rank                Country  Population  Area (km2)  Density (pop/km2)\n",
      "    1              Singapore     5921231         719               8235\n",
      "    2             Bangladesh   165650475      148460               1116\n",
      "    3 Palestine[note 3][100]     5223000        6025                867\n",
      "    4         Taiwan[note 4]    23580712       35980                655\n",
      "    5            South Korea    51844834       99720                520\n",
      "    6                Lebanon     5296814       10400                509\n",
      "    7                 Rwanda    13173730       26338                500\n",
      "    8                Burundi    12696478       27830                456\n",
      "    9                 Israel     9402617       21937                429\n",
      "   10                  India  1389637446     3287263                423\n"
     ]
    }
   ],
   "source": [
    "print(dataframe_list[8].to_string(index=False)) "
   ]
  },
  {
   "cell_type": "markdown",
   "metadata": {},
   "source": [
    "We can also use the `match` parameter to select the specific table we want. If the table contains a string matching the text it will be read.\n"
   ]
  },
  {
   "cell_type": "code",
   "execution_count": 134,
   "metadata": {},
   "outputs": [
    {
     "data": {
      "text/html": [
       "<div>\n",
       "<style scoped>\n",
       "    .dataframe tbody tr th:only-of-type {\n",
       "        vertical-align: middle;\n",
       "    }\n",
       "\n",
       "    .dataframe tbody tr th {\n",
       "        vertical-align: top;\n",
       "    }\n",
       "\n",
       "    .dataframe thead th {\n",
       "        text-align: right;\n",
       "    }\n",
       "</style>\n",
       "<table border=\"1\" class=\"dataframe\">\n",
       "  <thead>\n",
       "    <tr style=\"text-align: right;\">\n",
       "      <th></th>\n",
       "      <th>Rank</th>\n",
       "      <th>Country</th>\n",
       "      <th>Population</th>\n",
       "      <th>Area (km2)</th>\n",
       "      <th>Density (pop/km2)</th>\n",
       "    </tr>\n",
       "  </thead>\n",
       "  <tbody>\n",
       "    <tr>\n",
       "      <th>0</th>\n",
       "      <td>1</td>\n",
       "      <td>Singapore</td>\n",
       "      <td>5921231</td>\n",
       "      <td>719</td>\n",
       "      <td>8235</td>\n",
       "    </tr>\n",
       "    <tr>\n",
       "      <th>1</th>\n",
       "      <td>2</td>\n",
       "      <td>Bangladesh</td>\n",
       "      <td>165650475</td>\n",
       "      <td>148460</td>\n",
       "      <td>1116</td>\n",
       "    </tr>\n",
       "    <tr>\n",
       "      <th>2</th>\n",
       "      <td>3</td>\n",
       "      <td>Palestine[note 3][100]</td>\n",
       "      <td>5223000</td>\n",
       "      <td>6025</td>\n",
       "      <td>867</td>\n",
       "    </tr>\n",
       "    <tr>\n",
       "      <th>3</th>\n",
       "      <td>4</td>\n",
       "      <td>Taiwan[note 4]</td>\n",
       "      <td>23580712</td>\n",
       "      <td>35980</td>\n",
       "      <td>655</td>\n",
       "    </tr>\n",
       "    <tr>\n",
       "      <th>4</th>\n",
       "      <td>5</td>\n",
       "      <td>South Korea</td>\n",
       "      <td>51844834</td>\n",
       "      <td>99720</td>\n",
       "      <td>520</td>\n",
       "    </tr>\n",
       "    <tr>\n",
       "      <th>5</th>\n",
       "      <td>6</td>\n",
       "      <td>Lebanon</td>\n",
       "      <td>5296814</td>\n",
       "      <td>10400</td>\n",
       "      <td>509</td>\n",
       "    </tr>\n",
       "    <tr>\n",
       "      <th>6</th>\n",
       "      <td>7</td>\n",
       "      <td>Rwanda</td>\n",
       "      <td>13173730</td>\n",
       "      <td>26338</td>\n",
       "      <td>500</td>\n",
       "    </tr>\n",
       "    <tr>\n",
       "      <th>7</th>\n",
       "      <td>8</td>\n",
       "      <td>Burundi</td>\n",
       "      <td>12696478</td>\n",
       "      <td>27830</td>\n",
       "      <td>456</td>\n",
       "    </tr>\n",
       "    <tr>\n",
       "      <th>8</th>\n",
       "      <td>9</td>\n",
       "      <td>Israel</td>\n",
       "      <td>9402617</td>\n",
       "      <td>21937</td>\n",
       "      <td>429</td>\n",
       "    </tr>\n",
       "    <tr>\n",
       "      <th>9</th>\n",
       "      <td>10</td>\n",
       "      <td>India</td>\n",
       "      <td>1389637446</td>\n",
       "      <td>3287263</td>\n",
       "      <td>423</td>\n",
       "    </tr>\n",
       "  </tbody>\n",
       "</table>\n",
       "</div>"
      ],
      "text/plain": [
       "   Rank                 Country  Population  Area (km2)  Density (pop/km2)\n",
       "0     1               Singapore     5921231         719               8235\n",
       "1     2              Bangladesh   165650475      148460               1116\n",
       "2     3  Palestine[note 3][100]     5223000        6025                867\n",
       "3     4          Taiwan[note 4]    23580712       35980                655\n",
       "4     5             South Korea    51844834       99720                520\n",
       "5     6                 Lebanon     5296814       10400                509\n",
       "6     7                  Rwanda    13173730       26338                500\n",
       "7     8                 Burundi    12696478       27830                456\n",
       "8     9                  Israel     9402617       21937                429\n",
       "9    10                   India  1389637446     3287263                423"
      ]
     },
     "execution_count": 134,
     "metadata": {},
     "output_type": "execute_result"
    }
   ],
   "source": [
    "pd.read_html(url, match=\"10 most densely populated countries\")[0]"
   ]
  },
  {
   "cell_type": "markdown",
   "metadata": {},
   "source": [
    "## Authors\n"
   ]
  },
  {
   "cell_type": "markdown",
   "metadata": {},
   "source": [
    "Ramesh Sannareddy\n"
   ]
  },
  {
   "cell_type": "markdown",
   "metadata": {},
   "source": [
    "### Other Contributors\n"
   ]
  },
  {
   "cell_type": "markdown",
   "metadata": {},
   "source": [
    "Rav Ahuja\n"
   ]
  },
  {
   "cell_type": "markdown",
   "metadata": {},
   "source": [
    "<!-- ## Change Log\n",
    "| Date (YYYY-MM-DD) | Version | Changed By                                               | Change Description |\n",
    "| ----------------- | ------- | -------------------------------------------------------- | ------------------ |\n",
    "| 2021-08-04        | 0.2     | Made changes to markdown of nextsibling                  |                    |\n",
    "| 2020-10-17        | 0.1     | Joseph Santarcangelo  Created initial version of the lab |                    |\n",
    "--!>\n"
   ]
  },
  {
   "cell_type": "markdown",
   "metadata": {},
   "source": [
    "####  Copyright © 2020 IBM Corporation. This notebook and its source code are released under the terms of the [MIT License](https://cognitiveclass.ai/mit-license?utm_medium=Exinfluencer&utm_source=Exinfluencer&utm_content=000026UJ&utm_term=10006555&utm_id=NA-SkillsNetwork-Channel-SkillsNetworkCoursesIBMDeveloperSkillsNetworkPY0220ENSkillsNetwork23455606-2021-01-01&cm_mmc=Email_Newsletter-\\_-Developer_Ed%2BTech-\\_-WW_WW-\\_-SkillsNetwork-Courses-IBMDeveloperSkillsNetwork-PY0101EN-SkillsNetwork-19487395&cm_mmca1=000026UJ&cm_mmca2=10006555&cm_mmca3=M12345678&cvosrc=email.Newsletter.M12345678&cvo_campaign=000026UJ).\n"
   ]
  },
  {
   "cell_type": "code",
   "execution_count": null,
   "metadata": {},
   "outputs": [],
   "source": []
  },
  {
   "cell_type": "code",
   "execution_count": null,
   "metadata": {},
   "outputs": [],
   "source": []
  }
 ],
 "metadata": {
  "kernelspec": {
   "display_name": "Python 3 (ipykernel)",
   "language": "python",
   "name": "python3"
  },
  "language_info": {
   "codemirror_mode": {
    "name": "ipython",
    "version": 3
   },
   "file_extension": ".py",
   "mimetype": "text/x-python",
   "name": "python",
   "nbconvert_exporter": "python",
   "pygments_lexer": "ipython3",
   "version": "3.11.9"
  },
  "prev_pub_hash": "6ffb2388c98eac5a381e7d48f1205218b9072c996b92bd8519b6718b41da3fab"
 },
 "nbformat": 4,
 "nbformat_minor": 4
}
